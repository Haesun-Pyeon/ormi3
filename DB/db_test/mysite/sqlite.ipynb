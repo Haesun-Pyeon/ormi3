{
 "cells": [
  {
   "cell_type": "code",
   "execution_count": 1,
   "metadata": {},
   "outputs": [],
   "source": [
    "# 실습 1\n",
    "import sqlite3\n",
    "\n",
    "conn = sqlite3.connect('ex1.db')\n",
    "c = conn.cursor()\n",
    "\n",
    "c.execute('''CREATE TABLE books (id integer, title text, price integer)''')\n",
    "\n",
    "c.execute('''INSERT INTO books VALUES (1, 'python 가이드', 5000)''')\n",
    "\n",
    "c.execute('''INSERT INTO books VALUES (2, 'js 가이드', 4000)''')\n",
    "\n",
    "conn.commit()\n",
    "conn.close()"
   ]
  },
  {
   "cell_type": "code",
   "execution_count": 2,
   "metadata": {},
   "outputs": [
    {
     "name": "stdout",
     "output_type": "stream",
     "text": [
      "(1, 'python 가이드', 5000)\n",
      "(2, 'js 가이드', 4000)\n"
     ]
    }
   ],
   "source": [
    "conn = sqlite3.connect('ex1.db')\n",
    "c = conn.cursor()\n",
    "\n",
    "# 데이터 조회\n",
    "for row in c.execute('SELECT * FROM books ORDER BY id'):\n",
    "    print(row)\n",
    "\n",
    "# 연결 종료\n",
    "conn.close()"
   ]
  },
  {
   "cell_type": "code",
   "execution_count": 3,
   "metadata": {},
   "outputs": [],
   "source": [
    "## 실습 2\n",
    "import sqlite3\n",
    "\n",
    "conn = sqlite3.connect('ex2.db')\n",
    "c = conn.cursor()\n",
    "\n",
    "c.execute('''\n",
    "    CREATE TABLE books (id integer, title text, price integer)\n",
    "''')\n",
    "\n",
    "for i in range(10):\n",
    "    c.execute(f\"INSERT INTO books VALUES ({i}, 'python 가이드', {i*1000})\")\n",
    "\n",
    "conn.commit()\n",
    "conn.close()"
   ]
  },
  {
   "cell_type": "code",
   "execution_count": 4,
   "metadata": {},
   "outputs": [
    {
     "name": "stdout",
     "output_type": "stream",
     "text": [
      "(0, 'python 가이드', 0)\n",
      "(1, 'python 가이드', 1000)\n",
      "(2, 'python 가이드', 2000)\n",
      "(3, 'python 가이드', 3000)\n",
      "(4, 'python 가이드', 4000)\n",
      "(5, 'python 가이드', 5000)\n",
      "(6, 'python 가이드', 6000)\n",
      "(7, 'python 가이드', 7000)\n",
      "(8, 'python 가이드', 8000)\n",
      "(9, 'python 가이드', 9000)\n"
     ]
    }
   ],
   "source": [
    "conn = sqlite3.connect('ex2.db')\n",
    "c = conn.cursor()\n",
    "\n",
    "# 데이터 조회\n",
    "for row in c.execute('SELECT * FROM books ORDER BY id'):\n",
    "    print(row)\n",
    "\n",
    "# 연결 종료\n",
    "conn.close()"
   ]
  },
  {
   "cell_type": "code",
   "execution_count": 5,
   "metadata": {},
   "outputs": [],
   "source": [
    "## 실습 3\n",
    "import sqlite3\n",
    "\n",
    "data = {\n",
    "    'id': [1, 2, 3],\n",
    "    'title': ['1', '2', '3'],\n",
    "    'content': ['11', '22', '33', '44', '55']\n",
    "}\n",
    "\n",
    "# 데이터베이스에 연결\n",
    "conn = sqlite3.connect('ex3.db')\n",
    "\n",
    "# 커서 생성\n",
    "cursor = conn.cursor()\n",
    "\n",
    "# post 테이블 생성\n",
    "cursor.execute('CREATE TABLE post (id INTEGER, title TEXT, content TEXT)')\n",
    "\n",
    "# 데이터 삽입\n",
    "for i in range(len(data['id'])):\n",
    "    cursor.execute('INSERT INTO post VALUES (?, ?, ?)', (data['id'][i], data['title'][i], data['content'][i]))\n",
    "\n",
    "# 커밋(변경 사항 저장)\n",
    "conn.commit()\n",
    "\n",
    "# 연결 닫기\n",
    "conn.close()"
   ]
  },
  {
   "cell_type": "code",
   "execution_count": 6,
   "metadata": {},
   "outputs": [
    {
     "name": "stdout",
     "output_type": "stream",
     "text": [
      "(1, '1', '11')\n",
      "(2, '2', '22')\n",
      "(3, '3', '33')\n"
     ]
    }
   ],
   "source": [
    "conn = sqlite3.connect('ex3.db')\n",
    "c = conn.cursor()\n",
    "\n",
    "# 데이터 조회\n",
    "for row in c.execute('SELECT * FROM post'):\n",
    "    print(row)\n",
    "\n",
    "# 연결 종료\n",
    "conn.close()"
   ]
  },
  {
   "cell_type": "code",
   "execution_count": null,
   "metadata": {},
   "outputs": [],
   "source": [
    "# 여기까지 되었다면\n",
    "# 데이터(크롤링 데이터, JSON 데이터, CSV 데이터)를 가지고\n",
    "# 1. 직접 쿼리를 사용해서 Django DB에 넣는 것이 가능합니다.\n",
    "# 2. db load를 사용해서 Django DB에 넣는 것이 가능합니다.\n",
    "# 3. ORM을 사용해서 넣는 것도 가능합니다."
   ]
  },
  {
   "cell_type": "code",
   "execution_count": 8,
   "metadata": {},
   "outputs": [
    {
     "name": "stdout",
     "output_type": "stream",
     "text": [
      "(1, 'hello hello 1', '1111', '', '', '2023-10-23 04:15:11.080000', '2023-10-23')\n",
      "(2, '22', '2222', '', '', '2023-10-23 04:15:13.685000', '2023-10-23')\n",
      "(3, '33', '3333', '', '', '2023-10-23 04:15:17.307000', '2023-10-23')\n",
      "(4, 'hello world 4', '44', '', '', '2023-10-22 05:27:42.857000', '2023-10-22')\n"
     ]
    }
   ],
   "source": [
    "conn = sqlite3.connect('db.sqlite3')\n",
    "c = conn.cursor()\n",
    "\n",
    "# 데이터 조회(데이터가 없어서 안나옵니다.)\n",
    "for row in c.execute('SELECT * FROM blog_movie'):\n",
    "    print(row)\n",
    "\n",
    "# 데이터 조회(데이터가 있어 나옵니다.)\n",
    "for row in c.execute('SELECT * FROM blog_post'):\n",
    "    print(row)\n",
    "\n",
    "# 연결 종료\n",
    "conn.close()\n"
   ]
  },
  {
   "cell_type": "code",
   "execution_count": 13,
   "metadata": {},
   "outputs": [
    {
     "data": {
      "text/plain": [
       "[['메모혁신 Notion(노션) 활용 가이드', 10],\n",
       " ['이력서 작성 가이드', 10],\n",
       " ['제주코딩베이스캠프 Code Festival: Python 100제 1부', 10],\n",
       " ['튜토리얼로 배우는 HTML&CSS', 10],\n",
       " ['코딩도장 튜토리얼로 배우는 Python 1편 object', 10],\n",
       " ['코딩도장 튜토리얼로 배우는 python 2편 제어문', 10],\n",
       " ['코딩도장 튜토리얼로 배우는 Python 문제풀이', 10],\n",
       " ['타노스의 건틀릿 알고리즘 With Python', 10],\n",
       " ['xlsxwriter 튜토리얼로 배우는 Python 엑셀 프로그래밍', 10],\n",
       " ['러플 튜토리얼로 배우는 Python', 10],\n",
       " ['인공지능을 활용한 업무자동화 With Google Developers Group JEJU', 10]]"
      ]
     },
     "execution_count": 13,
     "metadata": {},
     "output_type": "execute_result"
    }
   ],
   "source": [
    "import requests\n",
    "from bs4 import BeautifulSoup\n",
    "\n",
    "url = 'https://paullab.co.kr/bookservice/'\n",
    "response = requests.get(url)\n",
    "response.encoding = 'utf-8'\n",
    "html = response.text\n",
    "\n",
    "soup = BeautifulSoup(html, 'html.parser')\n",
    "data = []\n",
    "\n",
    "book_list = soup.select('.book_name')\n",
    "for book in book_list:\n",
    "    data.append([book.text, 10])\n",
    "    \n",
    "data"
   ]
  },
  {
   "cell_type": "code",
   "execution_count": 18,
   "metadata": {},
   "outputs": [],
   "source": [
    "## 실습 4\n",
    "import sqlite3\n",
    "\n",
    "# 데이터베이스에 연결\n",
    "conn = sqlite3.connect('db.sqlite3')\n",
    "\n",
    "# 커서 생성\n",
    "cursor = conn.cursor()\n",
    "\n",
    "# 데이터 삽입\n",
    "for i in range(len(data)):\n",
    "    cursor.execute(f'INSERT INTO blog_movie VALUES ({i+1}, \"{data[i][0]}\", {data[i][1]})')\n",
    "\n",
    "# 커밋(변경 사항 저장)\n",
    "conn.commit()\n",
    "\n",
    "# 연결 닫기\n",
    "conn.close()"
   ]
  },
  {
   "cell_type": "code",
   "execution_count": 19,
   "metadata": {},
   "outputs": [
    {
     "name": "stdout",
     "output_type": "stream",
     "text": [
      "(1, '메모혁신 Notion(노션) 활용 가이드', 10)\n",
      "(2, '이력서 작성 가이드', 10)\n",
      "(3, '제주코딩베이스캠프 Code Festival: Python 100제 1부', 10)\n",
      "(4, '튜토리얼로 배우는 HTML&CSS', 10)\n",
      "(5, '코딩도장 튜토리얼로 배우는 Python 1편 object', 10)\n",
      "(6, '코딩도장 튜토리얼로 배우는 python 2편 제어문', 10)\n",
      "(7, '코딩도장 튜토리얼로 배우는 Python 문제풀이', 10)\n",
      "(8, '타노스의 건틀릿 알고리즘 With Python', 10)\n",
      "(9, 'xlsxwriter 튜토리얼로 배우는 Python 엑셀 프로그래밍', 10)\n",
      "(10, '러플 튜토리얼로 배우는 Python', 10)\n",
      "(11, '인공지능을 활용한 업무자동화 With Google Developers Group JEJU', 10)\n"
     ]
    }
   ],
   "source": [
    "conn = sqlite3.connect('db.sqlite3')\n",
    "c = conn.cursor()\n",
    "\n",
    "# 데이터 조회\n",
    "for row in c.execute('SELECT * FROM blog_movie'):\n",
    "    print(row)\n",
    "\n",
    "# 연결 종료\n",
    "conn.close()"
   ]
  },
  {
   "cell_type": "code",
   "execution_count": 72,
   "metadata": {},
   "outputs": [
    {
     "data": {
      "text/plain": [
       "[('메모혁신 Notion(노션) 활용 가이드', '7,000원', '이호준, 이준호, 김혜원, 김유진, 차경림, 김진, 현지연, 정승한'),\n",
       " ('이력서 작성 가이드',\n",
       "  '10,000원',\n",
       "  '강혜진, 김유진, 김혜원, 김진, 이범재, 이호준, 원유선, 박누리, 차경림, 최원범, 한재현'),\n",
       " ('Python 100제 1부', '무료', '이호준, 강민정, 김유진, 정윤하, 최원범'),\n",
       " ('튜토리얼로 배우는 HTML&CSS', '4,900원', '이호준, 박민균, 양지혜, 정민준, 박소영, 전유빈'),\n",
       " ('코딩도장 튜토리얼로 배우는 Python 1편 object', '3,000원', '이호준, 정민준, 배희성, 김덕주, 한승협'),\n",
       " ('코딩도장 튜토리얼로 배우는 python 2편 제어문', '4,900원', '이호준, 우지훈, 박소영, 허재영'),\n",
       " ('코딩도장 튜토리얼로 배우는 Python 문제풀이', '무료', '이호준, 전유빈, 김태범, 한승협, 김혜원, 강민정'),\n",
       " ('타노스의 건틀릿 알고리즘 With Python', '무료', '이호준, 한승협, 강민정, 신민욱'),\n",
       " ('xlsxwriter 튜토리얼로 배우는 Python 엑셀 프로그래밍',\n",
       "  '무료',\n",
       "  '이호준, 강상권, 오재원, 전진환, 문형철, 이현창'),\n",
       " ('러플 튜토리얼로 배우는 Python', '4,900', '이호준, 배희성, 양지혜, 박소영, 김수연, 정민준'),\n",
       " ('인공지능을 활용한 업무자동화 With Google Developers Group JEJU',\n",
       "  '무료',\n",
       "  '이호준, 이준호, 현암, 윤현담, 김루비, 이동민, 유승엽, 박서윤, 김채린, 한승협, 안상우, 장성원, 전진환, 강민성, 조민구, 전창삼')]"
      ]
     },
     "execution_count": 72,
     "metadata": {},
     "output_type": "execute_result"
    }
   ],
   "source": [
    "# 과제\n",
    "# 크롤링\n",
    "import requests\n",
    "from bs4 import BeautifulSoup\n",
    "\n",
    "url = 'https://paullab.co.kr/bookservice/'\n",
    "response = requests.get(url)\n",
    "response.encoding = 'utf-8'\n",
    "html = response.text\n",
    "\n",
    "soup = BeautifulSoup(html, 'html.parser')\n",
    "\n",
    "title = []\n",
    "price = []\n",
    "author = []\n",
    "total = [title, price, author]\n",
    "# 1: 제목, 2: 가격, 3: 저자\n",
    "for i in range(1, 4):\n",
    "    book_list = soup.select(f'.book_detail :nth-child({i})')\n",
    "    for book in book_list:\n",
    "        text = book.text\n",
    "        if ':' in text:\n",
    "            text = text.split(': ')[1]\n",
    "        total[i-1].append(text)\n",
    "data = list(zip(total[0], total[1], total[2]))\n",
    "data"
   ]
  },
  {
   "cell_type": "code",
   "execution_count": 44,
   "metadata": {},
   "outputs": [],
   "source": [
    "# 데이터베이스 생성 및 저장\n",
    "import sqlite3\n",
    "\n",
    "# 데이터베이스에 연결\n",
    "conn = sqlite3.connect('books.db')\n",
    "\n",
    "# 커서 생성\n",
    "cursor = conn.cursor()\n",
    "\n",
    "# books 테이블 생성\n",
    "cursor.execute('CREATE TABLE books (id INTEGER, title TEXT, price TEXT, author TEXT)')\n",
    "\n",
    "# 데이터 삽입\n",
    "for i in range(len(data)):\n",
    "    cursor.execute(f'INSERT INTO books VALUES ({i+1}, \"{data[i][0]}\", \"{data[i][1]}\", \"{data[i][2]}\")')\n",
    "\n",
    "# 커밋(변경 사항 저장)\n",
    "conn.commit()\n",
    "\n",
    "# 연결 닫기\n",
    "conn.close()"
   ]
  },
  {
   "cell_type": "code",
   "execution_count": 75,
   "metadata": {},
   "outputs": [
    {
     "data": {
      "text/plain": [
       "[{'id': 1,\n",
       "  'title': '메모혁신 Notion(노션) 활용 가이드',\n",
       "  'price': '7,000원',\n",
       "  'author': '이호준, 이준호, 김혜원, 김유진, 차경림, 김진, 현지연, 정승한'},\n",
       " {'id': 2,\n",
       "  'title': '이력서 작성 가이드',\n",
       "  'price': '10,000원',\n",
       "  'author': '강혜진, 김유진, 김혜원, 김진, 이범재, 이호준, 원유선, 박누리, 차경림, 최원범, 한재현'},\n",
       " {'id': 3,\n",
       "  'title': 'Python 100제 1부',\n",
       "  'price': '무료',\n",
       "  'author': '이호준, 강민정, 김유진, 정윤하, 최원범'},\n",
       " {'id': 4,\n",
       "  'title': '튜토리얼로 배우는 HTML&CSS',\n",
       "  'price': '4,900원',\n",
       "  'author': '이호준, 박민균, 양지혜, 정민준, 박소영, 전유빈'},\n",
       " {'id': 5,\n",
       "  'title': '코딩도장 튜토리얼로 배우는 Python 1편 object',\n",
       "  'price': '3,000원',\n",
       "  'author': '이호준, 정민준, 배희성, 김덕주, 한승협'},\n",
       " {'id': 6,\n",
       "  'title': '코딩도장 튜토리얼로 배우는 python 2편 제어문',\n",
       "  'price': '4,900원',\n",
       "  'author': '이호준, 우지훈, 박소영, 허재영'},\n",
       " {'id': 7,\n",
       "  'title': '코딩도장 튜토리얼로 배우는 Python 문제풀이',\n",
       "  'price': '무료',\n",
       "  'author': '이호준, 전유빈, 김태범, 한승협, 김혜원, 강민정'},\n",
       " {'id': 8,\n",
       "  'title': '타노스의 건틀릿 알고리즘 With Python',\n",
       "  'price': '무료',\n",
       "  'author': '이호준, 한승협, 강민정, 신민욱'},\n",
       " {'id': 9,\n",
       "  'title': 'xlsxwriter 튜토리얼로 배우는 Python 엑셀 프로그래밍',\n",
       "  'price': '무료',\n",
       "  'author': '이호준, 강상권, 오재원, 전진환, 문형철, 이현창'},\n",
       " {'id': 10,\n",
       "  'title': '러플 튜토리얼로 배우는 Python',\n",
       "  'price': '4,900',\n",
       "  'author': '이호준, 배희성, 양지혜, 박소영, 김수연, 정민준'},\n",
       " {'id': 11,\n",
       "  'title': '인공지능을 활용한 업무자동화 With Google Developers Group JEJU',\n",
       "  'price': '무료',\n",
       "  'author': '이호준, 이준호, 현암, 윤현담, 김루비, 이동민, 유승엽, 박서윤, 김채린, 한승협, 안상우, 장성원, 전진환, 강민성, 조민구, 전창삼'}]"
      ]
     },
     "execution_count": 75,
     "metadata": {},
     "output_type": "execute_result"
    }
   ],
   "source": [
    "# 데이터베이스 읽기\n",
    "conn = sqlite3.connect('books.db')\n",
    "c = conn.cursor()\n",
    "c.execute('SELECT * FROM books')\n",
    "\n",
    "# 데이터 조회\n",
    "result = c.fetchall()\n",
    "dicts = []\n",
    "for row in result:\n",
    "    d = {\"id\": row[0], \"title\": row[1], \"price\": row[2], \"author\": row[3]}\n",
    "    dicts.append(d)\n",
    "\n",
    "dicts"
   ]
  },
  {
   "cell_type": "code",
   "execution_count": 70,
   "metadata": {},
   "outputs": [],
   "source": [
    "# json으로 출력\n",
    "import json\n",
    "with open('output.json', 'w') as f:\n",
    "    json.dump(dicts, f, indent=2, ensure_ascii = False)\n",
    "\n",
    "# 연결 종료\n",
    "conn.close()"
   ]
  },
  {
   "cell_type": "code",
   "execution_count": null,
   "metadata": {},
   "outputs": [],
   "source": []
  }
 ],
 "metadata": {
  "kernelspec": {
   "display_name": "Python 3",
   "language": "python",
   "name": "python3"
  },
  "language_info": {
   "codemirror_mode": {
    "name": "ipython",
    "version": 3
   },
   "file_extension": ".py",
   "mimetype": "text/x-python",
   "name": "python",
   "nbconvert_exporter": "python",
   "pygments_lexer": "ipython3",
   "version": "3.11.5"
  }
 },
 "nbformat": 4,
 "nbformat_minor": 2
}

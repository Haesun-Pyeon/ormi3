{
  "nbformat": 4,
  "nbformat_minor": 0,
  "metadata": {
    "colab": {
      "provenance": []
    },
    "kernelspec": {
      "name": "python3",
      "display_name": "Python 3"
    },
    "language_info": {
      "name": "python"
    }
  },
  "cells": [
    {
      "cell_type": "code",
      "execution_count": null,
      "metadata": {
        "id": "EBb7j1NF99K3"
      },
      "outputs": [],
      "source": [
        "# 목표\n",
        "import requests\n",
        "import itertools\n",
        "\n",
        "문자열 = '0123456789'  # 특수 문자는 없다고 가정한다\n",
        "\n",
        "for 패스워드길이 in range(1, 5):  # 1 - 1~3에서 1~5까지 해볼 것\n",
        "    for password in itertools.product(문자열, repeat=패스워드길이):\n",
        "        pw = ''.join(password)\n",
        "        print(pw)\n",
        "        로그인패킷 = {'id': 'hojun', 'pw': pw}\n",
        "        print(로그인패킷)\n",
        "\n",
        "        address = requests.post('http://127.0.0.1:8080', data=로그인패킷)\n",
        "        if 'Welcome' in address.text:\n",
        "            exit()"
      ]
    },
    {
      "cell_type": "code",
      "source": [
        "teststring = ('Lorem Ipsum is simply dummy text of the printing \\\n",
        "and typesetting industry. Lorem Ipsum has been the industrys standard \\\n",
        "dummy text ever since the 1500s, when an unknown printer took a galley of \\\n",
        "type and scrambled it to make a type specimen book. It has survived not \\\n",
        "only five centuries, but also the leap into electronic typesetting, \\\n",
        "remaining essentially unchanged. It was popularised in the 1960s with the \\\n",
        "release of Letraset sheets containing Lorem Ipsum passages, and more recently')\n",
        "\n",
        "teststring"
      ],
      "metadata": {
        "colab": {
          "base_uri": "https://localhost:8080/",
          "height": 86
        },
        "id": "6iAzD-aa-Pu4",
        "outputId": "54b8c482-0a7f-4222-98d6-f77c29009850"
      },
      "execution_count": 2,
      "outputs": [
        {
          "output_type": "execute_result",
          "data": {
            "text/plain": [
              "'Lorem Ipsum is simply dummy text of the printing and typesetting industry. Lorem Ipsum has been the industrys standard dummy text ever since the 1500s, when an unknown printer took a galley of type and scrambled it to make a type specimen book. It has survived not only five centuries, but also the leap into electronic typesetting, remaining essentially unchanged. It was popularised in the 1960s with the release of Letraset sheets containing Lorem Ipsum passages, and more recently'"
            ],
            "application/vnd.google.colaboratory.intrinsic+json": {
              "type": "string"
            }
          },
          "metadata": {},
          "execution_count": 2
        }
      ]
    },
    {
      "cell_type": "code",
      "source": [
        "teststring = ('Lorem Ipsum is simply dummy text of the printing'\n",
        "                'and typesetting industry. Lorem Ipsum has been the industrys standard'\n",
        "                'dummy text ever since the 1500s, when an unknown printer took a galley of'\n",
        "                'type and scrambled it to make a type specimen book. It has survived not'\n",
        "                'only five centuries, but also the leap into electronic typesetting,'\n",
        "                'remaining essentially unchanged. It was popularised in the 1960s with the'\n",
        "                'release of Letraset sheets containing Lorem Ipsum passages, and more recently')\n",
        "\n",
        "teststring"
      ],
      "metadata": {
        "colab": {
          "base_uri": "https://localhost:8080/",
          "height": 86
        },
        "id": "AgAy-u0l-6UO",
        "outputId": "eb0e2335-c7cb-4f04-af52-7862235f15be"
      },
      "execution_count": 3,
      "outputs": [
        {
          "output_type": "execute_result",
          "data": {
            "text/plain": [
              "'Lorem Ipsum is simply dummy text of the printingand typesetting industry. Lorem Ipsum has been the industrys standarddummy text ever since the 1500s, when an unknown printer took a galley oftype and scrambled it to make a type specimen book. It has survived notonly five centuries, but also the leap into electronic typesetting,remaining essentially unchanged. It was popularised in the 1960s with therelease of Letraset sheets containing Lorem Ipsum passages, and more recently'"
            ],
            "application/vnd.google.colaboratory.intrinsic+json": {
              "type": "string"
            }
          },
          "metadata": {},
          "execution_count": 3
        }
      ]
    },
    {
      "cell_type": "code",
      "source": [
        "teststring = ('''\n",
        "                hello world\n",
        "                hello world\n",
        "                hello world\n",
        "                hello world\n",
        "                ''')\n",
        "\n",
        "teststring"
      ],
      "metadata": {
        "colab": {
          "base_uri": "https://localhost:8080/",
          "height": 35
        },
        "id": "j0cGshza-6Mb",
        "outputId": "6da40791-29f9-4cbc-e731-6ea8e6a06acc"
      },
      "execution_count": 4,
      "outputs": [
        {
          "output_type": "execute_result",
          "data": {
            "text/plain": [
              "'\\n                hello world\\n                hello world\\n                hello world\\n                hello world\\n                '"
            ],
            "application/vnd.google.colaboratory.intrinsic+json": {
              "type": "string"
            }
          },
          "metadata": {},
          "execution_count": 4
        }
      ]
    },
    {
      "cell_type": "code",
      "source": [
        "import itertools\n",
        "# 중복되는 요소가 있기 때문에 비밀번호 깰때 많이 사용합니다.\n",
        "list(itertools.product('ABCD', repeat=2)) # 데카르트곱"
      ],
      "metadata": {
        "colab": {
          "base_uri": "https://localhost:8080/"
        },
        "id": "mXAnFMWp-GID",
        "outputId": "f2ad0cda-aee1-4e68-9c5c-c4d8b2e0d3b3"
      },
      "execution_count": 5,
      "outputs": [
        {
          "output_type": "execute_result",
          "data": {
            "text/plain": [
              "[('A', 'A'),\n",
              " ('A', 'B'),\n",
              " ('A', 'C'),\n",
              " ('A', 'D'),\n",
              " ('B', 'A'),\n",
              " ('B', 'B'),\n",
              " ('B', 'C'),\n",
              " ('B', 'D'),\n",
              " ('C', 'A'),\n",
              " ('C', 'B'),\n",
              " ('C', 'C'),\n",
              " ('C', 'D'),\n",
              " ('D', 'A'),\n",
              " ('D', 'B'),\n",
              " ('D', 'C'),\n",
              " ('D', 'D')]"
            ]
          },
          "metadata": {},
          "execution_count": 5
        }
      ]
    },
    {
      "cell_type": "code",
      "source": [
        "list(itertools.permutations('ABCD', 2)) # 순열, 중복되는 요소가 없음"
      ],
      "metadata": {
        "colab": {
          "base_uri": "https://localhost:8080/"
        },
        "id": "i4foJEjp-GTC",
        "outputId": "c0f60a86-ba34-4a81-f025-23b36321a610"
      },
      "execution_count": 7,
      "outputs": [
        {
          "output_type": "execute_result",
          "data": {
            "text/plain": [
              "[('A', 'B'),\n",
              " ('A', 'C'),\n",
              " ('A', 'D'),\n",
              " ('B', 'A'),\n",
              " ('B', 'C'),\n",
              " ('B', 'D'),\n",
              " ('C', 'A'),\n",
              " ('C', 'B'),\n",
              " ('C', 'D'),\n",
              " ('D', 'A'),\n",
              " ('D', 'B'),\n",
              " ('D', 'C')]"
            ]
          },
          "metadata": {},
          "execution_count": 7
        }
      ]
    },
    {
      "cell_type": "code",
      "source": [
        "list(itertools.combinations('ABCD', 2)) # 조합"
      ],
      "metadata": {
        "colab": {
          "base_uri": "https://localhost:8080/"
        },
        "id": "i3DUKjF0-GcH",
        "outputId": "e5b441c9-7525-483b-e483-ea5fed7e77cb"
      },
      "execution_count": 9,
      "outputs": [
        {
          "output_type": "execute_result",
          "data": {
            "text/plain": [
              "[('A', 'B'), ('A', 'C'), ('A', 'D'), ('B', 'C'), ('B', 'D'), ('C', 'D')]"
            ]
          },
          "metadata": {},
          "execution_count": 9
        }
      ]
    },
    {
      "cell_type": "code",
      "source": [
        "import requests\n",
        "import itertools\n",
        "\n",
        "문자열 = '0123456789'  # 특수 문자는 없다고 가정한다\n",
        "\n",
        "for 패스워드길이 in range(1, 5):  # 1 - 1~3에서 1~5까지 해볼 것\n",
        "    for password in itertools.product(문자열, repeat=패스워드길이):\n",
        "        pw = ''.join(password)\n",
        "        로그인패킷 = {'id': 'hojun', 'pw': pw}\n",
        "\n",
        "        address = requests.post('http://127.0.0.1:8080', data=로그인패킷)\n",
        "        if 'Welcome' in address.text:\n",
        "        # 비밀번호 하나하나 다 실행해보다가 텍스트나 창이 바꼈다! 뭔가 바꼈다! 싶으면 성공한 것\n",
        "            exit()"
      ],
      "metadata": {
        "id": "5hmPuu3E_vXB"
      },
      "execution_count": null,
      "outputs": []
    },
    {
      "cell_type": "code",
      "source": [
        "# 서버 어쩌고 코드..\n",
        "from http.server import HTTPServer, BaseHTTPRequestHandler\n",
        "import urllib.parse as parser\n",
        "\n",
        "\n",
        "class ServerHandler(BaseHTTPRequestHandler):\n",
        "\n",
        "    def do_GET(self):\n",
        "        self.send_response(200)\n",
        "        self.send_header('content-type', 'text/html')\n",
        "        self.end_headers()\n",
        "        print('get 요청이 들어왔습니다.')\n",
        "\n",
        "        f = open(\"index.html\", 'r', encoding='UTF8')\n",
        "        data = f.read()\n",
        "        # print(data)\n",
        "        f.close()\n",
        "        self.wfile.write(data.encode())\n",
        "\n",
        "    def do_POST(self):\n",
        "        self.send_response(200)\n",
        "        self.send_header('content-type', 'text/html')\n",
        "        self.end_headers()\n",
        "        print('post 요청이 들어왔습니다.')\n",
        "        data = self.rfile.read(int(self.headers['Content-Length']))\n",
        "        if data is not None:\n",
        "            data_decode = dict(parser.parse_qs(data.decode()))\n",
        "        if data_decode['id'] == ['hojun'] and data_decode['pw'] == ['1234']:\n",
        "            f = open(\"success.html\", 'r', encoding='UTF8')\n",
        "            data = f.read()\n",
        "            f.close()\n",
        "            self.wfile.write(data.encode())\n",
        "        else:\n",
        "            f = open(\"index_fail.html\", 'r', encoding='UTF8')\n",
        "            data = f.read()\n",
        "            f.close()\n",
        "            self.wfile.write(data.encode())\n",
        "        print(f'post params = {data_decode}')\n",
        "\n",
        "\n",
        "PORT = 8080\n",
        "server = HTTPServer(('', PORT), ServerHandler)\n",
        "print(f'서버가 {PORT}로 서비스 되고 있습니다.')\n",
        "server.serve_forever()"
      ],
      "metadata": {
        "id": "egK89xhmA2RV"
      },
      "execution_count": null,
      "outputs": []
    }
  ]
}
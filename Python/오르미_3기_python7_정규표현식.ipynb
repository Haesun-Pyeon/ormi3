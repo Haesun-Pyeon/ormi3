{
 "cells": [
  {
   "cell_type": "markdown",
   "metadata": {},
   "source": [
    "https://regexr.com/5nvc2"
   ]
  },
  {
   "cell_type": "markdown",
   "metadata": {},
   "source": [
    "# 일반 문자열"
   ]
  },
  {
   "cell_type": "markdown",
   "metadata": {},
   "source": [
    "- 대소문자를 가립니다.\n",
    "- ^hello는 처음에 나오는 hello 입니다.\n",
    "- hello^는 마지막에 나오는 hello는 아닙니다.\n",
    "- hello$는 마지막에 나오는 hello 입니다.\n",
    "- h.llo는 h 다음에 어떤 문자든 1개의 문자(영문, 특수문자, 숫자, 한글 등)가 오며 llo가 이어 나와야 합니다.\n"
   ]
  },
  {
   "cell_type": "markdown",
   "metadata": {},
   "source": [
    "# 대괄호(택1)"
   ]
  },
  {
   "cell_type": "markdown",
   "metadata": {},
   "source": [
    "- h[e!ao]llo는 hello, hallo, hollo, h!llo를 선택합니다. 대괄호 안의 문자 중 택1입니다.\n",
    "- [a-z]\n",
    "- [a-zA-Z]\n",
    "- [0-9]\n",
    "- [a-zA-Z0-9]\n",
    "- [가-힣]\n",
    "- h1el222lo3wo123rl2d 여기서 [0-9]라고 하면 숫자만 잡음\n",
    "---\n",
    "- ^[a-z] : 부정이 아닙니다. 알파벳으로 시작하는 문자열입니다.\n",
    "- [^a-z] : 대괄호 안에 들어가면 부정입니다.\n",
    "- h[^ao]llo: a, o 모두 하나씩 아닌 것 (부정기호 ^는 중간에 X)\n",
    "- h[a^o]llo: a, ^, o 모두 하나씩 잡습니다. ^는 대괄호 열기 바로 다음에 나오게 해주세요."
   ]
  },
  {
   "cell_type": "markdown",
   "metadata": {},
   "source": [
    "# 수량자"
   ]
  },
  {
   "cell_type": "markdown",
   "metadata": {},
   "source": [
    "- _* : 앞에 있는 문자가 0개 ~ N개\n",
    "- _+ : 앞에 있는 문자가 1개 ~ N개\n",
    "- _? : 앞에 있는 문자가 0개 ~ 1개\n",
    "---\n",
    "- {3} : 3개\n",
    "- {3,} : 3개 이상\n",
    "- {1,3} : 1개 ~ 3개\n",
    "---\n",
    "- _* : 앞에 있는 문자가 0개 ~ N개 ({0,})\n",
    "- _+ : 앞에 있는 문자가 1개 ~ N개({1,})\n",
    "- _? : 앞에 있는 문자가 0개 ~ 1개 ({0,1})"
   ]
  },
  {
   "cell_type": "markdown",
   "metadata": {},
   "source": [
    "- 이런 정규표현식은 여러분이 직접 만들지 마세요.\n",
    "- 인터넷 검색하면 나옵니다. email, 한국 전화번호 등이요.\n",
    "- why? 정규표현식에서 실수가 생겨 서비스에 CS가 들어온다던지\n",
    "- 크리티컬한 문제가 생긴다던지 하는 경우가 많습니다.\n",
    "- 읽을 줄은 알아야 합니다. 여러 패턴을 조합하거나, 비교는 해봐야 하니까요.\n",
    "- [0-9][0-9][0-9]-[0-9][0-9][0-9][0-9]-[0-9][0-9][0-9][0-9]\n",
    "- 0[0-9]+[-. ]?[0-9]{3,4}[-. ]?[0-9]{3,4}"
   ]
  },
  {
   "cell_type": "markdown",
   "metadata": {},
   "source": [
    "- group1, group2\n",
    "- group1 => key\n",
    "- group2 => value\n",
    "```\n",
    "([a-zA-Z0-9@\\.\\-]+), ?([a-zA-Z0-9@\\.\\-]+)\n",
    "'[(name, leehojun), (age, 10), (height, 180), (email, paul-lab@naver.com)]'\n",
    "```"
   ]
  },
  {
   "cell_type": "markdown",
   "metadata": {},
   "source": [
    "# 캐릭터 클래스"
   ]
  },
  {
   "cell_type": "markdown",
   "metadata": {},
   "source": [
    "- /\\w/gm : 워드(한글이 잡히지 않습니다.)\n",
    "- /\\w{5} /gm : 5개의 글자와 스페이스 하나\n",
    "- /\\W/gm : not 워드\n",
    "- /\\d/gm : 숫자\n",
    "- /\\D/gm : not 숫자\n",
    "- /\\s/gm : 스페이스\n",
    "- /\\S/gm : not 스페이스"
   ]
  },
  {
   "cell_type": "markdown",
   "metadata": {},
   "source": [
    "- 문제: 전화번호 정규표현식을 만들어주세요.\n",
    "```\n",
    "\\d{2,3}\\W?\\d{4}\\W?\\d{4}\n",
    "0[\\d]{1,2}[\\-\\. ]?[\\d]{3,4}[\\-\\. ]?[\\d]{3,4}\n",
    "```"
   ]
  },
  {
   "cell_type": "markdown",
   "metadata": {},
   "source": [
    "- 파이썬에서는 compile(), match(), sub(), findall() 많이쓰임\n",
    "- match()는 자바스크립트에서는 그냥 쓰이지만 파이썬은 특정 패턴 있는지 T/F 용도로 주로 사용\n",
    "---\n",
    "- +는 1개 이상\n",
    "- *는 0개 이상\n",
    "- ?는 0~1개\n",
    "- .은 모든 문자"
   ]
  },
  {
   "cell_type": "markdown",
   "metadata": {},
   "source": [
    "* 소괄호: (패턴1|패턴2|패턴3) ->3개중 하나 매칭되면 찾음\n",
    "* ex) **(on|ues|rida)** -> M**on**day T**ues**day F**rida**y\n",
    "* ex2) **(10|[1-9])** -> 1부터 10까지의 숫자\n",
    "    * [1-9|10]으로 하면 10이 아닌 1과0이다."
   ]
  },
  {
   "cell_type": "code",
   "execution_count": 1,
   "metadata": {},
   "outputs": [
    {
     "data": {
      "text/plain": [
       "'hll wrld'"
      ]
     },
     "execution_count": 1,
     "metadata": {},
     "output_type": "execute_result"
    }
   ],
   "source": [
    "import re\n",
    "\n",
    "# 1\n",
    "# p = re.compile(패턴)\n",
    "# p.findall(찾을문자열)\n",
    "p = re.compile(r'([0-9]|10)([SDT])([\\*\\#]?)')\n",
    "p.findall('1S2D*3T')\n",
    "\n",
    "# 2\n",
    "# re.findall(패턴, 찾을문자열) -> 리스트로 반환\n",
    "re.findall(r'([0-9]|10)([SDT])([\\*\\#]?)', '1S2D*3T')\n",
    "\n",
    "# re.sub(패턴, 바꿀거, 찾을문자열) -> 바꾼 결과문자열 반환\n",
    "re.sub(r\"[aeiou]\", \"\", 'hello world')"
   ]
  },
  {
   "cell_type": "code",
   "execution_count": null,
   "metadata": {},
   "outputs": [],
   "source": []
  }
 ],
 "metadata": {
  "kernelspec": {
   "display_name": "Python 3",
   "language": "python",
   "name": "python3"
  },
  "language_info": {
   "codemirror_mode": {
    "name": "ipython",
    "version": 3
   },
   "file_extension": ".py",
   "mimetype": "text/x-python",
   "name": "python",
   "nbconvert_exporter": "python",
   "pygments_lexer": "ipython3",
   "version": "3.11.5"
  },
  "orig_nbformat": 4
 },
 "nbformat": 4,
 "nbformat_minor": 2
}

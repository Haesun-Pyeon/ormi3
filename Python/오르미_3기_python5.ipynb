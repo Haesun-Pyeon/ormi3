{
 "cells": [
  {
   "cell_type": "markdown",
   "metadata": {},
   "source": [
    "# 클래스 변수와 인스턴스 변수"
   ]
  },
  {
   "cell_type": "code",
   "execution_count": 1,
   "metadata": {},
   "outputs": [
    {
     "name": "stdout",
     "output_type": "stream",
     "text": [
      "300\n",
      "300\n",
      "500\n"
     ]
    }
   ],
   "source": [
    "class Car:\n",
    "  # 클래스 변수의 위치\n",
    "  max_speed = 300\n",
    "  max_people = 5\n",
    "  car_gear = ['P', 'D', 'R', 'N']\n",
    "\n",
    "modelx = Car()\n",
    "modely = Car()\n",
    "\n",
    "modely.max_speed = 500\n",
    "\n",
    "print(Car.max_speed) # 출력: 300\n",
    "print(modelx.max_speed) # 출력: 300\n",
    "print(modely.max_speed) # 출력: 500 (인스턴스 변수를 출력한 것입니다.)"
   ]
  },
  {
   "cell_type": "code",
   "execution_count": 3,
   "metadata": {},
   "outputs": [
    {
     "name": "stdout",
     "output_type": "stream",
     "text": [
      "4445039248\n",
      "4445039248\n",
      "4445039344\n"
     ]
    }
   ],
   "source": [
    "class Car:\n",
    "  # 클래스 변수의 위치\n",
    "  max_speed = 1000\n",
    "  max_people = 5\n",
    "  car_gear = ['P', 'D', 'R', 'N']\n",
    "\n",
    "modelx = Car()\n",
    "modely = Car()\n",
    "\n",
    "modely.max_speed = 1000\n",
    "\n",
    "print(id(Car.max_speed)) # 출력: 4445039248\n",
    "print(id(modelx.max_speed)) # 출력: 4445039248\n",
    "print(id(modely.max_speed)) # 출력: 4445039344 (다름)-이미 새로운 인스턴스변수로 생성되었기 때문"
   ]
  },
  {
   "cell_type": "code",
   "execution_count": 4,
   "metadata": {},
   "outputs": [
    {
     "name": "stdout",
     "output_type": "stream",
     "text": [
      "modelx.kinds: ['x', 'y']\n",
      "modely.kinds: ['x', 'y']\n",
      "modelx.speed: 100\n",
      "modely.speed: 100\n"
     ]
    }
   ],
   "source": [
    "class Car:\n",
    "  kinds = []\n",
    "  speed = 300\n",
    "\n",
    "  def add_kinds(self, name):\n",
    "    self.kinds.append(name)\n",
    "\n",
    "  def change_speed(self, speed):\n",
    "    self.speed = speed\n",
    "\n",
    "modelx = Car()\n",
    "modely = Car()\n",
    "\n",
    "modelx.add_kinds('x')\n",
    "modely.add_kinds('y')\n",
    "\n",
    "Car.speed = 100\n",
    "\n",
    "# modelx.change_speed(500)\n",
    "# modely.change_speed(250)\n",
    "\n",
    "print(f'modelx.kinds: {modelx.kinds}') #출력: ['x','y']\n",
    "print(f'modely.kinds: {modely.kinds}') #출력: ['x','y']\n",
    "print(f'modelx.speed: {modelx.speed}') #출력: 100\n",
    "print(f'modely.speed: {modely.speed}') #출력: 100"
   ]
  },
  {
   "cell_type": "code",
   "execution_count": 5,
   "metadata": {},
   "outputs": [
    {
     "name": "stdout",
     "output_type": "stream",
     "text": [
      "modelx.speed: 500\n",
      "modely.speed: 250\n"
     ]
    }
   ],
   "source": [
    "# 일부러 혼란을 드리려고 어렵게 낸 문제입니다.\n",
    "# 이런 문제는 실무에서는 거의 발생하지 않습니다.\n",
    "class Car:\n",
    "  kinds = []\n",
    "  speed = 300\n",
    "\n",
    "  def add_kinds(self, name):\n",
    "    self.kinds.append(name)\n",
    "\n",
    "  def change_speed(self, speed):\n",
    "    self.speed = speed\n",
    "\n",
    "modelx = Car()\n",
    "modely = Car()\n",
    "\n",
    "# Car.speed = 100\n",
    "\n",
    "modelx.change_speed(500)\n",
    "modely.change_speed(250)\n",
    "\n",
    "print(f'modelx.speed: {modelx.speed}') # 출력:500\n",
    "print(f'modely.speed: {modely.speed}') # 출력: 250"
   ]
  },
  {
   "cell_type": "code",
   "execution_count": 7,
   "metadata": {},
   "outputs": [
    {
     "name": "stdout",
     "output_type": "stream",
     "text": [
      "100\n"
     ]
    }
   ],
   "source": [
    "x = 100\n",
    "def test(): # 내 메모리 영역에 x가 없네? 그러면 찾아 올라갑니다.\n",
    "  print(x)\n",
    "\n",
    "test()"
   ]
  },
  {
   "cell_type": "code",
   "execution_count": 10,
   "metadata": {},
   "outputs": [
    {
     "data": {
      "text/plain": [
       "100"
      ]
     },
     "execution_count": 10,
     "metadata": {},
     "output_type": "execute_result"
    }
   ],
   "source": [
    "x = 100\n",
    "def test():\n",
    "  x = 200 # 값을 읽어올 수 있지만 변경은 안됩니다!\n",
    "  # x는 전역변수는 건드리지 않고 지역변수 200을 선언했을 뿐입니다.\n",
    "  \n",
    "test()\n",
    "x # 100"
   ]
  },
  {
   "cell_type": "code",
   "execution_count": 11,
   "metadata": {},
   "outputs": [
    {
     "data": {
      "text/plain": [
       "200"
      ]
     },
     "execution_count": 11,
     "metadata": {},
     "output_type": "execute_result"
    }
   ],
   "source": [
    "x = 100\n",
    "def test():\n",
    "  global x\n",
    "  x = 200 # 전역변수 x를 수정할 수 있게 됩니다!\n",
    "\n",
    "test()\n",
    "x # 200"
   ]
  },
  {
   "cell_type": "code",
   "execution_count": 12,
   "metadata": {},
   "outputs": [
    {
     "ename": "UnboundLocalError",
     "evalue": "cannot access local variable 'x' where it is not associated with a value",
     "output_type": "error",
     "traceback": [
      "\u001b[0;31m---------------------------------------------------------------------------\u001b[0m",
      "\u001b[0;31mUnboundLocalError\u001b[0m                         Traceback (most recent call last)",
      "\u001b[1;32m/Users/pyeonhaesun/Desktop/ESTsoft_ormi3/ormi3_code/Python/오르미_3기_python5.ipynb 셀 9\u001b[0m line \u001b[0;36m6\n\u001b[1;32m      <a href='vscode-notebook-cell:/Users/pyeonhaesun/Desktop/ESTsoft_ormi3/ormi3_code/Python/%EC%98%A4%EB%A5%B4%EB%AF%B8_3%EA%B8%B0_python5.ipynb#X13sZmlsZQ%3D%3D?line=2'>3</a>\u001b[0m \u001b[39mdef\u001b[39;00m \u001b[39mtest\u001b[39m():\n\u001b[1;32m      <a href='vscode-notebook-cell:/Users/pyeonhaesun/Desktop/ESTsoft_ormi3/ormi3_code/Python/%EC%98%A4%EB%A5%B4%EB%AF%B8_3%EA%B8%B0_python5.ipynb#X13sZmlsZQ%3D%3D?line=3'>4</a>\u001b[0m   x \u001b[39m+\u001b[39m\u001b[39m=\u001b[39m \u001b[39m100\u001b[39m\n\u001b[0;32m----> <a href='vscode-notebook-cell:/Users/pyeonhaesun/Desktop/ESTsoft_ormi3/ormi3_code/Python/%EC%98%A4%EB%A5%B4%EB%AF%B8_3%EA%B8%B0_python5.ipynb#X13sZmlsZQ%3D%3D?line=5'>6</a>\u001b[0m test()\n",
      "\u001b[1;32m/Users/pyeonhaesun/Desktop/ESTsoft_ormi3/ormi3_code/Python/오르미_3기_python5.ipynb 셀 9\u001b[0m line \u001b[0;36m4\n\u001b[1;32m      <a href='vscode-notebook-cell:/Users/pyeonhaesun/Desktop/ESTsoft_ormi3/ormi3_code/Python/%EC%98%A4%EB%A5%B4%EB%AF%B8_3%EA%B8%B0_python5.ipynb#X13sZmlsZQ%3D%3D?line=2'>3</a>\u001b[0m \u001b[39mdef\u001b[39;00m \u001b[39mtest\u001b[39m():\n\u001b[0;32m----> <a href='vscode-notebook-cell:/Users/pyeonhaesun/Desktop/ESTsoft_ormi3/ormi3_code/Python/%EC%98%A4%EB%A5%B4%EB%AF%B8_3%EA%B8%B0_python5.ipynb#X13sZmlsZQ%3D%3D?line=3'>4</a>\u001b[0m   x \u001b[39m+\u001b[39m\u001b[39m=\u001b[39m \u001b[39m100\u001b[39m\n",
      "\u001b[0;31mUnboundLocalError\u001b[0m: cannot access local variable 'x' where it is not associated with a value"
     ]
    }
   ],
   "source": [
    "# 오류나는 코드\n",
    "x = 100\n",
    "def test():\n",
    "  x += 100 # x + 100 할때 에러발생\n",
    "\n",
    "test()"
   ]
  },
  {
   "cell_type": "code",
   "execution_count": 13,
   "metadata": {},
   "outputs": [
    {
     "data": {
      "text/plain": [
       "200"
      ]
     },
     "execution_count": 13,
     "metadata": {},
     "output_type": "execute_result"
    }
   ],
   "source": [
    "x = 100\n",
    "def test():\n",
    "  global x\n",
    "  x += 100\n",
    "\n",
    "test()\n",
    "x"
   ]
  },
  {
   "cell_type": "code",
   "execution_count": 14,
   "metadata": {},
   "outputs": [
    {
     "data": {
      "text/plain": [
       "[100]"
      ]
     },
     "execution_count": 14,
     "metadata": {},
     "output_type": "execute_result"
    }
   ],
   "source": [
    "x = []\n",
    "def test():\n",
    "  x.append(100) #이미 할당되어 있는 x라는 리스트에 메소드를 호출\n",
    "\n",
    "test()\n",
    "x"
   ]
  },
  {
   "cell_type": "code",
   "execution_count": 15,
   "metadata": {},
   "outputs": [
    {
     "data": {
      "text/plain": [
       "[10, 20, 30, 40]"
      ]
     },
     "execution_count": 15,
     "metadata": {},
     "output_type": "execute_result"
    }
   ],
   "source": [
    "# 매우 중요합니다.\n",
    "l = [10, 20, 30]\n",
    "def test(ll):\n",
    "  ll.append(40)\n",
    "\n",
    "test(l)\n",
    "l"
   ]
  },
  {
   "cell_type": "code",
   "execution_count": 16,
   "metadata": {},
   "outputs": [
    {
     "data": {
      "text/plain": [
       "100"
      ]
     },
     "execution_count": 16,
     "metadata": {},
     "output_type": "execute_result"
    }
   ],
   "source": [
    "# 화살표 그릴 수 있어야 합니다.\n",
    "i = 100\n",
    "def test(ii): #ii는 i가 가리키는 100을 가리키다가\n",
    "  ii = 300 #여기서 300을 가리킴 (기존i는그대로)\n",
    "\n",
    "test(i)\n",
    "i # 100"
   ]
  },
  {
   "cell_type": "code",
   "execution_count": 17,
   "metadata": {},
   "outputs": [
    {
     "data": {
      "text/plain": [
       "[10, 20, 30]"
      ]
     },
     "execution_count": 17,
     "metadata": {},
     "output_type": "execute_result"
    }
   ],
   "source": [
    "l = [10, 20, 30]\n",
    "def test(ll): #ll은 l이가리키는[10,20,30]가리키다가\n",
    "  ll = 100 #여기서 100가리키는거로 바뀜\n",
    "\n",
    "test(l)\n",
    "l"
   ]
  },
  {
   "cell_type": "code",
   "execution_count": 6,
   "metadata": {},
   "outputs": [
    {
     "data": {
      "text/plain": [
       "[100]"
      ]
     },
     "execution_count": 6,
     "metadata": {},
     "output_type": "execute_result"
    }
   ],
   "source": [
    "kinds = []\n",
    "\n",
    "def add_kinds(value):\n",
    "  kinds.append(value) # 지역에 해당 변수가 없으므로 전역변수 kinds에 append\n",
    "\n",
    "add_kinds(100)\n",
    "kinds"
   ]
  },
  {
   "cell_type": "code",
   "execution_count": 52,
   "metadata": {},
   "outputs": [
    {
     "data": {
      "text/plain": [
       "[]"
      ]
     },
     "execution_count": 52,
     "metadata": {},
     "output_type": "execute_result"
    }
   ],
   "source": [
    "kinds = []\n",
    "\n",
    "def add_kinds(value):\n",
    "  kinds = []\n",
    "  kinds.append(value) #바로위 kinds에 append\n",
    "\n",
    "add_kinds(100)\n",
    "kinds #기존거는 그대로"
   ]
  },
  {
   "cell_type": "code",
   "execution_count": 20,
   "metadata": {},
   "outputs": [
    {
     "name": "stdout",
     "output_type": "stream",
     "text": [
      "<class 'function'>\n"
     ]
    }
   ],
   "source": [
    "def hello():\n",
    "  print('hello world')\n",
    "\n",
    "print(type(hello)) # 출력: <class 'function'>"
   ]
  },
  {
   "cell_type": "code",
   "execution_count": 21,
   "metadata": {},
   "outputs": [
    {
     "data": {
      "text/plain": [
       "'hi world'"
      ]
     },
     "execution_count": 21,
     "metadata": {},
     "output_type": "execute_result"
    }
   ],
   "source": [
    "hello.hi = 'hi world' #함수도 클래스이므로 인스턴스를 넣을 수 있다.\n",
    "hello.hi"
   ]
  },
  {
   "cell_type": "code",
   "execution_count": 22,
   "metadata": {},
   "outputs": [
    {
     "name": "stdout",
     "output_type": "stream",
     "text": [
      "10 20\n",
      "20 30\n",
      "30 50\n",
      "36.05551275463989\n"
     ]
    }
   ],
   "source": [
    "class Point:\n",
    "\n",
    "    def __init__(self, x, y): #(메서드간 한줄씩 개행)\n",
    "        self.x = x\n",
    "        self.y = y\n",
    "\n",
    "    def __add__(self, other):\n",
    "        if isinstance(other, Point):\n",
    "            return Point((self.x + other.x), (self.y + other.y))\n",
    "        elif isinstance(other, int) or isinstance(other, float):\n",
    "            return Point((self.x + other), (self.y + other))\n",
    "\n",
    "    def distance(self, other):\n",
    "        dx = self.x - other.x\n",
    "        dy = self.y - other.y\n",
    "        return (dx**2 + dy**2)**0.5\n",
    "\n",
    "dot1 = Point(10, 20)\n",
    "dot2 = Point(20, 30)\n",
    "\n",
    "dot3 = dot1 + 10\n",
    "print(dot1.x, dot1.y) # 출력: 10 20\n",
    "print(dot3.x, dot3.y) # 출력: 20 30\n",
    "\n",
    "dot4 = dot1 + dot2\n",
    "print(dot4.x, dot4.y) # 출력: 30 50\n",
    "print(dot4.distance(dot1)) # 출력: 36.05551275463989"
   ]
  },
  {
   "cell_type": "code",
   "execution_count": 57,
   "metadata": {},
   "outputs": [
    {
     "name": "stdout",
     "output_type": "stream",
     "text": [
      "hello\n"
     ]
    },
    {
     "data": {
      "text/plain": [
       "world"
      ]
     },
     "execution_count": 57,
     "metadata": {},
     "output_type": "execute_result"
    }
   ],
   "source": [
    "class Counter:\n",
    "  \n",
    "  def __init__(self):\n",
    "    self.num = 0\n",
    "\n",
    "  def __len__(self):\n",
    "    return 100000\n",
    "  \n",
    "  def __call__(self):\n",
    "    return 'calling'\n",
    "  \n",
    "  def __getitem__(self, key):\n",
    "    return key * 10\n",
    "\n",
    "  def __str__(self):\n",
    "    return 'hello'\n",
    "  \n",
    "  def __repr__(self):\n",
    "    return 'world'\n",
    "\n",
    "c = Counter()\n",
    "len(c) # 출력: 100000\n",
    "c() # 출력: calling\n",
    "c[10] # 출력: 100\n",
    "print(c) # 출력: hello / print(str(c))와 같음 __str__호출\n",
    "c # 출력: world / __repr__호출"
   ]
  },
  {
   "cell_type": "markdown",
   "metadata": {},
   "source": [
    "# 상속"
   ]
  },
  {
   "cell_type": "code",
   "execution_count": 59,
   "metadata": {},
   "outputs": [
    {
     "data": {
      "text/plain": [
       "'world'"
      ]
     },
     "execution_count": 59,
     "metadata": {},
     "output_type": "execute_result"
    }
   ],
   "source": [
    "class A:\n",
    "  def hello(self):\n",
    "    return 'hello'\n",
    "\n",
    "class B(A):\n",
    "  def world(self):\n",
    "    return 'world'\n",
    "  \n",
    "b = B()\n",
    "b.hello()\n",
    "b.world()"
   ]
  },
  {
   "cell_type": "code",
   "execution_count": 39,
   "metadata": {},
   "outputs": [
    {
     "name": "stdout",
     "output_type": "stream",
     "text": [
      "10 <__main__.B object at 0x109000a50>\n"
     ]
    },
    {
     "data": {
      "text/plain": [
       "'world'"
      ]
     },
     "execution_count": 39,
     "metadata": {},
     "output_type": "execute_result"
    }
   ],
   "source": [
    "class A:\n",
    "  def hello(self):\n",
    "    return 'hello'\n",
    "\n",
    "class B(A):\n",
    "  def __init__(self, a):\n",
    "    print(a, b)\n",
    "\n",
    "  def world(self):\n",
    "    return 'world'\n",
    "  \n",
    "b = B(10) #A에서 처리하는 것 아니고 a에서 처리합니다.\n",
    "b.hello()\n",
    "b.world()"
   ]
  },
  {
   "cell_type": "code",
   "execution_count": 38,
   "metadata": {},
   "outputs": [
    {
     "name": "stdout",
     "output_type": "stream",
     "text": [
      "10 <__main__.B object at 0x108f96150>\n"
     ]
    },
    {
     "data": {
      "text/plain": [
       "['__class__',\n",
       " '__delattr__',\n",
       " '__dict__',\n",
       " '__dir__',\n",
       " '__doc__',\n",
       " '__eq__',\n",
       " '__format__',\n",
       " '__ge__',\n",
       " '__getattribute__',\n",
       " '__getstate__',\n",
       " '__gt__',\n",
       " '__hash__',\n",
       " '__init__',\n",
       " '__init_subclass__',\n",
       " '__le__',\n",
       " '__lt__',\n",
       " '__module__',\n",
       " '__ne__',\n",
       " '__new__',\n",
       " '__reduce__',\n",
       " '__reduce_ex__',\n",
       " '__repr__',\n",
       " '__setattr__',\n",
       " '__sizeof__',\n",
       " '__str__',\n",
       " '__subclasshook__',\n",
       " '__weakref__',\n",
       " 'hello',\n",
       " 'world']"
      ]
     },
     "execution_count": 38,
     "metadata": {},
     "output_type": "execute_result"
    }
   ],
   "source": [
    "class A(object):\n",
    "  def hello(self):\n",
    "    return 'hello'\n",
    "\n",
    "class B(A):\n",
    "  def __init__(self, a):\n",
    "    print(a, b)\n",
    "\n",
    "  def world(self):\n",
    "    return 'world'\n",
    "  \n",
    "b = B(10) #A에서 처리하는 것 아니고 a에서 처리합니다.\n",
    "b.hello()\n",
    "b.world()\n",
    "dir(b)"
   ]
  },
  {
   "cell_type": "code",
   "execution_count": 41,
   "metadata": {},
   "outputs": [
    {
     "name": "stdout",
     "output_type": "stream",
     "text": [
      "10 <__main__.B object at 0x108f95750>\n"
     ]
    },
    {
     "data": {
      "text/plain": [
       "'hello world'"
      ]
     },
     "execution_count": 41,
     "metadata": {},
     "output_type": "execute_result"
    }
   ],
   "source": [
    "class A:\n",
    "  def hello(self):\n",
    "    return 'hello'\n",
    "\n",
    "class B(A):\n",
    "  def __init__(self, a):\n",
    "    print(a, b)\n",
    "\n",
    "  def hello(self):\n",
    "    return 'hello world'\n",
    "  \n",
    "b = B(10) #A에서 처리하는 것 아니고 a에서 처리합니다.\n",
    "b.hello() #B의 hello가 A의 hello를 덮습니다."
   ]
  },
  {
   "cell_type": "code",
   "execution_count": 43,
   "metadata": {},
   "outputs": [
    {
     "data": {
      "text/plain": [
       "'three'"
      ]
     },
     "execution_count": 43,
     "metadata": {},
     "output_type": "execute_result"
    }
   ],
   "source": [
    "class A(object):\n",
    "  def one(self):\n",
    "    return 'one'\n",
    "  \n",
    "class B(A):\n",
    "  def two(self):\n",
    "    return 'two'\n",
    "\n",
    "class C(B):\n",
    "  def three(self):\n",
    "    return 'three'\n",
    "  \n",
    "c = C()\n",
    "c.one()\n",
    "c.two()\n",
    "c.three()"
   ]
  },
  {
   "cell_type": "code",
   "execution_count": 44,
   "metadata": {},
   "outputs": [
    {
     "data": {
      "text/plain": [
       "300"
      ]
     },
     "execution_count": 44,
     "metadata": {},
     "output_type": "execute_result"
    }
   ],
   "source": [
    "class A(object):\n",
    "  test = 0\n",
    "  def one(self):\n",
    "    return 'one'\n",
    "  \n",
    "class B(A):\n",
    "  def two(self):\n",
    "    return 'two'\n",
    "\n",
    "class C(B):\n",
    "  def three(self):\n",
    "    return 'three'\n",
    "  \n",
    "c = C()\n",
    "A.test = 300\n",
    "c.test # 상속을 받을 때 내 메모리 영역의 값(보유하고 있는 값)은 아닙니다. 참조 값입니다."
   ]
  },
  {
   "cell_type": "code",
   "execution_count": 45,
   "metadata": {},
   "outputs": [
    {
     "ename": "TypeError",
     "evalue": "B.one() missing 2 required positional arguments: 'x' and 'y'",
     "output_type": "error",
     "traceback": [
      "\u001b[0;31m---------------------------------------------------------------------------\u001b[0m",
      "\u001b[0;31mTypeError\u001b[0m                                 Traceback (most recent call last)",
      "\u001b[1;32m/Users/pyeonhaesun/Desktop/ESTsoft_ormi3/ormi3_code/Python/오르미_3기_python5.ipynb 셀 26\u001b[0m line \u001b[0;36m1\n\u001b[1;32m     <a href='vscode-notebook-cell:/Users/pyeonhaesun/Desktop/ESTsoft_ormi3/ormi3_code/Python/%EC%98%A4%EB%A5%B4%EB%AF%B8_3%EA%B8%B0_python5.ipynb#X34sZmlsZQ%3D%3D?line=10'>11</a>\u001b[0m     \u001b[39mreturn\u001b[39;00m x \u001b[39m+\u001b[39m y\n\u001b[1;32m     <a href='vscode-notebook-cell:/Users/pyeonhaesun/Desktop/ESTsoft_ormi3/ormi3_code/Python/%EC%98%A4%EB%A5%B4%EB%AF%B8_3%EA%B8%B0_python5.ipynb#X34sZmlsZQ%3D%3D?line=12'>13</a>\u001b[0m b \u001b[39m=\u001b[39m B()\n\u001b[0;32m---> <a href='vscode-notebook-cell:/Users/pyeonhaesun/Desktop/ESTsoft_ormi3/ormi3_code/Python/%EC%98%A4%EB%A5%B4%EB%AF%B8_3%EA%B8%B0_python5.ipynb#X34sZmlsZQ%3D%3D?line=13'>14</a>\u001b[0m b\u001b[39m.\u001b[39;49mone()\n",
      "\u001b[0;31mTypeError\u001b[0m: B.one() missing 2 required positional arguments: 'x' and 'y'"
     ]
    }
   ],
   "source": [
    "class A(object):\n",
    "  test = 0\n",
    "  def one(self):\n",
    "    return 'one'\n",
    "  \n",
    "class B(A):\n",
    "  def one(self, x):\n",
    "    return x\n",
    "  \n",
    "  def one(self, x, y): #파이썬은 오버로드가 안된다. 이거 오류\n",
    "    return x + y\n",
    "\n",
    "b = B()\n",
    "b.one()"
   ]
  },
  {
   "cell_type": "markdown",
   "metadata": {},
   "source": [
    "# 다중상속"
   ]
  },
  {
   "cell_type": "code",
   "execution_count": 53,
   "metadata": {},
   "outputs": [
    {
     "name": "stdout",
     "output_type": "stream",
     "text": [
      "hello A\n"
     ]
    },
    {
     "data": {
      "text/plain": [
       "[__main__.C, __main__.A, __main__.B, object]"
      ]
     },
     "execution_count": 53,
     "metadata": {},
     "output_type": "execute_result"
    }
   ],
   "source": [
    "class A:\n",
    "  def hello(self):\n",
    "    print('hello A')\n",
    "\n",
    "class B:\n",
    "  def hello(self):\n",
    "    print('hello B')\n",
    "  \n",
    "class C(A, B):\n",
    "  pass\n",
    "\n",
    "c = C()\n",
    "c.hello() #주의! Python의 코드 특성상 hello B라고 오해할만합니다. 2.x와 3.x가 상속의 순서가 다릅니다.\n",
    "C.mro()"
   ]
  },
  {
   "cell_type": "code",
   "execution_count": 62,
   "metadata": {},
   "outputs": [
    {
     "name": "stdout",
     "output_type": "stream",
     "text": [
      "hello C\n"
     ]
    },
    {
     "data": {
      "text/plain": [
       "[__main__.D, __main__.B, __main__.C, __main__.A, object]"
      ]
     },
     "execution_count": 62,
     "metadata": {},
     "output_type": "execute_result"
    }
   ],
   "source": [
    "#주의! Python의 2.x와 3.x가 아래 다이아몬드 상속의 순서가 다릅니다.\n",
    "# 3.x에서는 hello C가, 2.x에서는 hello A가 출력됩니다.\n",
    "# 다만 2.x에서 A => class A(object)로 바꾸면 실행 순서는 같아집니다.\n",
    "class A:\n",
    "  def hello(self):\n",
    "    print('hello A')\n",
    "  \n",
    "class B(A):\n",
    "  pass\n",
    "\n",
    "class C(A):\n",
    "  def hello(self):\n",
    "    print('hello C')\n",
    "\n",
    "class D(B, C):\n",
    "  pass\n",
    "\n",
    "d = D()\n",
    "d.hello()\n",
    "D.mro()"
   ]
  },
  {
   "cell_type": "code",
   "execution_count": 54,
   "metadata": {},
   "outputs": [
    {
     "name": "stdout",
     "output_type": "stream",
     "text": [
      "hello C\n"
     ]
    }
   ],
   "source": [
    "# 다중 상속을 했을 때 상속에서 error가 나는 경우 - 정상실행\n",
    "class A:\n",
    "  def hello(self):\n",
    "    print('hello A')\n",
    "  \n",
    "class B(A):\n",
    "  def hello(self):\n",
    "    print('hello B')\n",
    "\n",
    "class C(B):\n",
    "  def hello(self):\n",
    "    print('hello C')\n",
    "\n",
    "class D(C, B):\n",
    "  pass\n",
    "\n",
    "d = D()\n",
    "d.hello()"
   ]
  },
  {
   "cell_type": "code",
   "execution_count": 55,
   "metadata": {},
   "outputs": [
    {
     "ename": "TypeError",
     "evalue": "Cannot create a consistent method resolution\norder (MRO) for bases B, C",
     "output_type": "error",
     "traceback": [
      "\u001b[0;31m---------------------------------------------------------------------------\u001b[0m",
      "\u001b[0;31mTypeError\u001b[0m                                 Traceback (most recent call last)",
      "\u001b[1;32m/Users/pyeonhaesun/Desktop/ESTsoft_ormi3/ormi3_code/Python/오르미_3기_python5.ipynb 셀 32\u001b[0m line \u001b[0;36m1\n\u001b[1;32m     <a href='vscode-notebook-cell:/Users/pyeonhaesun/Desktop/ESTsoft_ormi3/ormi3_code/Python/%EC%98%A4%EB%A5%B4%EB%AF%B8_3%EA%B8%B0_python5.ipynb#X46sZmlsZQ%3D%3D?line=10'>11</a>\u001b[0m   \u001b[39mdef\u001b[39;00m \u001b[39mhello\u001b[39m(\u001b[39mself\u001b[39m):\n\u001b[1;32m     <a href='vscode-notebook-cell:/Users/pyeonhaesun/Desktop/ESTsoft_ormi3/ormi3_code/Python/%EC%98%A4%EB%A5%B4%EB%AF%B8_3%EA%B8%B0_python5.ipynb#X46sZmlsZQ%3D%3D?line=11'>12</a>\u001b[0m     \u001b[39mprint\u001b[39m(\u001b[39m'\u001b[39m\u001b[39mhello C\u001b[39m\u001b[39m'\u001b[39m)\n\u001b[0;32m---> <a href='vscode-notebook-cell:/Users/pyeonhaesun/Desktop/ESTsoft_ormi3/ormi3_code/Python/%EC%98%A4%EB%A5%B4%EB%AF%B8_3%EA%B8%B0_python5.ipynb#X46sZmlsZQ%3D%3D?line=13'>14</a>\u001b[0m \u001b[39mclass\u001b[39;49;00m \u001b[39mD\u001b[39;49;00m(B, C):\n\u001b[1;32m     <a href='vscode-notebook-cell:/Users/pyeonhaesun/Desktop/ESTsoft_ormi3/ormi3_code/Python/%EC%98%A4%EB%A5%B4%EB%AF%B8_3%EA%B8%B0_python5.ipynb#X46sZmlsZQ%3D%3D?line=14'>15</a>\u001b[0m   \u001b[39mpass\u001b[39;49;00m\n\u001b[1;32m     <a href='vscode-notebook-cell:/Users/pyeonhaesun/Desktop/ESTsoft_ormi3/ormi3_code/Python/%EC%98%A4%EB%A5%B4%EB%AF%B8_3%EA%B8%B0_python5.ipynb#X46sZmlsZQ%3D%3D?line=16'>17</a>\u001b[0m d \u001b[39m=\u001b[39m D()\n",
      "\u001b[0;31mTypeError\u001b[0m: Cannot create a consistent method resolution\norder (MRO) for bases B, C"
     ]
    }
   ],
   "source": [
    "# 다중 상속을 했을 때 상속에서 error가 나는 경우 - error\n",
    "class A:\n",
    "  def hello(self):\n",
    "    print('hello A')\n",
    "  \n",
    "class B(A):\n",
    "  def hello(self):\n",
    "    print('hello B')\n",
    "\n",
    "class C(B):\n",
    "  def hello(self):\n",
    "    print('hello C')\n",
    "\n",
    "class D(B, C):\n",
    "  pass\n",
    "\n",
    "d = D()\n",
    "d.hello()"
   ]
  },
  {
   "cell_type": "code",
   "execution_count": 63,
   "metadata": {},
   "outputs": [
    {
     "ename": "TypeError",
     "evalue": "Cannot create a consistent method resolution\norder (MRO) for bases HybridCar, ElectricCar",
     "output_type": "error",
     "traceback": [
      "\u001b[0;31m---------------------------------------------------------------------------\u001b[0m",
      "\u001b[0;31mTypeError\u001b[0m                                 Traceback (most recent call last)",
      "\u001b[1;32m/Users/pyeonhaesun/Desktop/ESTsoft_ormi3/ormi3_code/Python/오르미_3기_python5.ipynb 셀 34\u001b[0m line \u001b[0;36m1\n\u001b[1;32m      <a href='vscode-notebook-cell:/Users/pyeonhaesun/Desktop/ESTsoft_ormi3/ormi3_code/Python/%EC%98%A4%EB%A5%B4%EB%AF%B8_3%EA%B8%B0_python5.ipynb#X65sZmlsZQ%3D%3D?line=6'>7</a>\u001b[0m \u001b[39mclass\u001b[39;00m \u001b[39mElectricCar\u001b[39;00m(HybridCar):\n\u001b[1;32m      <a href='vscode-notebook-cell:/Users/pyeonhaesun/Desktop/ESTsoft_ormi3/ormi3_code/Python/%EC%98%A4%EB%A5%B4%EB%AF%B8_3%EA%B8%B0_python5.ipynb#X65sZmlsZQ%3D%3D?line=7'>8</a>\u001b[0m   \u001b[39mpass\u001b[39;00m\n\u001b[0;32m---> <a href='vscode-notebook-cell:/Users/pyeonhaesun/Desktop/ESTsoft_ormi3/ormi3_code/Python/%EC%98%A4%EB%A5%B4%EB%AF%B8_3%EA%B8%B0_python5.ipynb#X65sZmlsZQ%3D%3D?line=9'>10</a>\u001b[0m \u001b[39mclass\u001b[39;49;00m \u001b[39mHybridElectricCar\u001b[39;49;00m(HybridCar, ElectricCar):\n\u001b[1;32m     <a href='vscode-notebook-cell:/Users/pyeonhaesun/Desktop/ESTsoft_ormi3/ormi3_code/Python/%EC%98%A4%EB%A5%B4%EB%AF%B8_3%EA%B8%B0_python5.ipynb#X65sZmlsZQ%3D%3D?line=10'>11</a>\u001b[0m   \u001b[39mpass\u001b[39;49;00m\n\u001b[1;32m     <a href='vscode-notebook-cell:/Users/pyeonhaesun/Desktop/ESTsoft_ormi3/ormi3_code/Python/%EC%98%A4%EB%A5%B4%EB%AF%B8_3%EA%B8%B0_python5.ipynb#X65sZmlsZQ%3D%3D?line=12'>13</a>\u001b[0m modelz \u001b[39m=\u001b[39m HybridElectricCar()\n",
      "\u001b[0;31mTypeError\u001b[0m: Cannot create a consistent method resolution\norder (MRO) for bases HybridCar, ElectricCar"
     ]
    }
   ],
   "source": [
    "class Car(object):\n",
    "  pass\n",
    "\n",
    "class HybridCar(Car):\n",
    "  pass\n",
    "\n",
    "class ElectricCar(HybridCar):\n",
    "  pass\n",
    "\n",
    "class HybridElectricCar(HybridCar, ElectricCar):\n",
    "  pass\n",
    "\n",
    "modelz = HybridElectricCar() #error"
   ]
  },
  {
   "cell_type": "markdown",
   "metadata": {},
   "source": [
    "# 연습문제\n",
    "\n",
    "게임에서 캐릭터를 구현할 예정입니다. 아래 클래스를 적절하게 조합하여 hero 인스턴스와 villain 인스턴스를 만들어주세요.\n",
    "* 명시된 class 외 다른 클래스를 더 추가할 수 있습니다.\n",
    "* 안에 들어가는 멤버나 메서드는 자유롭게 작성할 수 있습니다.\n",
    "\n",
    "1. class Body (능력치)\n",
    "2. class Weapon (무기)\n",
    "3. class WeaponEnhancement (무기강화)\n",
    "4. class Skill (기술)\n",
    "5. class Equipment (장비)\n",
    "6. class Role (히어로인지, 빌런인지, 몹인지)"
   ]
  },
  {
   "cell_type": "code",
   "execution_count": 11,
   "metadata": {},
   "outputs": [
    {
     "data": {
      "text/plain": [
       "25000"
      ]
     },
     "execution_count": 11,
     "metadata": {},
     "output_type": "execute_result"
    }
   ],
   "source": [
    "class Weapon:\n",
    "  def setDamage(self, damage):\n",
    "    self.damage = damage\n",
    "\n",
    "class WeaponEnhancement(Weapon):\n",
    "  def setEnhance(self, success):\n",
    "    if success == True:\n",
    "      self.damage *= 5\n",
    "    else:\n",
    "      self.damage = 0\n",
    "\n",
    "class Equipment(WeaponEnhancement):\n",
    "  pass\n",
    "\n",
    "class Role:\n",
    "  def setRole(self, role):\n",
    "    self.role = role\n",
    "\n",
    "class Skill:\n",
    "  def javis(self):\n",
    "    return '자비스! 도와줘!'\n",
    "  \n",
    "  def beam(self):\n",
    "    return '나가라 빔!'\n",
    "\n",
    "class Body(Role, Equipment, Skill):\n",
    "  def __init__(self, role, hp, mp, power):\n",
    "    self.setRole(role)\n",
    "\n",
    "ironman = Body('hero', 100, 100, 100)\n",
    "thanos = Body('villain', 100, 100, 80)\n",
    "ironman.role\n",
    "ironman.javis()\n",
    "ironman.setDamage(1000)\n",
    "ironman.damage\n",
    "ironman.setEnhance(True)\n",
    "ironman.setEnhance(True)\n",
    "ironman.damage\n"
   ]
  },
  {
   "cell_type": "code",
   "execution_count": 37,
   "metadata": {},
   "outputs": [
    {
     "data": {
      "text/plain": [
       "70"
      ]
     },
     "execution_count": 37,
     "metadata": {},
     "output_type": "execute_result"
    }
   ],
   "source": [
    "class Weapon:\n",
    "  def __init__(self, name):\n",
    "    self.name = name\n",
    "\n",
    "  def setDamage(self, damage):\n",
    "    self.damage = damage\n",
    "\n",
    "class WeaponEnhancement(Weapon):\n",
    "  def setEnhance(self, success):\n",
    "    if success == True:\n",
    "      self.damage *= 4\n",
    "    else:\n",
    "      self.damage /= 2\n",
    "\n",
    "class Equipment(WeaponEnhancement):\n",
    "  def __init__(self, equip):\n",
    "    self.equip = equip\n",
    "\n",
    "class Role:\n",
    "  def setRole(self, role):\n",
    "    self.role = role\n",
    "\n",
    "class Skill():\n",
    "  def attack(self, enemy):\n",
    "    self.enemy = enemy\n",
    "    if self.damage:\n",
    "      self.enemy.hp -= self.damage\n",
    "    else:\n",
    "      self.enemy.hp -= 10\n",
    "\n",
    "  def magic(self, enemy):\n",
    "    self.enemy = enemy\n",
    "    if self.damage:\n",
    "      self.enemy.mp -= self.damage\n",
    "    else:\n",
    "      self.enemy.hp -= 10\n",
    "\n",
    "class Body(Role, Equipment, Skill):\n",
    "  def __init__(self, role, hp, mp, power):\n",
    "    self.setRole(role)\n",
    "    self.hp = hp\n",
    "    self.mp = mp\n",
    "    self.power = power\n",
    "\n",
    "ironman = Body('hero', 100, 100, 100)\n",
    "thanos = Body('villain', 100, 100, 80)\n",
    "ironman.setDamage(30)\n",
    "ironman.attack(thanos)\n",
    "thanos.hp"
   ]
  },
  {
   "cell_type": "markdown",
   "metadata": {},
   "source": [
    "문제 1\n",
    "* 동물 클래스 Animal을 만들어주세요. Dog와 Cat 클래스를 각각 정의하십시오.\n",
    "\n",
    "* Animal 클래스는 name 속성을 가집니다. 이 클래스는 make_sound 메서드를 갖고 있습니다.\n",
    "\n",
    "* Dog와 Cat 클래스는 Animal 클래스를 상속받는 클래스입니다. Dog 클래스의 make_sound 메서드는 \"멍멍!\"을, Cat 클래스의 make_sound 메서드는 \"야옹!\"을 출력하도록 재정의하세요.\n",
    "\n",
    "* 더 완성도 높은 클래스를 만들어보세요. 추가 속성이나 메서드 작성 가능합니다.\n",
    "\n",
    "문제 2\n",
    "* Person이라는 기본 클래스를 만들어주세요. Person 클래스는 이름과 나이라는 두 개의 속성과 소개하기라는 메서드를 가지며, 이 메서드는 \"Hello World!, 제 이름은 [이름]이고 제 나이는 [나이]살 입니다.\"라는 메시지를 출력합니다.\n",
    "\n",
    "* Person 클래스를 상속받는 Student 클래스를 정의하십시오. Student 클래스는 추가적으로 학년 속성을 가집니다. Student 클래스에서 소개하기 메서드를 오버라이드하여 \"Hello World!, 제 이름은 [이름]이고 제 나이는 [나이]살 입니다. 그리고 저는 [학년]학년입니다. \"라는 메시지를 출력하도록 만드세요."
   ]
  },
  {
   "cell_type": "code",
   "execution_count": 51,
   "metadata": {},
   "outputs": [
    {
     "name": "stdout",
     "output_type": "stream",
     "text": [
      "메리 멍멍!\n",
      "나비 야옹!\n"
     ]
    }
   ],
   "source": [
    "#문제1\n",
    "class Animal:\n",
    "  \n",
    "  def __init__(self, name):\n",
    "    self.name = name\n",
    "\n",
    "  def make_sound():\n",
    "    pass\n",
    "\n",
    "class Dog(Animal):\n",
    "\n",
    "  def make_sound(self):\n",
    "    return '멍멍!'\n",
    "\n",
    "class Cat(Animal):\n",
    "  \n",
    "  def make_sound(self):\n",
    "    return '야옹!'\n",
    "\n",
    "dog = Dog('메리')\n",
    "cat = Cat('나비')\n",
    "print(dog.name, dog.make_sound())\n",
    "print(cat.name, cat.make_sound())"
   ]
  },
  {
   "cell_type": "code",
   "execution_count": 50,
   "metadata": {},
   "outputs": [
    {
     "name": "stdout",
     "output_type": "stream",
     "text": [
      "Hello World!, 제 이름은 김철수이고 제 나이는 10살 입니다.\n",
      "Hello World!, 제 이름은 박민수이고 제 나이는 13살 입니다. 그리고 저는 6학년입니다.\n"
     ]
    }
   ],
   "source": [
    "#문제2\n",
    "class Person:\n",
    "  \n",
    "  def __init__(self, name, age):\n",
    "    self.name = name\n",
    "    self.age = age\n",
    "\n",
    "  def introduce(self):\n",
    "    print(f'Hello World!, 제 이름은 {self.name}이고 제 나이는 {self.age}살 입니다.')\n",
    "\n",
    "class Student(Person):\n",
    "  \n",
    "  def __init__(self, name, age, grade):\n",
    "    super().__init__(name, age)\n",
    "    self.grade = grade\n",
    "  \n",
    "  def introduce(self):\n",
    "    print(f'Hello World!, 제 이름은 {self.name}이고 제 나이는 {self.age}살 입니다. 그리고 저는 {self.grade}학년입니다.')\n",
    "\n",
    "chulsu = Person('김철수', 10)\n",
    "chulsu.introduce()\n",
    "minsu = Student('박민수', 13, 6)\n",
    "minsu.introduce()"
   ]
  },
  {
   "cell_type": "code",
   "execution_count": null,
   "metadata": {},
   "outputs": [],
   "source": [
    "# 1번\n",
    "class Animal:\n",
    "    def __init__(self, name):\n",
    "        self.name = name\n",
    "\n",
    "    def make_sound(self):\n",
    "        pass\n",
    "\n",
    "\n",
    "class Dog(Animal):\n",
    "    def make_sound(self):\n",
    "        return \"멍멍!\"\n",
    "\n",
    "\n",
    "class Cat(Animal):\n",
    "    def make_sound(self):\n",
    "        return \"야옹!\"\n",
    "\n",
    "# 2번\n",
    "class Person:\n",
    "    def __init__(self, name, age):\n",
    "        self.name = name\n",
    "        self.age = age\n",
    "\n",
    "    def introduce(self):\n",
    "        return f'안녕하세요! 제 이름은 {self.name}이고 제 나이는 {self.age}입니다'\n",
    "\n",
    "\n",
    "class Student(Person):\n",
    "    def __init__(self, name, age, grade):\n",
    "        super().__init__(name, age)\n",
    "        self.grade = grade\n",
    "\n",
    "    def introduce(self):\n",
    "        return f'안녕하세요! 제 이름은 {self.name}이고 제 나이는 {self.age}입니다. {self.grade}학년 입니다.'\n",
    "\n",
    "\n",
    "s = Student('jun', 10, 3)\n",
    "s.introduce()"
   ]
  },
  {
   "cell_type": "markdown",
   "metadata": {},
   "source": [
    "# 클래스 매서드와 정적 매서드"
   ]
  },
  {
   "cell_type": "code",
   "execution_count": 4,
   "metadata": {},
   "outputs": [
    {
     "name": "stdout",
     "output_type": "stream",
     "text": [
      "1\n",
      "1 1\n",
      "2 2\n"
     ]
    }
   ],
   "source": [
    "# 클래스 매서드\n",
    "class MyClass:\n",
    "  count = 0\n",
    "\n",
    "  @classmethod\n",
    "  def increment(cls):\n",
    "    cls.count += 1\n",
    "\n",
    "a = MyClass()\n",
    "b = MyClass()\n",
    "\n",
    "MyClass.increment()\n",
    "print(MyClass.count) #출력: 1\n",
    "\n",
    "print(a.count, b.count)\n",
    "MyClass.increment()\n",
    "print(a.count, b.count)"
   ]
  },
  {
   "cell_type": "code",
   "execution_count": 5,
   "metadata": {},
   "outputs": [
    {
     "name": "stdout",
     "output_type": "stream",
     "text": [
      "1 0\n",
      "2 0\n"
     ]
    }
   ],
   "source": [
    "# 클래스 메서드\n",
    "class MyClass:\n",
    "    count = 0\n",
    "\n",
    "    def increment(self):\n",
    "        self.count += 1\n",
    "\n",
    "a = MyClass()\n",
    "b = MyClass()\n",
    "\n",
    "# MyClass.increment() # error\n",
    "a.increment()\n",
    "\n",
    "print(a.count, b.count)\n",
    "\n",
    "a.increment()\n",
    "\n",
    "print(a.count, b.count)"
   ]
  },
  {
   "cell_type": "code",
   "execution_count": 7,
   "metadata": {},
   "outputs": [
    {
     "name": "stdout",
     "output_type": "stream",
     "text": [
      "8\n"
     ]
    }
   ],
   "source": [
    "class MyClass:\n",
    "  @staticmethod\n",
    "  def my_method(x, y): #self가 필요없을때\n",
    "    return x + y\n",
    "\n",
    "#함수처럼작동\n",
    "print(MyClass.my_method(5, 3))  # 출력: 8"
   ]
  },
  {
   "cell_type": "code",
   "execution_count": 8,
   "metadata": {},
   "outputs": [
    {
     "name": "stdout",
     "output_type": "stream",
     "text": [
      "8\n"
     ]
    }
   ],
   "source": [
    "class MyClass:\n",
    "  count = 10\n",
    "  \n",
    "  @staticmethod\n",
    "  def my_method(x, y):\n",
    "    # print(count) # 읽는 것 조차 접근이 안됩니다.\n",
    "    return x + y #+ count\n",
    "\n",
    "#함수처럼작동\n",
    "print(MyClass.my_method(5, 3))  # 출력: 8"
   ]
  },
  {
   "cell_type": "code",
   "execution_count": 11,
   "metadata": {},
   "outputs": [
    {
     "data": {
      "text/plain": [
       "'총학점 120학점, 3.1375으로 졸업하셨습니다.'"
      ]
     },
     "execution_count": 11,
     "metadata": {},
     "output_type": "execute_result"
    }
   ],
   "source": [
    "class 학사정보시스템:\n",
    "  학점총점 = 120\n",
    "\n",
    "  def __init__(self):\n",
    "    self.학기점수 = []\n",
    "\n",
    "  def 학점추가(self, 이번학기점수):\n",
    "    self.학기점수.append(이번학기점수)\n",
    "\n",
    "  def 학점평균(self):\n",
    "    return sum(self.학기점수)/len(self.학기점수)\n",
    "\n",
    "  def 졸업장출력(self):\n",
    "    return f'총학점 {self.학점총점}학점, {self.학점평균()}으로 졸업하셨습니다.'\n",
    "\n",
    "피카츄 = 학사정보시스템()\n",
    "꼬부기 = 학사정보시스템()\n",
    "\n",
    "#8학기\n",
    "피카츄.학점추가(3.2)\n",
    "피카츄.학점추가(3.5)\n",
    "피카츄.학점추가(3.0)\n",
    "피카츄.학점추가(3.2)\n",
    "피카츄.학점추가(3.0)\n",
    "피카츄.학점추가(3.3)\n",
    "피카츄.학점추가(3.1)\n",
    "피카츄.학점추가(2.8)\n",
    "\n",
    "피카츄.학점평균()\n",
    "피카츄.졸업장출력()"
   ]
  },
  {
   "cell_type": "code",
   "execution_count": 12,
   "metadata": {},
   "outputs": [
    {
     "data": {
      "text/plain": [
       "'총학점 60학점, 3.125으로 졸업하셨습니다.'"
      ]
     },
     "execution_count": 12,
     "metadata": {},
     "output_type": "execute_result"
    }
   ],
   "source": [
    "# 스토리: 중간에 총학점이 120학점에서 60학점으로 바뀌어서 조기졸업을 할 수 있게 되었습니다.\n",
    "class 학사정보시스템:\n",
    "  학점총점 = 120\n",
    "\n",
    "  def __init__(self):\n",
    "    self.학기점수 = []\n",
    "\n",
    "  def 학점추가(self, 이번학기점수):\n",
    "    self.학기점수.append(이번학기점수)\n",
    "\n",
    "  def 학점평균(self):\n",
    "    return sum(self.학기점수)/len(self.학기점수)\n",
    "\n",
    "  def 졸업장출력(self):\n",
    "    return f'총학점 {self.학점총점}학점, {self.학점평균()}으로 졸업하셨습니다.'\n",
    "\n",
    "피카츄 = 학사정보시스템()\n",
    "꼬부기 = 학사정보시스템()\n",
    "\n",
    "피카츄.학점추가(3.2)\n",
    "피카츄.학점추가(3.5)\n",
    "#총학점 변경\n",
    "피카츄.학점총점 = 60 #이렇게 해버리면 꼬부기는 안 변함\n",
    "피카츄.학점추가(3.0)\n",
    "피카츄.학점추가(2.8)\n",
    "\n",
    "피카츄.학점평균()\n",
    "피카츄.졸업장출력()"
   ]
  },
  {
   "cell_type": "code",
   "execution_count": 13,
   "metadata": {},
   "outputs": [
    {
     "data": {
      "text/plain": [
       "'총학점 120학점, 3.125으로 졸업하셨습니다.'"
      ]
     },
     "execution_count": 13,
     "metadata": {},
     "output_type": "execute_result"
    }
   ],
   "source": [
    "# 꼬부기의 졸업장은 변하지 않았습니다.\n",
    "꼬부기.학점추가(3.2)\n",
    "꼬부기.학점추가(3.5)\n",
    "꼬부기.학점추가(3.0)\n",
    "꼬부기.학점추가(2.8)\n",
    "\n",
    "꼬부기.졸업장출력()"
   ]
  },
  {
   "cell_type": "code",
   "execution_count": 19,
   "metadata": {},
   "outputs": [
    {
     "name": "stdout",
     "output_type": "stream",
     "text": [
      "총학점 60학점, 3.125으로 졸업하셨습니다.\n",
      "총학점 60학점, 3.175으로 졸업하셨습니다.\n"
     ]
    }
   ],
   "source": [
    "# 스토리: 중간에 총학점이 120학점에서 60학점으로 바뀌어서 조기졸업을 할 수 있게 되었습니다.\n",
    "class 학사정보시스템:\n",
    "  학점총점 = 120\n",
    "\n",
    "  def __init__(self):\n",
    "    self.학기점수 = []\n",
    "\n",
    "  def 학점추가(self, 이번학기점수):\n",
    "    self.학기점수.append(이번학기점수)\n",
    "\n",
    "  def 학점평균(self):\n",
    "    return sum(self.학기점수)/len(self.학기점수)\n",
    "\n",
    "  def 졸업장출력(self):\n",
    "    return f'총학점 {self.학점총점}학점, {self.학점평균()}으로 졸업하셨습니다.'\n",
    "\n",
    "피카츄 = 학사정보시스템()\n",
    "꼬부기 = 학사정보시스템()\n",
    "\n",
    "피카츄.학점추가(3.2)\n",
    "피카츄.학점추가(3.5)\n",
    "#총학점 변경\n",
    "학사정보시스템.학점총점 = 60 # 이 코드가 변경이 된 것\n",
    "# 협업을 하거나 안정성을 더 확보하고 싶다면 클래스 메서드로 수정을 해주세요.\n",
    "피카츄.학점추가(3.0)\n",
    "피카츄.학점추가(2.8)\n",
    "\n",
    "피카츄.학점평균()\n",
    "print(피카츄.졸업장출력())\n",
    "\n",
    "꼬부기.학점추가(3.0)\n",
    "꼬부기.학점추가(3.2)\n",
    "꼬부기.학점추가(3.4)\n",
    "꼬부기.학점추가(3.1)\n",
    "print(꼬부기.졸업장출력()) # 둘 다 변한 것을 확인할 수 있습니다."
   ]
  },
  {
   "cell_type": "code",
   "execution_count": 20,
   "metadata": {},
   "outputs": [
    {
     "name": "stdout",
     "output_type": "stream",
     "text": [
      "총학점 60학점, 3.125으로 졸업하셨습니다.\n",
      "총학점 60학점, 3.175으로 졸업하셨습니다.\n"
     ]
    }
   ],
   "source": [
    "# 스토리: 중간에 총학점이 120학점에서 60학점으로 바뀌어서 조기졸업을 할 수 있게 되었습니다.\n",
    "class 학사정보시스템:\n",
    "  학점총점 = 120\n",
    "\n",
    "  def __init__(self):\n",
    "    self.학기점수 = []\n",
    "\n",
    "  def 학점추가(self, 이번학기점수):\n",
    "    self.학기점수.append(이번학기점수)\n",
    "\n",
    "  def 학점평균(self):\n",
    "    return sum(self.학기점수)/len(self.학기점수)\n",
    "\n",
    "  def 졸업장출력(self):\n",
    "    return f'총학점 {self.학점총점}학점, {self.학점평균()}으로 졸업하셨습니다.'\n",
    "\n",
    "피카츄 = 학사정보시스템()\n",
    "꼬부기 = 학사정보시스템()\n",
    "\n",
    "피카츄.학점추가(3.2)\n",
    "피카츄.학점추가(3.5)\n",
    "#총학점 변경\n",
    "학사정보시스템.학점총점 = '60' #위험한 상황. 숫자가 들어가야 하는데 문자가 들어감\n",
    "#만약에 학점총점으로 들어가는 산술 연산되는 매서드가 있었다면 이제 그 메서드는 오류를 냅니다.\n",
    "피카츄.학점추가(3.0)\n",
    "피카츄.학점추가(2.8)\n",
    "\n",
    "피카츄.학점평균()\n",
    "print(피카츄.졸업장출력())\n",
    "\n",
    "꼬부기.학점추가(3.0)\n",
    "꼬부기.학점추가(3.2)\n",
    "꼬부기.학점추가(3.4)\n",
    "꼬부기.학점추가(3.1)\n",
    "print(꼬부기.졸업장출력()) # 둘 다 변한 것을 확인할 수 있습니다."
   ]
  },
  {
   "cell_type": "code",
   "execution_count": 23,
   "metadata": {},
   "outputs": [
    {
     "name": "stdout",
     "output_type": "stream",
     "text": [
      "총학점 60학점, 3.125으로 졸업하셨습니다.\n",
      "총학점 60학점, 3.175으로 졸업하셨습니다.\n"
     ]
    }
   ],
   "source": [
    "class 학사정보시스템:\n",
    "  학점총점 = 120\n",
    "\n",
    "  def __init__(self):\n",
    "    self.학기점수 = []\n",
    "\n",
    "  def 학점추가(self, 이번학기점수):\n",
    "    self.학기점수.append(이번학기점수)\n",
    "\n",
    "  def 학점평균(self):\n",
    "    return sum(self.학기점수)/len(self.학기점수)\n",
    "\n",
    "  def 졸업장출력(self):\n",
    "    return f'총학점 {self.학점총점}학점, {self.학점평균()}으로 졸업하셨습니다.'\n",
    "  \n",
    "  @classmethod\n",
    "  def 학점총점변경(cls, 총점):\n",
    "    if isinstance(총점, int):\n",
    "      cls.학점총점 = 총점\n",
    "      return '변경됨'\n",
    "    return '변경안됨'\n",
    "\n",
    "피카츄 = 학사정보시스템()\n",
    "꼬부기 = 학사정보시스템()\n",
    "\n",
    "피카츄.학점추가(3.2)\n",
    "피카츄.학점추가(3.5)\n",
    "#총학점 변경\n",
    "학사정보시스템.학점총점변경(60)\n",
    "학사정보시스템.학점총점변경(120.5) # 무시\n",
    "학사정보시스템.학점총점변경('70') # 무시\n",
    "피카츄.학점추가(3.0)\n",
    "피카츄.학점추가(2.8)\n",
    "\n",
    "피카츄.학점평균()\n",
    "print(피카츄.졸업장출력())\n",
    "\n",
    "꼬부기.학점추가(3.0)\n",
    "꼬부기.학점추가(3.2)\n",
    "꼬부기.학점추가(3.4)\n",
    "꼬부기.학점추가(3.1)\n",
    "print(꼬부기.졸업장출력()) # 둘 다 변한 것을 확인할 수 있습니다."
   ]
  },
  {
   "cell_type": "code",
   "execution_count": 25,
   "metadata": {},
   "outputs": [
    {
     "data": {
      "text/plain": [
       "'학사경고 아님'"
      ]
     },
     "execution_count": 25,
     "metadata": {},
     "output_type": "execute_result"
    }
   ],
   "source": [
    "class 학사정보시스템:\n",
    "  학점총점 = 120\n",
    "\n",
    "  def __init__(self):\n",
    "    self.학기점수 = []\n",
    "\n",
    "  def 학점추가(self, 이번학기점수):\n",
    "    self.학기점수.append(이번학기점수)\n",
    "\n",
    "  def 학점평균(self):\n",
    "    return sum(self.학기점수)/len(self.학기점수)\n",
    "\n",
    "  def 졸업장출력(self):\n",
    "    return f'총학점 {self.학점총점}학점, {self.학점평균()}으로 졸업하셨습니다.'\n",
    "\n",
    "  @staticmethod\n",
    "  # 내부에서 클래스 변수, 인스턴스 변수를 수정하는 것이 가능하지 않음\n",
    "  def 학사경고(이번학기점수): #self가 들어갈 이유가 없다.\n",
    "    if 이번학기점수 - 1.5 > 0:\n",
    "      return '학사경고 아님'\n",
    "    return '학사경고임'\n",
    "  \n",
    "  @classmethod\n",
    "  def 학점총점변경(cls, 총점):\n",
    "    if isinstance(총점, int):\n",
    "      cls.학점총점 = 총점\n",
    "      return '변경됨'\n",
    "    return '변경안됨'\n",
    "\n",
    "학사정보시스템.학사경고(1.4)\n",
    "학사정보시스템.학사경고(1.6)"
   ]
  },
  {
   "cell_type": "markdown",
   "metadata": {},
   "source": [
    "# 속성 접근자와 덕타이핑"
   ]
  },
  {
   "cell_type": "code",
   "execution_count": 73,
   "metadata": {},
   "outputs": [
    {
     "name": "stdout",
     "output_type": "stream",
     "text": [
      "li\n",
      "cat\n",
      "licat\n"
     ]
    }
   ],
   "source": [
    "class Person:\n",
    "  def __init__(self, first_name, last_name):\n",
    "    self._first_name = first_name\n",
    "    self._last_name = last_name\n",
    "\n",
    "  @property\n",
    "  def full_name(self):\n",
    "    return f'{self._first_name}{self._last_name}'\n",
    "  \n",
    "licat = Person('li','cat')\n",
    "print(licat._first_name)\n",
    "print(licat._last_name)\n",
    "print(licat.full_name)\n",
    "# print(licat.full_name()) error"
   ]
  },
  {
   "cell_type": "code",
   "execution_count": 74,
   "metadata": {},
   "outputs": [
    {
     "name": "stdout",
     "output_type": "stream",
     "text": [
      "li\n",
      "cat\n",
      "licat\n",
      "mura\n"
     ]
    }
   ],
   "source": [
    "class Person:\n",
    "  def __init__(self, first_name, last_name):\n",
    "    self._first_name = first_name\n",
    "    self._last_name = last_name\n",
    "\n",
    "  @property\n",
    "  def full_name(self):\n",
    "    return f'{self._first_name}{self._last_name}'\n",
    "  \n",
    "licat = Person('li','cat')\n",
    "mura = Person('mu','ra')\n",
    "print(licat._first_name)\n",
    "print(licat._last_name)\n",
    "print(licat.full_name) # 클래스 변수였다면 둘 다 같은 값을 출력했어야 합니다.\n",
    "print(mura.full_name) # 클래스 변수였다면 둘 다 같은 값을 출력했어야 합니다."
   ]
  },
  {
   "cell_type": "code",
   "execution_count": 31,
   "metadata": {},
   "outputs": [
    {
     "name": "stdout",
     "output_type": "stream",
     "text": [
      "li\n",
      "cat\n",
      "licat\n",
      "mura\n",
      "muramura\n"
     ]
    }
   ],
   "source": [
    "class Person:\n",
    "  def __init__(self, first_name, last_name):\n",
    "    self._first_name = first_name\n",
    "    self._last_name = last_name\n",
    "\n",
    "  @property\n",
    "  def full_name(self):\n",
    "    return f'{self._first_name}{self._last_name}'\n",
    "    \n",
    "  def namemul(self):\n",
    "    return self.full_name * 2 # 클래스 내부에서도 self.full_name, 인스턴스 변수처럼 취급됩니다.\n",
    "\n",
    "licat = Person('li', 'cat')\n",
    "mura = Person('mu', 'ra')\n",
    "print(licat._first_name)\n",
    "print(licat._last_name)\n",
    "# print(licat.full_name()) error\n",
    "print(licat.full_name)\n",
    "print(mura.full_name) #클래스 변수였다면 둘 다 같은 값을 출력했어야 합니다.\n",
    "print(mura.namemul())"
   ]
  },
  {
   "cell_type": "code",
   "execution_count": 33,
   "metadata": {},
   "outputs": [
    {
     "name": "stdout",
     "output_type": "stream",
     "text": [
      "인사시작\n",
      "꽥꽥!\n",
      "인사끝\n",
      "인사시작\n",
      "안녕하세요!\n",
      "인사끝\n"
     ]
    }
   ],
   "source": [
    "class Duck:\n",
    "  def introduce(self):\n",
    "    print('꽥꽥!')\n",
    "\n",
    "class Person:\n",
    "  def introduce(self):\n",
    "    print('안녕하세요!')\n",
    "\n",
    "def introduce(obj):\n",
    "  print('인사시작')\n",
    "  obj.introduce()\n",
    "  print('인사끝')\n",
    "\n",
    "duck = Duck()\n",
    "person = Person()\n",
    "\n",
    "introduce(duck) # 꽥꽥\n",
    "introduce(person) # 안녕하세요\n",
    "\n",
    "# 장점1. 코드의 가독성이 좋아집니다. duck.introduce()이렇게 사용하지않고 introduce(duck)로 사용하게 되면 duck의 object 안을 들여다보지 않고 어느정도 기능을 유추할 수 있게 됩니다.\n",
    "# 장점2. 여러가지 obj를 하나의 함수에서 실행하며 커스터마이징도 가능합니다."
   ]
  },
  {
   "cell_type": "code",
   "execution_count": 37,
   "metadata": {},
   "outputs": [
    {
     "name": "stdout",
     "output_type": "stream",
     "text": [
      "h 움직임\n",
      "h 움직임\n",
      "v 움직임\n",
      "v 움직임\n",
      "m 움직임\n",
      "m 움직임\n"
     ]
    }
   ],
   "source": [
    "class Hero:\n",
    "  def move(self):\n",
    "    print('h 움직임')\n",
    "\n",
    "class Villain:\n",
    "  def move(self):\n",
    "    print('v 움직임')\n",
    "\n",
    "class Mob:\n",
    "  def move(self):\n",
    "    print('m 움직임')\n",
    "\n",
    "def move(obj):\n",
    "  obj.move()\n",
    "\n",
    "a = Hero()\n",
    "b = Villain()\n",
    "c = Mob()\n",
    "\n",
    "등장인물 = [a, b, c]\n",
    "\n",
    "for person in 등장인물:\n",
    "  move(person) # 강요도 아니고 권고도 아니고 취향에 따라 선택하시면 됩니다.\n",
    "  person.move() # 나는 이렇게 사용해야겠다 하시면 사용하시면 됩니다."
   ]
  },
  {
   "cell_type": "markdown",
   "metadata": {},
   "source": [
    "# 추상 클래스"
   ]
  },
  {
   "cell_type": "code",
   "execution_count": 75,
   "metadata": {},
   "outputs": [],
   "source": [
    "from abc import ABC, abstractmethod\n",
    "\n",
    "class Person:\n",
    "  def move(self):\n",
    "    pass\n",
    "\n",
    "class Hero(Person):\n",
    "  pass\n",
    "\n",
    "ironman = Hero()\n",
    "ironman.move()"
   ]
  },
  {
   "cell_type": "code",
   "execution_count": 40,
   "metadata": {},
   "outputs": [
    {
     "ename": "TypeError",
     "evalue": "Can't instantiate abstract class Hero with abstract method move",
     "output_type": "error",
     "traceback": [
      "\u001b[0;31m---------------------------------------------------------------------------\u001b[0m",
      "\u001b[0;31mTypeError\u001b[0m                                 Traceback (most recent call last)",
      "\u001b[1;32m/Users/pyeonhaesun/Desktop/ESTsoft_ormi3/ormi3_code/Python/오르미_3기_python5.ipynb 셀 60\u001b[0m line \u001b[0;36m1\n\u001b[1;32m      <a href='vscode-notebook-cell:/Users/pyeonhaesun/Desktop/ESTsoft_ormi3/ormi3_code/Python/%EC%98%A4%EB%A5%B4%EB%AF%B8_3%EA%B8%B0_python5.ipynb#Y113sZmlsZQ%3D%3D?line=8'>9</a>\u001b[0m \u001b[39mclass\u001b[39;00m \u001b[39mHero\u001b[39;00m(Person): \u001b[39m# 상속받은 자식에서 반드시 메서드 오버라이딩이 일어나야 합니다.\u001b[39;00m\n\u001b[1;32m     <a href='vscode-notebook-cell:/Users/pyeonhaesun/Desktop/ESTsoft_ormi3/ormi3_code/Python/%EC%98%A4%EB%A5%B4%EB%AF%B8_3%EA%B8%B0_python5.ipynb#Y113sZmlsZQ%3D%3D?line=9'>10</a>\u001b[0m   \u001b[39mpass\u001b[39;00m\n\u001b[0;32m---> <a href='vscode-notebook-cell:/Users/pyeonhaesun/Desktop/ESTsoft_ormi3/ormi3_code/Python/%EC%98%A4%EB%A5%B4%EB%AF%B8_3%EA%B8%B0_python5.ipynb#Y113sZmlsZQ%3D%3D?line=11'>12</a>\u001b[0m ironman \u001b[39m=\u001b[39m Hero()\n\u001b[1;32m     <a href='vscode-notebook-cell:/Users/pyeonhaesun/Desktop/ESTsoft_ormi3/ormi3_code/Python/%EC%98%A4%EB%A5%B4%EB%AF%B8_3%EA%B8%B0_python5.ipynb#Y113sZmlsZQ%3D%3D?line=12'>13</a>\u001b[0m ironman\u001b[39m.\u001b[39mmove()\n",
      "\u001b[0;31mTypeError\u001b[0m: Can't instantiate abstract class Hero with abstract method move"
     ]
    }
   ],
   "source": [
    "from abc import ABC, abstractmethod\n",
    "\n",
    "class Person(ABC): # ABC를 상속받고\n",
    "\n",
    "  @abstractmethod # abstractmethod라고 선언을 하면\n",
    "  def move(self):\n",
    "    pass\n",
    "\n",
    "class Hero(Person): # 상속받은 자식에서 반드시 메서드 오버라이딩이 일어나야 합니다.\n",
    "  pass\n",
    "\n",
    "ironman = Hero()\n",
    "ironman.move()"
   ]
  },
  {
   "cell_type": "code",
   "execution_count": 41,
   "metadata": {},
   "outputs": [
    {
     "name": "stdout",
     "output_type": "stream",
     "text": [
      "날아다님!\n"
     ]
    }
   ],
   "source": [
    "from abc import ABC, abstractmethod\n",
    "\n",
    "class Person(ABC): # ABC를 상속받고\n",
    "\n",
    "    @abstractmethod # abstractmethod라고 선언을 하면\n",
    "    def move(self):\n",
    "        pass\n",
    "\n",
    "\n",
    "class Hero(Person): # 상속받은 자식에서 반드시 메서드 오버라이딩이 일어나야 합니다.\n",
    "    def move(self):\n",
    "        print('날아다님!')\n",
    "\n",
    "ironman = Hero()\n",
    "ironman.move()"
   ]
  },
  {
   "cell_type": "markdown",
   "metadata": {},
   "source": [
    "# 비공개 속성"
   ]
  },
  {
   "cell_type": "code",
   "execution_count": 78,
   "metadata": {},
   "outputs": [
    {
     "name": "stdout",
     "output_type": "stream",
     "text": [
      "10\n",
      "30\n"
     ]
    }
   ],
   "source": [
    "# 비공개 속성이 조작 불가능한게 아닙니다!\n",
    "class MyClass:\n",
    "    __a = 10\n",
    "    _a = 100\n",
    "    b = 20\n",
    "\n",
    "    def __init__(self, c, d):\n",
    "        self.__c = c\n",
    "        self.d = d\n",
    "\n",
    "# MyClass.__a #error\n",
    "test = MyClass(30, 40)\n",
    "# test.__a #error 오!? 접근이 가능하지 않네 => 오해입니다.\n",
    "print(test._MyClass__a) # 이렇게 접근은 가능\n",
    "print(test._MyClass__c)"
   ]
  },
  {
   "cell_type": "code",
   "execution_count": 81,
   "metadata": {},
   "outputs": [
    {
     "name": "stdout",
     "output_type": "stream",
     "text": [
      "9000\n",
      "90000\n"
     ]
    }
   ],
   "source": [
    "# 비공개 속성이 조작 불가능한게 아닙니다!\n",
    "class MyClass:\n",
    "    __a = 10\n",
    "    _a = 100\n",
    "    b = 20\n",
    "\n",
    "    def __init__(self, c, d):\n",
    "        self.__c = c\n",
    "        self.d = d\n",
    "\n",
    "# MyClass.__a\n",
    "test = MyClass(30, 40)\n",
    "# test.__a # 오!? 접근이 가능하지 않네 => 오해입니다.\n",
    "test._a # 100\n",
    "test._MyClass__a = 9000\n",
    "test._MyClass__c = 90000\n",
    "\n",
    "print(test._MyClass__a)\n",
    "print(test._MyClass__c)"
   ]
  },
  {
   "cell_type": "markdown",
   "metadata": {},
   "source": [
    "# 모듈\n",
    "\n",
    "- jun.py파일 작성 후 아래와 같이 입력해주세요.\n",
    "```python\n",
    "name = 'leehojun'\n",
    "age = 10\n",
    "\n",
    "def hello():\n",
    "  return 'hello world'\n",
    "```"
   ]
  },
  {
   "cell_type": "code",
   "execution_count": 48,
   "metadata": {},
   "outputs": [
    {
     "data": {
      "text/plain": [
       "'hello world'"
      ]
     },
     "execution_count": 48,
     "metadata": {},
     "output_type": "execute_result"
    }
   ],
   "source": [
    "import jun # 여기서 jun이 모듈입니다.\n",
    "\n",
    "jun.name # 변수를 호출할 수도 있고\n",
    "jun.hello() # 함수를 호출할 수도 있습니다."
   ]
  },
  {
   "cell_type": "code",
   "execution_count": 50,
   "metadata": {},
   "outputs": [
    {
     "name": "stdout",
     "output_type": "stream",
     "text": [
      "juni\n",
      "20\n"
     ]
    }
   ],
   "source": [
    "from jun import name, age # 이것도 많이 사용합니다.\n",
    "from juni import name, age #이럴때 누구를 부른건지 모름\n",
    "\n",
    "# 그러나 저는 이 문법을 좋아하지 않습니다.\n",
    "# 그러나 이 문법은 정말 많이 사용되는 문법입니다.\n",
    "\n",
    "print(name) # 여기의 이름은 누구인가요? juni\n",
    "print(age) # 여기의 나이는 누구죠? juni"
   ]
  },
  {
   "cell_type": "code",
   "execution_count": 51,
   "metadata": {},
   "outputs": [
    {
     "name": "stdout",
     "output_type": "stream",
     "text": [
      "leehojun\n"
     ]
    }
   ],
   "source": [
    "from jun import name as n # 이렇게도 사용 가능하고\n",
    "\n",
    "print(n)"
   ]
  },
  {
   "cell_type": "code",
   "execution_count": 52,
   "metadata": {},
   "outputs": [
    {
     "data": {
      "text/plain": [
       "'leehojun'"
      ]
     },
     "execution_count": 52,
     "metadata": {},
     "output_type": "execute_result"
    }
   ],
   "source": [
    "import jun as j # 이렇게도 사용 가능합니다.\n",
    "\n",
    "j.name"
   ]
  },
  {
   "cell_type": "code",
   "execution_count": null,
   "metadata": {},
   "outputs": [],
   "source": [
    "import pandas as pd # 데이터 분석 모듈\n",
    "import numpy as np # 수학 관련 모듈"
   ]
  },
  {
   "cell_type": "code",
   "execution_count": 53,
   "metadata": {},
   "outputs": [
    {
     "name": "stdout",
     "output_type": "stream",
     "text": [
      "<module 'a' (<_frozen_importlib_external.NamespaceLoader object at 0x1088a3a10>)>\n"
     ]
    }
   ],
   "source": [
    "import a # 폴더가 있기 때문에 에러가 안난겁니다.\n",
    "\n",
    "print(a)\n",
    "# print(a.b.c) # error 이렇게 접근할 수는 없습니다."
   ]
  },
  {
   "cell_type": "code",
   "execution_count": 56,
   "metadata": {},
   "outputs": [
    {
     "name": "stdout",
     "output_type": "stream",
     "text": [
      "<module 'a.b.c.licat' from '/Users/pyeonhaesun/Desktop/ESTsoft_ormi3/ormi3_code/Python/a/b/c/licat.py'>\n",
      "licat\n",
      "3\n"
     ]
    }
   ],
   "source": [
    "import a.b.c.licat\n",
    "\n",
    "# print(licat)\n",
    "print(a.b.c.licat)\n",
    "print(a.b.c.licat.name)\n",
    "print(a.b.c.licat.age)"
   ]
  },
  {
   "cell_type": "code",
   "execution_count": 54,
   "metadata": {},
   "outputs": [
    {
     "name": "stdout",
     "output_type": "stream",
     "text": [
      "<module 'a.b.c.licat' from '/Users/pyeonhaesun/Desktop/ESTsoft_ormi3/ormi3_code/Python/a/b/c/licat.py'>\n",
      "licat\n",
      "3\n"
     ]
    }
   ],
   "source": [
    "import a.b.c.licat as cat\n",
    "\n",
    "print(cat)\n",
    "print(cat.name)\n",
    "print(cat.age)"
   ]
  },
  {
   "cell_type": "code",
   "execution_count": 58,
   "metadata": {},
   "outputs": [
    {
     "name": "stdout",
     "output_type": "stream",
     "text": [
      "<module 'a.b.c.licat' from '/Users/pyeonhaesun/Desktop/ESTsoft_ormi3/ormi3_code/Python/a/b/c/licat.py'>\n",
      "licat\n",
      "3\n"
     ]
    }
   ],
   "source": [
    "# 일반적으로 아래와 같이 사용합니다.\n",
    "# from은 폴더 import는 모듈\n",
    "from a.b.c import licat\n",
    "\n",
    "print(licat)\n",
    "print(licat.name)\n",
    "print(licat.age)"
   ]
  },
  {
   "cell_type": "code",
   "execution_count": 1,
   "metadata": {},
   "outputs": [
    {
     "name": "stdout",
     "output_type": "stream",
     "text": [
      "zsh:1: /usr/local/bin/pip: bad interpreter: /usr/local/opt/python/bin/python3.7: no such file or directory\n",
      "Package                            Version\n",
      "---------------------------------- --------------\n",
      "absl-py                            1.2.0\n",
      "aiohttp                            3.8.3\n",
      "aiosignal                          1.2.0\n",
      "alabaster                          0.7.12\n",
      "alembic                            1.8.1\n",
      "anaconda-client                    1.7.2\n",
      "anaconda-navigator                 2.0.3\n",
      "anaconda-project                   0.9.1\n",
      "ansi2html                          1.8.0\n",
      "antlr4-python3-runtime             4.9.3\n",
      "anyio                              3.5.0\n",
      "appdirs                            1.4.4\n",
      "applaunchservices                  0.3.0\n",
      "appnope                            0.1.2\n",
      "appscript                          1.1.2\n",
      "argh                               0.26.2\n",
      "argon2-cffi                        21.3.0\n",
      "argon2-cffi-bindings               21.2.0\n",
      "asn1crypto                         1.5.1\n",
      "astroid                            2.11.7\n",
      "astropy                            4.2.1\n",
      "asttokens                          2.0.5\n",
      "astunparse                         1.6.3\n",
      "async-generator                    1.10\n",
      "async-timeout                      4.0.2\n",
      "atomicwrites                       1.4.0\n",
      "attrs                              21.4.0\n",
      "Babel                              2.9.1\n",
      "backcall                           0.2.0\n",
      "backports.entry-points-selectable  1.1.0\n",
      "backports.functools-lru-cache      1.6.4\n",
      "backports.shutil-get-terminal-size 1.0.0\n",
      "backports.tempfile                 1.0\n",
      "backports.weakref                  1.0.post1\n",
      "beautifulsoup4                     4.11.1\n",
      "bitarray                           2.5.1\n",
      "bkcharts                           0.2\n",
      "black                              22.6.0\n",
      "bleach                             3.3.0\n",
      "blis                               0.7.9\n",
      "bokeh                              2.3.2\n",
      "Boruta                             0.3\n",
      "boto                               2.49.0\n",
      "Bottleneck                         1.3.2\n",
      "Brotli                             1.0.9\n",
      "brotlipy                           0.7.0\n",
      "cachetools                         5.2.0\n",
      "catalogue                          1.0.2\n",
      "catboost                           1.1.1\n",
      "category-encoders                  2.5.1.post0\n",
      "certifi                            2022.9.24\n",
      "cffi                               1.15.1\n",
      "chardet                            4.0.0\n",
      "charset-normalizer                 2.0.4\n",
      "click                              8.0.4\n",
      "click-plugins                      1.1.1\n",
      "cligj                              0.7.2\n",
      "clikit                             0.6.2\n",
      "cloudpickle                        2.0.0\n",
      "clyent                             1.2.2\n",
      "cmdstanpy                          1.0.4\n",
      "colorama                           0.4.5\n",
      "colorlover                         0.3.0\n",
      "conda                              22.9.0\n",
      "conda-build                        3.21.9\n",
      "conda-content-trust                0.1.3\n",
      "conda-package-handling             1.9.0\n",
      "conda-repo-cli                     1.0.4\n",
      "conda-token                        0.3.0\n",
      "conda-verify                       3.4.2\n",
      "contextlib2                        21.6.0\n",
      "convertdate                        2.4.0\n",
      "crashtest                          0.3.1\n",
      "cryptography                       38.0.1\n",
      "cufflinks                          0.17.3\n",
      "cvxopt                             1.2.6\n",
      "cvxpy                              1.1.3\n",
      "cycler                             0.11.0\n",
      "cymem                              2.0.7\n",
      "Cython                             0.29.32\n",
      "cytoolz                            0.11.0\n",
      "darts                              0.22.0\n",
      "dash                               2.7.0\n",
      "dash-core-components               2.0.0\n",
      "dash-html-components               2.0.0\n",
      "dash-table                         5.0.0\n",
      "dask                               2021.4.0\n",
      "databricks-cli                     0.17.3\n",
      "debugpy                            1.5.1\n",
      "decorator                          5.1.1\n",
      "defusedxml                         0.7.1\n",
      "Deprecated                         1.2.13\n",
      "dgl                                0.9.1\n",
      "diff-match-patch                   20200713\n",
      "dill                               0.3.4\n",
      "distlib                            0.3.3\n",
      "distributed                        2021.4.1\n",
      "docker                             6.0.1\n",
      "docutils                           0.17.1\n",
      "ecos                               0.0.0\n",
      "entrypoints                        0.4\n",
      "ephem                              4.1.3\n",
      "et-xmlfile                         1.1.0\n",
      "executing                          0.8.3\n",
      "fastcache                          1.1.0\n",
      "filelock                           3.6.0\n",
      "Fiona                              1.8.20\n",
      "fire                               0.4.0\n",
      "flake8                             3.8.4\n",
      "Flask                              1.1.2\n",
      "Flask-Cors                         3.0.10\n",
      "flatbuffers                        22.9.24\n",
      "frozenlist                         1.3.1\n",
      "fsspec                             2022.7.1\n",
      "funcy                              1.16\n",
      "future                             0.18.2\n",
      "gast                               0.4.0\n",
      "gensim                             3.8.3\n",
      "geopandas                          0.10.2\n",
      "gevent                             21.8.0\n",
      "gitdb                              4.0.9\n",
      "GitPython                          3.1.29\n",
      "glob2                              0.7\n",
      "gmpy2                              2.1.2\n",
      "google-auth                        2.12.0\n",
      "google-auth-oauthlib               0.4.6\n",
      "google-pasta                       0.2.0\n",
      "graphviz                           0.20.1\n",
      "greenlet                           1.1.1\n",
      "grpcio                             1.49.1\n",
      "gunicorn                           20.1.0\n",
      "h5py                               2.10.0\n",
      "HeapDict                           1.0.1\n",
      "helpdev                            0.7.1\n",
      "hijri-converter                    2.2.4\n",
      "holidays                           0.16\n",
      "html5lib                           1.1\n",
      "htmlmin                            0.1.12\n",
      "httpstan                           4.8.2\n",
      "idna                               3.4\n",
      "ImageHash                          4.3.1\n",
      "imageio                            2.9.0\n",
      "imagesize                          1.4.1\n",
      "imbalanced-learn                   0.9.1\n",
      "importlib-metadata                 3.10.0\n",
      "importlib-resources                5.10.0\n",
      "iniconfig                          1.1.1\n",
      "intervaltree                       3.1.0\n",
      "ipykernel                          6.15.2\n",
      "ipython                            8.4.0\n",
      "ipython-genutils                   0.2.0\n",
      "ipywidgets                         8.0.2\n",
      "isort                              5.9.3\n",
      "itsdangerous                       2.0.1\n",
      "jdcal                              1.4.1\n",
      "jedi                               0.17.2\n",
      "Jinja2                             2.11.3\n",
      "joblib                             1.2.0\n",
      "JPype1                             1.3.0\n",
      "json5                              0.9.6\n",
      "jsonschema                         3.2.0\n",
      "jupyter                            1.0.0\n",
      "jupyter_client                     7.3.5\n",
      "jupyter-console                    6.4.3\n",
      "jupyter-contrib-core               0.3.3\n",
      "jupyter-contrib-nbextensions       0.5.1\n",
      "jupyter_core                       4.11.1\n",
      "jupyter-dash                       0.4.2\n",
      "jupyter-highlight-selected-word    0.2.0\n",
      "jupyter-latex-envs                 1.4.6\n",
      "jupyter-nbextensions-configurator  0.4.1\n",
      "jupyter-packaging                  0.7.12\n",
      "jupyter-server                     1.4.1\n",
      "jupyterlab                         3.0.14\n",
      "jupyterlab-pygments                0.1.2\n",
      "jupyterlab-server                  2.4.0\n",
      "jupyterlab-widgets                 3.0.3\n",
      "kaleido                            0.2.1\n",
      "keras                              2.10.0\n",
      "Keras-Preprocessing                1.1.2\n",
      "keyring                            23.4.0\n",
      "kiwisolver                         1.4.2\n",
      "kmodes                             0.12.2\n",
      "konlpy                             0.5.2\n",
      "korean-lunar-calendar              0.3.1\n",
      "lazy-object-proxy                  1.6.0\n",
      "libarchive-c                       2.9\n",
      "libclang                           14.0.6\n",
      "lightgbm                           3.2.1\n",
      "lightning-utilities                0.3.0\n",
      "llvmlite                           0.38.1\n",
      "locket                             1.0.0\n",
      "LunarCalendar                      0.0.9\n",
      "lxml                               4.9.1\n",
      "Mako                               1.2.4\n",
      "Markdown                           3.4.1\n",
      "MarkupSafe                         2.0.1\n",
      "marshmallow                        3.18.0\n",
      "matplotlib                         3.3.4\n",
      "matplotlib-inline                  0.1.6\n",
      "mccabe                             0.6.1\n",
      "mecab-python                       0.996-ko-0.9.2\n",
      "missingno                          0.5.0\n",
      "mistune                            0.8.4\n",
      "mkl-fft                            1.3.0\n",
      "mkl-random                         1.2.1\n",
      "mkl-service                        2.4.0\n",
      "mlflow                             2.0.1\n",
      "mlxtend                            0.19.0\n",
      "mock                               4.0.3\n",
      "more-itertools                     8.12.0\n",
      "mpmath                             1.2.1\n",
      "msgpack                            1.0.3\n",
      "multidict                          6.0.2\n",
      "multimethod                        1.9\n",
      "multipledispatch                   0.6.0\n",
      "multiprocess                       0.70.12.2\n",
      "munch                              2.5.0\n",
      "murmurhash                         1.0.9\n",
      "mutagen                            1.46.0\n",
      "mypy-extensions                    0.4.3\n",
      "mysqlclient                        2.0.3\n",
      "navigator-updater                  0.2.1\n",
      "nbclassic                          0.2.6\n",
      "nbclient                           0.5.3\n",
      "nbconvert                          6.0.7\n",
      "nbformat                           5.1.3\n",
      "nest-asyncio                       1.5.5\n",
      "networkx                           2.8.4\n",
      "neuralprophet                      0.4.2\n",
      "nfoursid                           1.0.1\n",
      "nltk                               3.7\n",
      "nose                               1.3.7\n",
      "notebook                           6.3.0\n",
      "numba                              0.55.2\n",
      "numexpr                            2.7.3\n",
      "numpy                              1.22.4\n",
      "numpydoc                           1.1.0\n",
      "oauthlib                           3.1.1\n",
      "olefile                            0.46\n",
      "omegaconf                          2.2.3\n",
      "opencv-python                      4.5.4.58\n",
      "openpyxl                           3.0.10\n",
      "opt-einsum                         3.3.0\n",
      "orjson                             3.8.1\n",
      "osqp                               0.6.1\n",
      "packaging                          21.3\n",
      "pandas                             1.4.4\n",
      "pandas-profiling                   3.4.0\n",
      "pandocfilters                      1.5.0\n",
      "parso                              0.7.0\n",
      "partd                              1.2.0\n",
      "pastel                             0.2.1\n",
      "path                               16.2.0\n",
      "pathlib2                           2.3.6\n",
      "pathspec                           0.9.0\n",
      "pathtools                          0.1.2\n",
      "patsy                              0.5.2\n",
      "pep8                               1.7.1\n",
      "pexpect                            4.8.0\n",
      "pgmpy                              0.1.16\n",
      "phik                               0.12.2\n",
      "pickleshare                        0.7.5\n",
      "Pillow                             9.2.0\n",
      "pip                                22.2.2\n",
      "pkginfo                            1.8.3\n",
      "plac                               1.1.3\n",
      "platformdirs                       2.4.0\n",
      "plotly                             5.11.0\n",
      "plotly-resampler                   0.8.2\n",
      "pluggy                             0.13.1\n",
      "ply                                3.11\n",
      "pmdarima                           1.8.5\n",
      "preshed                            3.0.8\n",
      "prometheus-client                  0.14.1\n",
      "prompt-toolkit                     3.0.20\n",
      "prophet                            1.1.1\n",
      "protobuf                           3.19.6\n",
      "psutil                             5.9.0\n",
      "ptyprocess                         0.7.0\n",
      "pure-eval                          0.2.2\n",
      "py                                 1.11.0\n",
      "pyarrow                            10.0.0\n",
      "pyasn1                             0.4.8\n",
      "pyasn1-modules                     0.2.8\n",
      "pycaret                            3.0.0rc4\n",
      "pycodestyle                        2.11.0\n",
      "pycosat                            0.6.3\n",
      "pycparser                          2.21\n",
      "pycryptodomex                      3.17\n",
      "pycurl                             7.45.1\n",
      "pydantic                           1.10.2\n",
      "pydocstyle                         6.1.1\n",
      "pyerfa                             1.7.3\n",
      "pyflakes                           2.2.0\n",
      "Pygments                           2.11.2\n",
      "PyJWT                              2.6.0\n",
      "pyLDAvis                           3.2.2\n",
      "pylev                              1.4.0\n",
      "pylint                             2.14.5\n",
      "pyls-black                         0.4.6\n",
      "pyls-spyder                        0.3.2\n",
      "PyMeeus                            0.5.11\n",
      "pynndescent                        0.5.8\n",
      "pyobjc-core                        8.5\n",
      "pyobjc-framework-Cocoa             8.5\n",
      "pyobjc-framework-CoreServices      8.5\n",
      "pyobjc-framework-FSEvents          8.5\n",
      "pyod                               1.0.6\n",
      "pyodbc                             4.0.34\n",
      "pyOpenSSL                          22.0.0\n",
      "pyparsing                          3.0.9\n",
      "pyproj                             3.2.1\n",
      "PyQt5                              5.12.3\n",
      "PyQt5-sip                          12.11.0\n",
      "PyQtWebEngine                      5.12.1\n",
      "pyrsistent                         0.18.0\n",
      "pysimdjson                         3.2.0\n",
      "PySocks                            1.7.1\n",
      "pystan                             3.5.0\n",
      "pytest                             6.2.3\n",
      "python-dateutil                    2.8.2\n",
      "python-jsonrpc-server              0.4.0\n",
      "python-language-server             0.36.2\n",
      "pytorch-lightning                  1.8.1\n",
      "pytz                               2022.1\n",
      "PyWavelets                         1.1.1\n",
      "PyYAML                             5.4.1\n",
      "pyzmq                              23.2.0\n",
      "QDarkStyle                         2.8.1\n",
      "QtAwesome                          1.0.3\n",
      "qtconsole                          5.3.2\n",
      "QtPy                               2.2.0\n",
      "querystring-parser                 1.2.4\n",
      "regex                              2022.7.9\n",
      "requests                           2.28.1\n",
      "requests-oauthlib                  1.3.0\n",
      "retrying                           1.3.3\n",
      "rope                               0.22.0\n",
      "rsa                                4.9\n",
      "Rtree                              0.9.7\n",
      "ruamel.yaml                        0.17.21\n",
      "ruamel.yaml.clib                   0.2.7\n",
      "ruamel-yaml-conda                  0.15.100\n",
      "schemdraw                          0.15\n",
      "scikit-image                       0.18.1\n",
      "scikit-learn                       1.1.3\n",
      "scikit-plot                        0.3.7\n",
      "scipy                              1.7.3\n",
      "scs                                2.1.4\n",
      "seaborn                            0.11.1\n",
      "Send2Trash                         1.8.0\n",
      "setuptools                         65.4.0\n",
      "setuptools-git                     1.2\n",
      "shap                               0.41.0\n",
      "Shapely                            1.8.0\n",
      "simplegeneric                      0.8.1\n",
      "singledispatch                     3.7.0\n",
      "six                                1.16.0\n",
      "sklearn                            0.0\n",
      "sktime                             0.13.4\n",
      "slicer                             0.0.7\n",
      "smart-open                         5.2.1\n",
      "smmap                              5.0.0\n",
      "sniffio                            1.2.0\n",
      "snowballstemmer                    2.2.0\n",
      "sortedcollections                  2.1.0\n",
      "sortedcontainers                   2.4.0\n",
      "soupsieve                          2.3.2.post1\n",
      "soynlp                             0.0.493\n",
      "spacy                              2.3.8\n",
      "Sphinx                             4.0.1\n",
      "sphinxcontrib-applehelp            1.0.2\n",
      "sphinxcontrib-devhelp              1.0.2\n",
      "sphinxcontrib-htmlhelp             2.0.0\n",
      "sphinxcontrib-jsmath               1.0.1\n",
      "sphinxcontrib-qthelp               1.0.3\n",
      "sphinxcontrib-serializinghtml      1.1.5\n",
      "sphinxcontrib-websupport           1.2.4\n",
      "spyder                             4.2.5\n",
      "spyder-kernels                     1.10.2\n",
      "SQLAlchemy                         1.4.39\n",
      "sqlparse                           0.4.3\n",
      "srsly                              1.0.6\n",
      "stack-data                         0.2.0\n",
      "statsforecast                      1.3.0\n",
      "statsmodels                        0.12.2\n",
      "sympy                              1.10.1\n",
      "tables                             3.6.1\n",
      "tabulate                           0.9.0\n",
      "tangled-up-in-unicode              0.2.0\n",
      "tbats                              1.1.1\n",
      "tblib                              1.7.0\n",
      "tenacity                           8.0.1\n",
      "tensorboard                        2.10.1\n",
      "tensorboard-data-server            0.6.1\n",
      "tensorboard-plugin-wit             1.8.1\n",
      "tensorflow                         2.10.0\n",
      "tensorflow-estimator               2.10.0\n",
      "tensorflow-io-gcs-filesystem       0.27.0\n",
      "termcolor                          2.0.1\n",
      "terminado                          0.13.1\n",
      "testpath                           0.6.0\n",
      "textblob                           0.17.1\n",
      "textdistance                       4.2.1\n",
      "thinc                              7.4.6\n",
      "threadpoolctl                      2.2.0\n",
      "three-merge                        0.1.1\n",
      "tifffile                           2020.10.1\n",
      "toml                               0.10.2\n",
      "tomli                              2.0.1\n",
      "tomlkit                            0.11.1\n",
      "toolz                              0.11.2\n",
      "torch                              1.9.1\n",
      "torch-lr-finder                    0.2.1\n",
      "torchmetrics                       0.10.3\n",
      "tornado                            6.2\n",
      "tqdm                               4.64.1\n",
      "trace-updater                      0.0.9\n",
      "traitlets                          5.1.1\n",
      "tweepy                             3.10.0\n",
      "typed-ast                          1.4.2\n",
      "typing_extensions                  4.3.0\n",
      "ujson                              5.4.0\n",
      "umap-learn                         0.5.3\n",
      "unicodecsv                         0.14.1\n",
      "urllib3                            1.26.12\n",
      "virtualenv                         20.8.1\n",
      "visions                            0.7.5\n",
      "wasabi                             0.10.1\n",
      "watchdog                           1.0.2\n",
      "wcwidth                            0.2.5\n",
      "webargs                            8.2.0\n",
      "webencodings                       0.5.1\n",
      "websocket-client                   1.4.2\n",
      "websockets                         10.4\n",
      "Werkzeug                           2.0.3\n",
      "wheel                              0.37.1\n",
      "widgetsnbextension                 4.0.3\n",
      "wordcloud                          1.8.1\n",
      "wrapt                              1.14.1\n",
      "wurlitzer                          3.0.2\n",
      "xarray                             2022.11.0\n",
      "xgboost                            1.3.3\n",
      "xlrd                               2.0.1\n",
      "XlsxWriter                         3.0.3\n",
      "xlwings                            0.27.15\n",
      "xlwt                               1.3.0\n",
      "xmltodict                          0.12.0\n",
      "yapf                               0.31.0\n",
      "yarl                               1.8.1\n",
      "yellowbrick                        1.5\n",
      "yt-dlp                             2023.2.17\n",
      "zict                               2.1.0\n",
      "zipp                               3.8.0\n",
      "zope.event                         4.5.0\n",
      "zope.interface                     5.4.0\n"
     ]
    }
   ],
   "source": [
    "!pip list # colab이 정말 많은 모듈이 설치되어 있습니다. 그래서 정말 좋습니다."
   ]
  },
  {
   "cell_type": "code",
   "execution_count": 2,
   "metadata": {},
   "outputs": [
    {
     "data": {
      "text/plain": [
       "['/Users/pyeonhaesun/Desktop/ESTsoft_ormi3/ormi3_code/Python',\n",
       " '/usr/local/Cellar/python@3.11/3.11.4_1/Frameworks/Python.framework/Versions/3.11/lib/python311.zip',\n",
       " '/usr/local/Cellar/python@3.11/3.11.4_1/Frameworks/Python.framework/Versions/3.11/lib/python3.11',\n",
       " '/usr/local/Cellar/python@3.11/3.11.4_1/Frameworks/Python.framework/Versions/3.11/lib/python3.11/lib-dynload',\n",
       " '',\n",
       " '/Users/pyeonhaesun/Library/Python/3.11/lib/python/site-packages',\n",
       " '/usr/local/lib/python3.11/site-packages']"
      ]
     },
     "execution_count": 2,
     "metadata": {},
     "output_type": "execute_result"
    }
   ],
   "source": [
    "import sys\n",
    "sys.path"
   ]
  },
  {
   "cell_type": "markdown",
   "metadata": {},
   "source": [
    "# 연습문제"
   ]
  },
  {
   "cell_type": "code",
   "execution_count": 5,
   "metadata": {},
   "outputs": [
    {
     "name": "stdout",
     "output_type": "stream",
     "text": [
      "8\n",
      "3\n",
      "24\n",
      "3.0\n",
      "False\n",
      "True\n"
     ]
    }
   ],
   "source": [
    "# 아래와 같은 기능을 하는 모듈 또는 패키지를 만들어주세요.\n",
    "# 파일 또는 폴더로 만드셔야 합니다!\n",
    "# add(a, b), sub(a, b), mul(a, b), div(a, b)\n",
    "# _and(a, b), _or(a, b) 다 하신 분 중 시간이 조금 남으신 분은 요것도 해보세요.\n",
    "\n",
    "#구분해서 저장하는 것이 왜 중요하냐면 유지보수를 좀 더 편리하게 할 수 있습니다.\n",
    "from operation import arithmetic_operation as ao, logical_operation as lo\n",
    "\n",
    "print(ao.add(1, 7))\n",
    "print(ao.sub(5, 2))\n",
    "print(ao.mul(6, 4))\n",
    "print(ao.div(9, 3))\n",
    "\n",
    "print(lo._and(True, False))\n",
    "print(lo._or(True, False))\n",
    "\n"
   ]
  },
  {
   "cell_type": "code",
   "execution_count": null,
   "metadata": {},
   "outputs": [],
   "source": [
    "# 450,000개 이상의 Python 패키지, 45만개의 바퀴\n",
    "# PyPI(Python Package Index)\n",
    "# https://pypi.org/search/?q=pandas&o="
   ]
  },
  {
   "cell_type": "code",
   "execution_count": 6,
   "metadata": {},
   "outputs": [],
   "source": [
    "import sys\n",
    "sys.path.append('./a/b/c/') #.py파일을 찾을 경로"
   ]
  },
  {
   "cell_type": "code",
   "execution_count": 7,
   "metadata": {},
   "outputs": [
    {
     "data": {
      "text/plain": [
       "'licat'"
      ]
     },
     "execution_count": 7,
     "metadata": {},
     "output_type": "execute_result"
    }
   ],
   "source": [
    "import licat\n",
    "\n",
    "licat.name\n"
   ]
  },
  {
   "cell_type": "markdown",
   "metadata": {},
   "source": [
    "# 부록 - 많이 사용하는 모듈"
   ]
  },
  {
   "cell_type": "code",
   "execution_count": 86,
   "metadata": {},
   "outputs": [
    {
     "data": {
      "text/plain": [
       "['jun.py', 'juni.py', 'test.py']"
      ]
     },
     "execution_count": 86,
     "metadata": {},
     "output_type": "execute_result"
    }
   ],
   "source": [
    "import glob\n",
    "\n",
    "glob.glob('./*.py') # ['./jun.py', './juni.py', './test.py']\n",
    "glob.glob('./*/*.py') # ['./operation/logical_operation.py', './operation/arithmetic_operation.py']\n",
    "glob.glob('./???.py') # ['./jun.py']\n",
    "glob.glob('./ju??.py') # ['./juni.py']"
   ]
  },
  {
   "cell_type": "code",
   "execution_count": 9,
   "metadata": {},
   "outputs": [
    {
     "data": {
      "text/plain": [
       "'/Users/pyeonhaesun/Desktop/ESTsoft_ormi3/ormi3_code/Python'"
      ]
     },
     "execution_count": 9,
     "metadata": {},
     "output_type": "execute_result"
    }
   ],
   "source": [
    "import os\n",
    "os.getcwd()\n",
    "# glob라는 모듈이 폴더 찾고, 파일 찾고 하는 것에는 더 좋습니다."
   ]
  },
  {
   "cell_type": "code",
   "execution_count": 10,
   "metadata": {},
   "outputs": [
    {
     "name": "stdout",
     "output_type": "stream",
     "text": [
      "./jun.py\n",
      "./juni.py\n",
      "./test.py\n",
      "./오르미_3기_python1.ipynb\n",
      "./오르미_3기_python3.ipynb\n",
      "./오르미_3기_python5.ipynb\n",
      "./오르미_3기_python2.ipynb\n",
      "./오르미_3기_python4.ipynb\n",
      "./operation/logical_operation.py\n",
      "./operation/arithmetic_operation.py\n",
      "./operation/__pycache__/logical_operation.cpython-311.pyc\n",
      "./operation/__pycache__/arithmetic_operation.cpython-311.pyc\n",
      "./__pycache__/juni.cpython-311.pyc\n",
      "./__pycache__/cal.cpython-311.pyc\n",
      "./__pycache__/jun.cpython-311.pyc\n",
      "./a/b/c/licat.py\n",
      "./a/b/c/__pycache__/licat.cpython-311.pyc\n"
     ]
    }
   ],
   "source": [
    "for current_directory, dirs, files in os.walk('./'):\n",
    "    for f in files:\n",
    "        print(os.path.join(current_directory, f))"
   ]
  },
  {
   "cell_type": "code",
   "execution_count": null,
   "metadata": {},
   "outputs": [],
   "source": [
    "# os.mkdir()\n",
    "# os.rename()\n",
    "# os.remove()\n"
   ]
  },
  {
   "cell_type": "code",
   "execution_count": 89,
   "metadata": {},
   "outputs": [
    {
     "name": "stdout",
     "output_type": "stream",
     "text": [
      "['/Users/pyeonhaesun/Desktop/ESTsoft_ormi3/ormi3_code/Python', '/usr/local/Cellar/python@3.11/3.11.4_1/Frameworks/Python.framework/Versions/3.11/lib/python311.zip', '/usr/local/Cellar/python@3.11/3.11.4_1/Frameworks/Python.framework/Versions/3.11/lib/python3.11', '/usr/local/Cellar/python@3.11/3.11.4_1/Frameworks/Python.framework/Versions/3.11/lib/python3.11/lib-dynload', '', '/Users/pyeonhaesun/Library/Python/3.11/lib/python/site-packages', '/usr/local/lib/python3.11/site-packages', './a/b/c/']\n"
     ]
    },
    {
     "data": {
      "text/plain": [
       "4"
      ]
     },
     "execution_count": 89,
     "metadata": {},
     "output_type": "execute_result"
    }
   ],
   "source": [
    "import sys\n",
    "\n",
    "a = [1, 2, 3]\n",
    "b = a\n",
    "c = a\n",
    "# sys.getsizeof()\n",
    "print(sys.path)\n",
    "sys.getrefcount(a) #개체참조횟수"
   ]
  },
  {
   "cell_type": "code",
   "execution_count": 13,
   "metadata": {},
   "outputs": [
    {
     "data": {
      "text/plain": [
       "2"
      ]
     },
     "execution_count": 13,
     "metadata": {},
     "output_type": "execute_result"
    }
   ],
   "source": [
    "a = [1, 2, 3, 4]\n",
    "sys.getrefcount(a) #a가참조, 시스템이참조"
   ]
  },
  {
   "cell_type": "code",
   "execution_count": 14,
   "metadata": {},
   "outputs": [
    {
     "data": {
      "text/plain": [
       "9223372036854775807"
      ]
     },
     "execution_count": 14,
     "metadata": {},
     "output_type": "execute_result"
    }
   ],
   "source": [
    "sys.maxsize #python 3.x에서는 사용할 일이 거의 없어요."
   ]
  },
  {
   "cell_type": "code",
   "execution_count": 20,
   "metadata": {},
   "outputs": [
    {
     "name": "stdout",
     "output_type": "stream",
     "text": [
      "2023-09-19 14:10:00\n"
     ]
    }
   ],
   "source": [
    "import datetime\n",
    "\n",
    "s = datetime.datetime(2023, 9, 19, 14, 10)\n",
    "print(s)"
   ]
  },
  {
   "cell_type": "code",
   "execution_count": 26,
   "metadata": {},
   "outputs": [
    {
     "data": {
      "text/plain": [
       "(2023, 9, 19, 14, 10)"
      ]
     },
     "execution_count": 26,
     "metadata": {},
     "output_type": "execute_result"
    }
   ],
   "source": [
    "s.year, s.month, s.day, s.hour, s.minute"
   ]
  },
  {
   "cell_type": "code",
   "execution_count": 27,
   "metadata": {},
   "outputs": [
    {
     "data": {
      "text/plain": [
       "0"
      ]
     },
     "execution_count": 27,
     "metadata": {},
     "output_type": "execute_result"
    }
   ],
   "source": [
    "s = datetime.datetime(2023, 9, 18, 14, 10)\n",
    "s.weekday() # 월요일0, 화요일1, 수요일2, ... 일요일6"
   ]
  },
  {
   "cell_type": "code",
   "execution_count": 90,
   "metadata": {},
   "outputs": [
    {
     "data": {
      "text/plain": [
       "datetime.date(2023, 9, 19)"
      ]
     },
     "execution_count": 90,
     "metadata": {},
     "output_type": "execute_result"
    }
   ],
   "source": [
    "today = datetime.date.today()\n",
    "today"
   ]
  },
  {
   "cell_type": "code",
   "execution_count": 97,
   "metadata": {},
   "outputs": [
    {
     "data": {
      "text/plain": [
       "datetime.date(2023, 12, 28)"
      ]
     },
     "execution_count": 97,
     "metadata": {},
     "output_type": "execute_result"
    }
   ],
   "source": [
    "graduation_date = datetime.datetime(2023, 12, 29, 18, 00)\n",
    "today = datetime.date.today()\n",
    "days = datetime.timedelta(days=100)\n",
    "today + days"
   ]
  },
  {
   "cell_type": "code",
   "execution_count": 98,
   "metadata": {},
   "outputs": [
    {
     "data": {
      "text/plain": [
       "(datetime.date, datetime.datetime)"
      ]
     },
     "execution_count": 98,
     "metadata": {},
     "output_type": "execute_result"
    }
   ],
   "source": [
    "type(today), type(graduation_date)"
   ]
  },
  {
   "cell_type": "code",
   "execution_count": 99,
   "metadata": {},
   "outputs": [
    {
     "data": {
      "text/plain": [
       "datetime.datetime"
      ]
     },
     "execution_count": 99,
     "metadata": {},
     "output_type": "execute_result"
    }
   ],
   "source": [
    "today = datetime.datetime.combine(datetime.date.today(), datetime.datetime.min.time())\n",
    "type(today)"
   ]
  },
  {
   "cell_type": "code",
   "execution_count": 100,
   "metadata": {},
   "outputs": [
    {
     "data": {
      "text/plain": [
       "datetime.timedelta(days=101, seconds=64800)"
      ]
     },
     "execution_count": 100,
     "metadata": {},
     "output_type": "execute_result"
    }
   ],
   "source": [
    "graduation_date - today"
   ]
  },
  {
   "cell_type": "code",
   "execution_count": 102,
   "metadata": {},
   "outputs": [
    {
     "data": {
      "text/plain": [
       "'{\"o'"
      ]
     },
     "execution_count": 102,
     "metadata": {},
     "output_type": "execute_result"
    }
   ],
   "source": [
    "import json\n",
    "\n",
    "d = {\n",
    "  'one': 1,\n",
    "  'two': 2,\n",
    "  'three': 3\n",
    "}\n",
    "\n",
    "s = json.dumps(d)\n",
    "type(s) #str\n",
    "s[:3]"
   ]
  },
  {
   "cell_type": "code",
   "execution_count": 103,
   "metadata": {},
   "outputs": [
    {
     "data": {
      "text/plain": [
       "dict"
      ]
     },
     "execution_count": 103,
     "metadata": {},
     "output_type": "execute_result"
    }
   ],
   "source": [
    "dd = json.loads(s)\n",
    "type(dd)"
   ]
  },
  {
   "cell_type": "code",
   "execution_count": 104,
   "metadata": {},
   "outputs": [
    {
     "ename": "TypeError",
     "evalue": "Object of type Human is not JSON serializable",
     "output_type": "error",
     "traceback": [
      "\u001b[0;31m---------------------------------------------------------------------------\u001b[0m",
      "\u001b[0;31mTypeError\u001b[0m                                 Traceback (most recent call last)",
      "\u001b[1;32m/Users/pyeonhaesun/Desktop/ESTsoft_ormi3/ormi3_code/Python/오르미_3기_python5.ipynb 셀 102\u001b[0m line \u001b[0;36m7\n\u001b[1;32m      <a href='vscode-notebook-cell:/Users/pyeonhaesun/Desktop/ESTsoft_ormi3/ormi3_code/Python/%EC%98%A4%EB%A5%B4%EB%AF%B8_3%EA%B8%B0_python5.ipynb#Y261sZmlsZQ%3D%3D?line=3'>4</a>\u001b[0m     \u001b[39mself\u001b[39m\u001b[39m.\u001b[39my \u001b[39m=\u001b[39m y\n\u001b[1;32m      <a href='vscode-notebook-cell:/Users/pyeonhaesun/Desktop/ESTsoft_ormi3/ormi3_code/Python/%EC%98%A4%EB%A5%B4%EB%AF%B8_3%EA%B8%B0_python5.ipynb#Y261sZmlsZQ%3D%3D?line=5'>6</a>\u001b[0m jun \u001b[39m=\u001b[39m Human(\u001b[39m10\u001b[39m, \u001b[39m20\u001b[39m)\n\u001b[0;32m----> <a href='vscode-notebook-cell:/Users/pyeonhaesun/Desktop/ESTsoft_ormi3/ormi3_code/Python/%EC%98%A4%EB%A5%B4%EB%AF%B8_3%EA%B8%B0_python5.ipynb#Y261sZmlsZQ%3D%3D?line=6'>7</a>\u001b[0m json\u001b[39m.\u001b[39;49mdumps(jun)\n",
      "File \u001b[0;32m/usr/local/Cellar/python@3.11/3.11.4_1/Frameworks/Python.framework/Versions/3.11/lib/python3.11/json/__init__.py:231\u001b[0m, in \u001b[0;36mdumps\u001b[0;34m(obj, skipkeys, ensure_ascii, check_circular, allow_nan, cls, indent, separators, default, sort_keys, **kw)\u001b[0m\n\u001b[1;32m    226\u001b[0m \u001b[39m# cached encoder\u001b[39;00m\n\u001b[1;32m    227\u001b[0m \u001b[39mif\u001b[39;00m (\u001b[39mnot\u001b[39;00m skipkeys \u001b[39mand\u001b[39;00m ensure_ascii \u001b[39mand\u001b[39;00m\n\u001b[1;32m    228\u001b[0m     check_circular \u001b[39mand\u001b[39;00m allow_nan \u001b[39mand\u001b[39;00m\n\u001b[1;32m    229\u001b[0m     \u001b[39mcls\u001b[39m \u001b[39mis\u001b[39;00m \u001b[39mNone\u001b[39;00m \u001b[39mand\u001b[39;00m indent \u001b[39mis\u001b[39;00m \u001b[39mNone\u001b[39;00m \u001b[39mand\u001b[39;00m separators \u001b[39mis\u001b[39;00m \u001b[39mNone\u001b[39;00m \u001b[39mand\u001b[39;00m\n\u001b[1;32m    230\u001b[0m     default \u001b[39mis\u001b[39;00m \u001b[39mNone\u001b[39;00m \u001b[39mand\u001b[39;00m \u001b[39mnot\u001b[39;00m sort_keys \u001b[39mand\u001b[39;00m \u001b[39mnot\u001b[39;00m kw):\n\u001b[0;32m--> 231\u001b[0m     \u001b[39mreturn\u001b[39;00m _default_encoder\u001b[39m.\u001b[39;49mencode(obj)\n\u001b[1;32m    232\u001b[0m \u001b[39mif\u001b[39;00m \u001b[39mcls\u001b[39m \u001b[39mis\u001b[39;00m \u001b[39mNone\u001b[39;00m:\n\u001b[1;32m    233\u001b[0m     \u001b[39mcls\u001b[39m \u001b[39m=\u001b[39m JSONEncoder\n",
      "File \u001b[0;32m/usr/local/Cellar/python@3.11/3.11.4_1/Frameworks/Python.framework/Versions/3.11/lib/python3.11/json/encoder.py:200\u001b[0m, in \u001b[0;36mJSONEncoder.encode\u001b[0;34m(self, o)\u001b[0m\n\u001b[1;32m    196\u001b[0m         \u001b[39mreturn\u001b[39;00m encode_basestring(o)\n\u001b[1;32m    197\u001b[0m \u001b[39m# This doesn't pass the iterator directly to ''.join() because the\u001b[39;00m\n\u001b[1;32m    198\u001b[0m \u001b[39m# exceptions aren't as detailed.  The list call should be roughly\u001b[39;00m\n\u001b[1;32m    199\u001b[0m \u001b[39m# equivalent to the PySequence_Fast that ''.join() would do.\u001b[39;00m\n\u001b[0;32m--> 200\u001b[0m chunks \u001b[39m=\u001b[39m \u001b[39mself\u001b[39;49m\u001b[39m.\u001b[39;49miterencode(o, _one_shot\u001b[39m=\u001b[39;49m\u001b[39mTrue\u001b[39;49;00m)\n\u001b[1;32m    201\u001b[0m \u001b[39mif\u001b[39;00m \u001b[39mnot\u001b[39;00m \u001b[39misinstance\u001b[39m(chunks, (\u001b[39mlist\u001b[39m, \u001b[39mtuple\u001b[39m)):\n\u001b[1;32m    202\u001b[0m     chunks \u001b[39m=\u001b[39m \u001b[39mlist\u001b[39m(chunks)\n",
      "File \u001b[0;32m/usr/local/Cellar/python@3.11/3.11.4_1/Frameworks/Python.framework/Versions/3.11/lib/python3.11/json/encoder.py:258\u001b[0m, in \u001b[0;36mJSONEncoder.iterencode\u001b[0;34m(self, o, _one_shot)\u001b[0m\n\u001b[1;32m    253\u001b[0m \u001b[39melse\u001b[39;00m:\n\u001b[1;32m    254\u001b[0m     _iterencode \u001b[39m=\u001b[39m _make_iterencode(\n\u001b[1;32m    255\u001b[0m         markers, \u001b[39mself\u001b[39m\u001b[39m.\u001b[39mdefault, _encoder, \u001b[39mself\u001b[39m\u001b[39m.\u001b[39mindent, floatstr,\n\u001b[1;32m    256\u001b[0m         \u001b[39mself\u001b[39m\u001b[39m.\u001b[39mkey_separator, \u001b[39mself\u001b[39m\u001b[39m.\u001b[39mitem_separator, \u001b[39mself\u001b[39m\u001b[39m.\u001b[39msort_keys,\n\u001b[1;32m    257\u001b[0m         \u001b[39mself\u001b[39m\u001b[39m.\u001b[39mskipkeys, _one_shot)\n\u001b[0;32m--> 258\u001b[0m \u001b[39mreturn\u001b[39;00m _iterencode(o, \u001b[39m0\u001b[39;49m)\n",
      "File \u001b[0;32m/usr/local/Cellar/python@3.11/3.11.4_1/Frameworks/Python.framework/Versions/3.11/lib/python3.11/json/encoder.py:180\u001b[0m, in \u001b[0;36mJSONEncoder.default\u001b[0;34m(self, o)\u001b[0m\n\u001b[1;32m    161\u001b[0m \u001b[39mdef\u001b[39;00m \u001b[39mdefault\u001b[39m(\u001b[39mself\u001b[39m, o):\n\u001b[1;32m    162\u001b[0m \u001b[39m    \u001b[39m\u001b[39m\"\"\"Implement this method in a subclass such that it returns\u001b[39;00m\n\u001b[1;32m    163\u001b[0m \u001b[39m    a serializable object for ``o``, or calls the base implementation\u001b[39;00m\n\u001b[1;32m    164\u001b[0m \u001b[39m    (to raise a ``TypeError``).\u001b[39;00m\n\u001b[0;32m   (...)\u001b[0m\n\u001b[1;32m    178\u001b[0m \n\u001b[1;32m    179\u001b[0m \u001b[39m    \"\"\"\u001b[39;00m\n\u001b[0;32m--> 180\u001b[0m     \u001b[39mraise\u001b[39;00m \u001b[39mTypeError\u001b[39;00m(\u001b[39mf\u001b[39m\u001b[39m'\u001b[39m\u001b[39mObject of type \u001b[39m\u001b[39m{\u001b[39;00mo\u001b[39m.\u001b[39m\u001b[39m__class__\u001b[39m\u001b[39m.\u001b[39m\u001b[39m__name__\u001b[39m\u001b[39m}\u001b[39;00m\u001b[39m \u001b[39m\u001b[39m'\u001b[39m\n\u001b[1;32m    181\u001b[0m                     \u001b[39mf\u001b[39m\u001b[39m'\u001b[39m\u001b[39mis not JSON serializable\u001b[39m\u001b[39m'\u001b[39m)\n",
      "\u001b[0;31mTypeError\u001b[0m: Object of type Human is not JSON serializable"
     ]
    }
   ],
   "source": [
    "class Human:\n",
    "  def __init__(self, x, y):\n",
    "    self.x = x\n",
    "    self.y = y\n",
    "\n",
    "jun = Human(10, 20)\n",
    "json.dumps(jun)\n",
    "\n",
    "# TypeError: Object of type Human is not JSON serializable(직렬화가 가능하지 않다!)\n",
    "# 일반 인스턴스는 직렬화가 가능하지 않습니다!\n",
    "# 직렬화: \"데이터 구조나 오브젝트 상태를 동일하거나 다른 컴퓨터 환경에 저장\n",
    "# (이를테면 파일이나 메모리 버퍼에서, 또는 네트워크 연결 링크 간 전송)하고,\n",
    "# 나중에 재구성할 수 있는 포맷으로 변환하는 과정\""
   ]
  },
  {
   "cell_type": "code",
   "execution_count": 105,
   "metadata": {},
   "outputs": [
    {
     "data": {
      "text/plain": [
       "deque([4, 1, 2, 3])"
      ]
     },
     "execution_count": 105,
     "metadata": {},
     "output_type": "execute_result"
    }
   ],
   "source": [
    "import collections\n",
    "\n",
    "d = collections.deque([1, 2, 3, 4])\n",
    "d.rotate(1) #회전초밥 문제\n",
    "d"
   ]
  },
  {
   "cell_type": "code",
   "execution_count": 106,
   "metadata": {},
   "outputs": [
    {
     "data": {
      "text/plain": [
       "deque([3, 4, 1, 2])"
      ]
     },
     "execution_count": 106,
     "metadata": {},
     "output_type": "execute_result"
    }
   ],
   "source": [
    "d.rotate(1) #회전초밥 문제\n",
    "d"
   ]
  },
  {
   "cell_type": "code",
   "execution_count": 107,
   "metadata": {},
   "outputs": [
    {
     "data": {
      "text/plain": [
       "deque([2, 3, 4, 1])"
      ]
     },
     "execution_count": 107,
     "metadata": {},
     "output_type": "execute_result"
    }
   ],
   "source": [
    "d.rotate(1) #회전초밥 문제\n",
    "d"
   ]
  },
  {
   "cell_type": "code",
   "execution_count": 108,
   "metadata": {},
   "outputs": [
    {
     "data": {
      "text/plain": [
       "Counter({'l': 3, 'o': 2, 'h': 1, 'e': 1, ' ': 1, 'w': 1, 'r': 1, 'd': 1})"
      ]
     },
     "execution_count": 108,
     "metadata": {},
     "output_type": "execute_result"
    }
   ],
   "source": [
    "c = collections.Counter('hello world')\n",
    "c"
   ]
  },
  {
   "cell_type": "code",
   "execution_count": 109,
   "metadata": {},
   "outputs": [
    {
     "data": {
      "text/plain": [
       "[('l', 3),\n",
       " ('o', 2),\n",
       " ('h', 1),\n",
       " ('e', 1),\n",
       " (' ', 1),\n",
       " ('w', 1),\n",
       " ('r', 1),\n",
       " ('d', 1)]"
      ]
     },
     "execution_count": 109,
     "metadata": {},
     "output_type": "execute_result"
    }
   ],
   "source": [
    "c.most_common()"
   ]
  },
  {
   "cell_type": "code",
   "execution_count": 1,
   "metadata": {},
   "outputs": [
    {
     "name": "stdout",
     "output_type": "stream",
     "text": [
      "1 메모혁신 Notion(노션) 활용 가이드\n",
      "2 제주코딩베이스캠프 Code Festival: Python 100제 1부\n",
      "3 튜토리얼로 배우는 HTML&CSS\n",
      "4 코딩도장 튜토리얼로 배우는 Python 1편 object\n",
      "5 코딩도장 튜토리얼로 배우는 python 2편 제어문\n",
      "6 코딩도장 튜토리얼로 배우는 Python 문제풀이\n",
      "7 타노스의 건틀릿 알고리즘 With Python\n",
      "8 xlsxwriter 튜토리얼로 배우는 Python 엑셀 프로그래밍\n",
      "9 러플 튜토리얼로 배우는 Python\n",
      "10 인공지능을 활용한 업무자동화 With Google Developers Group JEJU\n",
      "11 2017 제주 코딩 해커톤 Django 트랙 상편 1권\n"
     ]
    }
   ],
   "source": [
    "# 지금부터 실습하는 것은 저 혼자만 하겠습니다.\n",
    "# 여러분은 이 코드만 가지고 있어주세요.\n",
    "import requests\n",
    "from bs4 import BeautifulSoup\n",
    "\n",
    "paullab_url = 'https://paullab.co.kr/bookservice/'\n",
    "response = requests.get(paullab_url)\n",
    "response.encoding = 'utf-8'\n",
    "html = response.text\n",
    "\n",
    "soup = BeautifulSoup(html, 'html.parser')\n",
    "\n",
    "bookservices = soup.select('.col-lg-6 > h2') # col-lg-6 클래스 안의 h2 태그 탐색\n",
    "for no, book in enumerate(bookservices, 1):\n",
    "  print(no, book.text)"
   ]
  },
  {
   "cell_type": "code",
   "execution_count": 2,
   "metadata": {},
   "outputs": [
    {
     "name": "stdout",
     "output_type": "stream",
     "text": [
      "1 베니스 유령 살인사건\n",
      "2 잠\n",
      "3 오펜하이머\n",
      "4 달짝지근해: 7510\n",
      "5 콘크리트 유토피아\n",
      "6 닌자터틀: 뮤턴트 대소동\n",
      "7 타겟\n",
      "8 여름을 향한 터널, 이별의 출구\n",
      "9 새로고침\n"
     ]
    }
   ],
   "source": [
    "# 지금부터 실습하는 것은 저 혼자만 하겠습니다.\n",
    "# 여러분은 이 코드만 가지고 있어주세요.\n",
    "import requests # 이거 하고 있습니다!\n",
    "from bs4 import BeautifulSoup\n",
    "\n",
    "paullab_url = 'https://search.naver.com/search.naver?where=nexearch&sm=top_hty&fbm=0&ie=utf8&query=%EC%B5%9C%EC%8B%A0%EC%98%81%ED%99%94' # 이거\n",
    "response = requests.get(paullab_url)\n",
    "response.encoding = 'utf-8'\n",
    "html = response.text\n",
    "\n",
    "soup = BeautifulSoup(html, 'html.parser')\n",
    "\n",
    "bookservices = soup.select('.this_text') # 이거\n",
    "for no, book in enumerate(bookservices, 1):\n",
    "  print(no, book.text)"
   ]
  },
  {
   "cell_type": "markdown",
   "metadata": {},
   "source": [
    "# 예외 처리"
   ]
  },
  {
   "cell_type": "code",
   "execution_count": 39,
   "metadata": {},
   "outputs": [
    {
     "ename": "SyntaxError",
     "evalue": "hello world (<string>)",
     "output_type": "error",
     "traceback": [
      "Traceback \u001b[0;36m(most recent call last)\u001b[0m:\n",
      "\u001b[0m  File \u001b[1;32m~/Library/Python/3.11/lib/python/site-packages/IPython/core/interactiveshell.py:3526\u001b[0m in \u001b[1;35mrun_code\u001b[0m\n    exec(code_obj, self.user_global_ns, self.user_ns)\u001b[0m\n",
      "\u001b[0;36m  Cell \u001b[0;32mIn[39], line 7\u001b[0;36m\n\u001b[0;31m    raise SyntaxError('hello world') # 여러분의 의도에 맞게 적절한 에러를 주실 필요가 있습니다.\u001b[0;36m\n",
      "\u001b[0;36m  File \u001b[0;32m<string>\u001b[0;36m\u001b[0m\n\u001b[0;31mSyntaxError\u001b[0m\u001b[0;31m:\u001b[0m hello world\n"
     ]
    }
   ],
   "source": [
    "# SyntaxError\n",
    "# for i in range(10)\n",
    "  # print(i)\n",
    "if False:\n",
    "  raise SyntaxError\n",
    "if True:\n",
    "  raise SyntaxError('hello world') # 여러분의 의도에 맞게 적절한 에러를 주실 필요가 있습니다."
   ]
  },
  {
   "cell_type": "code",
   "execution_count": 40,
   "metadata": {},
   "outputs": [
    {
     "ename": "NameError",
     "evalue": "name 'x' is not defined",
     "output_type": "error",
     "traceback": [
      "\u001b[0;31m---------------------------------------------------------------------------\u001b[0m",
      "\u001b[0;31mNameError\u001b[0m                                 Traceback (most recent call last)",
      "\u001b[1;32m/Users/pyeonhaesun/Desktop/ESTsoft_ormi3/ormi3_code/Python/오르미_3기_python5.ipynb 셀 101\u001b[0m line \u001b[0;36m2\n\u001b[1;32m      <a href='vscode-notebook-cell:/Users/pyeonhaesun/Desktop/ESTsoft_ormi3/ormi3_code/Python/%EC%98%A4%EB%A5%B4%EB%AF%B8_3%EA%B8%B0_python5.ipynb#Y212sZmlsZQ%3D%3D?line=0'>1</a>\u001b[0m \u001b[39m# NameError\u001b[39;00m\n\u001b[0;32m----> <a href='vscode-notebook-cell:/Users/pyeonhaesun/Desktop/ESTsoft_ormi3/ormi3_code/Python/%EC%98%A4%EB%A5%B4%EB%AF%B8_3%EA%B8%B0_python5.ipynb#Y212sZmlsZQ%3D%3D?line=1'>2</a>\u001b[0m \u001b[39mprint\u001b[39m(x)\n",
      "\u001b[0;31mNameError\u001b[0m: name 'x' is not defined"
     ]
    }
   ],
   "source": [
    "# NameError\n",
    "print(x)"
   ]
  },
  {
   "cell_type": "code",
   "execution_count": 41,
   "metadata": {},
   "outputs": [
    {
     "ename": "TypeError",
     "evalue": "unsupported operand type(s) for +: 'int' and 'str'",
     "output_type": "error",
     "traceback": [
      "\u001b[0;31m---------------------------------------------------------------------------\u001b[0m",
      "\u001b[0;31mTypeError\u001b[0m                                 Traceback (most recent call last)",
      "\u001b[1;32m/Users/pyeonhaesun/Desktop/ESTsoft_ormi3/ormi3_code/Python/오르미_3기_python5.ipynb 셀 102\u001b[0m line \u001b[0;36m4\n\u001b[1;32m      <a href='vscode-notebook-cell:/Users/pyeonhaesun/Desktop/ESTsoft_ormi3/ormi3_code/Python/%EC%98%A4%EB%A5%B4%EB%AF%B8_3%EA%B8%B0_python5.ipynb#Y213sZmlsZQ%3D%3D?line=1'>2</a>\u001b[0m x \u001b[39m=\u001b[39m \u001b[39m10\u001b[39m\n\u001b[1;32m      <a href='vscode-notebook-cell:/Users/pyeonhaesun/Desktop/ESTsoft_ormi3/ormi3_code/Python/%EC%98%A4%EB%A5%B4%EB%AF%B8_3%EA%B8%B0_python5.ipynb#Y213sZmlsZQ%3D%3D?line=2'>3</a>\u001b[0m y \u001b[39m=\u001b[39m \u001b[39m'\u001b[39m\u001b[39m20\u001b[39m\u001b[39m'\u001b[39m\n\u001b[0;32m----> <a href='vscode-notebook-cell:/Users/pyeonhaesun/Desktop/ESTsoft_ormi3/ormi3_code/Python/%EC%98%A4%EB%A5%B4%EB%AF%B8_3%EA%B8%B0_python5.ipynb#Y213sZmlsZQ%3D%3D?line=3'>4</a>\u001b[0m \u001b[39mprint\u001b[39m(x \u001b[39m+\u001b[39;49m y)\n",
      "\u001b[0;31mTypeError\u001b[0m: unsupported operand type(s) for +: 'int' and 'str'"
     ]
    }
   ],
   "source": [
    "# TypeError\n",
    "x = 10\n",
    "y = '20'\n",
    "print(x + y)"
   ]
  },
  {
   "cell_type": "code",
   "execution_count": 42,
   "metadata": {},
   "outputs": [
    {
     "ename": "IndexError",
     "evalue": "list index out of range",
     "output_type": "error",
     "traceback": [
      "\u001b[0;31m---------------------------------------------------------------------------\u001b[0m",
      "\u001b[0;31mIndexError\u001b[0m                                Traceback (most recent call last)",
      "\u001b[1;32m/Users/pyeonhaesun/Desktop/ESTsoft_ormi3/ormi3_code/Python/오르미_3기_python5.ipynb 셀 103\u001b[0m line \u001b[0;36m3\n\u001b[1;32m      <a href='vscode-notebook-cell:/Users/pyeonhaesun/Desktop/ESTsoft_ormi3/ormi3_code/Python/%EC%98%A4%EB%A5%B4%EB%AF%B8_3%EA%B8%B0_python5.ipynb#Y214sZmlsZQ%3D%3D?line=0'>1</a>\u001b[0m \u001b[39m# IndexError\u001b[39;00m\n\u001b[1;32m      <a href='vscode-notebook-cell:/Users/pyeonhaesun/Desktop/ESTsoft_ormi3/ormi3_code/Python/%EC%98%A4%EB%A5%B4%EB%AF%B8_3%EA%B8%B0_python5.ipynb#Y214sZmlsZQ%3D%3D?line=1'>2</a>\u001b[0m my_list \u001b[39m=\u001b[39m [\u001b[39m1\u001b[39m, \u001b[39m2\u001b[39m, \u001b[39m3\u001b[39m]\n\u001b[0;32m----> <a href='vscode-notebook-cell:/Users/pyeonhaesun/Desktop/ESTsoft_ormi3/ormi3_code/Python/%EC%98%A4%EB%A5%B4%EB%AF%B8_3%EA%B8%B0_python5.ipynb#Y214sZmlsZQ%3D%3D?line=2'>3</a>\u001b[0m \u001b[39mprint\u001b[39m(my_list[\u001b[39m3\u001b[39;49m])\n",
      "\u001b[0;31mIndexError\u001b[0m: list index out of range"
     ]
    }
   ],
   "source": [
    "# IndexError\n",
    "my_list = [1, 2, 3]\n",
    "print(my_list[3]) # 슬라이싱은 에러를 내지 않습니다. 기억해주세요 많이 사용합니다."
   ]
  },
  {
   "cell_type": "code",
   "execution_count": 43,
   "metadata": {},
   "outputs": [
    {
     "ename": "AttributeError",
     "evalue": "'list' object attribute '__len__' is read-only",
     "output_type": "error",
     "traceback": [
      "\u001b[0;31m---------------------------------------------------------------------------\u001b[0m",
      "\u001b[0;31mAttributeError\u001b[0m                            Traceback (most recent call last)",
      "\u001b[1;32m/Users/pyeonhaesun/Desktop/ESTsoft_ormi3/ormi3_code/Python/오르미_3기_python5.ipynb 셀 104\u001b[0m line \u001b[0;36m2\n\u001b[1;32m      <a href='vscode-notebook-cell:/Users/pyeonhaesun/Desktop/ESTsoft_ormi3/ormi3_code/Python/%EC%98%A4%EB%A5%B4%EB%AF%B8_3%EA%B8%B0_python5.ipynb#Y215sZmlsZQ%3D%3D?line=0'>1</a>\u001b[0m my_list \u001b[39m=\u001b[39m [\u001b[39m1\u001b[39m, \u001b[39m2\u001b[39m, \u001b[39m3\u001b[39m]\n\u001b[0;32m----> <a href='vscode-notebook-cell:/Users/pyeonhaesun/Desktop/ESTsoft_ormi3/ormi3_code/Python/%EC%98%A4%EB%A5%B4%EB%AF%B8_3%EA%B8%B0_python5.ipynb#Y215sZmlsZQ%3D%3D?line=1'>2</a>\u001b[0m my_list\u001b[39m.\u001b[39;49m\u001b[39m__len__\u001b[39;49m \u001b[39m=\u001b[39m \u001b[39m100\u001b[39m\n",
      "\u001b[0;31mAttributeError\u001b[0m: 'list' object attribute '__len__' is read-only"
     ]
    }
   ],
   "source": [
    "# python에서는 안됩니다. Javascript는 가능\n",
    "my_list = [1, 2, 3]\n",
    "my_list.__len__ = 100"
   ]
  },
  {
   "cell_type": "code",
   "execution_count": 44,
   "metadata": {},
   "outputs": [
    {
     "ename": "KeyError",
     "evalue": "'c'",
     "output_type": "error",
     "traceback": [
      "\u001b[0;31m---------------------------------------------------------------------------\u001b[0m",
      "\u001b[0;31mKeyError\u001b[0m                                  Traceback (most recent call last)",
      "\u001b[1;32m/Users/pyeonhaesun/Desktop/ESTsoft_ormi3/ormi3_code/Python/오르미_3기_python5.ipynb 셀 105\u001b[0m line \u001b[0;36m3\n\u001b[1;32m      <a href='vscode-notebook-cell:/Users/pyeonhaesun/Desktop/ESTsoft_ormi3/ormi3_code/Python/%EC%98%A4%EB%A5%B4%EB%AF%B8_3%EA%B8%B0_python5.ipynb#Y216sZmlsZQ%3D%3D?line=0'>1</a>\u001b[0m \u001b[39m# KeyError\u001b[39;00m\n\u001b[1;32m      <a href='vscode-notebook-cell:/Users/pyeonhaesun/Desktop/ESTsoft_ormi3/ormi3_code/Python/%EC%98%A4%EB%A5%B4%EB%AF%B8_3%EA%B8%B0_python5.ipynb#Y216sZmlsZQ%3D%3D?line=1'>2</a>\u001b[0m my_dict \u001b[39m=\u001b[39m {\u001b[39m'\u001b[39m\u001b[39ma\u001b[39m\u001b[39m'\u001b[39m: \u001b[39m1\u001b[39m, \u001b[39m'\u001b[39m\u001b[39mb\u001b[39m\u001b[39m'\u001b[39m: \u001b[39m2\u001b[39m}\n\u001b[0;32m----> <a href='vscode-notebook-cell:/Users/pyeonhaesun/Desktop/ESTsoft_ormi3/ormi3_code/Python/%EC%98%A4%EB%A5%B4%EB%AF%B8_3%EA%B8%B0_python5.ipynb#Y216sZmlsZQ%3D%3D?line=2'>3</a>\u001b[0m \u001b[39mprint\u001b[39m(my_dict[\u001b[39m'\u001b[39;49m\u001b[39mc\u001b[39;49m\u001b[39m'\u001b[39;49m]) \u001b[39m# KeyError를 피하기 위해서는 get을 사용합니다.\u001b[39;00m\n",
      "\u001b[0;31mKeyError\u001b[0m: 'c'"
     ]
    }
   ],
   "source": [
    "# KeyError\n",
    "my_dict = {'a': 1, 'b': 2}\n",
    "print(my_dict['c']) # KeyError를 피하기 위해서는 get을 사용합니다."
   ]
  },
  {
   "cell_type": "code",
   "execution_count": 1,
   "metadata": {},
   "outputs": [
    {
     "ename": "ValueError",
     "evalue": "invalid literal for int() with base 10: 'a'",
     "output_type": "error",
     "traceback": [
      "\u001b[0;31m---------------------------------------------------------------------------\u001b[0m",
      "\u001b[0;31mValueError\u001b[0m                                Traceback (most recent call last)",
      "\u001b[1;32m/Users/pyeonhaesun/Desktop/ESTsoft_ormi3/ormi3_code/Python/오르미_3기_python5.ipynb 셀 117\u001b[0m line \u001b[0;36m2\n\u001b[1;32m      <a href='vscode-notebook-cell:/Users/pyeonhaesun/Desktop/ESTsoft_ormi3/ormi3_code/Python/%EC%98%A4%EB%A5%B4%EB%AF%B8_3%EA%B8%B0_python5.ipynb#Y220sZmlsZQ%3D%3D?line=0'>1</a>\u001b[0m \u001b[39m# ValueError\u001b[39;00m\n\u001b[0;32m----> <a href='vscode-notebook-cell:/Users/pyeonhaesun/Desktop/ESTsoft_ormi3/ormi3_code/Python/%EC%98%A4%EB%A5%B4%EB%AF%B8_3%EA%B8%B0_python5.ipynb#Y220sZmlsZQ%3D%3D?line=1'>2</a>\u001b[0m \u001b[39mint\u001b[39;49m(\u001b[39m'\u001b[39;49m\u001b[39ma\u001b[39;49m\u001b[39m'\u001b[39;49m)\n",
      "\u001b[0;31mValueError\u001b[0m: invalid literal for int() with base 10: 'a'"
     ]
    }
   ],
   "source": [
    "# ValueError\n",
    "int('a')"
   ]
  },
  {
   "cell_type": "code",
   "execution_count": 46,
   "metadata": {},
   "outputs": [
    {
     "ename": "ZeroDivisionError",
     "evalue": "division by zero",
     "output_type": "error",
     "traceback": [
      "\u001b[0;31m---------------------------------------------------------------------------\u001b[0m",
      "\u001b[0;31mZeroDivisionError\u001b[0m                         Traceback (most recent call last)",
      "\u001b[1;32m/Users/pyeonhaesun/Desktop/ESTsoft_ormi3/ormi3_code/Python/오르미_3기_python5.ipynb 셀 107\u001b[0m line \u001b[0;36m4\n\u001b[1;32m      <a href='vscode-notebook-cell:/Users/pyeonhaesun/Desktop/ESTsoft_ormi3/ormi3_code/Python/%EC%98%A4%EB%A5%B4%EB%AF%B8_3%EA%B8%B0_python5.ipynb#Y221sZmlsZQ%3D%3D?line=1'>2</a>\u001b[0m x \u001b[39m=\u001b[39m \u001b[39m10\u001b[39m\n\u001b[1;32m      <a href='vscode-notebook-cell:/Users/pyeonhaesun/Desktop/ESTsoft_ormi3/ormi3_code/Python/%EC%98%A4%EB%A5%B4%EB%AF%B8_3%EA%B8%B0_python5.ipynb#Y221sZmlsZQ%3D%3D?line=2'>3</a>\u001b[0m y \u001b[39m=\u001b[39m \u001b[39m0\u001b[39m\n\u001b[0;32m----> <a href='vscode-notebook-cell:/Users/pyeonhaesun/Desktop/ESTsoft_ormi3/ormi3_code/Python/%EC%98%A4%EB%A5%B4%EB%AF%B8_3%EA%B8%B0_python5.ipynb#Y221sZmlsZQ%3D%3D?line=3'>4</a>\u001b[0m \u001b[39mprint\u001b[39m(x \u001b[39m/\u001b[39;49m y)\n",
      "\u001b[0;31mZeroDivisionError\u001b[0m: division by zero"
     ]
    }
   ],
   "source": [
    "# ZeroDivisionError\n",
    "x = 10\n",
    "y = 0\n",
    "print(x / y)"
   ]
  },
  {
   "cell_type": "code",
   "execution_count": 47,
   "metadata": {},
   "outputs": [
    {
     "data": {
      "text/plain": [
       "True"
      ]
     },
     "execution_count": 47,
     "metadata": {},
     "output_type": "execute_result"
    }
   ],
   "source": [
    "def f():\n",
    "  return True\n",
    "\n",
    "def ff():\n",
    "  return 1/0\n",
    "\n",
    "f() or ff() # 확인할때 사용 -> 에러안나면 ff가 실행이 안된것"
   ]
  },
  {
   "cell_type": "code",
   "execution_count": 48,
   "metadata": {},
   "outputs": [
    {
     "ename": "AttributeError",
     "evalue": "'list' object has no attribute 'appeend'",
     "output_type": "error",
     "traceback": [
      "\u001b[0;31m---------------------------------------------------------------------------\u001b[0m",
      "\u001b[0;31mAttributeError\u001b[0m                            Traceback (most recent call last)",
      "\u001b[1;32m/Users/pyeonhaesun/Desktop/ESTsoft_ormi3/ormi3_code/Python/오르미_3기_python5.ipynb 셀 109\u001b[0m line \u001b[0;36m3\n\u001b[1;32m      <a href='vscode-notebook-cell:/Users/pyeonhaesun/Desktop/ESTsoft_ormi3/ormi3_code/Python/%EC%98%A4%EB%A5%B4%EB%AF%B8_3%EA%B8%B0_python5.ipynb#Y223sZmlsZQ%3D%3D?line=0'>1</a>\u001b[0m \u001b[39m# AttributeError\u001b[39;00m\n\u001b[1;32m      <a href='vscode-notebook-cell:/Users/pyeonhaesun/Desktop/ESTsoft_ormi3/ormi3_code/Python/%EC%98%A4%EB%A5%B4%EB%AF%B8_3%EA%B8%B0_python5.ipynb#Y223sZmlsZQ%3D%3D?line=1'>2</a>\u001b[0m my_list \u001b[39m=\u001b[39m [\u001b[39m1\u001b[39m, \u001b[39m2\u001b[39m, \u001b[39m3\u001b[39m]\n\u001b[0;32m----> <a href='vscode-notebook-cell:/Users/pyeonhaesun/Desktop/ESTsoft_ormi3/ormi3_code/Python/%EC%98%A4%EB%A5%B4%EB%AF%B8_3%EA%B8%B0_python5.ipynb#Y223sZmlsZQ%3D%3D?line=2'>3</a>\u001b[0m \u001b[39mprint\u001b[39m(my_list\u001b[39m.\u001b[39;49mappeend(\u001b[39m1\u001b[39m))\n",
      "\u001b[0;31mAttributeError\u001b[0m: 'list' object has no attribute 'appeend'"
     ]
    }
   ],
   "source": [
    "# AttributeError\n",
    "my_list = [1, 2, 3]\n",
    "print(my_list.appeend(1))"
   ]
  },
  {
   "cell_type": "code",
   "execution_count": 49,
   "metadata": {},
   "outputs": [
    {
     "ename": "TypeError",
     "evalue": "add() takes 2 positional arguments but 3 were given",
     "output_type": "error",
     "traceback": [
      "\u001b[0;31m---------------------------------------------------------------------------\u001b[0m",
      "\u001b[0;31mTypeError\u001b[0m                                 Traceback (most recent call last)",
      "\u001b[1;32m/Users/pyeonhaesun/Desktop/ESTsoft_ormi3/ormi3_code/Python/오르미_3기_python5.ipynb 셀 110\u001b[0m line \u001b[0;36m5\n\u001b[1;32m      <a href='vscode-notebook-cell:/Users/pyeonhaesun/Desktop/ESTsoft_ormi3/ormi3_code/Python/%EC%98%A4%EB%A5%B4%EB%AF%B8_3%EA%B8%B0_python5.ipynb#Y224sZmlsZQ%3D%3D?line=1'>2</a>\u001b[0m \u001b[39mdef\u001b[39;00m \u001b[39madd\u001b[39m(x, y):\n\u001b[1;32m      <a href='vscode-notebook-cell:/Users/pyeonhaesun/Desktop/ESTsoft_ormi3/ormi3_code/Python/%EC%98%A4%EB%A5%B4%EB%AF%B8_3%EA%B8%B0_python5.ipynb#Y224sZmlsZQ%3D%3D?line=2'>3</a>\u001b[0m   \u001b[39mreturn\u001b[39;00m x \u001b[39m+\u001b[39m y\n\u001b[0;32m----> <a href='vscode-notebook-cell:/Users/pyeonhaesun/Desktop/ESTsoft_ormi3/ormi3_code/Python/%EC%98%A4%EB%A5%B4%EB%AF%B8_3%EA%B8%B0_python5.ipynb#Y224sZmlsZQ%3D%3D?line=4'>5</a>\u001b[0m add(\u001b[39m1\u001b[39;49m, \u001b[39m2\u001b[39;49m, \u001b[39m3\u001b[39;49m) \u001b[39m# *args, **kargs를 이용하면 해결\u001b[39;00m\n",
      "\u001b[0;31mTypeError\u001b[0m: add() takes 2 positional arguments but 3 were given"
     ]
    }
   ],
   "source": [
    "# TypeError\n",
    "def add(x, y):\n",
    "  return x + y\n",
    "\n",
    "add(1, 2, 3) # *args, **kargs를 이용하면 해결"
   ]
  },
  {
   "cell_type": "code",
   "execution_count": 50,
   "metadata": {},
   "outputs": [
    {
     "name": "stdout",
     "output_type": "stream",
     "text": [
      "1 2 (3, 4, 5, 6, 7, 8, 9, 10)\n"
     ]
    },
    {
     "data": {
      "text/plain": [
       "3"
      ]
     },
     "execution_count": 50,
     "metadata": {},
     "output_type": "execute_result"
    }
   ],
   "source": [
    "def add(x, y, *args):\n",
    "  print(x, y, args)\n",
    "  return x + y\n",
    "\n",
    "add(1, 2, 3, 4, 5, 6, 7, 8, 9, 10)"
   ]
  },
  {
   "cell_type": "code",
   "execution_count": 2,
   "metadata": {},
   "outputs": [
    {
     "ename": "FileNotFoundError",
     "evalue": "[Errno 2] No such file or directory: 'non-existent.txt'",
     "output_type": "error",
     "traceback": [
      "\u001b[0;31m---------------------------------------------------------------------------\u001b[0m",
      "\u001b[0;31mFileNotFoundError\u001b[0m                         Traceback (most recent call last)",
      "\u001b[1;32m/Users/pyeonhaesun/Desktop/ESTsoft_ormi3/ormi3_code/Python/오르미_3기_python5.ipynb 셀 123\u001b[0m line \u001b[0;36m2\n\u001b[1;32m      <a href='vscode-notebook-cell:/Users/pyeonhaesun/Desktop/ESTsoft_ormi3/ormi3_code/Python/%EC%98%A4%EB%A5%B4%EB%AF%B8_3%EA%B8%B0_python5.ipynb#Y226sZmlsZQ%3D%3D?line=0'>1</a>\u001b[0m \u001b[39m# File I/O Error\u001b[39;00m\n\u001b[0;32m----> <a href='vscode-notebook-cell:/Users/pyeonhaesun/Desktop/ESTsoft_ormi3/ormi3_code/Python/%EC%98%A4%EB%A5%B4%EB%AF%B8_3%EA%B8%B0_python5.ipynb#Y226sZmlsZQ%3D%3D?line=1'>2</a>\u001b[0m f \u001b[39m=\u001b[39m \u001b[39mopen\u001b[39;49m(\u001b[39m'\u001b[39;49m\u001b[39mnon-existent.txt\u001b[39;49m\u001b[39m'\u001b[39;49m, \u001b[39m'\u001b[39;49m\u001b[39mr\u001b[39;49m\u001b[39m'\u001b[39;49m)\n\u001b[1;32m      <a href='vscode-notebook-cell:/Users/pyeonhaesun/Desktop/ESTsoft_ormi3/ormi3_code/Python/%EC%98%A4%EB%A5%B4%EB%AF%B8_3%EA%B8%B0_python5.ipynb#Y226sZmlsZQ%3D%3D?line=2'>3</a>\u001b[0m f\u001b[39m.\u001b[39mread()\n",
      "File \u001b[0;32m~/Library/Python/3.11/lib/python/site-packages/IPython/core/interactiveshell.py:286\u001b[0m, in \u001b[0;36m_modified_open\u001b[0;34m(file, *args, **kwargs)\u001b[0m\n\u001b[1;32m    279\u001b[0m \u001b[39mif\u001b[39;00m file \u001b[39min\u001b[39;00m {\u001b[39m0\u001b[39m, \u001b[39m1\u001b[39m, \u001b[39m2\u001b[39m}:\n\u001b[1;32m    280\u001b[0m     \u001b[39mraise\u001b[39;00m \u001b[39mValueError\u001b[39;00m(\n\u001b[1;32m    281\u001b[0m         \u001b[39mf\u001b[39m\u001b[39m\"\u001b[39m\u001b[39mIPython won\u001b[39m\u001b[39m'\u001b[39m\u001b[39mt let you open fd=\u001b[39m\u001b[39m{\u001b[39;00mfile\u001b[39m}\u001b[39;00m\u001b[39m by default \u001b[39m\u001b[39m\"\u001b[39m\n\u001b[1;32m    282\u001b[0m         \u001b[39m\"\u001b[39m\u001b[39mas it is likely to crash IPython. If you know what you are doing, \u001b[39m\u001b[39m\"\u001b[39m\n\u001b[1;32m    283\u001b[0m         \u001b[39m\"\u001b[39m\u001b[39myou can use builtins\u001b[39m\u001b[39m'\u001b[39m\u001b[39m open.\u001b[39m\u001b[39m\"\u001b[39m\n\u001b[1;32m    284\u001b[0m     )\n\u001b[0;32m--> 286\u001b[0m \u001b[39mreturn\u001b[39;00m io_open(file, \u001b[39m*\u001b[39;49margs, \u001b[39m*\u001b[39;49m\u001b[39m*\u001b[39;49mkwargs)\n",
      "\u001b[0;31mFileNotFoundError\u001b[0m: [Errno 2] No such file or directory: 'non-existent.txt'"
     ]
    }
   ],
   "source": [
    "# File I/O Error\n",
    "f = open('non-existent.txt', 'r')\n",
    "f.read()"
   ]
  },
  {
   "cell_type": "code",
   "execution_count": 51,
   "metadata": {},
   "outputs": [],
   "source": [
    "# 오류가 난 곳을 찾아 유지보수하기가 쉽지 않습니다.\n",
    "try:\n",
    "  pass # 1000줄\n",
    "except:\n",
    "  pass # 1000줄"
   ]
  },
  {
   "cell_type": "code",
   "execution_count": 52,
   "metadata": {},
   "outputs": [
    {
     "name": "stdout",
     "output_type": "stream",
     "text": [
      "결제가 안되었습니다!\n"
     ]
    }
   ],
   "source": [
    "try:\n",
    "  할인율 = 0\n",
    "  치킨값 = 30000 / 할인율\n",
    "  print('치킨주문 되었습니다!')\n",
    "except:\n",
    "  print('결제가 안되었습니다!')"
   ]
  },
  {
   "cell_type": "code",
   "execution_count": 3,
   "metadata": {},
   "outputs": [
    {
     "ename": "SyntaxError",
     "evalue": "expected 'except' or 'finally' block (3225272353.py, line 5)",
     "output_type": "error",
     "traceback": [
      "\u001b[0;36m  Cell \u001b[0;32mIn[3], line 5\u001b[0;36m\u001b[0m\n\u001b[0;31m    print('hello')\u001b[0m\n\u001b[0m    ^\u001b[0m\n\u001b[0;31mSyntaxError\u001b[0m\u001b[0;31m:\u001b[0m expected 'except' or 'finally' block\n"
     ]
    }
   ],
   "source": [
    "try:\n",
    "  할인율 = 0\n",
    "  치킨값 = 30000 / 할인율\n",
    "  print('치킨주문 되었습니다!')\n",
    "print('hello')"
   ]
  },
  {
   "cell_type": "code",
   "execution_count": 4,
   "metadata": {},
   "outputs": [
    {
     "name": "stdout",
     "output_type": "stream",
     "text": [
      "결제가 안되었습니다!\n"
     ]
    }
   ],
   "source": [
    "try:\n",
    "  할인율 = 0\n",
    "  치킨값 = 30000 / 할인율\n",
    "  print('치킨주문 되었습니다!')\n",
    "except:\n",
    "  print('결제가 안되었습니다!')\n",
    "else:\n",
    "  print('else')"
   ]
  },
  {
   "cell_type": "code",
   "execution_count": 5,
   "metadata": {},
   "outputs": [
    {
     "name": "stdout",
     "output_type": "stream",
     "text": [
      "치킨주문 되었습니다!\n",
      "else\n"
     ]
    }
   ],
   "source": [
    "try:\n",
    "  할인율 = 0\n",
    "  # 치킨값 = 30000 / 할인율\n",
    "  print('치킨주문 되었습니다!')\n",
    "except:\n",
    "  print('결제가 안되었습니다!')\n",
    "else:\n",
    "  # 에러 없이 실행되면 else를 실행합니다. while, for + else 조합과 비슷합니다.\n",
    "  print('else')"
   ]
  },
  {
   "cell_type": "code",
   "execution_count": 7,
   "metadata": {},
   "outputs": [
    {
     "name": "stdout",
     "output_type": "stream",
     "text": [
      "결제가 안되었습니다!\n",
      "메인화면으로 이동\n"
     ]
    }
   ],
   "source": [
    "try:\n",
    "  할인율 = 0\n",
    "  치킨값 = 30000 / 할인율\n",
    "  print('치킨주문 되었습니다!')\n",
    "except:\n",
    "  print('결제가 안되었습니다!')\n",
    "finally:\n",
    "  # 에러 발생 여부와 상관없이 실행\n",
    "  print('메인화면으로 이동')"
   ]
  },
  {
   "cell_type": "code",
   "execution_count": 8,
   "metadata": {},
   "outputs": [
    {
     "ename": "AssertionError",
     "evalue": "에러 메시지 2",
     "output_type": "error",
     "traceback": [
      "\u001b[0;31m---------------------------------------------------------------------------\u001b[0m",
      "\u001b[0;31mAssertionError\u001b[0m                            Traceback (most recent call last)",
      "\u001b[1;32m/Users/pyeonhaesun/Desktop/ESTsoft_ormi3/ormi3_code/Python/오르미_3기_python5.ipynb 셀 130\u001b[0m line \u001b[0;36m6\n\u001b[1;32m      <a href='vscode-notebook-cell:/Users/pyeonhaesun/Desktop/ESTsoft_ormi3/ormi3_code/Python/%EC%98%A4%EB%A5%B4%EB%AF%B8_3%EA%B8%B0_python5.ipynb#Y315sZmlsZQ%3D%3D?line=2'>3</a>\u001b[0m test \u001b[39m=\u001b[39m \u001b[39m'\u001b[39m\u001b[39mhello\u001b[39m\u001b[39m'\u001b[39m\n\u001b[1;32m      <a href='vscode-notebook-cell:/Users/pyeonhaesun/Desktop/ESTsoft_ormi3/ormi3_code/Python/%EC%98%A4%EB%A5%B4%EB%AF%B8_3%EA%B8%B0_python5.ipynb#Y315sZmlsZQ%3D%3D?line=4'>5</a>\u001b[0m \u001b[39massert\u001b[39;00m test \u001b[39m==\u001b[39m \u001b[39m'\u001b[39m\u001b[39mhello\u001b[39m\u001b[39m'\u001b[39m, \u001b[39m'\u001b[39m\u001b[39m에러 메시지 1\u001b[39m\u001b[39m'\u001b[39m \u001b[39m#1\u001b[39;00m\n\u001b[0;32m----> <a href='vscode-notebook-cell:/Users/pyeonhaesun/Desktop/ESTsoft_ormi3/ormi3_code/Python/%EC%98%A4%EB%A5%B4%EB%AF%B8_3%EA%B8%B0_python5.ipynb#Y315sZmlsZQ%3D%3D?line=5'>6</a>\u001b[0m \u001b[39massert\u001b[39;00m test \u001b[39m==\u001b[39m \u001b[39m'\u001b[39m\u001b[39mworld\u001b[39m\u001b[39m'\u001b[39m, \u001b[39m'\u001b[39m\u001b[39m에러 메시지 2\u001b[39m\u001b[39m'\u001b[39m \u001b[39m#2\u001b[39;00m\n\u001b[1;32m      <a href='vscode-notebook-cell:/Users/pyeonhaesun/Desktop/ESTsoft_ormi3/ormi3_code/Python/%EC%98%A4%EB%A5%B4%EB%AF%B8_3%EA%B8%B0_python5.ipynb#Y315sZmlsZQ%3D%3D?line=6'>7</a>\u001b[0m \u001b[39massert\u001b[39;00m test \u001b[39m+\u001b[39m \u001b[39m3\u001b[39m \u001b[39m==\u001b[39m \u001b[39m5\u001b[39m, \u001b[39m'\u001b[39m\u001b[39m에러 메시지 3\u001b[39m\u001b[39m'\u001b[39m \u001b[39m#3\u001b[39;00m\n",
      "\u001b[0;31mAssertionError\u001b[0m: 에러 메시지 2"
     ]
    }
   ],
   "source": [
    "# 간단하게 error를 만들고 테스트하긴 좋습니다.\n",
    "\n",
    "test = 'hello'\n",
    "\n",
    "# 내가 설정한 조건에 만족하지 않는 경우 error를 발생\n",
    "assert test == 'hello', '에러 메시지 1' #1\n",
    "assert test == 'world', '에러 메시지 2' #2\n",
    "assert test + 3 == 5, '에러 메시지 3' #3"
   ]
  },
  {
   "cell_type": "code",
   "execution_count": 12,
   "metadata": {},
   "outputs": [
    {
     "ename": "ValueError",
     "evalue": "코드를 잘 만들어주세요.",
     "output_type": "error",
     "traceback": [
      "\u001b[0;31m---------------------------------------------------------------------------\u001b[0m",
      "\u001b[0;31mValueError\u001b[0m                                Traceback (most recent call last)",
      "\u001b[1;32m/Users/pyeonhaesun/Desktop/ESTsoft_ormi3/ormi3_code/Python/오르미_3기_python5.ipynb 셀 131\u001b[0m line \u001b[0;36m4\n\u001b[1;32m      <a href='vscode-notebook-cell:/Users/pyeonhaesun/Desktop/ESTsoft_ormi3/ormi3_code/Python/%EC%98%A4%EB%A5%B4%EB%AF%B8_3%EA%B8%B0_python5.ipynb#Y314sZmlsZQ%3D%3D?line=0'>1</a>\u001b[0m x \u001b[39m=\u001b[39m \u001b[39m10\u001b[39m\n\u001b[1;32m      <a href='vscode-notebook-cell:/Users/pyeonhaesun/Desktop/ESTsoft_ormi3/ormi3_code/Python/%EC%98%A4%EB%A5%B4%EB%AF%B8_3%EA%B8%B0_python5.ipynb#Y314sZmlsZQ%3D%3D?line=1'>2</a>\u001b[0m \u001b[39m# raise\u001b[39;00m\n\u001b[1;32m      <a href='vscode-notebook-cell:/Users/pyeonhaesun/Desktop/ESTsoft_ormi3/ormi3_code/Python/%EC%98%A4%EB%A5%B4%EB%AF%B8_3%EA%B8%B0_python5.ipynb#Y314sZmlsZQ%3D%3D?line=2'>3</a>\u001b[0m \u001b[39m# raise ValueError\u001b[39;00m\n\u001b[0;32m----> <a href='vscode-notebook-cell:/Users/pyeonhaesun/Desktop/ESTsoft_ormi3/ormi3_code/Python/%EC%98%A4%EB%A5%B4%EB%AF%B8_3%EA%B8%B0_python5.ipynb#Y314sZmlsZQ%3D%3D?line=3'>4</a>\u001b[0m \u001b[39mraise\u001b[39;00m \u001b[39mValueError\u001b[39;00m(\u001b[39m'\u001b[39m\u001b[39m코드를 잘 만들어주세요.\u001b[39m\u001b[39m'\u001b[39m)\n\u001b[1;32m      <a href='vscode-notebook-cell:/Users/pyeonhaesun/Desktop/ESTsoft_ormi3/ormi3_code/Python/%EC%98%A4%EB%A5%B4%EB%AF%B8_3%EA%B8%B0_python5.ipynb#Y314sZmlsZQ%3D%3D?line=4'>5</a>\u001b[0m y \u001b[39m=\u001b[39m \u001b[39m20\u001b[39m\n",
      "\u001b[0;31mValueError\u001b[0m: 코드를 잘 만들어주세요."
     ]
    }
   ],
   "source": [
    "x = 10\n",
    "# raise\n",
    "# raise ValueError\n",
    "raise ValueError('코드를 잘 만들어주세요.')\n",
    "y = 20"
   ]
  },
  {
   "cell_type": "code",
   "execution_count": 13,
   "metadata": {},
   "outputs": [
    {
     "ename": "Leehojun",
     "evalue": "입력된 값이 leehojun이 아닙니다.",
     "output_type": "error",
     "traceback": [
      "\u001b[0;31m---------------------------------------------------------------------------\u001b[0m",
      "\u001b[0;31mLeehojun\u001b[0m                                  Traceback (most recent call last)",
      "\u001b[1;32m/Users/pyeonhaesun/Desktop/ESTsoft_ormi3/ormi3_code/Python/오르미_3기_python5.ipynb 셀 132\u001b[0m line \u001b[0;36m5\n\u001b[1;32m      <a href='vscode-notebook-cell:/Users/pyeonhaesun/Desktop/ESTsoft_ormi3/ormi3_code/Python/%EC%98%A4%EB%A5%B4%EB%AF%B8_3%EA%B8%B0_python5.ipynb#Y313sZmlsZQ%3D%3D?line=1'>2</a>\u001b[0m   \u001b[39mdef\u001b[39;00m \u001b[39m__init__\u001b[39m(\u001b[39mself\u001b[39m):\n\u001b[1;32m      <a href='vscode-notebook-cell:/Users/pyeonhaesun/Desktop/ESTsoft_ormi3/ormi3_code/Python/%EC%98%A4%EB%A5%B4%EB%AF%B8_3%EA%B8%B0_python5.ipynb#Y313sZmlsZQ%3D%3D?line=2'>3</a>\u001b[0m     \u001b[39msuper\u001b[39m()\u001b[39m.\u001b[39m\u001b[39m__init__\u001b[39m(\u001b[39m'\u001b[39m\u001b[39m입력된 값이 leehojun이 아닙니다.\u001b[39m\u001b[39m'\u001b[39m)\n\u001b[0;32m----> <a href='vscode-notebook-cell:/Users/pyeonhaesun/Desktop/ESTsoft_ormi3/ormi3_code/Python/%EC%98%A4%EB%A5%B4%EB%AF%B8_3%EA%B8%B0_python5.ipynb#Y313sZmlsZQ%3D%3D?line=4'>5</a>\u001b[0m \u001b[39mraise\u001b[39;00m Leehojun\n",
      "\u001b[0;31mLeehojun\u001b[0m: 입력된 값이 leehojun이 아닙니다."
     ]
    }
   ],
   "source": [
    "class Leehojun(Exception): #Exception을 상속받으면 됩니다.\n",
    "  def __init__(self):\n",
    "    super().__init__('입력된 값이 leehojun이 아닙니다.')\n",
    "\n",
    "raise Leehojun"
   ]
  },
  {
   "cell_type": "code",
   "execution_count": 14,
   "metadata": {},
   "outputs": [
    {
     "name": "stderr",
     "output_type": "stream",
     "text": [
      "INFO:root:This is an info message\n",
      "WARNING:root:This is a warning message\n",
      "ERROR:root:This is an error message\n",
      "CRITICAL:root:This is a critical message\n"
     ]
    }
   ],
   "source": [
    "import logging\n",
    "\n",
    "logging.basicConfig(level=logging.INFO) # 어느 레벨부터 로깅할지, 기본으로 warning 부터 합니다.\n",
    "\n",
    "logging.debug(\"This is a debug message\") # 고쳐야 할 코드, 기록 필요\n",
    "logging.info(\"This is an info message\") # 정보성 메시지\n",
    "logging.warning(\"This is a warning message\") # 경고 메시지\n",
    "logging.error(\"This is an error message\") # 애러 메시지(프로그램은 동작)\n",
    "logging.critical(\"This is a critical message\") # 프로그램 중지(애러처리 안된경우)"
   ]
  },
  {
   "cell_type": "code",
   "execution_count": 15,
   "metadata": {},
   "outputs": [
    {
     "name": "stderr",
     "output_type": "stream",
     "text": [
      "ERROR:log_name:error\n",
      "CRITICAL:log_name:critical\n",
      "ERROR:log_name:division by zero error\n"
     ]
    },
    {
     "name": "stdout",
     "output_type": "stream",
     "text": [
      "---\n",
      "division by zero\n"
     ]
    }
   ],
   "source": [
    "import logging.handlers\n",
    "\n",
    "def logger():\n",
    "    log_obj = logging.getLogger(\"log_name\") # log name으로 log 객체 생성\n",
    "    log_obj.setLevel(logging.ERROR) # 어디부터 기록할지 설정\n",
    "\n",
    "    fileHandeler = logging.FileHandler(filename=\"./test.txt\") # 파일로 기록\n",
    "    # streamHandler = logging.StreamHandler() # 콘솔에 출력\n",
    "\n",
    "    fileHandeler.setLevel(logging.ERROR) # 파일 기록 레벨 설정\n",
    "    # streamHandler.setLevel(logging.DEBUG) # 콘솔 기록 레벨 설정\n",
    "\n",
    "    formatter = logging.Formatter(\"%(name)s, %(asctime)s, %(levelname)s, %(message)s\") #포멧 생성\n",
    "\n",
    "    fileHandeler.setFormatter(formatter) # 파일 메시지 포멧 설정\n",
    "    # streamHandler.setFormatter(formatter) # 콘솔 메시지 포멧 설정\n",
    "\n",
    "    log_obj.addHandler(fileHandeler) # log_obj handler에 파일 출력 방식 추가\n",
    "    # log_obj.addHandler(streamHandler) # log_obj handler에 파일 콘솔 방식 추가\n",
    "\n",
    "    return log_obj\n",
    "\n",
    "log = logger()\n",
    "\n",
    "# 아래 코드를 기록하고 싶은 곳에 함께 설정\n",
    "log.debug('debug')\n",
    "log.info('info')\n",
    "log.warning('warning')\n",
    "log.error('error')\n",
    "log.critical('critical')\n",
    "\n",
    "print('---')\n",
    "\n",
    "# 아래와 같이 사용합니다.\n",
    "def f():\n",
    "    try:\n",
    "        x = 1 / 0\n",
    "    except Exception as e:\n",
    "        print(e)\n",
    "        log.error(f'{e} error')\n",
    "\n",
    "f()"
   ]
  },
  {
   "cell_type": "markdown",
   "metadata": {},
   "source": [
    "# 연습문제"
   ]
  },
  {
   "cell_type": "code",
   "execution_count": 56,
   "metadata": {},
   "outputs": [
    {
     "data": {
      "text/plain": [
       "'b = 0이라 계산할 수 없습니다.'"
      ]
     },
     "execution_count": 56,
     "metadata": {},
     "output_type": "execute_result"
    }
   ],
   "source": [
    "# 문제1\n",
    "# div(a, b)라고 입력했을 때 b에 0이 입력되면 예외처리를 하여 정상작동이 되게 만들어주세요.\n",
    "\n",
    "def div(a, b):\n",
    "  try:\n",
    "    return a / b\n",
    "  except ZeroDivisionError:\n",
    "    return 'b = 0이라 계산할 수 없습니다.'\n",
    "  \n",
    "div(3, 0)"
   ]
  },
  {
   "cell_type": "code",
   "execution_count": 66,
   "metadata": {},
   "outputs": [
    {
     "name": "stdout",
     "output_type": "stream",
     "text": [
      "음수의 제곱근은 계산할 수 없습니다.\n"
     ]
    },
    {
     "data": {
      "text/plain": [
       "3.0"
      ]
     },
     "execution_count": 66,
     "metadata": {},
     "output_type": "execute_result"
    }
   ],
   "source": [
    "# 문제2(class 쓰레드)\n",
    "# 하나의 숫자에 제곱근을 구하는 함수 sqrt_number(num)이 있었을 때\n",
    "# 자체 예외 NegativeNumberError를 정의하세요. 이 예외는 음수가 입력될 때 발생하도록 합니다.\n",
    "# 사용자로부터 숫자를 입력 받아 그 숫자의 제곱근을 반환하는 함수를 작성하세요.\n",
    "# 입력된 숫자가 음수이면 NegativeNumberError를 발생시키고 \n",
    "# \"음수의 제곱근은 계산할 수 없습니다.\"라는 메시지를 출력하세요.\n",
    "\n",
    "class NegativeNumberError(Exception):\n",
    "  def __init__(self):\n",
    "    super().__init__('음수의 제곱근은 계산할 수 없습니다.')\n",
    "\n",
    "def sqrt_number(num):\n",
    "  try:\n",
    "    if num < 0:\n",
    "      raise NegativeNumberError\n",
    "    else:\n",
    "      return num ** (1/2)\n",
    "  except NegativeNumberError as e:\n",
    "    print(e)\n",
    "\n",
    "sqrt_number(-1)\n",
    "sqrt_number(9)"
   ]
  },
  {
   "cell_type": "code",
   "execution_count": 72,
   "metadata": {},
   "outputs": [
    {
     "name": "stdout",
     "output_type": "stream",
     "text": [
      "리스트의 범위를 벗어났습니다.\n",
      "cherry\n"
     ]
    }
   ],
   "source": [
    "# 문제3(class 쓰레드)\n",
    "# 사용자로부터 인덱스 값을 입력 받아서 리스트 [\"apple\", \"banana\", \"cherry\"]에서 \n",
    "# 해당 인덱스의 값을 출력하는 함수를 작성하세요.\n",
    "# 사용자가 범위를 벗어난 인덱스를 입력하면 \"리스트의 범위를 벗어났습니다.\"라는 메시지를 출력하세요.\n",
    "\n",
    "def print_index(num):\n",
    "  try:\n",
    "    fruits = ['apple', 'banana', 'cherry']\n",
    "    print(fruits[num])\n",
    "  except IndexError:\n",
    "    print('리스트의 범위를 벗어났습니다.')\n",
    "\n",
    "print_index(3)\n",
    "print_index(2)"
   ]
  },
  {
   "cell_type": "code",
   "execution_count": null,
   "metadata": {},
   "outputs": [],
   "source": [
    "# 문제1(라운지 쓰레드)\n",
    "# 두 수를 나누는 함수 div(a, b)가 있었을 때\n",
    "# b에 0이 입력되면 예외처리를 하여 정상작동이 되는 함수로 작성을 해주세요.\n",
    "\n",
    "def div(a, b):\n",
    "    try:\n",
    "        return a / b\n",
    "    except ZeroDivisionError:\n",
    "        print('ZeroDivisionError')\n",
    "    except:\n",
    "        print('Error')\n",
    "\n",
    "div(3, '1')\n",
    "div(3, 0)\n",
    "\n",
    "# 문제2(class 쓰레드)\n",
    "# 하나의 숫자에 제곱근을 구하는 함수 sqrt_number(num)이 있었을 때\n",
    "# 자체 예외 NegativeNumberError를 정의하세요. 이 예외는 음수가 입력될 때 발생하도록 합니다.\n",
    "# 사용자로부터 숫자를 입력 받아 그 숫자의 제곱근을 반환하는 함수를 작성하세요.\n",
    "# 입력된 숫자가 음수이면 NegativeNumberError를 발생시키고\n",
    "# \"음수의 제곱근은 계산할 수 없습니다.\"라는 메시지를 출력하세요.\n",
    "\n",
    "class NegativeNumberError(Exception):\n",
    "    pass\n",
    "\n",
    "def sqrt_number(num):\n",
    "    if num >= 0:\n",
    "        return num ** 0.5\n",
    "    else:\n",
    "        print('음수의 제곱근은 계산할 수 없습니다.')\n",
    "        raise NegativeNumberError\n",
    "\n",
    "# 문제3(class 쓰레드)\n",
    "# 사용자로부터 인덱스 값을 입력 받아서 리스트 [\"apple\", \"banana\", \"cherry\"]에서\n",
    "# 해당 인덱스의 값을 출력하는 함수를 작성하세요.\n",
    "# 사용자가 범위를 벗어난 인덱스를 입력하면 \"리스트의 범위를 벗어났습니다.\"라는 메시지를 출력하세요.\n",
    "\n",
    "def get_item(num):\n",
    "    item_list = ['apple', 'banana', 'cherry']\n",
    "    try:\n",
    "        return item_list[num]\n",
    "    except IndexError:\n",
    "        return '리스트의 범위를 벗어났습니다.'\n",
    "    except: # 이런 경우에 대비하시는 것이 좋습니다.\n",
    "        return '예상치 못한 애러입니다.'\n",
    "\n",
    "num = int(input('인덱스 값을 입력해 주세요.: '))\n",
    "get_item(num)"
   ]
  }
 ],
 "metadata": {
  "kernelspec": {
   "display_name": "Python 3",
   "language": "python",
   "name": "python3"
  },
  "language_info": {
   "codemirror_mode": {
    "name": "ipython",
    "version": 3
   },
   "file_extension": ".py",
   "mimetype": "text/x-python",
   "name": "python",
   "nbconvert_exporter": "python",
   "pygments_lexer": "ipython3",
   "version": "3.11.4"
  },
  "orig_nbformat": 4
 },
 "nbformat": 4,
 "nbformat_minor": 2
}

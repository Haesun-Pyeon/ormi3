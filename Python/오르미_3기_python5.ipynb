{
 "cells": [
  {
   "cell_type": "markdown",
   "metadata": {},
   "source": [
    "# 클래스 변수와 인스턴스 변수"
   ]
  },
  {
   "cell_type": "code",
   "execution_count": 1,
   "metadata": {},
   "outputs": [
    {
     "name": "stdout",
     "output_type": "stream",
     "text": [
      "300\n",
      "300\n",
      "500\n"
     ]
    }
   ],
   "source": [
    "class Car:\n",
    "  # 클래스 변수의 위치\n",
    "  max_speed = 300\n",
    "  max_people = 5\n",
    "  car_gear = ['P', 'D', 'R', 'N']\n",
    "\n",
    "modelx = Car()\n",
    "modely = Car()\n",
    "\n",
    "modely.max_speed = 500\n",
    "\n",
    "print(Car.max_speed) # 출력: 300\n",
    "print(modelx.max_speed) # 출력: 300\n",
    "print(modely.max_speed) # 출력: 500 (인스턴스 변수를 출력한 것입니다.)"
   ]
  },
  {
   "cell_type": "code",
   "execution_count": 3,
   "metadata": {},
   "outputs": [
    {
     "name": "stdout",
     "output_type": "stream",
     "text": [
      "4445039248\n",
      "4445039248\n",
      "4445039344\n"
     ]
    }
   ],
   "source": [
    "class Car:\n",
    "  # 클래스 변수의 위치\n",
    "  max_speed = 1000\n",
    "  max_people = 5\n",
    "  car_gear = ['P', 'D', 'R', 'N']\n",
    "\n",
    "modelx = Car()\n",
    "modely = Car()\n",
    "\n",
    "modely.max_speed = 1000\n",
    "\n",
    "print(id(Car.max_speed)) # 출력: 4445039248\n",
    "print(id(modelx.max_speed)) # 출력: 4445039248\n",
    "print(id(modely.max_speed)) # 출력: 4445039344 (다름)-이미 새로운 인스턴스변수로 생성되었기 때문"
   ]
  },
  {
   "cell_type": "code",
   "execution_count": 4,
   "metadata": {},
   "outputs": [
    {
     "name": "stdout",
     "output_type": "stream",
     "text": [
      "modelx.kinds: ['x', 'y']\n",
      "modely.kinds: ['x', 'y']\n",
      "modelx.speed: 100\n",
      "modely.speed: 100\n"
     ]
    }
   ],
   "source": [
    "class Car:\n",
    "  kinds = []\n",
    "  speed = 300\n",
    "\n",
    "  def add_kinds(self, name):\n",
    "    self.kinds.append(name)\n",
    "\n",
    "  def change_speed(self, speed):\n",
    "    self.speed = speed\n",
    "\n",
    "modelx = Car()\n",
    "modely = Car()\n",
    "\n",
    "modelx.add_kinds('x')\n",
    "modely.add_kinds('y')\n",
    "\n",
    "Car.speed = 100\n",
    "\n",
    "# modelx.change_speed(500)\n",
    "# modely.change_speed(250)\n",
    "\n",
    "print(f'modelx.kinds: {modelx.kinds}') #출력: ['x','y']\n",
    "print(f'modely.kinds: {modely.kinds}') #출력: ['x','y']\n",
    "print(f'modelx.speed: {modelx.speed}') #출력: 100\n",
    "print(f'modely.speed: {modely.speed}') #출력: 100"
   ]
  },
  {
   "cell_type": "code",
   "execution_count": 5,
   "metadata": {},
   "outputs": [
    {
     "name": "stdout",
     "output_type": "stream",
     "text": [
      "modelx.speed: 500\n",
      "modely.speed: 250\n"
     ]
    }
   ],
   "source": [
    "# 일부러 혼란을 드리려고 어렵게 낸 문제입니다.\n",
    "# 이런 문제는 실무에서는 거의 발생하지 않습니다.\n",
    "class Car:\n",
    "  kinds = []\n",
    "  speed = 300\n",
    "\n",
    "  def add_kinds(self, name):\n",
    "    self.kinds.append(name)\n",
    "\n",
    "  def change_speed(self, speed):\n",
    "    self.speed = speed\n",
    "\n",
    "modelx = Car()\n",
    "modely = Car()\n",
    "\n",
    "# Car.speed = 100\n",
    "\n",
    "modelx.change_speed(500)\n",
    "modely.change_speed(250)\n",
    "\n",
    "print(f'modelx.speed: {modelx.speed}') # 출력:500\n",
    "print(f'modely.speed: {modely.speed}') # 출력: 250"
   ]
  },
  {
   "cell_type": "code",
   "execution_count": 7,
   "metadata": {},
   "outputs": [
    {
     "name": "stdout",
     "output_type": "stream",
     "text": [
      "100\n"
     ]
    }
   ],
   "source": [
    "x = 100\n",
    "def test(): # 내 메모리 영역에 x가 없네? 그러면 찾아 올라갑니다.\n",
    "  print(x)\n",
    "\n",
    "test()"
   ]
  },
  {
   "cell_type": "code",
   "execution_count": 10,
   "metadata": {},
   "outputs": [
    {
     "data": {
      "text/plain": [
       "100"
      ]
     },
     "execution_count": 10,
     "metadata": {},
     "output_type": "execute_result"
    }
   ],
   "source": [
    "x = 100\n",
    "def test():\n",
    "  x = 200 # 값을 읽어올 수 있지만 변경은 안됩니다!\n",
    "  # x는 전역변수는 건드리지 않고 지역변수 200을 선언했을 뿐입니다.\n",
    "  \n",
    "test()\n",
    "x # 100"
   ]
  },
  {
   "cell_type": "code",
   "execution_count": 11,
   "metadata": {},
   "outputs": [
    {
     "data": {
      "text/plain": [
       "200"
      ]
     },
     "execution_count": 11,
     "metadata": {},
     "output_type": "execute_result"
    }
   ],
   "source": [
    "x = 100\n",
    "def test():\n",
    "  global x\n",
    "  x = 200 # 전역변수 x를 수정할 수 있게 됩니다!\n",
    "\n",
    "test()\n",
    "x # 200"
   ]
  },
  {
   "cell_type": "code",
   "execution_count": 12,
   "metadata": {},
   "outputs": [
    {
     "ename": "UnboundLocalError",
     "evalue": "cannot access local variable 'x' where it is not associated with a value",
     "output_type": "error",
     "traceback": [
      "\u001b[0;31m---------------------------------------------------------------------------\u001b[0m",
      "\u001b[0;31mUnboundLocalError\u001b[0m                         Traceback (most recent call last)",
      "\u001b[1;32m/Users/pyeonhaesun/Desktop/ESTsoft_ormi3/ormi3_code/Python/오르미_3기_python5.ipynb 셀 9\u001b[0m line \u001b[0;36m6\n\u001b[1;32m      <a href='vscode-notebook-cell:/Users/pyeonhaesun/Desktop/ESTsoft_ormi3/ormi3_code/Python/%EC%98%A4%EB%A5%B4%EB%AF%B8_3%EA%B8%B0_python5.ipynb#X13sZmlsZQ%3D%3D?line=2'>3</a>\u001b[0m \u001b[39mdef\u001b[39;00m \u001b[39mtest\u001b[39m():\n\u001b[1;32m      <a href='vscode-notebook-cell:/Users/pyeonhaesun/Desktop/ESTsoft_ormi3/ormi3_code/Python/%EC%98%A4%EB%A5%B4%EB%AF%B8_3%EA%B8%B0_python5.ipynb#X13sZmlsZQ%3D%3D?line=3'>4</a>\u001b[0m   x \u001b[39m+\u001b[39m\u001b[39m=\u001b[39m \u001b[39m100\u001b[39m\n\u001b[0;32m----> <a href='vscode-notebook-cell:/Users/pyeonhaesun/Desktop/ESTsoft_ormi3/ormi3_code/Python/%EC%98%A4%EB%A5%B4%EB%AF%B8_3%EA%B8%B0_python5.ipynb#X13sZmlsZQ%3D%3D?line=5'>6</a>\u001b[0m test()\n",
      "\u001b[1;32m/Users/pyeonhaesun/Desktop/ESTsoft_ormi3/ormi3_code/Python/오르미_3기_python5.ipynb 셀 9\u001b[0m line \u001b[0;36m4\n\u001b[1;32m      <a href='vscode-notebook-cell:/Users/pyeonhaesun/Desktop/ESTsoft_ormi3/ormi3_code/Python/%EC%98%A4%EB%A5%B4%EB%AF%B8_3%EA%B8%B0_python5.ipynb#X13sZmlsZQ%3D%3D?line=2'>3</a>\u001b[0m \u001b[39mdef\u001b[39;00m \u001b[39mtest\u001b[39m():\n\u001b[0;32m----> <a href='vscode-notebook-cell:/Users/pyeonhaesun/Desktop/ESTsoft_ormi3/ormi3_code/Python/%EC%98%A4%EB%A5%B4%EB%AF%B8_3%EA%B8%B0_python5.ipynb#X13sZmlsZQ%3D%3D?line=3'>4</a>\u001b[0m   x \u001b[39m+\u001b[39m\u001b[39m=\u001b[39m \u001b[39m100\u001b[39m\n",
      "\u001b[0;31mUnboundLocalError\u001b[0m: cannot access local variable 'x' where it is not associated with a value"
     ]
    }
   ],
   "source": [
    "# 오류나는 코드\n",
    "x = 100\n",
    "def test():\n",
    "  x += 100 # x + 100 할때 에러발생\n",
    "\n",
    "test()"
   ]
  },
  {
   "cell_type": "code",
   "execution_count": 13,
   "metadata": {},
   "outputs": [
    {
     "data": {
      "text/plain": [
       "200"
      ]
     },
     "execution_count": 13,
     "metadata": {},
     "output_type": "execute_result"
    }
   ],
   "source": [
    "x = 100\n",
    "def test():\n",
    "  global x\n",
    "  x += 100\n",
    "\n",
    "test()\n",
    "x"
   ]
  },
  {
   "cell_type": "code",
   "execution_count": 14,
   "metadata": {},
   "outputs": [
    {
     "data": {
      "text/plain": [
       "[100]"
      ]
     },
     "execution_count": 14,
     "metadata": {},
     "output_type": "execute_result"
    }
   ],
   "source": [
    "x = []\n",
    "def test():\n",
    "  x.append(100) #이미 할당되어 있는 x라는 리스트에 메소드를 호출\n",
    "\n",
    "test()\n",
    "x"
   ]
  },
  {
   "cell_type": "code",
   "execution_count": 15,
   "metadata": {},
   "outputs": [
    {
     "data": {
      "text/plain": [
       "[10, 20, 30, 40]"
      ]
     },
     "execution_count": 15,
     "metadata": {},
     "output_type": "execute_result"
    }
   ],
   "source": [
    "# 매우 중요합니다.\n",
    "l = [10, 20, 30]\n",
    "def test(ll):\n",
    "  ll.append(40)\n",
    "\n",
    "test(l)\n",
    "l"
   ]
  },
  {
   "cell_type": "code",
   "execution_count": 16,
   "metadata": {},
   "outputs": [
    {
     "data": {
      "text/plain": [
       "100"
      ]
     },
     "execution_count": 16,
     "metadata": {},
     "output_type": "execute_result"
    }
   ],
   "source": [
    "# 화살표 그릴 수 있어야 합니다.\n",
    "i = 100\n",
    "def test(ii): #ii는 i가 가리키는 100을 가리키다가\n",
    "  ii = 300 #여기서 300을 가리킴 (기존i는그대로)\n",
    "\n",
    "test(i)\n",
    "i # 100"
   ]
  },
  {
   "cell_type": "code",
   "execution_count": 17,
   "metadata": {},
   "outputs": [
    {
     "data": {
      "text/plain": [
       "[10, 20, 30]"
      ]
     },
     "execution_count": 17,
     "metadata": {},
     "output_type": "execute_result"
    }
   ],
   "source": [
    "l = [10, 20, 30]\n",
    "def test(ll): #ll은 l이가리키는[10,20,30]가리키다가\n",
    "  ll = 100 #여기서 100가리키는거로 바뀜\n",
    "\n",
    "test(l)\n",
    "l"
   ]
  },
  {
   "cell_type": "code",
   "execution_count": 6,
   "metadata": {},
   "outputs": [
    {
     "data": {
      "text/plain": [
       "[100]"
      ]
     },
     "execution_count": 6,
     "metadata": {},
     "output_type": "execute_result"
    }
   ],
   "source": [
    "kinds = []\n",
    "\n",
    "def add_kinds(value):\n",
    "  kinds.append(value) # 지역에 해당 변수가 없으므로 전역변수 kinds에 append\n",
    "\n",
    "add_kinds(100)\n",
    "kinds"
   ]
  },
  {
   "cell_type": "code",
   "execution_count": 52,
   "metadata": {},
   "outputs": [
    {
     "data": {
      "text/plain": [
       "[]"
      ]
     },
     "execution_count": 52,
     "metadata": {},
     "output_type": "execute_result"
    }
   ],
   "source": [
    "kinds = []\n",
    "\n",
    "def add_kinds(value):\n",
    "  kinds = []\n",
    "  kinds.append(value) #바로위 kinds에 append\n",
    "\n",
    "add_kinds(100)\n",
    "kinds #기존거는 그대로"
   ]
  },
  {
   "cell_type": "code",
   "execution_count": 20,
   "metadata": {},
   "outputs": [
    {
     "name": "stdout",
     "output_type": "stream",
     "text": [
      "<class 'function'>\n"
     ]
    }
   ],
   "source": [
    "def hello():\n",
    "  print('hello world')\n",
    "\n",
    "print(type(hello)) # 출력: <class 'function'>"
   ]
  },
  {
   "cell_type": "code",
   "execution_count": 21,
   "metadata": {},
   "outputs": [
    {
     "data": {
      "text/plain": [
       "'hi world'"
      ]
     },
     "execution_count": 21,
     "metadata": {},
     "output_type": "execute_result"
    }
   ],
   "source": [
    "hello.hi = 'hi world' #함수도 클래스이므로 인스턴스를 넣을 수 있다.\n",
    "hello.hi"
   ]
  },
  {
   "cell_type": "code",
   "execution_count": 22,
   "metadata": {},
   "outputs": [
    {
     "name": "stdout",
     "output_type": "stream",
     "text": [
      "10 20\n",
      "20 30\n",
      "30 50\n",
      "36.05551275463989\n"
     ]
    }
   ],
   "source": [
    "class Point:\n",
    "\n",
    "    def __init__(self, x, y): #(메서드간 한줄씩 개행)\n",
    "        self.x = x\n",
    "        self.y = y\n",
    "\n",
    "    def __add__(self, other):\n",
    "        if isinstance(other, Point):\n",
    "            return Point((self.x + other.x), (self.y + other.y))\n",
    "        elif isinstance(other, int) or isinstance(other, float):\n",
    "            return Point((self.x + other), (self.y + other))\n",
    "\n",
    "    def distance(self, other):\n",
    "        dx = self.x - other.x\n",
    "        dy = self.y - other.y\n",
    "        return (dx**2 + dy**2)**0.5\n",
    "\n",
    "dot1 = Point(10, 20)\n",
    "dot2 = Point(20, 30)\n",
    "\n",
    "dot3 = dot1 + 10\n",
    "print(dot1.x, dot1.y) # 출력: 10 20\n",
    "print(dot3.x, dot3.y) # 출력: 20 30\n",
    "\n",
    "dot4 = dot1 + dot2\n",
    "print(dot4.x, dot4.y) # 출력: 30 50\n",
    "print(dot4.distance(dot1)) # 출력: 36.05551275463989"
   ]
  },
  {
   "cell_type": "code",
   "execution_count": 57,
   "metadata": {},
   "outputs": [
    {
     "name": "stdout",
     "output_type": "stream",
     "text": [
      "hello\n"
     ]
    },
    {
     "data": {
      "text/plain": [
       "world"
      ]
     },
     "execution_count": 57,
     "metadata": {},
     "output_type": "execute_result"
    }
   ],
   "source": [
    "class Counter:\n",
    "  \n",
    "  def __init__(self):\n",
    "    self.num = 0\n",
    "\n",
    "  def __len__(self):\n",
    "    return 100000\n",
    "  \n",
    "  def __call__(self):\n",
    "    return 'calling'\n",
    "  \n",
    "  def __getitem__(self, key):\n",
    "    return key * 10\n",
    "\n",
    "  def __str__(self):\n",
    "    return 'hello'\n",
    "  \n",
    "  def __repr__(self):\n",
    "    return 'world'\n",
    "\n",
    "c = Counter()\n",
    "len(c) # 출력: 100000\n",
    "c() # 출력: calling\n",
    "c[10] # 출력: 100\n",
    "print(c) # 출력: hello / print(str(c))와 같음 __str__호출\n",
    "c # 출력: world / __repr__호출"
   ]
  },
  {
   "cell_type": "markdown",
   "metadata": {},
   "source": [
    "# 상속"
   ]
  },
  {
   "cell_type": "code",
   "execution_count": 59,
   "metadata": {},
   "outputs": [
    {
     "data": {
      "text/plain": [
       "'world'"
      ]
     },
     "execution_count": 59,
     "metadata": {},
     "output_type": "execute_result"
    }
   ],
   "source": [
    "class A:\n",
    "  def hello(self):\n",
    "    return 'hello'\n",
    "\n",
    "class B(A):\n",
    "  def world(self):\n",
    "    return 'world'\n",
    "  \n",
    "b = B()\n",
    "b.hello()\n",
    "b.world()"
   ]
  },
  {
   "cell_type": "code",
   "execution_count": 39,
   "metadata": {},
   "outputs": [
    {
     "name": "stdout",
     "output_type": "stream",
     "text": [
      "10 <__main__.B object at 0x109000a50>\n"
     ]
    },
    {
     "data": {
      "text/plain": [
       "'world'"
      ]
     },
     "execution_count": 39,
     "metadata": {},
     "output_type": "execute_result"
    }
   ],
   "source": [
    "class A:\n",
    "  def hello(self):\n",
    "    return 'hello'\n",
    "\n",
    "class B(A):\n",
    "  def __init__(self, a):\n",
    "    print(a, b)\n",
    "\n",
    "  def world(self):\n",
    "    return 'world'\n",
    "  \n",
    "b = B(10) #A에서 처리하는 것 아니고 a에서 처리합니다.\n",
    "b.hello()\n",
    "b.world()"
   ]
  },
  {
   "cell_type": "code",
   "execution_count": 38,
   "metadata": {},
   "outputs": [
    {
     "name": "stdout",
     "output_type": "stream",
     "text": [
      "10 <__main__.B object at 0x108f96150>\n"
     ]
    },
    {
     "data": {
      "text/plain": [
       "['__class__',\n",
       " '__delattr__',\n",
       " '__dict__',\n",
       " '__dir__',\n",
       " '__doc__',\n",
       " '__eq__',\n",
       " '__format__',\n",
       " '__ge__',\n",
       " '__getattribute__',\n",
       " '__getstate__',\n",
       " '__gt__',\n",
       " '__hash__',\n",
       " '__init__',\n",
       " '__init_subclass__',\n",
       " '__le__',\n",
       " '__lt__',\n",
       " '__module__',\n",
       " '__ne__',\n",
       " '__new__',\n",
       " '__reduce__',\n",
       " '__reduce_ex__',\n",
       " '__repr__',\n",
       " '__setattr__',\n",
       " '__sizeof__',\n",
       " '__str__',\n",
       " '__subclasshook__',\n",
       " '__weakref__',\n",
       " 'hello',\n",
       " 'world']"
      ]
     },
     "execution_count": 38,
     "metadata": {},
     "output_type": "execute_result"
    }
   ],
   "source": [
    "class A(object):\n",
    "  def hello(self):\n",
    "    return 'hello'\n",
    "\n",
    "class B(A):\n",
    "  def __init__(self, a):\n",
    "    print(a, b)\n",
    "\n",
    "  def world(self):\n",
    "    return 'world'\n",
    "  \n",
    "b = B(10) #A에서 처리하는 것 아니고 a에서 처리합니다.\n",
    "b.hello()\n",
    "b.world()\n",
    "dir(b)"
   ]
  },
  {
   "cell_type": "code",
   "execution_count": 41,
   "metadata": {},
   "outputs": [
    {
     "name": "stdout",
     "output_type": "stream",
     "text": [
      "10 <__main__.B object at 0x108f95750>\n"
     ]
    },
    {
     "data": {
      "text/plain": [
       "'hello world'"
      ]
     },
     "execution_count": 41,
     "metadata": {},
     "output_type": "execute_result"
    }
   ],
   "source": [
    "class A:\n",
    "  def hello(self):\n",
    "    return 'hello'\n",
    "\n",
    "class B(A):\n",
    "  def __init__(self, a):\n",
    "    print(a, b)\n",
    "\n",
    "  def hello(self):\n",
    "    return 'hello world'\n",
    "  \n",
    "b = B(10) #A에서 처리하는 것 아니고 a에서 처리합니다.\n",
    "b.hello() #B의 hello가 A의 hello를 덮습니다."
   ]
  },
  {
   "cell_type": "code",
   "execution_count": 43,
   "metadata": {},
   "outputs": [
    {
     "data": {
      "text/plain": [
       "'three'"
      ]
     },
     "execution_count": 43,
     "metadata": {},
     "output_type": "execute_result"
    }
   ],
   "source": [
    "class A(object):\n",
    "  def one(self):\n",
    "    return 'one'\n",
    "  \n",
    "class B(A):\n",
    "  def two(self):\n",
    "    return 'two'\n",
    "\n",
    "class C(B):\n",
    "  def three(self):\n",
    "    return 'three'\n",
    "  \n",
    "c = C()\n",
    "c.one()\n",
    "c.two()\n",
    "c.three()"
   ]
  },
  {
   "cell_type": "code",
   "execution_count": 44,
   "metadata": {},
   "outputs": [
    {
     "data": {
      "text/plain": [
       "300"
      ]
     },
     "execution_count": 44,
     "metadata": {},
     "output_type": "execute_result"
    }
   ],
   "source": [
    "class A(object):\n",
    "  test = 0\n",
    "  def one(self):\n",
    "    return 'one'\n",
    "  \n",
    "class B(A):\n",
    "  def two(self):\n",
    "    return 'two'\n",
    "\n",
    "class C(B):\n",
    "  def three(self):\n",
    "    return 'three'\n",
    "  \n",
    "c = C()\n",
    "A.test = 300\n",
    "c.test # 상속을 받을 때 내 메모리 영역의 값(보유하고 있는 값)은 아닙니다. 참조 값입니다."
   ]
  },
  {
   "cell_type": "code",
   "execution_count": 45,
   "metadata": {},
   "outputs": [
    {
     "ename": "TypeError",
     "evalue": "B.one() missing 2 required positional arguments: 'x' and 'y'",
     "output_type": "error",
     "traceback": [
      "\u001b[0;31m---------------------------------------------------------------------------\u001b[0m",
      "\u001b[0;31mTypeError\u001b[0m                                 Traceback (most recent call last)",
      "\u001b[1;32m/Users/pyeonhaesun/Desktop/ESTsoft_ormi3/ormi3_code/Python/오르미_3기_python5.ipynb 셀 26\u001b[0m line \u001b[0;36m1\n\u001b[1;32m     <a href='vscode-notebook-cell:/Users/pyeonhaesun/Desktop/ESTsoft_ormi3/ormi3_code/Python/%EC%98%A4%EB%A5%B4%EB%AF%B8_3%EA%B8%B0_python5.ipynb#X34sZmlsZQ%3D%3D?line=10'>11</a>\u001b[0m     \u001b[39mreturn\u001b[39;00m x \u001b[39m+\u001b[39m y\n\u001b[1;32m     <a href='vscode-notebook-cell:/Users/pyeonhaesun/Desktop/ESTsoft_ormi3/ormi3_code/Python/%EC%98%A4%EB%A5%B4%EB%AF%B8_3%EA%B8%B0_python5.ipynb#X34sZmlsZQ%3D%3D?line=12'>13</a>\u001b[0m b \u001b[39m=\u001b[39m B()\n\u001b[0;32m---> <a href='vscode-notebook-cell:/Users/pyeonhaesun/Desktop/ESTsoft_ormi3/ormi3_code/Python/%EC%98%A4%EB%A5%B4%EB%AF%B8_3%EA%B8%B0_python5.ipynb#X34sZmlsZQ%3D%3D?line=13'>14</a>\u001b[0m b\u001b[39m.\u001b[39;49mone()\n",
      "\u001b[0;31mTypeError\u001b[0m: B.one() missing 2 required positional arguments: 'x' and 'y'"
     ]
    }
   ],
   "source": [
    "class A(object):\n",
    "  test = 0\n",
    "  def one(self):\n",
    "    return 'one'\n",
    "  \n",
    "class B(A):\n",
    "  def one(self, x):\n",
    "    return x\n",
    "  \n",
    "  def one(self, x, y): #파이썬은 오버로드가 안된다. 이거 오류\n",
    "    return x + y\n",
    "\n",
    "b = B()\n",
    "b.one()"
   ]
  },
  {
   "cell_type": "markdown",
   "metadata": {},
   "source": [
    "# 다중상속"
   ]
  },
  {
   "cell_type": "code",
   "execution_count": 53,
   "metadata": {},
   "outputs": [
    {
     "name": "stdout",
     "output_type": "stream",
     "text": [
      "hello A\n"
     ]
    },
    {
     "data": {
      "text/plain": [
       "[__main__.C, __main__.A, __main__.B, object]"
      ]
     },
     "execution_count": 53,
     "metadata": {},
     "output_type": "execute_result"
    }
   ],
   "source": [
    "class A:\n",
    "  def hello(self):\n",
    "    print('hello A')\n",
    "\n",
    "class B:\n",
    "  def hello(self):\n",
    "    print('hello B')\n",
    "  \n",
    "class C(A, B):\n",
    "  pass\n",
    "\n",
    "c = C()\n",
    "c.hello() #주의! Python의 코드 특성상 hello B라고 오해할만합니다. 2.x와 3.x가 상속의 순서가 다릅니다.\n",
    "C.mro()"
   ]
  },
  {
   "cell_type": "code",
   "execution_count": 62,
   "metadata": {},
   "outputs": [
    {
     "name": "stdout",
     "output_type": "stream",
     "text": [
      "hello C\n"
     ]
    },
    {
     "data": {
      "text/plain": [
       "[__main__.D, __main__.B, __main__.C, __main__.A, object]"
      ]
     },
     "execution_count": 62,
     "metadata": {},
     "output_type": "execute_result"
    }
   ],
   "source": [
    "#주의! Python의 2.x와 3.x가 아래 다이아몬드 상속의 순서가 다릅니다.\n",
    "# 3.x에서는 hello C가, 2.x에서는 hello A가 출력됩니다.\n",
    "# 다만 2.x에서 A => class A(object)로 바꾸면 실행 순서는 같아집니다.\n",
    "class A:\n",
    "  def hello(self):\n",
    "    print('hello A')\n",
    "  \n",
    "class B(A):\n",
    "  pass\n",
    "\n",
    "class C(A):\n",
    "  def hello(self):\n",
    "    print('hello C')\n",
    "\n",
    "class D(B, C):\n",
    "  pass\n",
    "\n",
    "d = D()\n",
    "d.hello()\n",
    "D.mro()"
   ]
  },
  {
   "cell_type": "code",
   "execution_count": 54,
   "metadata": {},
   "outputs": [
    {
     "name": "stdout",
     "output_type": "stream",
     "text": [
      "hello C\n"
     ]
    }
   ],
   "source": [
    "# 다중 상속을 했을 때 상속에서 error가 나는 경우 - 정상실행\n",
    "class A:\n",
    "  def hello(self):\n",
    "    print('hello A')\n",
    "  \n",
    "class B(A):\n",
    "  def hello(self):\n",
    "    print('hello B')\n",
    "\n",
    "class C(B):\n",
    "  def hello(self):\n",
    "    print('hello C')\n",
    "\n",
    "class D(C, B):\n",
    "  pass\n",
    "\n",
    "d = D()\n",
    "d.hello()"
   ]
  },
  {
   "cell_type": "code",
   "execution_count": 55,
   "metadata": {},
   "outputs": [
    {
     "ename": "TypeError",
     "evalue": "Cannot create a consistent method resolution\norder (MRO) for bases B, C",
     "output_type": "error",
     "traceback": [
      "\u001b[0;31m---------------------------------------------------------------------------\u001b[0m",
      "\u001b[0;31mTypeError\u001b[0m                                 Traceback (most recent call last)",
      "\u001b[1;32m/Users/pyeonhaesun/Desktop/ESTsoft_ormi3/ormi3_code/Python/오르미_3기_python5.ipynb 셀 32\u001b[0m line \u001b[0;36m1\n\u001b[1;32m     <a href='vscode-notebook-cell:/Users/pyeonhaesun/Desktop/ESTsoft_ormi3/ormi3_code/Python/%EC%98%A4%EB%A5%B4%EB%AF%B8_3%EA%B8%B0_python5.ipynb#X46sZmlsZQ%3D%3D?line=10'>11</a>\u001b[0m   \u001b[39mdef\u001b[39;00m \u001b[39mhello\u001b[39m(\u001b[39mself\u001b[39m):\n\u001b[1;32m     <a href='vscode-notebook-cell:/Users/pyeonhaesun/Desktop/ESTsoft_ormi3/ormi3_code/Python/%EC%98%A4%EB%A5%B4%EB%AF%B8_3%EA%B8%B0_python5.ipynb#X46sZmlsZQ%3D%3D?line=11'>12</a>\u001b[0m     \u001b[39mprint\u001b[39m(\u001b[39m'\u001b[39m\u001b[39mhello C\u001b[39m\u001b[39m'\u001b[39m)\n\u001b[0;32m---> <a href='vscode-notebook-cell:/Users/pyeonhaesun/Desktop/ESTsoft_ormi3/ormi3_code/Python/%EC%98%A4%EB%A5%B4%EB%AF%B8_3%EA%B8%B0_python5.ipynb#X46sZmlsZQ%3D%3D?line=13'>14</a>\u001b[0m \u001b[39mclass\u001b[39;49;00m \u001b[39mD\u001b[39;49;00m(B, C):\n\u001b[1;32m     <a href='vscode-notebook-cell:/Users/pyeonhaesun/Desktop/ESTsoft_ormi3/ormi3_code/Python/%EC%98%A4%EB%A5%B4%EB%AF%B8_3%EA%B8%B0_python5.ipynb#X46sZmlsZQ%3D%3D?line=14'>15</a>\u001b[0m   \u001b[39mpass\u001b[39;49;00m\n\u001b[1;32m     <a href='vscode-notebook-cell:/Users/pyeonhaesun/Desktop/ESTsoft_ormi3/ormi3_code/Python/%EC%98%A4%EB%A5%B4%EB%AF%B8_3%EA%B8%B0_python5.ipynb#X46sZmlsZQ%3D%3D?line=16'>17</a>\u001b[0m d \u001b[39m=\u001b[39m D()\n",
      "\u001b[0;31mTypeError\u001b[0m: Cannot create a consistent method resolution\norder (MRO) for bases B, C"
     ]
    }
   ],
   "source": [
    "# 다중 상속을 했을 때 상속에서 error가 나는 경우 - error\n",
    "class A:\n",
    "  def hello(self):\n",
    "    print('hello A')\n",
    "  \n",
    "class B(A):\n",
    "  def hello(self):\n",
    "    print('hello B')\n",
    "\n",
    "class C(B):\n",
    "  def hello(self):\n",
    "    print('hello C')\n",
    "\n",
    "class D(B, C):\n",
    "  pass\n",
    "\n",
    "d = D()\n",
    "d.hello()"
   ]
  },
  {
   "cell_type": "code",
   "execution_count": 63,
   "metadata": {},
   "outputs": [
    {
     "ename": "TypeError",
     "evalue": "Cannot create a consistent method resolution\norder (MRO) for bases HybridCar, ElectricCar",
     "output_type": "error",
     "traceback": [
      "\u001b[0;31m---------------------------------------------------------------------------\u001b[0m",
      "\u001b[0;31mTypeError\u001b[0m                                 Traceback (most recent call last)",
      "\u001b[1;32m/Users/pyeonhaesun/Desktop/ESTsoft_ormi3/ormi3_code/Python/오르미_3기_python5.ipynb 셀 34\u001b[0m line \u001b[0;36m1\n\u001b[1;32m      <a href='vscode-notebook-cell:/Users/pyeonhaesun/Desktop/ESTsoft_ormi3/ormi3_code/Python/%EC%98%A4%EB%A5%B4%EB%AF%B8_3%EA%B8%B0_python5.ipynb#X65sZmlsZQ%3D%3D?line=6'>7</a>\u001b[0m \u001b[39mclass\u001b[39;00m \u001b[39mElectricCar\u001b[39;00m(HybridCar):\n\u001b[1;32m      <a href='vscode-notebook-cell:/Users/pyeonhaesun/Desktop/ESTsoft_ormi3/ormi3_code/Python/%EC%98%A4%EB%A5%B4%EB%AF%B8_3%EA%B8%B0_python5.ipynb#X65sZmlsZQ%3D%3D?line=7'>8</a>\u001b[0m   \u001b[39mpass\u001b[39;00m\n\u001b[0;32m---> <a href='vscode-notebook-cell:/Users/pyeonhaesun/Desktop/ESTsoft_ormi3/ormi3_code/Python/%EC%98%A4%EB%A5%B4%EB%AF%B8_3%EA%B8%B0_python5.ipynb#X65sZmlsZQ%3D%3D?line=9'>10</a>\u001b[0m \u001b[39mclass\u001b[39;49;00m \u001b[39mHybridElectricCar\u001b[39;49;00m(HybridCar, ElectricCar):\n\u001b[1;32m     <a href='vscode-notebook-cell:/Users/pyeonhaesun/Desktop/ESTsoft_ormi3/ormi3_code/Python/%EC%98%A4%EB%A5%B4%EB%AF%B8_3%EA%B8%B0_python5.ipynb#X65sZmlsZQ%3D%3D?line=10'>11</a>\u001b[0m   \u001b[39mpass\u001b[39;49;00m\n\u001b[1;32m     <a href='vscode-notebook-cell:/Users/pyeonhaesun/Desktop/ESTsoft_ormi3/ormi3_code/Python/%EC%98%A4%EB%A5%B4%EB%AF%B8_3%EA%B8%B0_python5.ipynb#X65sZmlsZQ%3D%3D?line=12'>13</a>\u001b[0m modelz \u001b[39m=\u001b[39m HybridElectricCar()\n",
      "\u001b[0;31mTypeError\u001b[0m: Cannot create a consistent method resolution\norder (MRO) for bases HybridCar, ElectricCar"
     ]
    }
   ],
   "source": [
    "class Car(object):\n",
    "  pass\n",
    "\n",
    "class HybridCar(Car):\n",
    "  pass\n",
    "\n",
    "class ElectricCar(HybridCar):\n",
    "  pass\n",
    "\n",
    "class HybridElectricCar(HybridCar, ElectricCar):\n",
    "  pass\n",
    "\n",
    "modelz = HybridElectricCar() #error"
   ]
  },
  {
   "cell_type": "markdown",
   "metadata": {},
   "source": [
    "# 연습문제\n",
    "\n",
    "게임에서 캐릭터를 구현할 예정입니다. 아래 클래스를 적절하게 조합하여 hero 인스턴스와 villain 인스턴스를 만들어주세요.\n",
    "* 명시된 class 외 다른 클래스를 더 추가할 수 있습니다.\n",
    "* 안에 들어가는 멤버나 메서드는 자유롭게 작성할 수 있습니다.\n",
    "\n",
    "1. class Body (능력치)\n",
    "2. class Weapon (무기)\n",
    "3. class WeaponEnhancement (무기강화)\n",
    "4. class Skill (기술)\n",
    "5. class Equipment (장비)\n",
    "6. class Role (히어로인지, 빌런인지, 몹인지)"
   ]
  },
  {
   "cell_type": "code",
   "execution_count": 11,
   "metadata": {},
   "outputs": [
    {
     "data": {
      "text/plain": [
       "25000"
      ]
     },
     "execution_count": 11,
     "metadata": {},
     "output_type": "execute_result"
    }
   ],
   "source": [
    "class Weapon:\n",
    "  def setDamage(self, damage):\n",
    "    self.damage = damage\n",
    "\n",
    "class WeaponEnhancement(Weapon):\n",
    "  def setEnhance(self, success):\n",
    "    if success == True:\n",
    "      self.damage *= 5\n",
    "    else:\n",
    "      self.damage = 0\n",
    "\n",
    "class Equipment(WeaponEnhancement):\n",
    "  pass\n",
    "\n",
    "class Role:\n",
    "  def setRole(self, role):\n",
    "    self.role = role\n",
    "\n",
    "class Skill:\n",
    "  def javis(self):\n",
    "    return '자비스! 도와줘!'\n",
    "  \n",
    "  def beam(self):\n",
    "    return '나가라 빔!'\n",
    "\n",
    "class Body(Role, Equipment, Skill):\n",
    "  def __init__(self, role, hp, mp, power):\n",
    "    self.setRole(role)\n",
    "\n",
    "ironman = Body('hero', 100, 100, 100)\n",
    "thanos = Body('villain', 100, 100, 80)\n",
    "ironman.role\n",
    "ironman.javis()\n",
    "ironman.setDamage(1000)\n",
    "ironman.damage\n",
    "ironman.setEnhance(True)\n",
    "ironman.setEnhance(True)\n",
    "ironman.damage\n"
   ]
  },
  {
   "cell_type": "code",
   "execution_count": 37,
   "metadata": {},
   "outputs": [
    {
     "data": {
      "text/plain": [
       "70"
      ]
     },
     "execution_count": 37,
     "metadata": {},
     "output_type": "execute_result"
    }
   ],
   "source": [
    "class Weapon:\n",
    "  def __init__(self, name):\n",
    "    self.name = name\n",
    "\n",
    "  def setDamage(self, damage):\n",
    "    self.damage = damage\n",
    "\n",
    "class WeaponEnhancement(Weapon):\n",
    "  def setEnhance(self, success):\n",
    "    if success == True:\n",
    "      self.damage *= 4\n",
    "    else:\n",
    "      self.damage /= 2\n",
    "\n",
    "class Equipment(WeaponEnhancement):\n",
    "  def __init__(self, equip):\n",
    "    self.equip = equip\n",
    "\n",
    "class Role:\n",
    "  def setRole(self, role):\n",
    "    self.role = role\n",
    "\n",
    "class Skill():\n",
    "  def attack(self, enemy):\n",
    "    self.enemy = enemy\n",
    "    if self.damage:\n",
    "      self.enemy.hp -= self.damage\n",
    "    else:\n",
    "      self.enemy.hp -= 10\n",
    "\n",
    "  def magic(self, enemy):\n",
    "    self.enemy = enemy\n",
    "    if self.damage:\n",
    "      self.enemy.mp -= self.damage\n",
    "    else:\n",
    "      self.enemy.hp -= 10\n",
    "\n",
    "class Body(Role, Equipment, Skill):\n",
    "  def __init__(self, role, hp, mp, power):\n",
    "    self.setRole(role)\n",
    "    self.hp = hp\n",
    "    self.mp = mp\n",
    "    self.power = power\n",
    "\n",
    "ironman = Body('hero', 100, 100, 100)\n",
    "thanos = Body('villain', 100, 100, 80)\n",
    "ironman.setDamage(30)\n",
    "ironman.attack(thanos)\n",
    "thanos.hp"
   ]
  },
  {
   "cell_type": "markdown",
   "metadata": {},
   "source": [
    "문제 1\n",
    "* 동물 클래스 Animal을 만들어주세요. Dog와 Cat 클래스를 각각 정의하십시오.\n",
    "\n",
    "* Animal 클래스는 name 속성을 가집니다. 이 클래스는 make_sound 메서드를 갖고 있습니다.\n",
    "\n",
    "* Dog와 Cat 클래스는 Animal 클래스를 상속받는 클래스입니다. Dog 클래스의 make_sound 메서드는 \"멍멍!\"을, Cat 클래스의 make_sound 메서드는 \"야옹!\"을 출력하도록 재정의하세요.\n",
    "\n",
    "* 더 완성도 높은 클래스를 만들어보세요. 추가 속성이나 메서드 작성 가능합니다.\n",
    "\n",
    "문제 2\n",
    "* Person이라는 기본 클래스를 만들어주세요. Person 클래스는 이름과 나이라는 두 개의 속성과 소개하기라는 메서드를 가지며, 이 메서드는 \"Hello World!, 제 이름은 [이름]이고 제 나이는 [나이]살 입니다.\"라는 메시지를 출력합니다.\n",
    "\n",
    "* Person 클래스를 상속받는 Student 클래스를 정의하십시오. Student 클래스는 추가적으로 학년 속성을 가집니다. Student 클래스에서 소개하기 메서드를 오버라이드하여 \"Hello World!, 제 이름은 [이름]이고 제 나이는 [나이]살 입니다. 그리고 저는 [학년]학년입니다. \"라는 메시지를 출력하도록 만드세요."
   ]
  },
  {
   "cell_type": "code",
   "execution_count": 51,
   "metadata": {},
   "outputs": [
    {
     "name": "stdout",
     "output_type": "stream",
     "text": [
      "메리 멍멍!\n",
      "나비 야옹!\n"
     ]
    }
   ],
   "source": [
    "#문제1\n",
    "class Animal:\n",
    "  \n",
    "  def __init__(self, name):\n",
    "    self.name = name\n",
    "\n",
    "  def make_sound():\n",
    "    pass\n",
    "\n",
    "class Dog(Animal):\n",
    "\n",
    "  def make_sound(self):\n",
    "    return '멍멍!'\n",
    "\n",
    "class Cat(Animal):\n",
    "  \n",
    "  def make_sound(self):\n",
    "    return '야옹!'\n",
    "\n",
    "dog = Dog('메리')\n",
    "cat = Cat('나비')\n",
    "print(dog.name, dog.make_sound())\n",
    "print(cat.name, cat.make_sound())"
   ]
  },
  {
   "cell_type": "code",
   "execution_count": 50,
   "metadata": {},
   "outputs": [
    {
     "name": "stdout",
     "output_type": "stream",
     "text": [
      "Hello World!, 제 이름은 김철수이고 제 나이는 10살 입니다.\n",
      "Hello World!, 제 이름은 박민수이고 제 나이는 13살 입니다. 그리고 저는 6학년입니다.\n"
     ]
    }
   ],
   "source": [
    "#문제2\n",
    "class Person:\n",
    "  \n",
    "  def __init__(self, name, age):\n",
    "    self.name = name\n",
    "    self.age = age\n",
    "\n",
    "  def introduce(self):\n",
    "    print(f'Hello World!, 제 이름은 {self.name}이고 제 나이는 {self.age}살 입니다.')\n",
    "\n",
    "class Student(Person):\n",
    "  \n",
    "  def __init__(self, name, age, grade):\n",
    "    super().__init__(name, age)\n",
    "    self.grade = grade\n",
    "  \n",
    "  def introduce(self):\n",
    "    print(f'Hello World!, 제 이름은 {self.name}이고 제 나이는 {self.age}살 입니다. 그리고 저는 {self.grade}학년입니다.')\n",
    "\n",
    "chulsu = Person('김철수', 10)\n",
    "chulsu.introduce()\n",
    "minsu = Student('박민수', 13, 6)\n",
    "minsu.introduce()"
   ]
  },
  {
   "cell_type": "code",
   "execution_count": null,
   "metadata": {},
   "outputs": [],
   "source": [
    "# 1번\n",
    "class Animal:\n",
    "    def __init__(self, name):\n",
    "        self.name = name\n",
    "\n",
    "    def make_sound(self):\n",
    "        pass\n",
    "\n",
    "\n",
    "class Dog(Animal):\n",
    "    def make_sound(self):\n",
    "        return \"멍멍!\"\n",
    "\n",
    "\n",
    "class Cat(Animal):\n",
    "    def make_sound(self):\n",
    "        return \"야옹!\"\n",
    "\n",
    "# 2번\n",
    "class Person:\n",
    "    def __init__(self, name, age):\n",
    "        self.name = name\n",
    "        self.age = age\n",
    "\n",
    "    def introduce(self):\n",
    "        return f'안녕하세요! 제 이름은 {self.name}이고 제 나이는 {self.age}입니다'\n",
    "\n",
    "\n",
    "class Student(Person):\n",
    "    def __init__(self, name, age, grade):\n",
    "        super().__init__(name, age)\n",
    "        self.grade = grade\n",
    "\n",
    "    def introduce(self):\n",
    "        return f'안녕하세요! 제 이름은 {self.name}이고 제 나이는 {self.age}입니다. {self.grade}학년 입니다.'\n",
    "\n",
    "\n",
    "s = Student('jun', 10, 3)\n",
    "s.introduce()"
   ]
  }
 ],
 "metadata": {
  "kernelspec": {
   "display_name": "Python 3",
   "language": "python",
   "name": "python3"
  },
  "language_info": {
   "codemirror_mode": {
    "name": "ipython",
    "version": 3
   },
   "file_extension": ".py",
   "mimetype": "text/x-python",
   "name": "python",
   "nbconvert_exporter": "python",
   "pygments_lexer": "ipython3",
   "version": "3.11.4"
  },
  "orig_nbformat": 4
 },
 "nbformat": 4,
 "nbformat_minor": 2
}

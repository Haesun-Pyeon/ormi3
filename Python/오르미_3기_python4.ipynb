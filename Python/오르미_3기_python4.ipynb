{
  "cells": [
    {
      "cell_type": "markdown",
      "metadata": {},
      "source": [
        "# 조건문"
      ]
    },
    {
      "cell_type": "code",
      "execution_count": 1,
      "metadata": {},
      "outputs": [
        {
          "name": "stdout",
          "output_type": "stream",
          "text": [
            "hello\n"
          ]
        }
      ],
      "source": [
        "if True:\n",
        "  print('hello')"
      ]
    },
    {
      "cell_type": "code",
      "execution_count": 2,
      "metadata": {},
      "outputs": [],
      "source": [
        "if False:\n",
        "  print('hello')"
      ]
    },
    {
      "cell_type": "code",
      "execution_count": 3,
      "metadata": {},
      "outputs": [
        {
          "name": "stdout",
          "output_type": "stream",
          "text": [
            "hello\n"
          ]
        }
      ],
      "source": [
        "if (True): # 이렇게 괄호를 안해도 됩니다!\n",
        "  print('hello')"
      ]
    },
    {
      "cell_type": "code",
      "execution_count": 4,
      "metadata": {},
      "outputs": [
        {
          "name": "stdout",
          "output_type": "stream",
          "text": [
            "hello\n"
          ]
        }
      ],
      "source": [
        "if 10 and 9: # True나 False가 아니라 단락평가에 의해 9\n",
        "  print('hello')"
      ]
    },
    {
      "cell_type": "code",
      "execution_count": 5,
      "metadata": {},
      "outputs": [
        {
          "name": "stdout",
          "output_type": "stream",
          "text": [
            "hello\n"
          ]
        }
      ],
      "source": [
        "if 10:\n",
        "  print('hello')"
      ]
    },
    {
      "cell_type": "code",
      "execution_count": null,
      "metadata": {},
      "outputs": [],
      "source": [
        "# False\n",
        "''\n",
        "[]\n",
        "0\n",
        "{}\n",
        "()\n",
        "set()\n",
        "##############\n",
        "# True\n",
        "1\n",
        "-1\n",
        "' '\n",
        "[10, 20]"
      ]
    },
    {
      "cell_type": "code",
      "execution_count": 6,
      "metadata": {},
      "outputs": [
        {
          "name": "stdout",
          "output_type": "stream",
          "text": [
            "y is greater or equal\n"
          ]
        }
      ],
      "source": [
        "# 삼항연산자\n",
        "x = 5\n",
        "y = 10\n",
        "result = 'x is greater' if x > y else 'y is greater or equal'\n",
        "print(result) # 출력: 'y is greater or equal'"
      ]
    },
    {
      "cell_type": "markdown",
      "metadata": {},
      "source": [
        "# 연습문제"
      ]
    },
    {
      "cell_type": "markdown",
      "metadata": {},
      "source": [
        "1. 주어진 리스트 data = [{\"이름\": \"길동\", \"수학\": 3, \"과학\": 93}, {\"이름\": \"춘향\", \"수학\": 33, \"과학\": 11}, {\"이름\": \"철수\", \"수학\": 94, \"과학\": 67}]에서 평균점수가 가장 높은 학생에 이름을 출력하세요.\n",
        "\n",
        "2. 주어진 사전 grades = {\"Tom\": 87, \"Jerry\": 95, \"Mickey\": 70}의 모든 값을 5점씩 증가시키고 결과를 출력하세요.\n",
        "\n",
        "3. 주어진 문자열 s = \"apple banana apple cherry banana cherry apple\"에서 가장 자주 등장하는 단어를 출력하세요."
      ]
    },
    {
      "cell_type": "code",
      "execution_count": 58,
      "metadata": {},
      "outputs": [
        {
          "name": "stdout",
          "output_type": "stream",
          "text": [
            "철수\n"
          ]
        }
      ],
      "source": [
        "# 문제1\n",
        "data = [{\"이름\": \"길동\", \"수학\": 3, \"과학\": 93}, {\"이름\": \"춘향\", \"수학\": 33, \"과학\": 11}, {\"이름\": \"철수\", \"수학\": 94, \"과학\": 67}]\n",
        "avgs = []\n",
        "for d in data:\n",
        "  avgs.append((d.get('수학') + d.get('과학')) / (len(d) - 1))\n",
        "\n",
        "print(data[avgs.index(max(avgs))].get('이름'))"
      ]
    },
    {
      "cell_type": "code",
      "execution_count": 60,
      "metadata": {},
      "outputs": [
        {
          "name": "stdout",
          "output_type": "stream",
          "text": [
            "{'Tom': 92, 'Jerry': 100, 'Mickey': 75}\n",
            "{'Tom': 92, 'Jerry': 100, 'Mickey': 75}\n"
          ]
        }
      ],
      "source": [
        "# 문제2\n",
        "grades = {\"Tom\": 87, \"Jerry\": 95, \"Mickey\": 70}\n",
        "for name in grades.keys():\n",
        "  grades[name] += 5\n",
        "print(grades)\n",
        "\n",
        "grades = {\"Tom\": 87, \"Jerry\": 95, \"Mickey\": 70}\n",
        "grades = dict(zip(grades.keys(),list(map(lambda x:x+5, list(grades.values())))))\n",
        "print(grades)"
      ]
    },
    {
      "cell_type": "code",
      "execution_count": 44,
      "metadata": {},
      "outputs": [
        {
          "name": "stdout",
          "output_type": "stream",
          "text": [
            "apple\n"
          ]
        }
      ],
      "source": [
        "# 문제3\n",
        "s = \"apple banana apple cherry banana cherry apple\"\n",
        "s = s.split(' ')\n",
        "\n",
        "d = {}\n",
        "for word in s:\n",
        "  d[word] = s.count(word)\n",
        "print(max(d, key=d.get))"
      ]
    },
    {
      "cell_type": "code",
      "execution_count": 65,
      "metadata": {},
      "outputs": [
        {
          "name": "stdout",
          "output_type": "stream",
          "text": [
            "철수\n"
          ]
        }
      ],
      "source": [
        "# 답안\n",
        "# 문제1\n",
        "data = [\n",
        "  {\"이름\": \"길동\", \"수학\": 3, \"과학\": 93},\n",
        "  {\"이름\": \"춘향\", \"수학\": 33, \"과학\": 11},\n",
        "  {\"이름\": \"철수\", \"수학\": 94, \"과학\": 67}\n",
        "]\n",
        "\n",
        "max_entry = max(data, key=lambda x: x['수학']+x['과학'])\n",
        "print(max_entry['이름'])"
      ]
    },
    {
      "cell_type": "code",
      "execution_count": 66,
      "metadata": {},
      "outputs": [
        {
          "name": "stdout",
          "output_type": "stream",
          "text": [
            "{'Tom': 92, 'Jerry': 100, 'Mickey': 75}\n"
          ]
        }
      ],
      "source": [
        "# 문제2\n",
        "grades = {\"Tom\": 87, \"Jerry\": 95, \"Mickey\": 70}\n",
        "\n",
        "# dictionary comprehension\n",
        "updated_grades = {name: score + 5 for name, score in grades.items()}\n",
        "print(updated_grades)"
      ]
    },
    {
      "cell_type": "code",
      "execution_count": 69,
      "metadata": {},
      "outputs": [
        {
          "name": "stdout",
          "output_type": "stream",
          "text": [
            "apple\n"
          ]
        }
      ],
      "source": [
        "# 문제3\n",
        "s = \"apple banana apple cherry banana cherry apple\"\n",
        "\n",
        "words = s.split()\n",
        "most_frequent_word = max(set(words), key=words.count)\n",
        "print(most_frequent_word)"
      ]
    },
    {
      "cell_type": "code",
      "execution_count": 3,
      "metadata": {},
      "outputs": [
        {
          "data": {
            "text/plain": [
              "[('apple', 3)]"
            ]
          },
          "execution_count": 3,
          "metadata": {},
          "output_type": "execute_result"
        }
      ],
      "source": [
        "from collections import Counter\n",
        "\n",
        "s = \"apple banana apple cherry banana cherry apple\"\n",
        "result = Counter(s.split())\n",
        "result.most_common()\n",
        "result.most_common(1)"
      ]
    },
    {
      "cell_type": "markdown",
      "metadata": {},
      "source": [
        "# 조건문 이어서"
      ]
    },
    {
      "cell_type": "code",
      "execution_count": 1,
      "metadata": {},
      "outputs": [
        {
          "data": {
            "text/plain": [
              "[0, None, 2, None, 4, None, 6, None, 8, None]"
            ]
          },
          "execution_count": 1,
          "metadata": {},
          "output_type": "execute_result"
        }
      ],
      "source": [
        "[i if i % 2 == 0 else None for i in range(10)]"
      ]
    },
    {
      "cell_type": "code",
      "execution_count": 2,
      "metadata": {},
      "outputs": [
        {
          "data": {
            "text/plain": [
              "[0, 2, 4, 6, 8]"
            ]
          },
          "execution_count": 2,
          "metadata": {},
          "output_type": "execute_result"
        }
      ],
      "source": [
        "[i for i in range(10) if i % 2 == 0]"
      ]
    },
    {
      "cell_type": "code",
      "execution_count": 3,
      "metadata": {},
      "outputs": [
        {
          "name": "stdout",
          "output_type": "stream",
          "text": [
            "hello\n"
          ]
        }
      ],
      "source": [
        "def f():\n",
        "  return True\n",
        "\n",
        "if f():\n",
        "  print('hello')"
      ]
    },
    {
      "cell_type": "code",
      "execution_count": 6,
      "metadata": {},
      "outputs": [
        {
          "name": "stdout",
          "output_type": "stream",
          "text": [
            "hello\n"
          ]
        }
      ],
      "source": [
        "# 성능에 영향을 끼칩니다!\n",
        "def f():\n",
        "    return True\n",
        "\n",
        "def ff():\n",
        "    x = 100 / 0 # error\n",
        "    return 'hello'\n",
        "\n",
        "if f() or ff(): # 단락평가에의해 True이므로 ff는 실행X\n",
        "    print('hello')"
      ]
    },
    {
      "cell_type": "code",
      "execution_count": null,
      "metadata": {},
      "outputs": [],
      "source": [
        "# error가 나는\n",
        "def f():\n",
        "    return True\n",
        "\n",
        "def ff():\n",
        "    x = 100 / 0 # error\n",
        "    return 'hello'\n",
        "\n",
        "if ff() or f():\n",
        "    print('hello')"
      ]
    },
    {
      "cell_type": "code",
      "execution_count": 7,
      "metadata": {},
      "outputs": [
        {
          "data": {
            "text/plain": [
              "'짝수'"
            ]
          },
          "execution_count": 7,
          "metadata": {},
          "output_type": "execute_result"
        }
      ],
      "source": [
        "my_function = lambda x: '짝수' if x % 2 == 0 else '홀수'\n",
        "my_function(10)"
      ]
    },
    {
      "cell_type": "code",
      "execution_count": 10,
      "metadata": {},
      "outputs": [
        {
          "ename": "AssertionError",
          "evalue": "양수여야 한다",
          "output_type": "error",
          "traceback": [
            "\u001b[0;31m---------------------------------------------------------------------------\u001b[0m",
            "\u001b[0;31mAssertionError\u001b[0m                            Traceback (most recent call last)",
            "\u001b[1;32m/Users/pyeonhaesun/Desktop/ESTsoft_ormi3/ormi3_code/Python/오르미_3기_python4.ipynb 셀 25\u001b[0m line \u001b[0;36m2\n\u001b[1;32m      <a href='vscode-notebook-cell:/Users/pyeonhaesun/Desktop/ESTsoft_ormi3/ormi3_code/Python/%EC%98%A4%EB%A5%B4%EB%AF%B8_3%EA%B8%B0_python4.ipynb#X33sZmlsZQ%3D%3D?line=0'>1</a>\u001b[0m x \u001b[39m=\u001b[39m \u001b[39m-\u001b[39m\u001b[39m1\u001b[39m\n\u001b[0;32m----> <a href='vscode-notebook-cell:/Users/pyeonhaesun/Desktop/ESTsoft_ormi3/ormi3_code/Python/%EC%98%A4%EB%A5%B4%EB%AF%B8_3%EA%B8%B0_python4.ipynb#X33sZmlsZQ%3D%3D?line=1'>2</a>\u001b[0m \u001b[39massert\u001b[39;00m x \u001b[39m>\u001b[39m \u001b[39m0\u001b[39m, \u001b[39m'\u001b[39m\u001b[39m양수여야 한다\u001b[39m\u001b[39m'\u001b[39m\n",
            "\u001b[0;31mAssertionError\u001b[0m: 양수여야 한다"
          ]
        }
      ],
      "source": [
        "x = -1\n",
        "assert x > 0, '양수여야 한다'"
      ]
    },
    {
      "cell_type": "code",
      "execution_count": 11,
      "metadata": {},
      "outputs": [],
      "source": [
        "x = 10\n",
        "assert x > 0, '양수여야 한다'"
      ]
    },
    {
      "cell_type": "code",
      "execution_count": 13,
      "metadata": {},
      "outputs": [
        {
          "name": "stdout",
          "output_type": "stream",
          "text": [
            "mom : i'm happy!\n",
            "100000\n"
          ]
        }
      ],
      "source": [
        "# if, elif, else는 한 묶음으로 만들어줍니다!\n",
        "\n",
        "score = 81\n",
        "money = 0\n",
        "\n",
        "if score >= 90:\n",
        "    print('mom : i\\'m so happy!')\n",
        "    money += 1000000\n",
        "elif score >= 80: # 어떤 의미가 내포되어 있나요? 90미만이라는 얘기가 하나 더 있는겁니다!\n",
        "    print('mom : i\\'m happy!')\n",
        "    money += 100000\n",
        "elif score >= 70:\n",
        "    print('mom : i\\'m so...!')\n",
        "    money += 10000\n",
        "elif score >= 60:\n",
        "    print('mom : i\\'m so...!')\n",
        "    money += 1000\n",
        "else:\n",
        "    print('mom : i\\'m...!')\n",
        "print(money)"
      ]
    },
    {
      "cell_type": "code",
      "execution_count": 14,
      "metadata": {},
      "outputs": [
        {
          "name": "stdout",
          "output_type": "stream",
          "text": [
            "mom : i'm happy!\n",
            "mom : i'm...!\n",
            "100000\n"
          ]
        }
      ],
      "source": [
        "score = 81\n",
        "money = 0\n",
        "\n",
        "if score >= 90:\n",
        "    print('mom : i\\'m so happy!')\n",
        "    money += 1000000\n",
        "if 90 > score >= 80:\n",
        "    print('mom : i\\'m happy!')\n",
        "    money += 100000\n",
        "if 80 > score >= 70:\n",
        "    print('mom : i\\'m so...!')\n",
        "    money += 10000\n",
        "if 70 > score >= 60:\n",
        "    print('mom : i\\'m so...!')\n",
        "    money += 1000\n",
        "else:\n",
        "    print('mom : i\\'m...!')\n",
        "print(money)\n",
        "# 실행이 같지 않고 성능도 안좋다!\n",
        "# if 뒤를 다 검사해야 하기 때문에!\n",
        "# 적절하게 묶는 것은 매우 중요한 포인트입니다."
      ]
    },
    {
      "cell_type": "code",
      "execution_count": 16,
      "metadata": {},
      "outputs": [
        {
          "name": "stdout",
          "output_type": "stream",
          "text": [
            "영화시청\n"
          ]
        }
      ],
      "source": [
        "# if를 중첩해서 사용하기\n",
        "movie = {\n",
        "  '영화': '무빙',\n",
        "  '장르': 'SF',\n",
        "  '서비스': '디즈니',\n",
        "  '비용': 15000,\n",
        "  '평점': 4.9\n",
        "}\n",
        "\n",
        "if movie['장르'] == 'SF':\n",
        "  if movie['서비스'] == '디즈니' or movie['서비스'] == '넷플릭스':\n",
        "    if movie['평점'] >= 4.5:\n",
        "      if movie['비용'] <= 20000:\n",
        "        print('영화시청')"
      ]
    },
    {
      "cell_type": "code",
      "execution_count": 17,
      "metadata": {},
      "outputs": [
        {
          "name": "stdout",
          "output_type": "stream",
          "text": [
            "영화시청\n"
          ]
        }
      ],
      "source": [
        "movie = {\n",
        "  '영화': '무빙',\n",
        "  '장르': 'SF',\n",
        "  '서비스': '디즈니',\n",
        "  '비용': 15000,\n",
        "  '평점': 4.9\n",
        "}\n",
        "\n",
        "# 오히려 가독성이 안 좋아짐\n",
        "if movie['장르'] == 'SF' and (movie['서비스'] == '디즈니' or movie['서비스'] == '넷플릭스') and movie['평점'] >= 4.5 and movie['비용'] <= 20000:\n",
        "  print('영화시청')"
      ]
    },
    {
      "cell_type": "code",
      "execution_count": 21,
      "metadata": {},
      "outputs": [
        {
          "name": "stdout",
          "output_type": "stream",
          "text": [
            "영화시청\n"
          ]
        }
      ],
      "source": [
        "# 지금 이 코드에서는 동일하게 작동하지만\n",
        "# 아래와 같이 했을 때에는 문제가 발생합니다.\n",
        "movie = {\n",
        "    '영화': '무빙',\n",
        "    '장르': 'SF',\n",
        "    '서비스': '디즈니',\n",
        "    '비용': 15000,\n",
        "    '평점': 4.9\n",
        "}\n",
        "\n",
        "if movie['장르'] == 'SF':\n",
        "    if movie['평점'] >= 4.5:\n",
        "        if movie['비용'] <= 20000:\n",
        "            if movie['서비스'] == '디즈니' or movie['서비스'] == '넷플릭스':\n",
        "                print('영화시청')"
      ]
    },
    {
      "cell_type": "code",
      "execution_count": 22,
      "metadata": {},
      "outputs": [
        {
          "name": "stdout",
          "output_type": "stream",
          "text": [
            "영화시청\n"
          ]
        }
      ],
      "source": [
        "# 지금 이 코드에서는 동일하게 작동하지만\n",
        "# 아래와 같이 했을 때에는 문제가 발생합니다.\n",
        "movie = {\n",
        "    '영화': '무빙',\n",
        "    '장르': 'SF',\n",
        "    '서비스': '디즈니',\n",
        "    '비용': 15000,\n",
        "    '평점': 4.9\n",
        "}\n",
        "\n",
        "def 구독중인ott():\n",
        "    # 사용자에게 문자 알림을 준다던지 하는 엑션이 있었다?\n",
        "    return movie['서비스'] == '디즈니' or movie['서비스'] == '넷플릭스'\n",
        "\n",
        "if movie['장르'] == 'SF':\n",
        "    if 구독중인ott():\n",
        "        if movie['평점'] >= 4.5:\n",
        "            if movie['비용'] <= 20000:\n",
        "                print('영화시청')"
      ]
    },
    {
      "cell_type": "code",
      "execution_count": 23,
      "metadata": {},
      "outputs": [],
      "source": [
        "# 지금 이 코드에서는 동일하게 작동하지만\n",
        "# 아래와 같이 했을 때에는 문제가 발생합니다.\n",
        "movie = {\n",
        "    '영화': '무빙',\n",
        "    '장르': 'SF',\n",
        "    '서비스': '디즈니',\n",
        "    '비용': 15000,\n",
        "    '평점': 4.1 #변경\n",
        "}\n",
        "\n",
        "def 구독중인ott():\n",
        "    # 사용자에게 문자 알림을 준다던지 하는 엑션이 있었다?\n",
        "    return movie['서비스'] == '디즈니' or movie['서비스'] == '넷플릭스'\n",
        "\n",
        "if movie['장르'] == 'SF':\n",
        "    if movie['평점'] >= 4.5:\n",
        "        if movie['비용'] <= 20000:\n",
        "            if 구독중인ott():\n",
        "                print('영화시청')"
      ]
    },
    {
      "cell_type": "code",
      "execution_count": 24,
      "metadata": {},
      "outputs": [
        {
          "name": "stdout",
          "output_type": "stream",
          "text": [
            "영화시청\n"
          ]
        }
      ],
      "source": [
        "# if를 중첩해서 사용하기\n",
        "# 이정도가 깔끔하게 다듬어진 것입니다.\n",
        "movie = {\n",
        "    '영화': '무빙',\n",
        "    '장르': 'SF',\n",
        "    '서비스': '디즈니',\n",
        "    '비용': 15000,\n",
        "    '평점': 4.9\n",
        "}\n",
        "\n",
        "if movie['장르'] == 'SF':\n",
        "    if movie['서비스'] == '디즈니' or movie['서비스'] == '넷플릭스':\n",
        "        if movie['평점'] >= 4.5 and movie['비용'] <= 20000:\n",
        "            print('영화시청')"
      ]
    },
    {
      "cell_type": "code",
      "execution_count": 25,
      "metadata": {},
      "outputs": [
        {
          "name": "stdout",
          "output_type": "stream",
          "text": [
            "왓챠구독하기!\n"
          ]
        }
      ],
      "source": [
        "# if를 중첩해서 사용하기\n",
        "# 이정도가 깔끔하게 다듬어진 것입니다.\n",
        "movie = {\n",
        "    '영화': '무빙',\n",
        "    '장르': 'SF',\n",
        "    '서비스': '왓챠',\n",
        "    '비용': 15000,\n",
        "    '평점': 4.9\n",
        "}\n",
        "\n",
        "if movie['장르'] == 'SF':\n",
        "    if movie['서비스'] == '디즈니' or movie['서비스'] == '넷플릭스':\n",
        "        if movie['평점'] >= 4.5 and movie['비용'] <= 20000:\n",
        "            print('영화시청')\n",
        "    else:\n",
        "        print(movie['서비스'] + '구독하기!')"
      ]
    },
    {
      "cell_type": "markdown",
      "metadata": {},
      "source": [
        "# match"
      ]
    },
    {
      "cell_type": "code",
      "execution_count": 18,
      "metadata": {},
      "outputs": [
        {
          "name": "stdout",
          "output_type": "stream",
          "text": [
            "No Match\n"
          ]
        }
      ],
      "source": [
        "text = 'Hello World'\n",
        "match text:\n",
        "  case 'Hello':\n",
        "    print('Hello')\n",
        "  case 'World':\n",
        "    print('World')\n",
        "  case _:\n",
        "    print('No Match') # 결과 'No Match'"
      ]
    },
    {
      "cell_type": "code",
      "execution_count": 19,
      "metadata": {},
      "outputs": [
        {
          "name": "stdout",
          "output_type": "stream",
          "text": [
            "Hello\n"
          ]
        }
      ],
      "source": [
        "text = 'Hello'\n",
        "match text:\n",
        "  case 'Hello':\n",
        "    print('Hello')\n",
        "  case 'World':\n",
        "    print('World')\n",
        "  case _:\n",
        "    print('No Match')"
      ]
    },
    {
      "cell_type": "code",
      "execution_count": 20,
      "metadata": {},
      "outputs": [
        {
          "name": "stdout",
          "output_type": "stream",
          "text": [
            "end\n"
          ]
        }
      ],
      "source": [
        "text = 'hello'\n",
        "match text:\n",
        "  case 'Hello':\n",
        "    print('Hello')\n",
        "  case 'World':\n",
        "    print('World')\n",
        "print('end')"
      ]
    },
    {
      "cell_type": "code",
      "execution_count": null,
      "metadata": {},
      "outputs": [],
      "source": [
        "# 작동하지 않는 코드입니다. JavaScript와 같은 곳에서는 아래와 같은 형식으로 사용하곤 합니다.\n",
        "text = 'Hello'\n",
        "match text:\n",
        "    case 'Hello':\n",
        "    case 'World':\n",
        "        print('World')\n",
        "    case _:\n",
        "        print('No Match')"
      ]
    },
    {
      "cell_type": "code",
      "execution_count": null,
      "metadata": {},
      "outputs": [],
      "source": [
        "# 작동하지 않는 코드입니다.\n",
        "text = 'Hello'\n",
        "match text:\n",
        "    case 'Hello' and 'World':\n",
        "        print('World')\n",
        "    case _:\n",
        "        print('No Match')"
      ]
    },
    {
      "cell_type": "code",
      "execution_count": null,
      "metadata": {},
      "outputs": [],
      "source": [
        "# 작동하지 않는 코드입니다.\n",
        "text = 'Hello'\n",
        "match text:\n",
        "    case 'Hello' or 'World':\n",
        "        print('World')\n",
        "    case _:\n",
        "        print('No Match')"
      ]
    },
    {
      "cell_type": "code",
      "execution_count": 26,
      "metadata": {},
      "outputs": [
        {
          "name": "stdout",
          "output_type": "stream",
          "text": [
            "World\n"
          ]
        }
      ],
      "source": [
        "# 작동하는 코드입니다.\n",
        "text = 'Hello'\n",
        "match text:\n",
        "    case 'Hello' | 'World':\n",
        "        print('World')\n",
        "    case _:\n",
        "        print('No Match')"
      ]
    },
    {
      "cell_type": "code",
      "execution_count": 27,
      "metadata": {},
      "outputs": [
        {
          "name": "stdout",
          "output_type": "stream",
          "text": [
            "One\n",
            "Two\n",
            "Three or Four\n",
            "Three or Four\n",
            "Other\n",
            "Greater than ten\n"
          ]
        }
      ],
      "source": [
        "def test(i):\n",
        "    match i:\n",
        "        case 1:\n",
        "            print('One')\n",
        "        case 2:\n",
        "            print('Two')\n",
        "        case 3 | 4:\n",
        "            print('Three or Four')\n",
        "        case _ if i > 10:\n",
        "            print('Greater than ten')\n",
        "        case _:\n",
        "            print('Other')\n",
        "\n",
        "test(1) # 출력: One\n",
        "test(2) # 출력: Two\n",
        "test(3) # 출력: Three or Four\n",
        "test(4) # 출력: Three or Four\n",
        "test(5) # 출력: Other\n",
        "test(15) # 출력: Greater than ten"
      ]
    },
    {
      "cell_type": "code",
      "execution_count": 28,
      "metadata": {},
      "outputs": [
        {
          "name": "stdout",
          "output_type": "stream",
          "text": [
            "One\n",
            "Two\n",
            "Greater than two\n",
            "Greater than two\n"
          ]
        }
      ],
      "source": [
        "def test(i):\n",
        "    match i:\n",
        "        case 1:\n",
        "            print('One')\n",
        "        case 2:\n",
        "            print('Two')\n",
        "        case _:\n",
        "            if i > 2:\n",
        "                print('Greater than two')\n",
        "            else:\n",
        "                print('Less than or equal to two')\n",
        "test(1) # 출력: One\n",
        "test(2) # 출력: Two\n",
        "test(3) # 출력: Greater than two\n",
        "test(4) # 출력: Greater than two"
      ]
    },
    {
      "cell_type": "code",
      "execution_count": 30,
      "metadata": {},
      "outputs": [
        {
          "name": "stdout",
          "output_type": "stream",
          "text": [
            "100의 데미지 입혔습니다\n"
          ]
        }
      ],
      "source": [
        "# 문제 match를 사용하여 아래 코드를 완성해주세요.\n",
        "\n",
        "def attack(attack_type, damege):\n",
        "  match attack_type:\n",
        "    case '물리공격' | '마법공격':\n",
        "      print(f'{damege}의 데미지 입혔습니다')\n",
        "    case '정신공격':\n",
        "      print(f'{damege}ms 만큼 상대방이 혼란을 느낍니다.')\n",
        "\n",
        "\n",
        "attack('물리공격', 100)\n",
        "\n",
        "# 각 공격에 따라 아래의 값이 출력되어야 합니다.\n",
        "# 물리공격, 마법공격 : '100의 데미지 입혔습니다'\n",
        "# 정신공격: '100ms 만큼 상대방이 혼란을 느낍니다.'"
      ]
    },
    {
      "cell_type": "markdown",
      "metadata": {},
      "source": [
        "# 반복문"
      ]
    },
    {
      "cell_type": "code",
      "execution_count": 31,
      "metadata": {},
      "outputs": [
        {
          "name": "stdout",
          "output_type": "stream",
          "text": [
            "현재 값은 h 입니다.\n",
            "현재 값은 e 입니다.\n",
            "현재 값은 l 입니다.\n",
            "현재 값은 l 입니다.\n",
            "현재 값은 o 입니다.\n"
          ]
        }
      ],
      "source": [
        "for x in 'hello': #순회 가능한 객체가 들어갑니다.\n",
        "  print(f'현재 값은 {x} 입니다.')"
      ]
    },
    {
      "cell_type": "code",
      "execution_count": 32,
      "metadata": {},
      "outputs": [
        {
          "name": "stdout",
          "output_type": "stream",
          "text": [
            "현재 값은 1 입니다.\n",
            "현재 값은 2 입니다.\n",
            "현재 값은 3 입니다.\n",
            "현재 값은 4 입니다.\n",
            "현재 값은 5 입니다.\n"
          ]
        }
      ],
      "source": [
        "for x in (1, 2, 3, 4, 5):\n",
        "  print(f'현재 값은 {x} 입니다.')"
      ]
    },
    {
      "cell_type": "code",
      "execution_count": 43,
      "metadata": {},
      "outputs": [
        {
          "name": "stdout",
          "output_type": "stream",
          "text": [
            "하나\n",
            "둘\n",
            "셋\n"
          ]
        }
      ],
      "source": [
        "d = {\n",
        "  '하나' : 'one',\n",
        "  '둘' : 'two',\n",
        "  '셋' : 'three',\n",
        "}\n",
        "\n",
        "for k in d:\n",
        "  print(k)"
      ]
    },
    {
      "cell_type": "code",
      "execution_count": 47,
      "metadata": {},
      "outputs": [
        {
          "name": "stdout",
          "output_type": "stream",
          "text": [
            "하나: one\n",
            "둘: two\n",
            "셋: three\n"
          ]
        }
      ],
      "source": [
        "d = {\n",
        "  '하나' : 'one',\n",
        "  '둘' : 'two',\n",
        "  '셋' : 'three',\n",
        "}\n",
        "for k, v in d.items():\n",
        "  print(f'{k}: {v}')"
      ]
    },
    {
      "cell_type": "code",
      "execution_count": 50,
      "metadata": {},
      "outputs": [
        {
          "name": "stdout",
          "output_type": "stream",
          "text": [
            "하나: one, 둘: two, 셋: three, "
          ]
        }
      ],
      "source": [
        "for k in d:\n",
        "  print(k, ': ', d[k], sep='', end=', ')"
      ]
    },
    {
      "cell_type": "code",
      "execution_count": null,
      "metadata": {},
      "outputs": [],
      "source": [
        "# __iter__이 매직메서드가 없다? for문이 안된다! 순회가능한 객체가 아니다. 있다? for문이 된다! 순회가능한 객체이다!"
      ]
    },
    {
      "cell_type": "code",
      "execution_count": 33,
      "metadata": {},
      "outputs": [
        {
          "name": "stdout",
          "output_type": "stream",
          "text": [
            "<str_ascii_iterator object at 0x110f9d420>\n"
          ]
        }
      ],
      "source": [
        "# 1부터 시작해서 5까지의 값이 X에는 어떻게 들어가는 것일까요?\n",
        "x = iter('hello')\n",
        "print(x)"
      ]
    },
    {
      "cell_type": "code",
      "execution_count": 34,
      "metadata": {},
      "outputs": [
        {
          "name": "stdout",
          "output_type": "stream",
          "text": [
            "h\n"
          ]
        }
      ],
      "source": [
        "print(next(x))"
      ]
    },
    {
      "cell_type": "code",
      "execution_count": 35,
      "metadata": {},
      "outputs": [
        {
          "name": "stdout",
          "output_type": "stream",
          "text": [
            "e\n"
          ]
        }
      ],
      "source": [
        "print(next(x))"
      ]
    },
    {
      "cell_type": "code",
      "execution_count": 39,
      "metadata": {},
      "outputs": [
        {
          "ename": "StopIteration",
          "evalue": "",
          "output_type": "error",
          "traceback": [
            "\u001b[0;31m---------------------------------------------------------------------------\u001b[0m",
            "\u001b[0;31mStopIteration\u001b[0m                             Traceback (most recent call last)",
            "\u001b[1;32m/Users/pyeonhaesun/Desktop/ESTsoft_ormi3/ormi3_code/Python/오르미_3기_python4.ipynb 셀 53\u001b[0m line \u001b[0;36m2\n\u001b[1;32m      <a href='vscode-notebook-cell:/Users/pyeonhaesun/Desktop/ESTsoft_ormi3/ormi3_code/Python/%EC%98%A4%EB%A5%B4%EB%AF%B8_3%EA%B8%B0_python4.ipynb#Y103sZmlsZQ%3D%3D?line=0'>1</a>\u001b[0m \u001b[39m# 더 만들지 않고 여기서만 실행해보겠습니다.\u001b[39;00m\n\u001b[0;32m----> <a href='vscode-notebook-cell:/Users/pyeonhaesun/Desktop/ESTsoft_ormi3/ormi3_code/Python/%EC%98%A4%EB%A5%B4%EB%AF%B8_3%EA%B8%B0_python4.ipynb#Y103sZmlsZQ%3D%3D?line=1'>2</a>\u001b[0m \u001b[39mprint\u001b[39m(\u001b[39mnext\u001b[39;49m(x))\n",
            "\u001b[0;31mStopIteration\u001b[0m: "
          ]
        }
      ],
      "source": [
        "# 더 만들지 않고 여기서만 실행해보겠습니다.\n",
        "print(next(x)) # 다 돌면 StopIteration error"
      ]
    },
    {
      "cell_type": "code",
      "execution_count": 40,
      "metadata": {},
      "outputs": [],
      "source": [
        "x = 'hello'\n",
        "y = x.__iter__() #iter('hello')"
      ]
    },
    {
      "cell_type": "code",
      "execution_count": 41,
      "metadata": {},
      "outputs": [
        {
          "name": "stdout",
          "output_type": "stream",
          "text": [
            "h\n",
            "e\n",
            "l\n",
            "l\n",
            "o\n"
          ]
        },
        {
          "ename": "StopIteration",
          "evalue": "",
          "output_type": "error",
          "traceback": [
            "\u001b[0;31m---------------------------------------------------------------------------\u001b[0m",
            "\u001b[0;31mStopIteration\u001b[0m                             Traceback (most recent call last)",
            "\u001b[1;32m/Users/pyeonhaesun/Desktop/ESTsoft_ormi3/ormi3_code/Python/오르미_3기_python4.ipynb 셀 55\u001b[0m line \u001b[0;36m6\n\u001b[1;32m      <a href='vscode-notebook-cell:/Users/pyeonhaesun/Desktop/ESTsoft_ormi3/ormi3_code/Python/%EC%98%A4%EB%A5%B4%EB%AF%B8_3%EA%B8%B0_python4.ipynb#Y105sZmlsZQ%3D%3D?line=3'>4</a>\u001b[0m \u001b[39mprint\u001b[39m(y\u001b[39m.\u001b[39m\u001b[39m__next__\u001b[39m())\n\u001b[1;32m      <a href='vscode-notebook-cell:/Users/pyeonhaesun/Desktop/ESTsoft_ormi3/ormi3_code/Python/%EC%98%A4%EB%A5%B4%EB%AF%B8_3%EA%B8%B0_python4.ipynb#Y105sZmlsZQ%3D%3D?line=4'>5</a>\u001b[0m \u001b[39mprint\u001b[39m(y\u001b[39m.\u001b[39m\u001b[39m__next__\u001b[39m())\n\u001b[0;32m----> <a href='vscode-notebook-cell:/Users/pyeonhaesun/Desktop/ESTsoft_ormi3/ormi3_code/Python/%EC%98%A4%EB%A5%B4%EB%AF%B8_3%EA%B8%B0_python4.ipynb#Y105sZmlsZQ%3D%3D?line=5'>6</a>\u001b[0m \u001b[39mprint\u001b[39m(y\u001b[39m.\u001b[39;49m\u001b[39m__next__\u001b[39;49m())\n",
            "\u001b[0;31mStopIteration\u001b[0m: "
          ]
        }
      ],
      "source": [
        "print(y.__next__()) #next('hello)\n",
        "print(y.__next__())\n",
        "print(y.__next__())\n",
        "print(y.__next__())\n",
        "print(y.__next__())\n",
        "print(y.__next__())"
      ]
    },
    {
      "cell_type": "code",
      "execution_count": 80,
      "metadata": {},
      "outputs": [
        {
          "name": "stdout",
          "output_type": "stream",
          "text": [
            "5050\n",
            "2550\n",
            "2550\n",
            "0\n",
            "1\n",
            "2\n",
            "0\n",
            "1\n",
            "2\n",
            "3\n",
            "4\n",
            "0\n",
            "1\n",
            "2\n",
            "3\n",
            "4\n",
            "5\n",
            "6\n",
            "22\n",
            "2 * 1 = 2\n",
            "2 * 2 = 4\n",
            "2 * 3 = 6\n",
            "2 * 4 = 8\n",
            "2 * 5 = 10\n",
            "2 * 6 = 12\n",
            "2 * 7 = 14\n",
            "2 * 8 = 16\n",
            "2 * 9 = 18\n",
            "3 * 1 = 3\n",
            "3 * 2 = 6\n",
            "3 * 3 = 9\n",
            "3 * 4 = 12\n",
            "3 * 5 = 15\n",
            "3 * 6 = 18\n",
            "3 * 7 = 21\n",
            "3 * 8 = 24\n",
            "3 * 9 = 27\n",
            "4 * 1 = 4\n",
            "4 * 2 = 8\n",
            "4 * 3 = 12\n",
            "4 * 4 = 16\n",
            "4 * 5 = 20\n",
            "4 * 6 = 24\n",
            "4 * 7 = 28\n",
            "4 * 8 = 32\n",
            "4 * 9 = 36\n",
            "5 * 1 = 5\n",
            "5 * 2 = 10\n",
            "5 * 3 = 15\n",
            "5 * 4 = 20\n",
            "5 * 5 = 25\n",
            "5 * 6 = 30\n",
            "5 * 7 = 35\n",
            "5 * 8 = 40\n",
            "5 * 9 = 45\n",
            "6 * 1 = 6\n",
            "6 * 2 = 12\n",
            "6 * 3 = 18\n",
            "6 * 4 = 24\n",
            "6 * 5 = 30\n",
            "6 * 6 = 36\n",
            "6 * 7 = 42\n",
            "6 * 8 = 48\n",
            "6 * 9 = 54\n",
            "7 * 1 = 7\n",
            "7 * 2 = 14\n",
            "7 * 3 = 21\n",
            "7 * 4 = 28\n",
            "7 * 5 = 35\n",
            "7 * 6 = 42\n",
            "7 * 7 = 49\n",
            "7 * 8 = 56\n",
            "7 * 9 = 63\n",
            "8 * 1 = 8\n",
            "8 * 2 = 16\n",
            "8 * 3 = 24\n",
            "8 * 4 = 32\n",
            "8 * 5 = 40\n",
            "8 * 6 = 48\n",
            "8 * 7 = 56\n",
            "8 * 8 = 64\n",
            "8 * 9 = 72\n",
            "9 * 1 = 9\n",
            "9 * 2 = 18\n",
            "9 * 3 = 27\n",
            "9 * 4 = 36\n",
            "9 * 5 = 45\n",
            "9 * 6 = 54\n",
            "9 * 7 = 63\n",
            "9 * 8 = 72\n",
            "9 * 9 = 81\n"
          ]
        }
      ],
      "source": [
        "# 1부터 100까지 더하는 코드\n",
        "result = 0\n",
        "for i in range(101):\n",
        "  result += i\n",
        "print(result)\n",
        "\n",
        "# 1부터 100까지 짝수를 더하는 코드\n",
        "# 권장하지 않는 코드(100번 돌아야 하고, if문도 봐야하고)\n",
        "result = 0\n",
        "for i in range(101):\n",
        "  if i % 2 == 0:\n",
        "    result += i\n",
        "print(result)\n",
        "\n",
        "# 권장하는 코드(물론, 수학수식을 사용할 수 있으면 더 좋습니다.\n",
        "# 순회도 반만 돌았고, if문도 없습니다.\n",
        "result = 0\n",
        "for i in range(0, 101, 2):\n",
        "  result += i\n",
        "print(result)\n",
        "\n",
        "# 중첩 for를 조금 어렵게 표현\n",
        "for i in [range(3), range(5), range(7)]:\n",
        "  for j in i:\n",
        "    print(j)\n",
        "\n",
        "# 활용 - 홀수들의 특이한 덧셈\n",
        "# 6이하의 특이한 덧셈: 1 + 3이하의 수 + 5이하의 수 + ...\n",
        "# 1 + 1 + 2 + 3 + 1 + 2 + 3 + 4 + 5 이렇게 답이 나와야 합니다.\n",
        "result = 0\n",
        "for i in[range(2), range(4), range(6)]:\n",
        "  for j in i:\n",
        "    result += j\n",
        "print(result)\n",
        "\n",
        "# 구구단 출력\n",
        "for i in range(2, 10):\n",
        "  for j in range(1, 10):\n",
        "    print(i, '*', j, '=', i*j)"
      ]
    },
    {
      "cell_type": "code",
      "execution_count": 81,
      "metadata": {},
      "outputs": [
        {
          "name": "stdout",
          "output_type": "stream",
          "text": [
            "1 X 1 = 1\n",
            "1 X 2 = 2\n",
            "1 X 3 = 3\n",
            "1 X 4 = 4\n",
            "1 X 5 = 5\n",
            "1 X 6 = 6\n",
            "1 X 7 = 7\n",
            "1 X 8 = 8\n",
            "1 X 9 = 9\n",
            "3 X 1 = 3\n",
            "3 X 2 = 6\n",
            "3 X 3 = 9\n",
            "3 X 4 = 12\n",
            "3 X 5 = 15\n",
            "3 X 6 = 18\n",
            "3 X 7 = 21\n",
            "3 X 8 = 24\n",
            "3 X 9 = 27\n",
            "5 X 1 = 5\n",
            "5 X 2 = 10\n",
            "5 X 3 = 15\n",
            "5 X 4 = 20\n",
            "5 X 5 = 25\n",
            "5 X 6 = 30\n",
            "5 X 7 = 35\n",
            "5 X 8 = 40\n",
            "5 X 9 = 45\n",
            "6 X 1 = 6\n",
            "6 X 2 = 12\n",
            "6 X 3 = 18\n",
            "6 X 4 = 24\n",
            "6 X 5 = 30\n",
            "6 X 6 = 36\n",
            "6 X 7 = 42\n",
            "6 X 8 = 48\n",
            "6 X 9 = 54\n",
            "7 X 1 = 7\n",
            "7 X 2 = 14\n",
            "7 X 3 = 21\n",
            "7 X 4 = 28\n",
            "7 X 5 = 35\n",
            "7 X 6 = 42\n",
            "7 X 7 = 49\n",
            "7 X 8 = 56\n",
            "7 X 9 = 63\n",
            "8 X 1 = 8\n",
            "8 X 2 = 16\n",
            "8 X 3 = 24\n",
            "8 X 4 = 32\n",
            "8 X 5 = 40\n",
            "8 X 6 = 48\n",
            "8 X 7 = 56\n",
            "8 X 8 = 64\n",
            "8 X 9 = 72\n"
          ]
        }
      ],
      "source": [
        "# 두 문제 모두 for는 중첩 2번 해야 합니다.\n",
        "\n",
        "# 문제1\n",
        "# 다음과 같은 문자열이 있습니다.\n",
        "s = '135678'\n",
        "# 이때 구구단 1단, 3단, 5단, 6단, 7단, 8단을 출력하는 코드를 만들어주세요.\n",
        "for i in s:\n",
        "  for j in range(1, 10):\n",
        "    print(f'{i} X {j} = {int(i)*j}')"
      ]
    },
    {
      "cell_type": "code",
      "execution_count": 82,
      "metadata": {},
      "outputs": [
        {
          "name": "stdout",
          "output_type": "stream",
          "text": [
            "2 X 3 = 6\n",
            "2 X 4 = 8\n",
            "2 X 7 = 14\n",
            "3 X 3 = 9\n",
            "3 X 4 = 12\n",
            "3 X 7 = 21\n",
            "6 X 3 = 18\n",
            "6 X 4 = 24\n",
            "6 X 7 = 42\n"
          ]
        }
      ],
      "source": [
        "# 심화문제\n",
        "# 특이한 구구단이 있다.\n",
        "# [2, 3, 6]이 있었을 때 아래와 같이 출력되어야 한다.\n",
        "# 2단, 3단, 6을 출력하고\n",
        "# 곱해지는 수는 이에 [2, 3, 6]에 1씩을 더한 \n",
        "# [3, 4, 7]이 각각 곱해져야 합니다.\n",
        "arr = [2, 3, 6]\n",
        "for i in arr:\n",
        "  for j in arr:\n",
        "    print(f'{i} X {j+1} = {i*(j+1)}')\n"
      ]
    },
    {
      "cell_type": "code",
      "execution_count": 83,
      "metadata": {},
      "outputs": [
        {
          "name": "stdout",
          "output_type": "stream",
          "text": [
            "고기잡이 100 SS\n",
            "고기팔기 120 SSS\n",
            "낚시 5 C\n",
            "통발 5 C\n",
            "큰그물 5 C\n"
          ]
        }
      ],
      "source": [
        "# 하나만 리스트여도 쌍이면 상관없이 잘 돌아감    \n",
        "skill = [\n",
        "  ('고기잡이', 100, 'SS'),\n",
        "  ('고기팔기', 120, 'SSS'),\n",
        "  ('낚시', 5, 'C'),\n",
        "  ('통발', 5, 'C'),\n",
        "  ('큰그물', 5, 'C')\n",
        "]\n",
        "\n",
        "for skillName, skillLevel, skillGrade in skill:\n",
        "  print(skillName, skillLevel, skillGrade)"
      ]
    },
    {
      "cell_type": "code",
      "execution_count": 84,
      "metadata": {},
      "outputs": [
        {
          "name": "stdout",
          "output_type": "stream",
          "text": [
            "(0, '레미제라블')\n",
            "(1, '뷰티인사이드')\n",
            "(2, '매트릭스')\n",
            "(3, '인셉션')\n",
            "(4, '어거스트 러쉬')\n",
            "누적관객수 1위! 레미제라블!\n",
            "누적관객수 2위! 뷰티인사이드!\n",
            "누적관객수 3위! 매트릭스!\n",
            "누적관객수 4위! 인셉션!\n",
            "누적관객수 5위! 어거스트 러쉬!\n"
          ]
        }
      ],
      "source": [
        "영화누적관객수 = ['레미제라블', '뷰티인사이드', '매트릭스', '인셉션', '어거스트 러쉬']\n",
        "for i in enumerate(영화누적관객수):\n",
        "  print(i)\n",
        "\n",
        "for i, j in enumerate(영화누적관객수, 1):\n",
        "  print(f'누적관객수 {i}위! {j}!')"
      ]
    },
    {
      "cell_type": "code",
      "execution_count": 85,
      "metadata": {},
      "outputs": [
        {
          "name": "stdout",
          "output_type": "stream",
          "text": [
            "h\n",
            "hello!\n",
            "e\n",
            "hello!!\n",
            "l\n",
            "hello!!!\n",
            "l\n",
            "hello!!!!\n",
            "o\n",
            "hello!!!!!\n",
            "{'one': '하나', 'one하나': None}\n"
          ]
        },
        {
          "ename": "RuntimeError",
          "evalue": "dictionary changed size during iteration",
          "output_type": "error",
          "traceback": [
            "\u001b[0;31m---------------------------------------------------------------------------\u001b[0m",
            "\u001b[0;31mRuntimeError\u001b[0m                              Traceback (most recent call last)",
            "\u001b[1;32m/Users/pyeonhaesun/Desktop/ESTsoft_ormi3/ormi3_code/Python/오르미_3기_python4.ipynb 셀 65\u001b[0m line \u001b[0;36m1\n\u001b[1;32m     <a href='vscode-notebook-cell:/Users/pyeonhaesun/Desktop/ESTsoft_ormi3/ormi3_code/Python/%EC%98%A4%EB%A5%B4%EB%AF%B8_3%EA%B8%B0_python4.ipynb#Y131sZmlsZQ%3D%3D?line=10'>11</a>\u001b[0m   \u001b[39mprint\u001b[39m(s)\n\u001b[1;32m     <a href='vscode-notebook-cell:/Users/pyeonhaesun/Desktop/ESTsoft_ormi3/ormi3_code/Python/%EC%98%A4%EB%A5%B4%EB%AF%B8_3%EA%B8%B0_python4.ipynb#Y131sZmlsZQ%3D%3D?line=12'>13</a>\u001b[0m d \u001b[39m=\u001b[39m {\u001b[39m'\u001b[39m\u001b[39mone\u001b[39m\u001b[39m'\u001b[39m: \u001b[39m'\u001b[39m\u001b[39m하나\u001b[39m\u001b[39m'\u001b[39m}\n\u001b[0;32m---> <a href='vscode-notebook-cell:/Users/pyeonhaesun/Desktop/ESTsoft_ormi3/ormi3_code/Python/%EC%98%A4%EB%A5%B4%EB%AF%B8_3%EA%B8%B0_python4.ipynb#Y131sZmlsZQ%3D%3D?line=13'>14</a>\u001b[0m \u001b[39mfor\u001b[39;00m i \u001b[39min\u001b[39;00m d: \u001b[39m# RuntimeError: dictionary changed size during iteration\u001b[39;00m\n\u001b[1;32m     <a href='vscode-notebook-cell:/Users/pyeonhaesun/Desktop/ESTsoft_ormi3/ormi3_code/Python/%EC%98%A4%EB%A5%B4%EB%AF%B8_3%EA%B8%B0_python4.ipynb#Y131sZmlsZQ%3D%3D?line=14'>15</a>\u001b[0m   d\u001b[39m.\u001b[39mupdate({i\u001b[39m+\u001b[39md[i]:\u001b[39mNone\u001b[39;00m})\n\u001b[1;32m     <a href='vscode-notebook-cell:/Users/pyeonhaesun/Desktop/ESTsoft_ormi3/ormi3_code/Python/%EC%98%A4%EB%A5%B4%EB%AF%B8_3%EA%B8%B0_python4.ipynb#Y131sZmlsZQ%3D%3D?line=15'>16</a>\u001b[0m   \u001b[39mprint\u001b[39m(d)\n",
            "\u001b[0;31mRuntimeError\u001b[0m: dictionary changed size during iteration"
          ]
        }
      ],
      "source": [
        "# 실행시키면 런타임 다시 시작해야 합니다.\n",
        "# l = [1, 2]\n",
        "# for i in l:\n",
        "#     l.append(3)\n",
        "#     print(i) # 1, 2, 3, 3, 3, 3, 3, 3 ...\n",
        "\n",
        "s = 'hello'\n",
        "for i in s: # 순회가 정상적으로 됩니다.\n",
        "  s += '!'\n",
        "  print(i)\n",
        "  print(s)\n",
        "\n",
        "d = {'one': '하나'}\n",
        "for i in d: # RuntimeError: dictionary changed size during iteration\n",
        "  d.update({i+d[i]:None})\n",
        "  print(d)"
      ]
    },
    {
      "cell_type": "code",
      "execution_count": null,
      "metadata": {},
      "outputs": [],
      "source": [
        "while True :\n",
        "    print('무한 반복 중...')"
      ]
    },
    {
      "cell_type": "code",
      "execution_count": 86,
      "metadata": {},
      "outputs": [
        {
          "name": "stdout",
          "output_type": "stream",
          "text": [
            "현재 위치 출력\n",
            "현재 폴더의 폴더와 파일명 출력\n",
            "현재 폴더의 폴더와 파일명 출력\n",
            "안녕히가세요.\n"
          ]
        }
      ],
      "source": [
        "# 이런 코드는 OS에서 사용하거나 쉘 만들 때 사용합니다.\n",
        "while True:\n",
        "  userinput = input('> ')\n",
        "  if userinput == 'pwd':\n",
        "    print('현재 위치 출력')\n",
        "  elif userinput == 'dir' or userinput == 'ls':\n",
        "    print('현재 폴더의 폴더와 파일명 출력')\n",
        "  elif userinput == 'exit':\n",
        "    print('안녕히가세요.')\n",
        "    break"
      ]
    },
    {
      "cell_type": "code",
      "execution_count": null,
      "metadata": {},
      "outputs": [],
      "source": [
        "# .py파일로 작성해서 실행해보세요.\n",
        "import os\n",
        "\n",
        "while True:\n",
        "  userinput = input('>')\n",
        "  if userinput == 'pwd':\n",
        "    # print('현재 위치 출력')\n",
        "    # print('\\\\'.join(__file__.split('\\\\')[:-1]))\n",
        "    print(os.getcwd())\n",
        "  elif userinput == 'dir' or userinput == 'ls':\n",
        "    # print('현재 폴더에 폴더와 파일명 출력')\n",
        "    print(os.listdir(os.getcwd()))\n",
        "  elif userinput == 'exit':\n",
        "    print('안녕히가세요.')\n",
        "    break"
      ]
    },
    {
      "cell_type": "code",
      "execution_count": 1,
      "metadata": {},
      "outputs": [
        {
          "name": "stdout",
          "output_type": "stream",
          "text": [
            "Up\n",
            "Up\n",
            "Up\n",
            "Down\n",
            "Up\n",
            "Down\n",
            "Down\n",
            "Down\n",
            "Down\n",
            "축하합니다! 맞추셨어요!\n"
          ]
        }
      ],
      "source": [
        "import random\n",
        "answer = random.randint(1, 1000)\n",
        "while True:\n",
        "  userinput = int(input('숫자를 입력해주세요: '))\n",
        "  if userinput > answer:\n",
        "    print('Down')\n",
        "  elif userinput < answer:\n",
        "    print('Up')\n",
        "  else:\n",
        "    print('축하합니다! 맞추셨어요!')\n",
        "    break"
      ]
    },
    {
      "cell_type": "code",
      "execution_count": 3,
      "metadata": {},
      "outputs": [
        {
          "data": {
            "text/plain": [
              "[2, 3, 1, 4, 5]"
            ]
          },
          "execution_count": 3,
          "metadata": {},
          "output_type": "execute_result"
        }
      ],
      "source": [
        "import random\n",
        "\n",
        "s = [1, 2, 3, 4, 5]\n",
        "random.shuffle(s)\n",
        "s"
      ]
    },
    {
      "cell_type": "code",
      "execution_count": 7,
      "metadata": {},
      "outputs": [
        {
          "name": "stdout",
          "output_type": "stream",
          "text": [
            "20\n",
            "10\n"
          ]
        }
      ],
      "source": [
        "x = (n := 10) * 2\n",
        "print(x)  # 출력: 20\n",
        "print(n)  # 출력: 10"
      ]
    },
    {
      "cell_type": "code",
      "execution_count": 9,
      "metadata": {},
      "outputs": [
        {
          "name": "stdout",
          "output_type": "stream",
          "text": [
            "3\n",
            "10\n",
            "2\n",
            "3\n",
            "2\n",
            "6\n",
            "3\n",
            "6\n",
            "6\n"
          ]
        }
      ],
      "source": [
        "import random\n",
        "\n",
        "while (x := random.randint(0, 10)) != 7:\n",
        "  print(x)"
      ]
    },
    {
      "cell_type": "code",
      "execution_count": 14,
      "metadata": {},
      "outputs": [
        {
          "name": "stdout",
          "output_type": "stream",
          "text": [
            "2 X 1 = 2\n",
            "2 X 2 = 4\n",
            "2 X 3 = 6\n",
            "2 X 4 = 8\n",
            "2 X 5 = 10\n",
            "2 X 6 = 12\n",
            "2 X 7 = 14\n",
            "2 X 8 = 16\n",
            "2 X 9 = 18\n",
            "3 X 1 = 3\n",
            "3 X 2 = 6\n",
            "3 X 3 = 9\n",
            "3 X 4 = 12\n",
            "3 X 5 = 15\n",
            "3 X 6 = 18\n",
            "3 X 7 = 21\n",
            "3 X 8 = 24\n",
            "3 X 9 = 27\n",
            "4 X 1 = 4\n",
            "4 X 2 = 8\n",
            "4 X 3 = 12\n",
            "4 X 4 = 16\n",
            "4 X 5 = 20\n",
            "4 X 6 = 24\n",
            "4 X 7 = 28\n",
            "4 X 8 = 32\n",
            "4 X 9 = 36\n",
            "5 X 1 = 5\n",
            "5 X 2 = 10\n",
            "5 X 3 = 15\n",
            "5 X 4 = 20\n",
            "5 X 5 = 25\n",
            "5 X 6 = 30\n",
            "5 X 7 = 35\n",
            "5 X 8 = 40\n",
            "5 X 9 = 45\n",
            "6 X 1 = 6\n",
            "6 X 2 = 12\n",
            "6 X 3 = 18\n",
            "6 X 4 = 24\n",
            "6 X 5 = 30\n",
            "6 X 6 = 36\n",
            "6 X 7 = 42\n",
            "6 X 8 = 48\n",
            "6 X 9 = 54\n",
            "7 X 1 = 7\n",
            "7 X 2 = 14\n",
            "7 X 3 = 21\n",
            "7 X 4 = 28\n",
            "7 X 5 = 35\n",
            "7 X 6 = 42\n",
            "7 X 7 = 49\n",
            "7 X 8 = 56\n",
            "7 X 9 = 63\n",
            "8 X 1 = 8\n",
            "8 X 2 = 16\n",
            "8 X 3 = 24\n",
            "8 X 4 = 32\n",
            "8 X 5 = 40\n",
            "8 X 6 = 48\n",
            "8 X 7 = 56\n",
            "8 X 8 = 64\n",
            "8 X 9 = 72\n",
            "9 X 1 = 9\n",
            "9 X 2 = 18\n",
            "9 X 3 = 27\n",
            "9 X 4 = 36\n",
            "9 X 5 = 45\n",
            "9 X 6 = 54\n",
            "9 X 7 = 63\n",
            "9 X 8 = 72\n",
            "9 X 9 = 81\n"
          ]
        }
      ],
      "source": [
        "i = 2\n",
        "while i < 10:\n",
        "  j = 1 # 별표 5개! While문은 중첩해서 사용할 때 초기화가 필요합니다.\n",
        "  while j < 10:\n",
        "    print(f'{i} X {j} = {i*j}')\n",
        "    j += 1\n",
        "  i += 1"
      ]
    },
    {
      "cell_type": "code",
      "execution_count": 15,
      "metadata": {},
      "outputs": [
        {
          "name": "stdout",
          "output_type": "stream",
          "text": [
            "0\n",
            "1\n",
            "2\n",
            "3\n",
            "4\n",
            "5\n"
          ]
        }
      ],
      "source": [
        "x = 0\n",
        "while x < 10:\n",
        "  print(x)\n",
        "  if x == 5:\n",
        "    break\n",
        "  x += 1"
      ]
    },
    {
      "cell_type": "code",
      "execution_count": null,
      "metadata": {},
      "outputs": [],
      "source": [
        "# 주의해주세요! 무한반복입니다.\n",
        "# x = 0\n",
        "# while x < 10:\n",
        "#   print(x)\n",
        "#   if x == 5:\n",
        "#     continue 5일때 넘어가서 x+=1이 계속 안됨\n",
        "#   x += 1"
      ]
    },
    {
      "cell_type": "code",
      "execution_count": 16,
      "metadata": {},
      "outputs": [
        {
          "name": "stdout",
          "output_type": "stream",
          "text": [
            "1\n",
            "2\n",
            "3\n",
            "4\n",
            "6\n",
            "7\n",
            "8\n",
            "9\n",
            "10\n"
          ]
        }
      ],
      "source": [
        "x = 0\n",
        "while x < 10:\n",
        "  x += 1\n",
        "  if x == 5:\n",
        "    continue\n",
        "  print(x)"
      ]
    },
    {
      "cell_type": "code",
      "execution_count": 17,
      "metadata": {},
      "outputs": [
        {
          "name": "stdout",
          "output_type": "stream",
          "text": [
            "1\n",
            "2\n",
            "3\n",
            "4\n",
            "5\n",
            "6\n",
            "7\n",
            "8\n",
            "9\n",
            "10\n"
          ]
        }
      ],
      "source": [
        "# break은 바로 위의 부모만 탈출합니다.\n",
        "# continue는 아래코드를 실행하지 않고 다음 루프로 넘어갑니다.\n",
        "# pass는 지나칠 뿐입니다.\n",
        "# 아래에서 pass는 코드가 에러가 나지 않게만 합니다.\n",
        "x = 0\n",
        "while x < 10:\n",
        "  x += 1\n",
        "  if x == 5:\n",
        "    pass\n",
        "  print(x)"
      ]
    },
    {
      "cell_type": "code",
      "execution_count": 28,
      "metadata": {},
      "outputs": [
        {
          "name": "stdout",
          "output_type": "stream",
          "text": [
            "2 X 1 = 2\n",
            "2 X 2 = 4\n",
            "3 X 1 = 3\n",
            "3 X 2 = 6\n",
            "4 X 1 = 4\n",
            "4 X 2 = 8\n",
            "5 X 1 = 5\n",
            "5 X 2 = 10\n",
            "6 X 1 = 6\n",
            "6 X 2 = 12\n",
            "7 X 1 = 7\n",
            "7 X 2 = 14\n",
            "8 X 1 = 8\n",
            "8 X 2 = 16\n",
            "9 X 1 = 9\n",
            "9 X 2 = 18\n"
          ]
        }
      ],
      "source": [
        "i = 2\n",
        "while i < 10:\n",
        "    j = 1 # 별표 5개! while문은 중첩해서 사용할 때 초기화가 필요합니다!\n",
        "    while j < 10:\n",
        "        if j == 3:\n",
        "            break\n",
        "        print(f'{i} X {j} = {i*j}')\n",
        "        j += 1\n",
        "    i += 1"
      ]
    },
    {
      "cell_type": "code",
      "execution_count": 21,
      "metadata": {},
      "outputs": [
        {
          "name": "stdout",
          "output_type": "stream",
          "text": [
            "2 X 1 = 2\n",
            "2 X 2 = 4\n",
            "2 X 3 = 6\n",
            "2 X 4 = 8\n",
            "2 X 5 = 10\n",
            "2 X 6 = 12\n",
            "2 X 7 = 14\n",
            "2 X 8 = 16\n",
            "2 X 9 = 18\n",
            "3 X 1 = 3\n",
            "3 X 2 = 6\n",
            "3 X 3 = 9\n",
            "3 X 4 = 12\n",
            "3 X 5 = 15\n",
            "3 X 6 = 18\n",
            "Done\n"
          ]
        }
      ],
      "source": [
        "# https://peps.python.org/pep-3136/\n",
        "try:\n",
        "  for i in range(2, 10):\n",
        "    for j in range(1, 10):\n",
        "      if i * j > 20:\n",
        "        raise StopIteration\n",
        "      print(f'{i} X {j} = {i*j}')\n",
        "except StopIteration:\n",
        "  print('Done')"
      ]
    },
    {
      "cell_type": "code",
      "execution_count": 24,
      "metadata": {},
      "outputs": [
        {
          "name": "stdout",
          "output_type": "stream",
          "text": [
            "0\n",
            "1\n",
            "2\n",
            "3\n",
            "4\n",
            "정상 종료\n"
          ]
        }
      ],
      "source": [
        "# else라고 하지 않고 다른 키워드로 해야한다는 주장이 있었다.\n",
        "for i in range(5):\n",
        "  print(i)\n",
        "else:\n",
        "  print('정상 종료')"
      ]
    },
    {
      "cell_type": "code",
      "execution_count": 25,
      "metadata": {},
      "outputs": [
        {
          "name": "stdout",
          "output_type": "stream",
          "text": [
            "0\n",
            "1\n",
            "2\n",
            "3\n"
          ]
        }
      ],
      "source": [
        "for i in range(5):\n",
        "  print(i)\n",
        "  if i == 3:\n",
        "    break\n",
        "else:\n",
        "  print('정상 종료')"
      ]
    },
    {
      "cell_type": "code",
      "execution_count": 27,
      "metadata": {},
      "outputs": [
        {
          "name": "stdout",
          "output_type": "stream",
          "text": [
            "1\n",
            "2\n",
            "3\n",
            "4\n",
            "5\n",
            "6\n",
            "7\n",
            "8\n",
            "9\n",
            "정상 종료\n"
          ]
        }
      ],
      "source": [
        "x = 1\n",
        "while x < 10:\n",
        "  print(x)\n",
        "  x += 1\n",
        "else:\n",
        "  print('정상 종료')"
      ]
    },
    {
      "cell_type": "code",
      "execution_count": 29,
      "metadata": {},
      "outputs": [
        {
          "name": "stdout",
          "output_type": "stream",
          "text": [
            "1\n",
            "2\n",
            "3\n"
          ]
        }
      ],
      "source": [
        "x = 1\n",
        "while x < 10:\n",
        "    print(x)\n",
        "    if x == 3:\n",
        "        break\n",
        "    x += 1\n",
        "else:\n",
        "    print('정상 종료')"
      ]
    },
    {
      "cell_type": "code",
      "execution_count": 39,
      "metadata": {},
      "outputs": [],
      "source": [
        "data = [\n",
        "  {\n",
        "    \"_id\": \"fd7e9a0f-e77b-436a-B781-119b66033d49\",\n",
        "    \"index\": \"1\",\n",
        "    \"name\": \"나주헌\",\n",
        "    \"email\": \"user-tzctc1q@suspendisse.org\",\n",
        "    \"phone\": \"010-5547-5841\",\n",
        "    \"country\": \"과테말라\",\n",
        "    \"address\": \"광나루로 99-2\",\n",
        "    \"job\": \"유치원교사\",\n",
        "    \"gender\": \"여성\",\n",
        "    \"age\": \"43\"\n",
        "  },\n",
        "  {\n",
        "    \"_id\": \"8ec6eabb-160a-41e4-A3de-cd33aff0b281\",\n",
        "    \"index\": \"2\",\n",
        "    \"name\": \"엄루다\",\n",
        "    \"email\": \"user-1rz7xby@mi.org\",\n",
        "    \"phone\": \"010-3963-9373\",\n",
        "    \"country\": \"엘살바도르\",\n",
        "    \"address\": \"석촌호수로 37-1\",\n",
        "    \"job\": \"프로게이머\",\n",
        "    \"gender\": \"남성\",\n",
        "    \"age\": \"22\"\n",
        "  },\n",
        "  {\n",
        "    \"_id\": \"bcf804f7-0452-4c31-B9d1-20cc2d38490b\",\n",
        "    \"index\": \"3\",\n",
        "    \"name\": \"형유환\",\n",
        "    \"email\": \"user-ym96wth@have.net\",\n",
        "    \"phone\": \"010-6389-9499\",\n",
        "    \"country\": \"벨리즈\",\n",
        "    \"address\": \"잠실로 33-3\",\n",
        "    \"job\": \"아나운서\",\n",
        "    \"gender\": \"남성\",\n",
        "    \"age\": \"31\"\n",
        "  },\n",
        "  {\n",
        "    \"_id\": \"11006f0d-e88d-41fc-A288-caa2e67927e7\",\n",
        "    \"index\": \"4\",\n",
        "    \"name\": \"위도현\",\n",
        "    \"email\": \"user-tkxj6f5@diam.org\",\n",
        "    \"phone\": \"010-4246-4752\",\n",
        "    \"country\": \"바레인\",\n",
        "    \"address\": \"종로 99-8\",\n",
        "    \"job\": \"작곡가\",\n",
        "    \"gender\": \"여성\",\n",
        "    \"age\": \"42\"\n",
        "  },\n",
        "  {\n",
        "    \"_id\": \"b7421487-da52-4410-B696-17bab958a5d8\",\n",
        "    \"index\": \"5\",\n",
        "    \"name\": \"유성재\",\n",
        "    \"email\": \"user-bgxih63@Sed.net\",\n",
        "    \"phone\": \"010-6359-7592\",\n",
        "    \"country\": \"피지\",\n",
        "    \"address\": \"방학로 71-3\",\n",
        "    \"job\": \"연기자\",\n",
        "    \"gender\": \"여성\",\n",
        "    \"age\": \"48\"\n",
        "  }\n",
        "]\n",
        "# 문제 1번: 평균 나이를 출력해주세요.\n",
        "# 문제 2번: 남녀 성비를 출력해주세요."
      ]
    },
    {
      "cell_type": "code",
      "execution_count": 46,
      "metadata": {},
      "outputs": [
        {
          "name": "stdout",
          "output_type": "stream",
          "text": [
            "1. 평균 나이: 37.2\n",
            "2. 남녀 성비: 남 40.0%, 여 60.0%\n"
          ]
        }
      ],
      "source": [
        "avg = 0\n",
        "for d in data:\n",
        "  avg += int(d['age'])\n",
        "avg = avg / len(data)\n",
        "print(f'1. 평균 나이: {avg}')\n",
        "\n",
        "m = 0\n",
        "f = 0\n",
        "for d in data:\n",
        "  if d['gender'] == '남성':\n",
        "    m += 1\n",
        "  elif d['gender'] == '여성':\n",
        "    f += 1\n",
        "print(f'2. 남녀 성비: 남 {m*100/len(data)}%, 여 {f*100/len(data)}%')"
      ]
    },
    {
      "cell_type": "code",
      "execution_count": 52,
      "metadata": {},
      "outputs": [
        {
          "data": {
            "text/plain": [
              "37.2"
            ]
          },
          "execution_count": 52,
          "metadata": {},
          "output_type": "execute_result"
        }
      ],
      "source": [
        "# 강사님풀이\n",
        "# list(map(lambda x:x['age'], data))\n",
        "ages = map(lambda x:x['age'], data)\n",
        "ages = list(map(int, ages))\n",
        "sum(ages) / len(ages)"
      ]
    },
    {
      "cell_type": "code",
      "execution_count": 53,
      "metadata": {},
      "outputs": [
        {
          "data": {
            "text/plain": [
              "[1, 2]"
            ]
          },
          "execution_count": 53,
          "metadata": {},
          "output_type": "execute_result"
        }
      ],
      "source": [
        "a = map(int, ['1', '2'])\n",
        "# list(a) # map은 한번 순회가 돌면 다시 순회가 불가합니다.\n",
        "a = list(a)\n",
        "a"
      ]
    },
    {
      "cell_type": "code",
      "execution_count": 56,
      "metadata": {},
      "outputs": [
        {
          "data": {
            "text/plain": [
              "(40.0, 60.0)"
            ]
          },
          "execution_count": 56,
          "metadata": {},
          "output_type": "execute_result"
        }
      ],
      "source": [
        "gender = list(map(lambda x:x['gender'], data))\n",
        "total = len(gender)\n",
        "man = gender.count('남성')\n",
        "woman = total - man\n",
        "man/total * 100, woman/total * 100"
      ]
    },
    {
      "cell_type": "markdown",
      "metadata": {},
      "source": [
        "# 클래스"
      ]
    },
    {
      "cell_type": "code",
      "execution_count": 62,
      "metadata": {},
      "outputs": [
        {
          "name": "stdout",
          "output_type": "stream",
          "text": [
            "D\n",
            "차가 출발합니다!\n",
            "차가 멈췄습니다!\n"
          ]
        }
      ],
      "source": [
        "class Car: #차의 설계 도면 또는 차 공장입니다. => 클래스\n",
        "  max_speed = 300\n",
        "  max_people = 5\n",
        "  car_gear = ['P', 'D', 'R', 'N']\n",
        "\n",
        "  def start(self):\n",
        "    print('차가 출발합니다!')\n",
        "\n",
        "  def stop(self):\n",
        "    print('차가 멈췄습니다!')\n",
        "\n",
        "# 테슬라 공장에서 막 찍혀져 나온 자동차\n",
        "# 3대 model x, y, s => 인스턴스\n",
        "modelx = Car() # 인스턴스 = 클래스()\n",
        "modely = Car()\n",
        "models = Car()\n",
        "\n",
        "# Car.max_speed # modelx의 속도를 보고 싶으면 modelx.max_speed를 찍어야 합니다.\n",
        "# models를 제가 구매했습니다.\n",
        "print(models.car_gear[1])\n",
        "models.start()\n",
        "models.stop()"
      ]
    },
    {
      "cell_type": "code",
      "execution_count": 63,
      "metadata": {},
      "outputs": [
        {
          "data": {
            "text/plain": [
              "[1, 2, 3, 3]"
            ]
          },
          "execution_count": 63,
          "metadata": {},
          "output_type": "execute_result"
        }
      ],
      "source": [
        "l = [1, 2, 3]\n",
        "type(l)\n",
        "dir(l)\n",
        "l.append(3) # 이 모습?\n",
        "l"
      ]
    },
    {
      "cell_type": "code",
      "execution_count": null,
      "metadata": {},
      "outputs": [],
      "source": [
        "# int, float, str과 같은 새로운 Car라는 type을 만들고 있는 것입니다."
      ]
    },
    {
      "cell_type": "code",
      "execution_count": 65,
      "metadata": {},
      "outputs": [
        {
          "name": "stdout",
          "output_type": "stream",
          "text": [
            "<class '__main__.Car'>\n",
            "['__class__', '__delattr__', '__dict__', '__dir__', '__doc__', '__eq__', '__format__', '__ge__', '__getattribute__', '__getstate__', '__gt__', '__hash__', '__init__', '__init_subclass__', '__le__', '__lt__', '__module__', '__ne__', '__new__', '__reduce__', '__reduce_ex__', '__repr__', '__setattr__', '__sizeof__', '__str__', '__subclasshook__', '__weakref__', 'car_gear', 'max_people', 'max_speed', 'start', 'stop']\n"
          ]
        }
      ],
      "source": [
        "print(type(models))\n",
        "print(dir(models))"
      ]
    },
    {
      "cell_type": "code",
      "execution_count": null,
      "metadata": {},
      "outputs": [],
      "source": [
        "x = int(3)\n",
        "# 그럼 x는 무엇?\n",
        "# int라는 class의 인스턴스"
      ]
    },
    {
      "cell_type": "code",
      "execution_count": 68,
      "metadata": {},
      "outputs": [
        {
          "data": {
            "text/plain": [
              "'Tesla Model X'"
            ]
          },
          "execution_count": 68,
          "metadata": {},
          "output_type": "execute_result"
        }
      ],
      "source": [
        "# x = int(3) 여기서 넣었던 3이라는 값이 어떻게 처리되는지 확인\n",
        "class Car:\n",
        "  max_speed = 300\n",
        "  max_people = 5\n",
        "  car_gear = ['P', 'D', 'R', 'N']\n",
        "\n",
        "  def __init__(self, name): #클래스로 인스턴스를 만들 때 호출\n",
        "    self.name = name\n",
        "  \n",
        "  def start(self):\n",
        "    print('차가 출발합니다!')\n",
        "  \n",
        "  def stop(self):\n",
        "    print('차가 멈췄습니다!')\n",
        "\n",
        "modelx = Car('Tesla Model X') # x = int(3) 여기서 넣었던 3이 __init__ 매직메서드에서 처리!\n",
        "modelx.name"
      ]
    },
    {
      "cell_type": "code",
      "execution_count": 69,
      "metadata": {},
      "outputs": [],
      "source": [
        "# 실제 게임 코드\n",
        "class Character:\n",
        "  def __init__(self, name, role, hp, mp, power):\n",
        "    self.name = name\n",
        "    self.role = role\n",
        "    self.hp = hp\n",
        "    self.mp = mp\n",
        "    self.power = power\n",
        "\n",
        "  def attack(self):\n",
        "    print('공격!')\n",
        "\n",
        "  def defence(self):\n",
        "    print('방어')\n",
        "\n",
        "hero_ironman = Character('아이언맨', '히어로', 100, 100, 100)\n",
        "villain_thanos = Character('타노스', '빌런', 100, 100, 200)\n",
        "# 여러 등장인물을 이런식으로 코딩할 수 있습니다."
      ]
    },
    {
      "cell_type": "code",
      "execution_count": 70,
      "metadata": {},
      "outputs": [
        {
          "data": {
            "text/plain": [
              "('hojun', 'jun')"
            ]
          },
          "execution_count": 70,
          "metadata": {},
          "output_type": "execute_result"
        }
      ],
      "source": [
        "class Person:\n",
        "  name = 'jun' # 클래스 변수\n",
        "  def __init__(self, name):\n",
        "    self.name = name # 인스턴스 변수\n",
        "\n",
        "hojun = Person('hojun')\n",
        "hojun.name, Person.name"
      ]
    },
    {
      "cell_type": "code",
      "execution_count": 71,
      "metadata": {},
      "outputs": [
        {
          "name": "stdout",
          "output_type": "stream",
          "text": [
            "hello world\n"
          ]
        },
        {
          "data": {
            "text/plain": [
              "('hojun', 'jun')"
            ]
          },
          "execution_count": 71,
          "metadata": {},
          "output_type": "execute_result"
        }
      ],
      "source": [
        "class Person:\n",
        "  name = 'jun'\n",
        "  def __init__(self, name):\n",
        "    def hello():\n",
        "      print('hello world')\n",
        "    hello()\n",
        "    self.name = name\n",
        "\n",
        "hojun = Person('hojun')\n",
        "hojun.name, Person.name"
      ]
    },
    {
      "cell_type": "code",
      "execution_count": 72,
      "metadata": {},
      "outputs": [
        {
          "data": {
            "text/plain": [
              "'Tesla Model X'"
            ]
          },
          "execution_count": 72,
          "metadata": {},
          "output_type": "execute_result"
        }
      ],
      "source": [
        "class Car:\n",
        "  max_speed = 300\n",
        "\n",
        "  def __init__(self, name):\n",
        "    self.name = name\n",
        "\n",
        "  def start(self):\n",
        "    print(\"차가 출발합니다!\")\n",
        "  \n",
        "modelx = Car('Tesla Model X')\n",
        "modelx.name"
      ]
    },
    {
      "cell_type": "code",
      "execution_count": 73,
      "metadata": {},
      "outputs": [],
      "source": [
        "modelx.hello = 'hello world'"
      ]
    },
    {
      "cell_type": "code",
      "execution_count": 74,
      "metadata": {},
      "outputs": [
        {
          "data": {
            "text/plain": [
              "'hello world'"
            ]
          },
          "execution_count": 74,
          "metadata": {},
          "output_type": "execute_result"
        }
      ],
      "source": [
        "modelx.hello"
      ]
    },
    {
      "cell_type": "code",
      "execution_count": 75,
      "metadata": {},
      "outputs": [
        {
          "name": "stdout",
          "output_type": "stream",
          "text": [
            "<class 'function'>\n"
          ]
        }
      ],
      "source": [
        "def hello():\n",
        "  print('hello world')\n",
        "\n",
        "print(type(hello))"
      ]
    },
    {
      "cell_type": "code",
      "execution_count": 76,
      "metadata": {},
      "outputs": [],
      "source": [
        "hello.hi = 'hi, world'"
      ]
    },
    {
      "cell_type": "code",
      "execution_count": 77,
      "metadata": {},
      "outputs": [
        {
          "data": {
            "text/plain": [
              "'hi, world'"
            ]
          },
          "execution_count": 77,
          "metadata": {},
          "output_type": "execute_result"
        }
      ],
      "source": [
        "hello.hi"
      ]
    },
    {
      "cell_type": "code",
      "execution_count": 78,
      "metadata": {},
      "outputs": [
        {
          "ename": "AttributeError",
          "evalue": "'int' object has no attribute 'hi'",
          "output_type": "error",
          "traceback": [
            "\u001b[0;31m---------------------------------------------------------------------------\u001b[0m",
            "\u001b[0;31mAttributeError\u001b[0m                            Traceback (most recent call last)",
            "\u001b[1;32m/Users/pyeonhaesun/Desktop/ESTsoft_ormi3/ormi3_code/Python/오르미_3기_python4.ipynb 셀 105\u001b[0m line \u001b[0;36m3\n\u001b[1;32m      <a href='vscode-notebook-cell:/Users/pyeonhaesun/Desktop/ESTsoft_ormi3/ormi3_code/Python/%EC%98%A4%EB%A5%B4%EB%AF%B8_3%EA%B8%B0_python4.ipynb#Y222sZmlsZQ%3D%3D?line=0'>1</a>\u001b[0m \u001b[39m# 인스턴스 변수 선언을 허락하고 있지 않습니다!\u001b[39;00m\n\u001b[1;32m      <a href='vscode-notebook-cell:/Users/pyeonhaesun/Desktop/ESTsoft_ormi3/ormi3_code/Python/%EC%98%A4%EB%A5%B4%EB%AF%B8_3%EA%B8%B0_python4.ipynb#Y222sZmlsZQ%3D%3D?line=1'>2</a>\u001b[0m s \u001b[39m=\u001b[39m \u001b[39m10\u001b[39m\n\u001b[0;32m----> <a href='vscode-notebook-cell:/Users/pyeonhaesun/Desktop/ESTsoft_ormi3/ormi3_code/Python/%EC%98%A4%EB%A5%B4%EB%AF%B8_3%EA%B8%B0_python4.ipynb#Y222sZmlsZQ%3D%3D?line=2'>3</a>\u001b[0m s\u001b[39m.\u001b[39;49mhi \u001b[39m=\u001b[39m \u001b[39m'\u001b[39m\u001b[39mhi, world\u001b[39m\u001b[39m'\u001b[39m\n\u001b[1;32m      <a href='vscode-notebook-cell:/Users/pyeonhaesun/Desktop/ESTsoft_ormi3/ormi3_code/Python/%EC%98%A4%EB%A5%B4%EB%AF%B8_3%EA%B8%B0_python4.ipynb#Y222sZmlsZQ%3D%3D?line=3'>4</a>\u001b[0m s\u001b[39m.\u001b[39mhi\n",
            "\u001b[0;31mAttributeError\u001b[0m: 'int' object has no attribute 'hi'"
          ]
        }
      ],
      "source": [
        "# 인스턴스 변수 선언을 허락하고 있지 않습니다!\n",
        "s = 10\n",
        "s.hi = 'hi, world'\n",
        "s.hi"
      ]
    },
    {
      "cell_type": "code",
      "execution_count": 79,
      "metadata": {},
      "outputs": [
        {
          "ename": "AttributeError",
          "evalue": "'str' object has no attribute 'hi'",
          "output_type": "error",
          "traceback": [
            "\u001b[0;31m---------------------------------------------------------------------------\u001b[0m",
            "\u001b[0;31mAttributeError\u001b[0m                            Traceback (most recent call last)",
            "\u001b[1;32m/Users/pyeonhaesun/Desktop/ESTsoft_ormi3/ormi3_code/Python/오르미_3기_python4.ipynb 셀 106\u001b[0m line \u001b[0;36m2\n\u001b[1;32m      <a href='vscode-notebook-cell:/Users/pyeonhaesun/Desktop/ESTsoft_ormi3/ormi3_code/Python/%EC%98%A4%EB%A5%B4%EB%AF%B8_3%EA%B8%B0_python4.ipynb#Y223sZmlsZQ%3D%3D?line=0'>1</a>\u001b[0m s \u001b[39m=\u001b[39m \u001b[39m'\u001b[39m\u001b[39mhello\u001b[39m\u001b[39m'\u001b[39m\n\u001b[0;32m----> <a href='vscode-notebook-cell:/Users/pyeonhaesun/Desktop/ESTsoft_ormi3/ormi3_code/Python/%EC%98%A4%EB%A5%B4%EB%AF%B8_3%EA%B8%B0_python4.ipynb#Y223sZmlsZQ%3D%3D?line=1'>2</a>\u001b[0m s\u001b[39m.\u001b[39;49mhi \u001b[39m=\u001b[39m \u001b[39m'\u001b[39m\u001b[39mhi, world\u001b[39m\u001b[39m'\u001b[39m\n\u001b[1;32m      <a href='vscode-notebook-cell:/Users/pyeonhaesun/Desktop/ESTsoft_ormi3/ormi3_code/Python/%EC%98%A4%EB%A5%B4%EB%AF%B8_3%EA%B8%B0_python4.ipynb#Y223sZmlsZQ%3D%3D?line=2'>3</a>\u001b[0m s\u001b[39m.\u001b[39mhi\n",
            "\u001b[0;31mAttributeError\u001b[0m: 'str' object has no attribute 'hi'"
          ]
        }
      ],
      "source": [
        "s = 'hello'\n",
        "s.hi = 'hi, world'\n",
        "s.hi"
      ]
    },
    {
      "cell_type": "code",
      "execution_count": 80,
      "metadata": {},
      "outputs": [
        {
          "ename": "AttributeError",
          "evalue": "'list' object has no attribute 'hi'",
          "output_type": "error",
          "traceback": [
            "\u001b[0;31m---------------------------------------------------------------------------\u001b[0m",
            "\u001b[0;31mAttributeError\u001b[0m                            Traceback (most recent call last)",
            "\u001b[1;32m/Users/pyeonhaesun/Desktop/ESTsoft_ormi3/ormi3_code/Python/오르미_3기_python4.ipynb 셀 107\u001b[0m line \u001b[0;36m2\n\u001b[1;32m      <a href='vscode-notebook-cell:/Users/pyeonhaesun/Desktop/ESTsoft_ormi3/ormi3_code/Python/%EC%98%A4%EB%A5%B4%EB%AF%B8_3%EA%B8%B0_python4.ipynb#Y224sZmlsZQ%3D%3D?line=0'>1</a>\u001b[0m s \u001b[39m=\u001b[39m [\u001b[39m10\u001b[39m, \u001b[39m20\u001b[39m, \u001b[39m30\u001b[39m]\n\u001b[0;32m----> <a href='vscode-notebook-cell:/Users/pyeonhaesun/Desktop/ESTsoft_ormi3/ormi3_code/Python/%EC%98%A4%EB%A5%B4%EB%AF%B8_3%EA%B8%B0_python4.ipynb#Y224sZmlsZQ%3D%3D?line=1'>2</a>\u001b[0m s\u001b[39m.\u001b[39;49mhi \u001b[39m=\u001b[39m \u001b[39m'\u001b[39m\u001b[39mhi, world\u001b[39m\u001b[39m'\u001b[39m\n\u001b[1;32m      <a href='vscode-notebook-cell:/Users/pyeonhaesun/Desktop/ESTsoft_ormi3/ormi3_code/Python/%EC%98%A4%EB%A5%B4%EB%AF%B8_3%EA%B8%B0_python4.ipynb#Y224sZmlsZQ%3D%3D?line=2'>3</a>\u001b[0m s\u001b[39m.\u001b[39mhi\n",
            "\u001b[0;31mAttributeError\u001b[0m: 'list' object has no attribute 'hi'"
          ]
        }
      ],
      "source": [
        "s = [10, 20, 30]\n",
        "s.hi = 'hi, world'\n",
        "s.hi"
      ]
    },
    {
      "cell_type": "code",
      "execution_count": 81,
      "metadata": {},
      "outputs": [
        {
          "ename": "AttributeError",
          "evalue": "'dict' object has no attribute 'hi'",
          "output_type": "error",
          "traceback": [
            "\u001b[0;31m---------------------------------------------------------------------------\u001b[0m",
            "\u001b[0;31mAttributeError\u001b[0m                            Traceback (most recent call last)",
            "\u001b[1;32m/Users/pyeonhaesun/Desktop/ESTsoft_ormi3/ormi3_code/Python/오르미_3기_python4.ipynb 셀 108\u001b[0m line \u001b[0;36m2\n\u001b[1;32m      <a href='vscode-notebook-cell:/Users/pyeonhaesun/Desktop/ESTsoft_ormi3/ormi3_code/Python/%EC%98%A4%EB%A5%B4%EB%AF%B8_3%EA%B8%B0_python4.ipynb#Y225sZmlsZQ%3D%3D?line=0'>1</a>\u001b[0m s \u001b[39m=\u001b[39m {\u001b[39m'\u001b[39m\u001b[39mone\u001b[39m\u001b[39m'\u001b[39m:\u001b[39m1\u001b[39m}\n\u001b[0;32m----> <a href='vscode-notebook-cell:/Users/pyeonhaesun/Desktop/ESTsoft_ormi3/ormi3_code/Python/%EC%98%A4%EB%A5%B4%EB%AF%B8_3%EA%B8%B0_python4.ipynb#Y225sZmlsZQ%3D%3D?line=1'>2</a>\u001b[0m s\u001b[39m.\u001b[39;49mhi \u001b[39m=\u001b[39m \u001b[39m'\u001b[39m\u001b[39mhi, world\u001b[39m\u001b[39m'\u001b[39m\n\u001b[1;32m      <a href='vscode-notebook-cell:/Users/pyeonhaesun/Desktop/ESTsoft_ormi3/ormi3_code/Python/%EC%98%A4%EB%A5%B4%EB%AF%B8_3%EA%B8%B0_python4.ipynb#Y225sZmlsZQ%3D%3D?line=2'>3</a>\u001b[0m s\u001b[39m.\u001b[39mhi\n",
            "\u001b[0;31mAttributeError\u001b[0m: 'dict' object has no attribute 'hi'"
          ]
        }
      ],
      "source": [
        "s = {'one':1}\n",
        "s.hi = 'hi, world'\n",
        "s.hi"
      ]
    },
    {
      "cell_type": "code",
      "execution_count": 83,
      "metadata": {},
      "outputs": [
        {
          "data": {
            "text/plain": [
              "[30, 50]"
            ]
          },
          "execution_count": 83,
          "metadata": {},
          "output_type": "execute_result"
        }
      ],
      "source": [
        "# 저라면 Car에서는 __add__를 구현하지 않았을 겁니다.\n",
        "class Coordinate:\n",
        "\n",
        "  def __init__(self, x, y):\n",
        "    self.x = x\n",
        "    self.y = y\n",
        "  \n",
        "  def __add__(self, other):\n",
        "    return [(self.x + other.x), (self.y + other.y)]\n",
        "  \n",
        "dot1 = Coordinate(10, 20)\n",
        "dot2 = Coordinate(20, 30)\n",
        "\n",
        "dot1 + dot2\n"
      ]
    },
    {
      "cell_type": "code",
      "execution_count": 84,
      "metadata": {},
      "outputs": [
        {
          "name": "stdout",
          "output_type": "stream",
          "text": [
            "30 50\n",
            "36.05551275463989\n"
          ]
        }
      ],
      "source": [
        "class Point:\n",
        "\n",
        "  def __init__(self, x, y):\n",
        "    self.x = x\n",
        "    self.y = y\n",
        "  \n",
        "  def __add__(self, other):\n",
        "    return Point((self.x + other.x), (self.y + other.y))\n",
        "  \n",
        "  def distance(self, other):\n",
        "    dx = self.x - other.x\n",
        "    dy = self.y - other.y\n",
        "    return (dx**2 + dy**2)**0.5\n",
        "  \n",
        "dot1 = Point(10, 20)\n",
        "dot2 = Point(20, 30)\n",
        "\n",
        "dot3 = dot1 + dot2\n",
        "print(dot3.x, dot3.y)\n",
        "print(dot3.distance(dot1))"
      ]
    },
    {
      "cell_type": "code",
      "execution_count": 85,
      "metadata": {},
      "outputs": [
        {
          "data": {
            "text/plain": [
              "[30, 50, 70]"
            ]
          },
          "execution_count": 85,
          "metadata": {},
          "output_type": "execute_result"
        }
      ],
      "source": [
        "class Matrix:\n",
        "\n",
        "  def __init__(self, value):\n",
        "    self.value = value\n",
        "  \n",
        "  def __add__(self, other):\n",
        "    result = []\n",
        "    for i in range(len(self.value)):\n",
        "      result.append(self.value[i] + other.value[i])\n",
        "    return result\n",
        "  \n",
        "m1 = Matrix([10, 20, 30])\n",
        "m2 = Matrix([20, 30, 40])\n",
        "\n",
        "m1 + m2"
      ]
    },
    {
      "cell_type": "code",
      "execution_count": 86,
      "metadata": {},
      "outputs": [
        {
          "name": "stdout",
          "output_type": "stream",
          "text": [
            "[30, 60, 90]\n"
          ]
        },
        {
          "ename": "TypeError",
          "evalue": "int형 외에 곱을 허락하지 않습니다.",
          "output_type": "error",
          "traceback": [
            "\u001b[0;31m---------------------------------------------------------------------------\u001b[0m",
            "\u001b[0;31mTypeError\u001b[0m                                 Traceback (most recent call last)",
            "\u001b[1;32m/Users/pyeonhaesun/Desktop/ESTsoft_ormi3/ormi3_code/Python/오르미_3기_python4.ipynb 셀 112\u001b[0m line \u001b[0;36m2\n\u001b[1;32m     <a href='vscode-notebook-cell:/Users/pyeonhaesun/Desktop/ESTsoft_ormi3/ormi3_code/Python/%EC%98%A4%EB%A5%B4%EB%AF%B8_3%EA%B8%B0_python4.ipynb#Y232sZmlsZQ%3D%3D?line=17'>18</a>\u001b[0m m2 \u001b[39m=\u001b[39m Matrix([\u001b[39m20\u001b[39m, \u001b[39m30\u001b[39m, \u001b[39m40\u001b[39m])\n\u001b[1;32m     <a href='vscode-notebook-cell:/Users/pyeonhaesun/Desktop/ESTsoft_ormi3/ormi3_code/Python/%EC%98%A4%EB%A5%B4%EB%AF%B8_3%EA%B8%B0_python4.ipynb#Y232sZmlsZQ%3D%3D?line=19'>20</a>\u001b[0m \u001b[39mprint\u001b[39m(m1 \u001b[39m*\u001b[39m \u001b[39m3\u001b[39m)\n\u001b[0;32m---> <a href='vscode-notebook-cell:/Users/pyeonhaesun/Desktop/ESTsoft_ormi3/ormi3_code/Python/%EC%98%A4%EB%A5%B4%EB%AF%B8_3%EA%B8%B0_python4.ipynb#Y232sZmlsZQ%3D%3D?line=20'>21</a>\u001b[0m \u001b[39mprint\u001b[39m(m1 \u001b[39m*\u001b[39;49m [\u001b[39m1\u001b[39;49m, \u001b[39m2\u001b[39;49m, \u001b[39m3\u001b[39;49m])\n",
            "\u001b[1;32m/Users/pyeonhaesun/Desktop/ESTsoft_ormi3/ormi3_code/Python/오르미_3기_python4.ipynb 셀 112\u001b[0m line \u001b[0;36m1\n\u001b[1;32m     <a href='vscode-notebook-cell:/Users/pyeonhaesun/Desktop/ESTsoft_ormi3/ormi3_code/Python/%EC%98%A4%EB%A5%B4%EB%AF%B8_3%EA%B8%B0_python4.ipynb#Y232sZmlsZQ%3D%3D?line=12'>13</a>\u001b[0m \u001b[39mif\u001b[39;00m \u001b[39misinstance\u001b[39m(other, \u001b[39mint\u001b[39m):\n\u001b[1;32m     <a href='vscode-notebook-cell:/Users/pyeonhaesun/Desktop/ESTsoft_ormi3/ormi3_code/Python/%EC%98%A4%EB%A5%B4%EB%AF%B8_3%EA%B8%B0_python4.ipynb#Y232sZmlsZQ%3D%3D?line=13'>14</a>\u001b[0m   \u001b[39mreturn\u001b[39;00m [i\u001b[39m*\u001b[39mother \u001b[39mfor\u001b[39;00m i \u001b[39min\u001b[39;00m \u001b[39mself\u001b[39m\u001b[39m.\u001b[39mvalue]\n\u001b[0;32m---> <a href='vscode-notebook-cell:/Users/pyeonhaesun/Desktop/ESTsoft_ormi3/ormi3_code/Python/%EC%98%A4%EB%A5%B4%EB%AF%B8_3%EA%B8%B0_python4.ipynb#Y232sZmlsZQ%3D%3D?line=14'>15</a>\u001b[0m \u001b[39mraise\u001b[39;00m \u001b[39mTypeError\u001b[39;00m(\u001b[39m'\u001b[39m\u001b[39mint형 외에 곱을 허락하지 않습니다.\u001b[39m\u001b[39m'\u001b[39m)\n",
            "\u001b[0;31mTypeError\u001b[0m: int형 외에 곱을 허락하지 않습니다."
          ]
        }
      ],
      "source": [
        "class Matrix:\n",
        "\n",
        "  def __init__(self, value):\n",
        "    self.value = value\n",
        "\n",
        "  def __add__(self, other):\n",
        "    result = []\n",
        "    for i in range(len(self.value)):\n",
        "      result.append(self.value[i] + other.value[i])\n",
        "    return result\n",
        "  \n",
        "  def __mul__(self, other):\n",
        "    if isinstance(other, int):\n",
        "      return [i*other for i in self.value]\n",
        "    raise TypeError('int형 외에 곱을 허락하지 않습니다.')\n",
        "  \n",
        "m1 = Matrix([10, 20, 30])\n",
        "m2 = Matrix([20, 30, 40])\n",
        "\n",
        "print(m1 * 3)\n",
        "print(m1 * [1, 2, 3])"
      ]
    },
    {
      "cell_type": "code",
      "execution_count": 87,
      "metadata": {},
      "outputs": [
        {
          "ename": "TypeError",
          "evalue": "can't multiply sequence by non-int of type 'list'",
          "output_type": "error",
          "traceback": [
            "\u001b[0;31m---------------------------------------------------------------------------\u001b[0m",
            "\u001b[0;31mTypeError\u001b[0m                                 Traceback (most recent call last)",
            "\u001b[1;32m/Users/pyeonhaesun/Desktop/ESTsoft_ormi3/ormi3_code/Python/오르미_3기_python4.ipynb 셀 113\u001b[0m line \u001b[0;36m1\n\u001b[0;32m----> <a href='vscode-notebook-cell:/Users/pyeonhaesun/Desktop/ESTsoft_ormi3/ormi3_code/Python/%EC%98%A4%EB%A5%B4%EB%AF%B8_3%EA%B8%B0_python4.ipynb#Y233sZmlsZQ%3D%3D?line=0'>1</a>\u001b[0m [\u001b[39m1\u001b[39;49m, \u001b[39m2\u001b[39;49m, \u001b[39m3\u001b[39;49m] \u001b[39m*\u001b[39;49m [\u001b[39m1\u001b[39;49m, \u001b[39m2\u001b[39;49m, \u001b[39m3\u001b[39;49m]\n",
            "\u001b[0;31mTypeError\u001b[0m: can't multiply sequence by non-int of type 'list'"
          ]
        }
      ],
      "source": [
        "[1, 2, 3] * [1, 2, 3]"
      ]
    },
    {
      "cell_type": "code",
      "execution_count": null,
      "metadata": {},
      "outputs": [],
      "source": [
        "# 단순화 시키긴 했으나 실제 아래와 같이 만듭니다.\n",
        "class 게시물설계도:\n",
        "  id = int()\n",
        "  title = str()\n",
        "  contents = str()\n",
        "  author = str()\n",
        "  create_time = str()\n",
        "  update_time = str()\n",
        "  view_count = int()\n",
        "  last_connect_location = str()\n",
        "  last_connect_time = str()\n",
        "\n",
        "게시물1 = 게시물설계도()\n",
        "게시물2 = 게시물설계도()"
      ]
    },
    {
      "cell_type": "markdown",
      "metadata": {},
      "source": [
        "# 연습문제"
      ]
    },
    {
      "cell_type": "code",
      "execution_count": 88,
      "metadata": {},
      "outputs": [
        {
          "data": {
            "text/plain": [
              "'\\n [\\n  {\\n    \"gender\": \"여성\",\\n    \"age\": \"43\"\\n  },\\n  {\\n    \"gender\": \"남성\",\\n    \"age\": \"22\"\\n  },\\n  {\\n    \"gender\": \"남성\",\\n    \"age\": \"31\"\\n  }\\n]\\n'"
            ]
          },
          "execution_count": 88,
          "metadata": {},
          "output_type": "execute_result"
        }
      ],
      "source": [
        "# 아래 기본 data를 기반으로 문제를 풀어주세요.\n",
        "data = [\n",
        "  {\n",
        "    \"_id\": \"fd7e9a0f-e77b-436a-B781-119b66033d49\",\n",
        "    \"index\": \"1\",\n",
        "    \"name\": \"나주헌\",\n",
        "    \"gender\": \"여성\",\n",
        "    \"age\": \"43\"\n",
        "  },\n",
        "  {\n",
        "    \"_id\": \"8ec6eabb-160a-41e4-A3de-cd33aff0b281\",\n",
        "    \"index\": \"2\",\n",
        "    \"name\": \"엄루다\",\n",
        "    \"gender\": \"남성\",\n",
        "    \"age\": \"22\"\n",
        "  },\n",
        "  {\n",
        "    \"_id\": \"bcf804f7-0452-4c31-B9d1-20cc2d38490b\",\n",
        "    \"index\": \"3\",\n",
        "    \"name\": \"형유환\",\n",
        "    \"gender\": \"남성\",\n",
        "    \"age\": \"31\"\n",
        "  }\n",
        "]\n",
        "# 문제 1 gender, age값을 추출해보세요. 아래 양식처럼 추출하시면 됩니다. 가능하면 map을 사용해주세요.\n",
        "'''\n",
        " [\n",
        "  {\n",
        "    \"gender\": \"여성\",\n",
        "    \"age\": \"43\"\n",
        "  },\n",
        "  {\n",
        "    \"gender\": \"남성\",\n",
        "    \"age\": \"22\"\n",
        "  },\n",
        "  {\n",
        "    \"gender\": \"남성\",\n",
        "    \"age\": \"31\"\n",
        "  }\n",
        "]\n",
        "'''\n",
        "\n",
        "# 문제 2 User라는 class를 만들어 해당 데이터를 관리해주세요. 아래처럼 저장되어야 합니다. \n",
        "# 다만 꼭 변수 이름이 user_1...user_n 일 필요는 없습니다.\n",
        "# 저장양식: '[user_1, user_2, user_3]'\n",
        "\n",
        "# 문제 3 BankAccount 클래스를 생성하세요. 이 클래스는 owner(계좌주 이름), balance(잔액) 속성을 가져야 합니다.\n",
        "# 이 클래스는 deposit(amount) (입금) 및 withdraw(amount) (출금) 메서드를 가져야 합니다. \n",
        "# 단, 출금 시 잔액보다 큰 금액을 출금하려고 하면 \"잔액 부족\" 메시지를 출력해야 합니다."
      ]
    },
    {
      "cell_type": "code",
      "execution_count": 118,
      "metadata": {},
      "outputs": [
        {
          "name": "stdout",
          "output_type": "stream",
          "text": [
            "[{'gender': '여성', 'age': '43'}, {'gender': '남성', 'age': '22'}, {'gender': '남성', 'age': '31'}]\n"
          ]
        }
      ],
      "source": [
        "# 문제1\n",
        "print(list(map(lambda x:{'gender': x['gender'], 'age': x['age']}, data)))\n"
      ]
    },
    {
      "cell_type": "code",
      "execution_count": 119,
      "metadata": {},
      "outputs": [
        {
          "name": "stdout",
          "output_type": "stream",
          "text": [
            "[<__main__.User object at 0x10a74a5d0>, <__main__.User object at 0x10ee6f990>, <__main__.User object at 0x10f2468d0>]\n"
          ]
        }
      ],
      "source": [
        "# 문제2\n",
        "class User:\n",
        "  def __init__(self, data):\n",
        "    self._id = data['_id']\n",
        "    self.index = data['index']\n",
        "    self.name = data['name']\n",
        "    self.gender = data['gender']\n",
        "    self.age = data['age']\n",
        "\n",
        "new_data = []\n",
        "for d in data:\n",
        "  user = User(d)\n",
        "  new_data.append(user)\n",
        "print(new_data)"
      ]
    },
    {
      "cell_type": "code",
      "execution_count": 124,
      "metadata": {},
      "outputs": [
        {
          "name": "stdout",
          "output_type": "stream",
          "text": [
            "나주헌님의 계좌가 생성되었습니다. 잔액: 10000원\n",
            "5000원 입금 완료! 잔액: 15000원\n",
            "잔액 부족! 잔액: 15000원\n",
            "2000원 출금 완료! 잔액: 13000원\n"
          ]
        }
      ],
      "source": [
        "# 문제3\n",
        "class BankAccount:\n",
        "  def __init__(self, user, balance):\n",
        "    if isinstance(user, User):\n",
        "      self.owner = user.name\n",
        "    else:\n",
        "      print('입력 오류! 다시 입력해주세요.')\n",
        "\n",
        "    if isinstance(balance, int) and (balance >= 0):\n",
        "      self.balance = balance\n",
        "      print(f'{self.owner}님의 계좌가 생성되었습니다. 잔액: {self.balance}원')\n",
        "    else:\n",
        "      print('입력 오류! 다시 입력해주세요.')\n",
        "  \n",
        "  def deposit(self, amount):\n",
        "    if isinstance(amount, int) and (amount >= 0):\n",
        "      self.balance += amount\n",
        "      print(f'{amount}원 입금 완료! 잔액: {self.balance}원')\n",
        "    else:\n",
        "      print('입력 오류! 다시 입력해주세요.')\n",
        "\n",
        "  def withdraw(self, amount):\n",
        "    if isinstance(amount, int) and (amount > self.balance):\n",
        "      print(f'잔액 부족! 잔액: {self.balance}원')\n",
        "    elif isinstance(amount, int) and (0 < amount <= self.balance):\n",
        "      self.balance -= amount\n",
        "      print(f'{amount}원 출금 완료! 잔액: {self.balance}원')\n",
        "    else:\n",
        "      print('입력 오류! 출금값을 양수로 다시 입력해주세요.')\n",
        "\n",
        "user = new_data[0] #문제2에서 만들어진 User객체\n",
        "account = BankAccount(user, 10000)\n",
        "account.deposit(5000)\n",
        "account.withdraw(20000)\n",
        "account.withdraw(2000)"
      ]
    },
    {
      "cell_type": "code",
      "execution_count": 127,
      "metadata": {},
      "outputs": [
        {
          "data": {
            "text/plain": [
              "[{'gender': '여성', 'age': '43'},\n",
              " {'gender': '남성', 'age': '22'},\n",
              " {'gender': '남성', 'age': '31'}]"
            ]
          },
          "execution_count": 127,
          "metadata": {},
          "output_type": "execute_result"
        }
      ],
      "source": [
        "# 답안\n",
        "# 문제1\n",
        "list(map(lambda x: {'gender': x['gender'], 'age': x['age']}, data))"
      ]
    },
    {
      "cell_type": "code",
      "execution_count": 128,
      "metadata": {},
      "outputs": [
        {
          "name": "stdout",
          "output_type": "stream",
          "text": [
            "나주헌\n",
            "엄루다\n",
            "형유환\n"
          ]
        }
      ],
      "source": [
        "# 문제2\n",
        "# 우리 수업에서 Django에서 사용되고\n",
        "# 곧 나올 크롤링 같은 곳에서도 많이 사용됩니다.\n",
        "# 1. 속도: 기본자료형보다 훨씬 빠릅니다.\n",
        "# 2. 메서드 구현: User클래스를 가지고 20~30, 30~40, 40~50 별 타겟팅 광고\n",
        "class User:\n",
        "  def __init__(self, data):\n",
        "    self._id = data['_id']\n",
        "    self.index = data['index']\n",
        "    self.name = data['name']\n",
        "    self.gender = data['gender']\n",
        "    self.age = data['age']\n",
        "\n",
        "user_1 = User(data[0])\n",
        "user_2 = User(data[1])\n",
        "user_3 = User(data[2])\n",
        "\n",
        "user_list = [user_1, user_2, user_3]\n",
        "user_list[0].name\n",
        "for i in user_list:\n",
        "  print(i.name)"
      ]
    },
    {
      "cell_type": "code",
      "execution_count": 129,
      "metadata": {},
      "outputs": [
        {
          "name": "stdout",
          "output_type": "stream",
          "text": [
            "[user_1, user_2, user_3]\n"
          ]
        },
        {
          "data": {
            "text/plain": [
              "'나주헌'"
            ]
          },
          "execution_count": 129,
          "metadata": {},
          "output_type": "execute_result"
        }
      ],
      "source": [
        "class User:\n",
        "  def __init__(self, _id, index, name, gender, age):\n",
        "    self._id = _id\n",
        "    self.index = index\n",
        "    self.name = name\n",
        "    self.gender = gender\n",
        "    self.age = age\n",
        "\n",
        "  def __repr__(self):\n",
        "    return f'user_{self.index}'\n",
        "\n",
        "users = [User(**x) for x in data]\n",
        "print(users)\n",
        "users[0].name"
      ]
    },
    {
      "cell_type": "code",
      "execution_count": 130,
      "metadata": {},
      "outputs": [
        {
          "data": {
            "text/plain": [
              "User(id=123, name='hojun', email='hojun@gmail')"
            ]
          },
          "execution_count": 130,
          "metadata": {},
          "output_type": "execute_result"
        }
      ],
      "source": [
        "from dataclasses import dataclass\n",
        "\n",
        "@dataclass\n",
        "class User:\n",
        "  id: int\n",
        "  name: str\n",
        "  email : str\n",
        "\n",
        "user = User(123, 'hojun', 'hojun@gmail')\n",
        "user"
      ]
    },
    {
      "cell_type": "code",
      "execution_count": 131,
      "metadata": {},
      "outputs": [],
      "source": [
        "# 문제3\n",
        "class BankAccount:\n",
        "  def __init__(self, owner, balance=0):\n",
        "    self.owner = owner\n",
        "    self.balance = balance\n",
        "\n",
        "  def deposit(self, amount):\n",
        "    self.balance += amount\n",
        "    return self.balance\n",
        "\n",
        "  def withdraw(self, amount):\n",
        "    if amount > self.balance:\n",
        "      print(\"잔액 부족\")\n",
        "    else:\n",
        "      self.balance -= amount\n",
        "      return self.balance"
      ]
    }
  ],
  "metadata": {
    "colab": {
      "authorship_tag": "ABX9TyNtTIDrTEE9TQ+Cw7/UPziD",
      "include_colab_link": true,
      "provenance": []
    },
    "kernelspec": {
      "display_name": "Python 3",
      "name": "python3"
    },
    "language_info": {
      "codemirror_mode": {
        "name": "ipython",
        "version": 3
      },
      "file_extension": ".py",
      "mimetype": "text/x-python",
      "name": "python",
      "nbconvert_exporter": "python",
      "pygments_lexer": "ipython3",
      "version": "3.11.4"
    }
  },
  "nbformat": 4,
  "nbformat_minor": 0
}

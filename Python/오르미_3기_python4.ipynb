{
  "cells": [
    {
      "cell_type": "markdown",
      "metadata": {},
      "source": [
        "# 조건문"
      ]
    },
    {
      "cell_type": "code",
      "execution_count": 1,
      "metadata": {},
      "outputs": [
        {
          "name": "stdout",
          "output_type": "stream",
          "text": [
            "hello\n"
          ]
        }
      ],
      "source": [
        "if True:\n",
        "  print('hello')"
      ]
    },
    {
      "cell_type": "code",
      "execution_count": 2,
      "metadata": {},
      "outputs": [],
      "source": [
        "if False:\n",
        "  print('hello')"
      ]
    },
    {
      "cell_type": "code",
      "execution_count": 3,
      "metadata": {},
      "outputs": [
        {
          "name": "stdout",
          "output_type": "stream",
          "text": [
            "hello\n"
          ]
        }
      ],
      "source": [
        "if (True): # 이렇게 괄호를 안해도 됩니다!\n",
        "  print('hello')"
      ]
    },
    {
      "cell_type": "code",
      "execution_count": 4,
      "metadata": {},
      "outputs": [
        {
          "name": "stdout",
          "output_type": "stream",
          "text": [
            "hello\n"
          ]
        }
      ],
      "source": [
        "if 10 and 9: # True나 False가 아니라 단락평가에 의해 9\n",
        "  print('hello')"
      ]
    },
    {
      "cell_type": "code",
      "execution_count": 5,
      "metadata": {},
      "outputs": [
        {
          "name": "stdout",
          "output_type": "stream",
          "text": [
            "hello\n"
          ]
        }
      ],
      "source": [
        "if 10:\n",
        "  print('hello')"
      ]
    },
    {
      "cell_type": "code",
      "execution_count": null,
      "metadata": {},
      "outputs": [],
      "source": [
        "# False\n",
        "''\n",
        "[]\n",
        "0\n",
        "{}\n",
        "()\n",
        "set()\n",
        "##############\n",
        "# True\n",
        "1\n",
        "-1\n",
        "' '\n",
        "[10, 20]"
      ]
    },
    {
      "cell_type": "code",
      "execution_count": 6,
      "metadata": {},
      "outputs": [
        {
          "name": "stdout",
          "output_type": "stream",
          "text": [
            "y is greater or equal\n"
          ]
        }
      ],
      "source": [
        "# 삼항연산자\n",
        "x = 5\n",
        "y = 10\n",
        "result = 'x is greater' if x > y else 'y is greater or equal'\n",
        "print(result) # 출력: 'y is greater or equal'"
      ]
    },
    {
      "cell_type": "markdown",
      "metadata": {},
      "source": [
        "# 연습문제"
      ]
    },
    {
      "cell_type": "markdown",
      "metadata": {},
      "source": [
        "1. 주어진 리스트 data = [{\"이름\": \"길동\", \"수학\": 3, \"과학\": 93}, {\"이름\": \"춘향\", \"수학\": 33, \"과학\": 11}, {\"이름\": \"철수\", \"수학\": 94, \"과학\": 67}]에서 평균점수가 가장 높은 학생에 이름을 출력하세요.\n",
        "\n",
        "2. 주어진 사전 grades = {\"Tom\": 87, \"Jerry\": 95, \"Mickey\": 70}의 모든 값을 5점씩 증가시키고 결과를 출력하세요.\n",
        "\n",
        "3. 주어진 문자열 s = \"apple banana apple cherry banana cherry apple\"에서 가장 자주 등장하는 단어를 출력하세요."
      ]
    },
    {
      "cell_type": "code",
      "execution_count": 58,
      "metadata": {},
      "outputs": [
        {
          "name": "stdout",
          "output_type": "stream",
          "text": [
            "철수\n"
          ]
        }
      ],
      "source": [
        "# 문제1\n",
        "data = [{\"이름\": \"길동\", \"수학\": 3, \"과학\": 93}, {\"이름\": \"춘향\", \"수학\": 33, \"과학\": 11}, {\"이름\": \"철수\", \"수학\": 94, \"과학\": 67}]\n",
        "avgs = []\n",
        "for d in data:\n",
        "  avgs.append((d.get('수학') + d.get('과학')) / (len(d) - 1))\n",
        "\n",
        "print(data[avgs.index(max(avgs))].get('이름'))"
      ]
    },
    {
      "cell_type": "code",
      "execution_count": 60,
      "metadata": {},
      "outputs": [
        {
          "name": "stdout",
          "output_type": "stream",
          "text": [
            "{'Tom': 92, 'Jerry': 100, 'Mickey': 75}\n",
            "{'Tom': 92, 'Jerry': 100, 'Mickey': 75}\n"
          ]
        }
      ],
      "source": [
        "# 문제2\n",
        "grades = {\"Tom\": 87, \"Jerry\": 95, \"Mickey\": 70}\n",
        "for name in grades.keys():\n",
        "  grades[name] += 5\n",
        "print(grades)\n",
        "\n",
        "grades = {\"Tom\": 87, \"Jerry\": 95, \"Mickey\": 70}\n",
        "grades = dict(zip(grades.keys(),list(map(lambda x:x+5, list(grades.values())))))\n",
        "print(grades)"
      ]
    },
    {
      "cell_type": "code",
      "execution_count": 44,
      "metadata": {},
      "outputs": [
        {
          "name": "stdout",
          "output_type": "stream",
          "text": [
            "apple\n"
          ]
        }
      ],
      "source": [
        "# 문제3\n",
        "s = \"apple banana apple cherry banana cherry apple\"\n",
        "s = s.split(' ')\n",
        "\n",
        "d = {}\n",
        "for word in s:\n",
        "  d[word] = s.count(word)\n",
        "print(max(d, key=d.get))"
      ]
    },
    {
      "cell_type": "code",
      "execution_count": 65,
      "metadata": {},
      "outputs": [
        {
          "name": "stdout",
          "output_type": "stream",
          "text": [
            "철수\n"
          ]
        }
      ],
      "source": [
        "# 답안\n",
        "# 문제1\n",
        "data = [\n",
        "  {\"이름\": \"길동\", \"수학\": 3, \"과학\": 93},\n",
        "  {\"이름\": \"춘향\", \"수학\": 33, \"과학\": 11},\n",
        "  {\"이름\": \"철수\", \"수학\": 94, \"과학\": 67}\n",
        "]\n",
        "\n",
        "max_entry = max(data, key=lambda x: x['수학']+x['과학'])\n",
        "print(max_entry['이름'])"
      ]
    },
    {
      "cell_type": "code",
      "execution_count": 66,
      "metadata": {},
      "outputs": [
        {
          "name": "stdout",
          "output_type": "stream",
          "text": [
            "{'Tom': 92, 'Jerry': 100, 'Mickey': 75}\n"
          ]
        }
      ],
      "source": [
        "# 문제2\n",
        "grades = {\"Tom\": 87, \"Jerry\": 95, \"Mickey\": 70}\n",
        "\n",
        "# dictionary comprehension\n",
        "updated_grades = {name: score + 5 for name, score in grades.items()}\n",
        "print(updated_grades)"
      ]
    },
    {
      "cell_type": "code",
      "execution_count": 69,
      "metadata": {},
      "outputs": [
        {
          "name": "stdout",
          "output_type": "stream",
          "text": [
            "apple\n"
          ]
        }
      ],
      "source": [
        "# 문제3\n",
        "s = \"apple banana apple cherry banana cherry apple\"\n",
        "\n",
        "words = s.split()\n",
        "most_frequent_word = max(set(words), key=words.count)\n",
        "print(most_frequent_word)"
      ]
    },
    {
      "cell_type": "code",
      "execution_count": 3,
      "metadata": {},
      "outputs": [
        {
          "data": {
            "text/plain": [
              "[('apple', 3)]"
            ]
          },
          "execution_count": 3,
          "metadata": {},
          "output_type": "execute_result"
        }
      ],
      "source": [
        "from collections import Counter\n",
        "\n",
        "s = \"apple banana apple cherry banana cherry apple\"\n",
        "result = Counter(s.split())\n",
        "result.most_common()\n",
        "result.most_common(1)"
      ]
    },
    {
      "cell_type": "code",
      "execution_count": null,
      "metadata": {},
      "outputs": [],
      "source": []
    }
  ],
  "metadata": {
    "colab": {
      "authorship_tag": "ABX9TyNtTIDrTEE9TQ+Cw7/UPziD",
      "include_colab_link": true,
      "provenance": []
    },
    "kernelspec": {
      "display_name": "Python 3",
      "name": "python3"
    },
    "language_info": {
      "codemirror_mode": {
        "name": "ipython",
        "version": 3
      },
      "file_extension": ".py",
      "mimetype": "text/x-python",
      "name": "python",
      "nbconvert_exporter": "python",
      "pygments_lexer": "ipython3",
      "version": "3.11.4"
    }
  },
  "nbformat": 4,
  "nbformat_minor": 0
}

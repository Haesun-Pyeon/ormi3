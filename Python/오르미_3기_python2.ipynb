{
  "cells": [
    {
      "cell_type": "markdown",
      "metadata": {
        "colab_type": "text",
        "id": "view-in-github"
      },
      "source": [
        "<a href=\"https://colab.research.google.com/github/Haesun-Pyeon/ormi3/blob/main/%EC%98%A4%EB%A5%B4%EB%AF%B8_3%EA%B8%B0_python2.ipynb\" target=\"_parent\"><img src=\"https://colab.research.google.com/assets/colab-badge.svg\" alt=\"Open In Colab\"/></a>"
      ]
    },
    {
      "cell_type": "markdown",
      "metadata": {
        "id": "rFvh76u4vxEL"
      },
      "source": [
        "# 연산과 구문"
      ]
    },
    {
      "cell_type": "markdown",
      "metadata": {
        "id": "Rzhd2f0Lvw3R"
      },
      "source": [
        "# 산술 연산자"
      ]
    },
    {
      "cell_type": "code",
      "execution_count": 1,
      "metadata": {
        "colab": {
          "base_uri": "https://localhost:8080/",
          "height": 191
        },
        "id": "LFlwDbMKwHRY",
        "outputId": "1a16ff6f-ae18-4734-d3a9-5200aa7dba6c"
      },
      "outputs": [
        {
          "ename": "TypeError",
          "evalue": "ignored",
          "output_type": "error",
          "traceback": [
            "\u001b[0;31m---------------------------------------------------------------------------\u001b[0m",
            "\u001b[0;31mTypeError\u001b[0m                                 Traceback (most recent call last)",
            "\u001b[0;32m<ipython-input-1-bf146d4a3706>\u001b[0m in \u001b[0;36m<cell line: 1>\u001b[0;34m()\u001b[0m\n\u001b[0;32m----> 1\u001b[0;31m \u001b[0;34m{\u001b[0m\u001b[0;34m'one'\u001b[0m\u001b[0;34m:\u001b[0m\u001b[0;36m1\u001b[0m\u001b[0;34m}\u001b[0m \u001b[0;34m+\u001b[0m \u001b[0;34m{\u001b[0m\u001b[0;34m'two'\u001b[0m\u001b[0;34m:\u001b[0m\u001b[0;36m2\u001b[0m\u001b[0;34m}\u001b[0m \u001b[0;31m# error\u001b[0m\u001b[0;34m\u001b[0m\u001b[0;34m\u001b[0m\u001b[0m\n\u001b[0m\u001b[1;32m      2\u001b[0m \u001b[0;34m{\u001b[0m\u001b[0;36m5\u001b[0m\u001b[0;34m}\u001b[0m \u001b[0;34m+\u001b[0m \u001b[0;34m{\u001b[0m\u001b[0;36m6\u001b[0m\u001b[0;34m}\u001b[0m \u001b[0;31m# error\u001b[0m\u001b[0;34m\u001b[0m\u001b[0;34m\u001b[0m\u001b[0m\n",
            "\u001b[0;31mTypeError\u001b[0m: unsupported operand type(s) for +: 'dict' and 'dict'"
          ]
        }
      ],
      "source": [
        "{'one':1} + {'two':2} # error\n",
        "{5} + {6} # error"
      ]
    },
    {
      "cell_type": "code",
      "execution_count": 2,
      "metadata": {
        "colab": {
          "base_uri": "https://localhost:8080/"
        },
        "id": "BBYY3JP5wTLo",
        "outputId": "5bbf605e-930b-4ec4-a315-cce2439184ef"
      },
      "outputs": [
        {
          "data": {
            "text/plain": [
              "3"
            ]
          },
          "execution_count": 2,
          "metadata": {},
          "output_type": "execute_result"
        }
      ],
      "source": [
        "7 - 4"
      ]
    },
    {
      "cell_type": "code",
      "execution_count": 4,
      "metadata": {
        "colab": {
          "base_uri": "https://localhost:8080/"
        },
        "id": "bOETAIvgwWPv",
        "outputId": "545b3919-7fc5-49eb-8b6f-2afaa065339a"
      },
      "outputs": [
        {
          "data": {
            "text/plain": [
              "11"
            ]
          },
          "execution_count": 4,
          "metadata": {},
          "output_type": "execute_result"
        }
      ],
      "source": [
        "7 -- 4"
      ]
    },
    {
      "cell_type": "code",
      "execution_count": 5,
      "metadata": {
        "colab": {
          "base_uri": "https://localhost:8080/"
        },
        "id": "H6EcyAn3wXjS",
        "outputId": "6d234886-b080-4d02-8f11-6f1dc693b3e1"
      },
      "outputs": [
        {
          "data": {
            "text/plain": [
              "3"
            ]
          },
          "execution_count": 5,
          "metadata": {},
          "output_type": "execute_result"
        }
      ],
      "source": [
        "7 --- 4"
      ]
    },
    {
      "cell_type": "code",
      "execution_count": 6,
      "metadata": {
        "colab": {
          "base_uri": "https://localhost:8080/"
        },
        "id": "Szmll3EswbTY",
        "outputId": "73a8da0d-7c40-4c33-c0cd-d399097c779f"
      },
      "outputs": [
        {
          "data": {
            "text/plain": [
              "11"
            ]
          },
          "execution_count": 6,
          "metadata": {},
          "output_type": "execute_result"
        }
      ],
      "source": [
        "7 ---- 4"
      ]
    },
    {
      "cell_type": "code",
      "execution_count": 7,
      "metadata": {
        "colab": {
          "base_uri": "https://localhost:8080/"
        },
        "id": "aa13G45dwi8P",
        "outputId": "18272dd4-8a19-4e91-f906-c19e5cb90bc5"
      },
      "outputs": [
        {
          "data": {
            "text/plain": [
              "-4"
            ]
          },
          "execution_count": 7,
          "metadata": {},
          "output_type": "execute_result"
        }
      ],
      "source": [
        "-2 * 2"
      ]
    },
    {
      "cell_type": "code",
      "execution_count": 8,
      "metadata": {
        "colab": {
          "base_uri": "https://localhost:8080/"
        },
        "id": "Jkfo73nUwl19",
        "outputId": "2531f521-3d98-4aa1-f7a7-78844045bb93"
      },
      "outputs": [
        {
          "data": {
            "text/plain": [
              "-4"
            ]
          },
          "execution_count": 8,
          "metadata": {},
          "output_type": "execute_result"
        }
      ],
      "source": [
        "-2 ** 2 #주의 매우주의 -가 나중에붙음"
      ]
    },
    {
      "cell_type": "code",
      "execution_count": 9,
      "metadata": {
        "colab": {
          "base_uri": "https://localhost:8080/"
        },
        "id": "OMwcPxyrwoWm",
        "outputId": "ed784e5e-777d-4a48-e78f-621a62a99b72"
      },
      "outputs": [
        {
          "name": "stdout",
          "output_type": "stream",
          "text": [
            "HaHaHa\n"
          ]
        }
      ],
      "source": [
        "result = 'Ha' * 3\n",
        "print(result) # 출력: 'HaHaHa'"
      ]
    },
    {
      "cell_type": "code",
      "execution_count": 10,
      "metadata": {
        "colab": {
          "base_uri": "https://localhost:8080/"
        },
        "id": "iOrCkYEYxDdm",
        "outputId": "e6627185-6562-4be8-d836-05adb829c6f0"
      },
      "outputs": [
        {
          "name": "stdout",
          "output_type": "stream",
          "text": [
            "[1, 2, 3, 1, 2, 3]\n"
          ]
        }
      ],
      "source": [
        "result = [1,2,3] * 2\n",
        "print(result) # 출력: [1, 2, 3, 1, 2, 3]"
      ]
    },
    {
      "cell_type": "code",
      "execution_count": 11,
      "metadata": {
        "colab": {
          "base_uri": "https://localhost:8080/"
        },
        "id": "klc9ni5jxP4y",
        "outputId": "6ff06203-e9b6-4845-b65d-ef515c6e266b"
      },
      "outputs": [
        {
          "name": "stdout",
          "output_type": "stream",
          "text": [
            "5.0\n",
            "5\n"
          ]
        }
      ],
      "source": [
        "a = 10\n",
        "b = 2\n",
        "print(a / b) # 결과 5.0\n",
        "print(a // b) # 결과 5 (JavaScript에서 //는 주석이라 이 연산이 없습니다.)"
      ]
    },
    {
      "cell_type": "code",
      "execution_count": 12,
      "metadata": {
        "colab": {
          "base_uri": "https://localhost:8080/"
        },
        "id": "Vcr0tP9tx0Mv",
        "outputId": "f5be2f45-5458-4eb6-bdfe-1af79ba7bf85"
      },
      "outputs": [
        {
          "name": "stdout",
          "output_type": "stream",
          "text": [
            "-3\n"
          ]
        }
      ],
      "source": [
        "# Python에 //는 몫이 아닙니다!\n",
        "# 내림입니다!\n",
        "a = -5\n",
        "b = 2\n",
        "print(a // b)"
      ]
    },
    {
      "cell_type": "code",
      "execution_count": 13,
      "metadata": {
        "colab": {
          "base_uri": "https://localhost:8080/",
          "height": 174
        },
        "id": "procznofx8iM",
        "outputId": "5b42b752-b28e-4a50-c4bd-b28136c3c802"
      },
      "outputs": [
        {
          "ename": "ZeroDivisionError",
          "evalue": "ignored",
          "output_type": "error",
          "traceback": [
            "\u001b[0;31m---------------------------------------------------------------------------\u001b[0m",
            "\u001b[0;31mZeroDivisionError\u001b[0m                         Traceback (most recent call last)",
            "\u001b[0;32m<ipython-input-13-cd759d3fcf39>\u001b[0m in \u001b[0;36m<cell line: 1>\u001b[0;34m()\u001b[0m\n\u001b[0;32m----> 1\u001b[0;31m \u001b[0;36m10\u001b[0m \u001b[0;34m/\u001b[0m \u001b[0;36m0\u001b[0m\u001b[0;34m\u001b[0m\u001b[0;34m\u001b[0m\u001b[0m\n\u001b[0m",
            "\u001b[0;31mZeroDivisionError\u001b[0m: division by zero"
          ]
        }
      ],
      "source": [
        "10 / 0 #ZeroDivisionError"
      ]
    },
    {
      "cell_type": "code",
      "execution_count": 4,
      "metadata": {
        "id": "P0fI5Y4ryYp8"
      },
      "outputs": [
        {
          "name": "stdout",
          "output_type": "stream",
          "text": [
            "10 ÷ 3 = 3.333\n"
          ]
        }
      ],
      "source": [
        "a = 10\n",
        "b = 3\n",
        "divide = a / b\n",
        "print(f'{a} ÷ {b} = {divide:.3f}')  # 결과: 10 ÷ 3 = 3.33"
      ]
    },
    {
      "cell_type": "code",
      "execution_count": 13,
      "metadata": {},
      "outputs": [
        {
          "data": {
            "text/plain": [
              "0.10000000000000053"
            ]
          },
          "execution_count": 13,
          "metadata": {},
          "output_type": "execute_result"
        }
      ],
      "source": [
        "10 % 3.3"
      ]
    },
    {
      "cell_type": "code",
      "execution_count": 14,
      "metadata": {},
      "outputs": [
        {
          "data": {
            "text/plain": [
              "0.1"
            ]
          },
          "execution_count": 14,
          "metadata": {},
          "output_type": "execute_result"
        }
      ],
      "source": [
        "(100 % 33) / 10 # 소숫점 1자리까지 출력해야 한다 (10곱하고나눔)"
      ]
    },
    {
      "cell_type": "code",
      "execution_count": 10,
      "metadata": {},
      "outputs": [
        {
          "data": {
            "text/plain": [
              "0.07"
            ]
          },
          "execution_count": 10,
          "metadata": {},
          "output_type": "execute_result"
        }
      ],
      "source": [
        "(1000 % 331) / 100 # 소숫점 2자리까지 출력해야 한다 (100곱하고나눔)"
      ]
    },
    {
      "cell_type": "code",
      "execution_count": 15,
      "metadata": {},
      "outputs": [
        {
          "ename": "ZeroDivisionError",
          "evalue": "integer modulo by zero",
          "output_type": "error",
          "traceback": [
            "\u001b[0;31m---------------------------------------------------------------------------\u001b[0m",
            "\u001b[0;31mZeroDivisionError\u001b[0m                         Traceback (most recent call last)",
            "\u001b[1;32m/Users/pyeonhaesun/Desktop/ESTsoft_ormi3/ormi3_code/Python/오르미_3기_python2.ipynb 셀 20\u001b[0m line \u001b[0;36m1\n\u001b[0;32m----> <a href='vscode-notebook-cell:/Users/pyeonhaesun/Desktop/ESTsoft_ormi3/ormi3_code/Python/%EC%98%A4%EB%A5%B4%EB%AF%B8_3%EA%B8%B0_python2.ipynb#X30sZmlsZQ%3D%3D?line=0'>1</a>\u001b[0m \u001b[39m10\u001b[39;49m \u001b[39m%\u001b[39;49m \u001b[39m0\u001b[39;49m\n",
            "\u001b[0;31mZeroDivisionError\u001b[0m: integer modulo by zero"
          ]
        }
      ],
      "source": [
        "10 % 0"
      ]
    },
    {
      "cell_type": "code",
      "execution_count": 16,
      "metadata": {},
      "outputs": [
        {
          "data": {
            "text/plain": [
              "False"
            ]
          },
          "execution_count": 16,
          "metadata": {},
          "output_type": "execute_result"
        }
      ],
      "source": [
        "5 == '5' #False"
      ]
    },
    {
      "cell_type": "code",
      "execution_count": 18,
      "metadata": {},
      "outputs": [
        {
          "name": "stdout",
          "output_type": "stream",
          "text": [
            "True\n"
          ]
        }
      ],
      "source": [
        "print('apple' < 'banana') # 첫글자의 유니코드 기준 판단"
      ]
    },
    {
      "cell_type": "code",
      "execution_count": 19,
      "metadata": {},
      "outputs": [
        {
          "name": "stdout",
          "output_type": "stream",
          "text": [
            "True\n"
          ]
        }
      ],
      "source": [
        "print('apple' < 'apples') # 문자열 내용이 같을때는 길이비교"
      ]
    },
    {
      "cell_type": "code",
      "execution_count": 22,
      "metadata": {},
      "outputs": [
        {
          "name": "stdout",
          "output_type": "stream",
          "text": [
            "True\n",
            "False\n"
          ]
        }
      ],
      "source": [
        "#앞에서부터 차례대로 비교\n",
        "print([10, 20, 30] < [10, 20, 30, 40])\n",
        "print([10, 20, 35] < [10, 20, 30, 40])"
      ]
    },
    {
      "cell_type": "code",
      "execution_count": 23,
      "metadata": {},
      "outputs": [
        {
          "name": "stdout",
          "output_type": "stream",
          "text": [
            "True\n"
          ]
        }
      ],
      "source": [
        "x = 10\n",
        "print(5 < x < 15) # 결과: True"
      ]
    },
    {
      "cell_type": "code",
      "execution_count": 24,
      "metadata": {},
      "outputs": [
        {
          "name": "stdout",
          "output_type": "stream",
          "text": [
            "False\n"
          ]
        }
      ],
      "source": [
        "x = 20\n",
        "print(10 < x < 11) # 결과: False"
      ]
    },
    {
      "cell_type": "markdown",
      "metadata": {},
      "source": [
        "# 논리연산자"
      ]
    },
    {
      "cell_type": "code",
      "execution_count": 28,
      "metadata": {},
      "outputs": [
        {
          "name": "stdout",
          "output_type": "stream",
          "text": [
            "False\n",
            "True\n",
            "True\n",
            "True\n"
          ]
        }
      ],
      "source": [
        "# and(곱), or(합), not(부정)\n",
        "x = True #1\n",
        "y = False #0\n",
        "\n",
        "print(True and False) # False\n",
        "print(True and True) # True\n",
        "print(True or False) # True\n",
        "print(True or True) # True"
      ]
    },
    {
      "cell_type": "code",
      "execution_count": 30,
      "metadata": {},
      "outputs": [
        {
          "name": "stdout",
          "output_type": "stream",
          "text": [
            "0\n",
            "15\n",
            "30\n",
            "45\n",
            "60\n",
            "75\n",
            "90\n",
            "0\n",
            "15\n",
            "30\n",
            "45\n",
            "60\n",
            "75\n",
            "90\n"
          ]
        }
      ],
      "source": [
        "for i in range(101):\n",
        "  if i % 3 == 0:\n",
        "    if i % 5 == 0:\n",
        "      print(i)\n",
        "\n",
        "#if중첩은 and로 연결할 수 있다.\n",
        "for i in range(101):\n",
        "  if i % 3 == 0 and i % 5 == 0:\n",
        "    print(i)"
      ]
    },
    {
      "cell_type": "code",
      "execution_count": 31,
      "metadata": {},
      "outputs": [
        {
          "name": "stdout",
          "output_type": "stream",
          "text": [
            "0\n",
            "3\n",
            "5\n",
            "6\n",
            "9\n",
            "10\n",
            "12\n",
            "15\n",
            "18\n",
            "20\n",
            "21\n",
            "24\n",
            "25\n",
            "27\n",
            "30\n",
            "33\n",
            "35\n",
            "36\n",
            "39\n",
            "40\n",
            "42\n",
            "45\n",
            "48\n",
            "50\n",
            "51\n",
            "54\n",
            "55\n",
            "57\n",
            "60\n",
            "63\n",
            "65\n",
            "66\n",
            "69\n",
            "70\n",
            "72\n",
            "75\n",
            "78\n",
            "80\n",
            "81\n",
            "84\n",
            "85\n",
            "87\n",
            "90\n",
            "93\n",
            "95\n",
            "96\n",
            "99\n",
            "100\n"
          ]
        }
      ],
      "source": [
        "# https://codingdojang.com/scode/350?answer_mode=hide\n",
        "for i in range(101):\n",
        "  if i % 3 == 0 or i % 5 == 0:\n",
        "    print(i)"
      ]
    },
    {
      "cell_type": "code",
      "execution_count": 32,
      "metadata": {},
      "outputs": [
        {
          "name": "stdout",
          "output_type": "stream",
          "text": [
            "False\n",
            "True\n"
          ]
        }
      ],
      "source": [
        "print(not True) # 결과: False\n",
        "print(not False) # 결과: True"
      ]
    },
    {
      "cell_type": "code",
      "execution_count": 35,
      "metadata": {},
      "outputs": [
        {
          "data": {
            "text/plain": [
              "False"
            ]
          },
          "execution_count": 35,
          "metadata": {},
          "output_type": "execute_result"
        }
      ],
      "source": [
        "#여기서부터는 나아가기 입니다.\n",
        "a = True\n",
        "b = False\n",
        "\n",
        "a and b and ccc and ddd # 디버깅 할 때 조심"
      ]
    },
    {
      "cell_type": "code",
      "execution_count": 37,
      "metadata": {},
      "outputs": [
        {
          "data": {
            "text/plain": [
              "True"
            ]
          },
          "execution_count": 37,
          "metadata": {},
          "output_type": "execute_result"
        }
      ],
      "source": [
        "a = True\n",
        "b = False\n",
        "c = False\n",
        "\n",
        "#and먼저계산\n",
        "a or b and c #True"
      ]
    },
    {
      "cell_type": "code",
      "execution_count": 41,
      "metadata": {},
      "outputs": [
        {
          "data": {
            "text/plain": [
              "True"
            ]
          },
          "execution_count": 41,
          "metadata": {},
          "output_type": "execute_result"
        }
      ],
      "source": [
        "a = True\n",
        "b = False\n",
        "c = False\n",
        "d = True\n",
        "\n",
        "a and not b or c and d\n",
        "# (a and (not b)) or (c and d)"
      ]
    },
    {
      "cell_type": "code",
      "execution_count": 43,
      "metadata": {},
      "outputs": [
        {
          "data": {
            "text/plain": [
              "'hello'"
            ]
          },
          "execution_count": 43,
          "metadata": {},
          "output_type": "execute_result"
        }
      ],
      "source": [
        "# 단락회로평가\n",
        "a = 'hello'\n",
        "b = ''\n",
        "a or b\n",
        "#a가 True라 뒤를 볼 필요 없으므로 안봄"
      ]
    },
    {
      "cell_type": "code",
      "execution_count": 44,
      "metadata": {},
      "outputs": [
        {
          "data": {
            "text/plain": [
              "'world'"
            ]
          },
          "execution_count": 44,
          "metadata": {},
          "output_type": "execute_result"
        }
      ],
      "source": [
        "a = ''\n",
        "b = 'world'\n",
        "a or b"
      ]
    },
    {
      "cell_type": "code",
      "execution_count": 47,
      "metadata": {},
      "outputs": [
        {
          "data": {
            "text/plain": [
              "'이름을 정하지 않았습니다.'"
            ]
          },
          "execution_count": 47,
          "metadata": {},
          "output_type": "execute_result"
        }
      ],
      "source": [
        "username = ''\n",
        "\n",
        "username = username or '이름을 정하지 않았습니다.'\n",
        "username"
      ]
    },
    {
      "cell_type": "code",
      "execution_count": 48,
      "metadata": {},
      "outputs": [
        {
          "data": {
            "text/plain": [
              "'licat'"
            ]
          },
          "execution_count": 48,
          "metadata": {},
          "output_type": "execute_result"
        }
      ],
      "source": [
        "username = 'licat'\n",
        "\n",
        "username = username or '이름을 정하지 않았습니다.'\n",
        "username"
      ]
    },
    {
      "cell_type": "code",
      "execution_count": null,
      "metadata": {},
      "outputs": [],
      "source": [
        "# result = functionA() or functionB()\n",
        "# 앞의 값이 None이나 0이면 뒤의 값으로 result를 만들겠다"
      ]
    },
    {
      "cell_type": "markdown",
      "metadata": {},
      "source": [
        "# 할당연산"
      ]
    },
    {
      "cell_type": "code",
      "execution_count": 49,
      "metadata": {},
      "outputs": [],
      "source": [
        "x = 10\n",
        "y = 20"
      ]
    },
    {
      "cell_type": "code",
      "execution_count": 50,
      "metadata": {},
      "outputs": [],
      "source": [
        "x = x + 1\n",
        "x += 1"
      ]
    },
    {
      "cell_type": "code",
      "execution_count": 53,
      "metadata": {},
      "outputs": [],
      "source": [
        "x -= 1\n",
        "x /= 1\n",
        "x //= 1\n",
        "x **= 1\n",
        "x *= 1\n",
        "x %= 1"
      ]
    },
    {
      "cell_type": "markdown",
      "metadata": {},
      "source": [
        "# id 연산자, is 연산자, is not 연산자"
      ]
    },
    {
      "cell_type": "code",
      "execution_count": 55,
      "metadata": {},
      "outputs": [
        {
          "data": {
            "text/plain": [
              "False"
            ]
          },
          "execution_count": 55,
          "metadata": {},
          "output_type": "execute_result"
        }
      ],
      "source": [
        "#is : 두 객체의 주소(id)가 같은지\n",
        "a = 10000\n",
        "b = 10000\n",
        "a is b"
      ]
    },
    {
      "cell_type": "code",
      "execution_count": 56,
      "metadata": {},
      "outputs": [
        {
          "data": {
            "text/plain": [
              "(4467976944, 4467976080)"
            ]
          },
          "execution_count": 56,
          "metadata": {},
          "output_type": "execute_result"
        }
      ],
      "source": [
        "id(a), id(b)"
      ]
    },
    {
      "cell_type": "code",
      "execution_count": 57,
      "metadata": {},
      "outputs": [
        {
          "data": {
            "text/plain": [
              "False"
            ]
          },
          "execution_count": 57,
          "metadata": {},
          "output_type": "execute_result"
        }
      ],
      "source": [
        "a = [1,2,3]\n",
        "b = [1,2,3]\n",
        "a is b"
      ]
    },
    {
      "cell_type": "markdown",
      "metadata": {},
      "source": [
        "# 230911 연습문제"
      ]
    },
    {
      "cell_type": "code",
      "execution_count": 84,
      "metadata": {},
      "outputs": [
        {
          "data": {
            "text/plain": [
              "8"
            ]
          },
          "execution_count": 84,
          "metadata": {},
          "output_type": "execute_result"
        }
      ],
      "source": [
        "# 1번문제\n",
        "\n",
        "x = 3\n",
        "y = 5\n",
        "result = (isinstance(x, int) and isinstance(y, int)) and (x + y)\n",
        "# 여기에 논리연산자를 더 붙여 두 수를 더하는 코드를 만들어보세요.\n",
        "\n",
        "result # 8이 출력되어야 합니다."
      ]
    },
    {
      "cell_type": "code",
      "execution_count": 63,
      "metadata": {},
      "outputs": [
        {
          "name": "stdout",
          "output_type": "stream",
          "text": [
            "False\n",
            "False\n",
            "False\n"
          ]
        }
      ],
      "source": [
        "# 2번문제\n",
        "# 다음 출력값은 무엇일까요? 왜 그러한가요?\n",
        "\n",
        "print('hello' < 'hell o')\n",
        "# False\n",
        "# 앞부터 비교하는데 o와 공백이 처음으로 차이나므로 둘의 유니코드 코드 포인트를 구해보면\n",
        "# ord('o')==111, ord(' ')==32 이므로 'o'의 값이 더 크다.\n",
        "\n",
        "print([10, 20, 30] < [10, 19, 100])\n",
        "# False \n",
        "# 앞부터 비교하므로 20 > 19\n",
        "\n",
        "print(10 % 3.3 == 0.1) \n",
        "# False\n",
        "# 10 % 3.3은 부동소수점 문제로 정확히 계산되지 않은 0.10000000000000053이라 0.1이 아니다."
      ]
    },
    {
      "cell_type": "code",
      "execution_count": 75,
      "metadata": {},
      "outputs": [
        {
          "name": "stdout",
          "output_type": "stream",
          "text": [
            "gmail\n",
            "naver\n",
            "weniv\n",
            "weniv\n"
          ]
        }
      ],
      "source": [
        "# 3번문제\n",
        "# 어떤 이메일을 쓰고 있는지 출력하는 코드를 작성해주세요.\n",
        "\n",
        "email2 = 'abc@gmail.com' # gmail\n",
        "email3 = 'abc@naver.com' # naver\n",
        "email4 = 'abc@weniv.co.kr' # weniv\n",
        "email5 = 'li.cat@weniv.co.kr' # weniv\n",
        "\n",
        "def find_email(x):\n",
        "  x = x.split('@')[1]\n",
        "  x = x[:x.index('.')]\n",
        "  return x\n",
        "print(find_email(email2))\n",
        "print(find_email(email3))\n",
        "print(find_email(email4))\n",
        "print(find_email(email5))"
      ]
    }
  ],
  "metadata": {
    "colab": {
      "authorship_tag": "ABX9TyNtTIDrTEE9TQ+Cw7/UPziD",
      "include_colab_link": true,
      "provenance": []
    },
    "kernelspec": {
      "display_name": "Python 3",
      "name": "python3"
    },
    "language_info": {
      "codemirror_mode": {
        "name": "ipython",
        "version": 3
      },
      "file_extension": ".py",
      "mimetype": "text/x-python",
      "name": "python",
      "nbconvert_exporter": "python",
      "pygments_lexer": "ipython3",
      "version": "3.11.4"
    }
  },
  "nbformat": 4,
  "nbformat_minor": 0
}

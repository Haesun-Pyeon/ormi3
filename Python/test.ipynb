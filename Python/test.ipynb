{
 "cells": [
  {
   "cell_type": "markdown",
   "metadata": {},
   "source": [
    "# 파이썬 중간평가 주관식 문제"
   ]
  },
  {
   "cell_type": "code",
   "execution_count": 45,
   "metadata": {},
   "outputs": [
    {
     "name": "stdout",
     "output_type": "stream",
     "text": [
      "물고기 평균 무게: 2.50 kg\n"
     ]
    }
   ],
   "source": [
    "# 주관식1\n",
    "class Fish():\n",
    "    count = 0\n",
    "    weight_sum = 0\n",
    "\n",
    "    def __init__(self, weight):\n",
    "        self.weight = weight\n",
    "        Fish.count += 1\n",
    "        Fish.weight_sum += self.weight\n",
    "\n",
    "    @classmethod\n",
    "    def average(cls):\n",
    "        avg = (cls.weight_sum) / cls.count\n",
    "        print(f'물고기 평균 무게: {avg:.2f} kg')\n",
    "\n",
    "a = Fish(2.5)\n",
    "b = Fish(3.1)\n",
    "c = Fish(1.7)\n",
    "d = Fish(2.8)\n",
    "e = Fish(2.4)\n",
    "\n",
    "Fish.average()"
   ]
  },
  {
   "cell_type": "code",
   "execution_count": 21,
   "metadata": {},
   "outputs": [
    {
     "name": "stdout",
     "output_type": "stream",
     "text": [
      "HWILP\n",
      "이오1여반\n",
      "복세편살\n"
     ]
    }
   ],
   "source": [
    "# 주관식2\n",
    "def get_first_letters(s):\n",
    "    answer = ''\n",
    "    s = s.split(' ')\n",
    "    for word in s:\n",
    "        answer += word[0]\n",
    "    return answer\n",
    "\n",
    "print(get_first_letters(\"Hello World! I Love Python\"))\n",
    "print(get_first_letters(\"이스트소프트 오르미 1기 여러분 반가워요!\"))   \n",
    "print(get_first_letters(\"복잡한 세상 편하게 살자\")) "
   ]
  },
  {
   "cell_type": "code",
   "execution_count": 27,
   "metadata": {},
   "outputs": [
    {
     "name": "stdout",
     "output_type": "stream",
     "text": [
      "[4, 5]\n",
      "['ormi']\n",
      "[]\n"
     ]
    }
   ],
   "source": [
    "# 주관식3\n",
    "def common_elements(list1, list2):\n",
    "    answer = []\n",
    "    for l1 in list1:\n",
    "        if l1 in list2 and l1 not in answer:\n",
    "            answer.append(l1)\n",
    "    return answer\n",
    "\n",
    "print(common_elements([1, 2, 3, 4, 5], [4, 5, 6, 7, 8]))\n",
    "print(common_elements(['est', 'weniv', 'ormi'], ['licat', 'ormi']))\n",
    "print(common_elements([1, 2, 3], [4, 5, 6])  )"
   ]
  },
  {
   "cell_type": "code",
   "execution_count": 46,
   "metadata": {},
   "outputs": [
    {
     "name": "stdout",
     "output_type": "stream",
     "text": [
      "이스트\n",
      "\n",
      "오\n"
     ]
    }
   ],
   "source": [
    "# 주관식4\n",
    "def find_longest_word(list1):\n",
    "    answer = ''\n",
    "    min_word = min(list1, key=len)\n",
    "    for i in range(1, len(min_word)+1):\n",
    "        search_word = min_word[0:i]\n",
    "        finds = list(filter(lambda x:search_word in x[:len(search_word)], list1))\n",
    "        if len(finds) == len(list1):\n",
    "            answer = search_word\n",
    "    return answer\n",
    "\n",
    "print(find_longest_word(['이스트소프트', '이스트', '이스트소']) )\n",
    "print(find_longest_word(['behind', 'hind']) )\n",
    "print(find_longest_word(['오르미', '오르다', '오름']))"
   ]
  },
  {
   "cell_type": "code",
   "execution_count": 49,
   "metadata": {},
   "outputs": [
    {
     "name": "stdout",
     "output_type": "stream",
     "text": [
      "5\n",
      "1\n",
      "4\n",
      "2\n"
     ]
    }
   ],
   "source": [
    "# 주관식5\n",
    "def length_of_lis(nums):\n",
    "    lis = []\n",
    "    for num in nums:\n",
    "        if not lis or lis[-1] < num:\n",
    "            lis.append(num)\n",
    "        elif len(lis) == 1:\n",
    "            lis.clear()\n",
    "            lis.append(num)\n",
    "    answer = len(lis)\n",
    "    return answer\n",
    "\n",
    "nums1 = [1, 2, 3, 4, 5]\n",
    "print(length_of_lis(nums1))\n",
    "\n",
    "nums2 = [5, 4, 3, 2, 1]\n",
    "print(length_of_lis(nums2))\n",
    "\n",
    "nums3 = [10, 9, 2, 5, 3, 7, 101, 18]\n",
    "print(length_of_lis(nums3))\n",
    "\n",
    "nums4 = [4, 5, 2, 3, 1, 2]\n",
    "print(length_of_lis(nums4))"
   ]
  },
  {
   "cell_type": "code",
   "execution_count": 53,
   "metadata": {},
   "outputs": [
    {
     "name": "stdout",
     "output_type": "stream",
     "text": [
      "10\n",
      "101\n",
      "[2]\n",
      "9\n",
      "101\n",
      "[2, 2]\n",
      "2\n",
      "5\n",
      "7\n",
      "101\n",
      "[2, 2, 4]\n",
      "5\n",
      "7\n",
      "101\n",
      "[2, 2, 4, 3]\n",
      "3\n",
      "7\n",
      "101\n",
      "[2, 2, 4, 3, 3]\n",
      "7\n",
      "101\n",
      "[2, 2, 4, 3, 3, 2]\n",
      "101\n",
      "[2, 2, 4, 3, 3, 2, 1]\n",
      "4\n"
     ]
    }
   ],
   "source": [
    "# 강사님 5번문제 풀이\n",
    "def solution(arr):\n",
    "    n = len(arr)\n",
    "    result = []\n",
    "\n",
    "    for k in range(0, n-1):\n",
    "        count = 0\n",
    "        temp = float('-inf')\n",
    "        for i in range(k, n):\n",
    "            if arr[i] > temp:\n",
    "                print(arr[i])\n",
    "                temp = arr[i]\n",
    "                count += 1\n",
    "        result.append(count)\n",
    "        print(result)\n",
    "\n",
    "    return max(result)\n",
    "\n",
    "\n",
    "nums3 = [10, 9, 2, 5, 3, 7, 101, 18]\n",
    "print(solution(nums3))"
   ]
  },
  {
   "cell_type": "code",
   "execution_count": null,
   "metadata": {},
   "outputs": [],
   "source": [
    "temp = float('-inf')\n",
    "# 최댓값 찾기와 같습니다.\n",
    "# [10, 9, 2, 5, 3, 7, 101, 18] => 10 ~ 18 => 2\n",
    "# [9, 2, 5, 3, 7, 101, 18] => 9 ~ 18 => 2\n",
    "# [2, 5, 3, 7, 101, 18] => 2 ~ 18 => 4\n",
    "# [5, 3, 7, 101, 18] => 5 ~ 18 => 3\n",
    "# ... 생략 ..."
   ]
  },
  {
   "cell_type": "code",
   "execution_count": null,
   "metadata": {},
   "outputs": [],
   "source": []
  }
 ],
 "metadata": {
  "kernelspec": {
   "display_name": "Python 3",
   "language": "python",
   "name": "python3"
  },
  "language_info": {
   "codemirror_mode": {
    "name": "ipython",
    "version": 3
   },
   "file_extension": ".py",
   "mimetype": "text/x-python",
   "name": "python",
   "nbconvert_exporter": "python",
   "pygments_lexer": "ipython3",
   "version": "3.11.5"
  },
  "orig_nbformat": 4
 },
 "nbformat": 4,
 "nbformat_minor": 2
}

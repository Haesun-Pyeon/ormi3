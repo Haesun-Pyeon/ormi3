{
 "cells": [
  {
   "cell_type": "markdown",
   "metadata": {},
   "source": [
    "# 일급함수와 고차함수"
   ]
  },
  {
   "cell_type": "code",
   "execution_count": 1,
   "metadata": {},
   "outputs": [
    {
     "name": "stdout",
     "output_type": "stream",
     "text": [
      "hello world\n"
     ]
    }
   ],
   "source": [
    "licat = print\n",
    "licat('hello world')"
   ]
  },
  {
   "cell_type": "code",
   "execution_count": 3,
   "metadata": {},
   "outputs": [
    {
     "name": "stdout",
     "output_type": "stream",
     "text": [
      "냐옹\n"
     ]
    }
   ],
   "source": [
    "class Cat:\n",
    "  def sound(self):\n",
    "    print('냐옹')\n",
    "\n",
    "licat = Cat()\n",
    "licat_sound = licat.sound\n",
    "licat_sound() # licat.sound()"
   ]
  },
  {
   "cell_type": "code",
   "execution_count": 4,
   "metadata": {},
   "outputs": [
    {
     "data": {
      "text/plain": [
       "[10, 20, 30, 40]"
      ]
     },
     "execution_count": 4,
     "metadata": {},
     "output_type": "execute_result"
    }
   ],
   "source": [
    "l = [10, 20, 30]\n",
    "la = l.append\n",
    "la(40)\n",
    "l\n",
    "#일급함수 - 외부 모듈중 이름이 긴 것들을 여러번 쓸 때 간단하게 쓸 수 있게함"
   ]
  },
  {
   "cell_type": "code",
   "execution_count": 103,
   "metadata": {},
   "outputs": [
    {
     "name": "stdout",
     "output_type": "stream",
     "text": [
      "5\n"
     ]
    }
   ],
   "source": [
    "def add(x, y):\n",
    "  return x + y\n",
    "\n",
    "def subtract(x, y):\n",
    "  return x - y\n",
    "\n",
    "funcs = [add, subtract]\n",
    "print(funcs[0](2, 3))  # 출력: 5"
   ]
  },
  {
   "cell_type": "code",
   "execution_count": 9,
   "metadata": {},
   "outputs": [
    {
     "name": "stdout",
     "output_type": "stream",
     "text": [
      "5\n",
      "5\n",
      "5\n",
      "-1\n",
      "6\n",
      "0.6666666666666666\n"
     ]
    }
   ],
   "source": [
    "class Operator:\n",
    "  def add(self, x, y):\n",
    "    return x + y\n",
    "\n",
    "  def sub(self, x, y):\n",
    "    return x - y\n",
    "  \n",
    "  def mul(self, x, y):\n",
    "    return x * y\n",
    "  \n",
    "  def div(self, x, y):\n",
    "    return x / y\n",
    "\n",
    "  def _and(self, x, y):\n",
    "    return x and y\n",
    "\n",
    "  def _or(self, x, y):\n",
    "    return x or y\n",
    "\n",
    "op = Operator()\n",
    "arithmetic_op = {\n",
    "  'add': op.add,\n",
    "  'sub': op.sub,\n",
    "  'mul': op.mul,\n",
    "  'div': op.div\n",
    "}\n",
    "logical_op = {\n",
    "  '_and': op._and,\n",
    "  '_or': op._or\n",
    "}\n",
    "\n",
    "print(arithmetic_op['add'](2, 3))  # 출력: 5\n",
    "print(op.add(2, 3)) # 출력: 5\n",
    "\n",
    "for _, f in arithmetic_op.items():\n",
    "  print(f(2,3)) # 사칙연산 모두 계산\n"
   ]
  },
  {
   "cell_type": "code",
   "execution_count": null,
   "metadata": {},
   "outputs": [],
   "source": [
    "# JavaScript 콜백함수\n",
    "# l = [10, 20, 30]\n",
    "# l.map((v)=>v**2) //[100, 400, 900]"
   ]
  },
  {
   "cell_type": "code",
   "execution_count": 10,
   "metadata": {},
   "outputs": [
    {
     "name": "stdout",
     "output_type": "stream",
     "text": [
      "냐옹\n"
     ]
    }
   ],
   "source": [
    "# 함수를 인자로 받음\n",
    "def licat_sound(p):\n",
    "  # 함수의 기능 10줄이 들어간다 생각하겠습니다.\n",
    "  x = 10\n",
    "  y = 10\n",
    "  z = 10\n",
    "  p('냐옹') # 콜백함수\n",
    "\n",
    "licat_sound(print) # licat_sound안에 built-in function인 print를 넣었습니다."
   ]
  },
  {
   "cell_type": "code",
   "execution_count": 11,
   "metadata": {},
   "outputs": [
    {
     "data": {
      "text/plain": [
       "314.0"
      ]
     },
     "execution_count": 11,
     "metadata": {},
     "output_type": "execute_result"
    }
   ],
   "source": [
    "def square(x):\n",
    "  return x ** 2\n",
    "\n",
    "def width_circle(r, s):\n",
    "  return s(r) * 3.14\n",
    "\n",
    "width_circle(10, square)"
   ]
  },
  {
   "cell_type": "code",
   "execution_count": 14,
   "metadata": {},
   "outputs": [
    {
     "name": "stdout",
     "output_type": "stream",
     "text": [
      "15\n"
     ]
    }
   ],
   "source": [
    "# 함수를 결과로 반환!\n",
    "def create_adder(x):\n",
    "  def adder(y):\n",
    "    return x + y\n",
    "  return adder\n",
    "\n",
    "add_5 = create_adder(5)\n",
    "print(add_5(10))  # 출력: 15"
   ]
  },
  {
   "cell_type": "code",
   "execution_count": 18,
   "metadata": {},
   "outputs": [
    {
     "name": "stdout",
     "output_type": "stream",
     "text": [
      "100\n",
      "1000\n"
     ]
    }
   ],
   "source": [
    "def create_exponent(x):\n",
    "  def exponent(y):\n",
    "    return y ** x\n",
    "  return exponent\n",
    "\n",
    "exponent_2 = create_exponent(2)\n",
    "exponent_3 = create_exponent(3)\n",
    "print(exponent_2(10)) # 100\n",
    "# print(exponent(10)) => return y ** 2(이 숫자는 상수취급되어 변경시킬 수 없게 됩니다.)\n",
    "print(exponent_3(10)) # 1000\n",
    "# print(exponent(10)) => return y ** 3(이 숫자는 상수취급되어 변경시킬 수 없게 됩니다.)"
   ]
  },
  {
   "cell_type": "code",
   "execution_count": 19,
   "metadata": {},
   "outputs": [
    {
     "name": "stdout",
     "output_type": "stream",
     "text": [
      "4426845184\n"
     ]
    },
    {
     "data": {
      "text/plain": [
       "4426845184"
      ]
     },
     "execution_count": 19,
     "metadata": {},
     "output_type": "execute_result"
    }
   ],
   "source": [
    "def f():\n",
    "  l = [10, 20, 30]\n",
    "  print(id(l))\n",
    "  return l\n",
    "\n",
    "sample = f()\n",
    "id(sample) # 주소가 같네요??\n",
    "# 함수가 끝나면 안에 변수들이 다 휘발되는 것 아니었나요??"
   ]
  },
  {
   "cell_type": "code",
   "execution_count": 31,
   "metadata": {},
   "outputs": [
    {
     "data": {
      "text/plain": [
       "2"
      ]
     },
     "execution_count": 31,
     "metadata": {},
     "output_type": "execute_result"
    }
   ],
   "source": [
    "import sys\n",
    "\n",
    "def ff():\n",
    "  l = [10, 20, 30]\n",
    "  return l\n",
    "\n",
    "sample_ = ff()\n",
    "sys.getrefcount(sample_) #window, mac, linux의 출력값이 달라요. \n",
    "# 중요한 포인트는 getrefcount의 작동 원리가 아니라\n",
    "# 함수가 종료되어도 참조하는 변수가 있다면 값이 사라지지 않는다는 것이 포인트입니다!"
   ]
  },
  {
   "cell_type": "code",
   "execution_count": 32,
   "metadata": {},
   "outputs": [],
   "source": [
    "import sys\n",
    "\n",
    "def ff():\n",
    "  l = [10, 20, 30]\n",
    "  return l\n",
    "\n",
    "sample_ = ff()"
   ]
  },
  {
   "cell_type": "code",
   "execution_count": 33,
   "metadata": {},
   "outputs": [
    {
     "data": {
      "text/plain": [
       "2"
      ]
     },
     "execution_count": 33,
     "metadata": {},
     "output_type": "execute_result"
    }
   ],
   "source": [
    "sys.getrefcount(sample_) #강사님은 3나옴"
   ]
  },
  {
   "cell_type": "code",
   "execution_count": null,
   "metadata": {},
   "outputs": [],
   "source": [
    "# 일급 함수: 함수를 일급객체(값, 주소)로 취급\n",
    "# 고차 함수: 함수를 아규먼트로 받거나 return값으로 반환할 수 있는 함수"
   ]
  },
  {
   "cell_type": "markdown",
   "metadata": {},
   "source": [
    "# 클로저"
   ]
  },
  {
   "cell_type": "code",
   "execution_count": 104,
   "metadata": {},
   "outputs": [
    {
     "data": {
      "text/plain": [
       "300"
      ]
     },
     "execution_count": 104,
     "metadata": {},
     "output_type": "execute_result"
    }
   ],
   "source": [
    "# 클로저: 휘발되었어야 하는 메모리 영역에 접근하여 함수나 데이터를 활용하는 일\n",
    "\n",
    "# 고차함수이며, 일반적인 클로저의 형태는 아닙니다.\n",
    "# 보통 클로저는 outer_function에 매개변수로 값을 넘겨줍니다.\n",
    "def outer_function():\n",
    "  def inner_function():\n",
    "    return 100 + 100\n",
    "  return inner_function\n",
    "\n",
    "# 클로저인 경우\n",
    "def outer_function(x):\n",
    "  def inner_function(y):\n",
    "    return x + y\n",
    "  return inner_function\n",
    "\n",
    "inner = outer_function(100)\n",
    "''' 이거랑 똑같은거다.\n",
    "def inner(y):\n",
    "    return 100 + y\n",
    "inner(200)\n",
    "'''\n",
    "inner(200) # inner 입장에서 100을 변경할 수 있는 방법이 없습니다."
   ]
  },
  {
   "cell_type": "markdown",
   "metadata": {},
   "source": [
    "# 데코레이터"
   ]
  },
  {
   "cell_type": "code",
   "execution_count": null,
   "metadata": {},
   "outputs": [],
   "source": [
    "# 이런 식으로 우린 사용합니다.\n",
    "# login한 사용자만 게시판 읽도록\n",
    "# Django와 같은 프레임워크는 필요한 데코레이터는 미리 구현되어 있습니다.\n",
    "# 걱정하지 않으셔도 됩니다.\n",
    "def login(arg):\n",
    "  pass\n",
    "\n",
    "@login\n",
    "def 게시판읽기():\n",
    "  pass"
   ]
  },
  {
   "cell_type": "code",
   "execution_count": 24,
   "metadata": {},
   "outputs": [
    {
     "name": "stdout",
     "output_type": "stream",
     "text": [
      "Before the function call\n",
      "Hello, World!\n",
      "After the function call\n"
     ]
    }
   ],
   "source": [
    "def simple_decorator(function):\n",
    "  def wrapper():\n",
    "    print(\"Before the function call\")\n",
    "    function()\n",
    "    print(\"After the function call\")\n",
    "  return wrapper\n",
    "\n",
    "@simple_decorator\n",
    "def hello():\n",
    "    print(\"Hello, World!\")\n",
    "\n",
    "hello() # 데코레이터가 없는 상태에서는 simple_decorator(hello)() 와 같습니다."
   ]
  },
  {
   "cell_type": "code",
   "execution_count": 25,
   "metadata": {},
   "outputs": [
    {
     "name": "stdout",
     "output_type": "stream",
     "text": [
      "Before the function call\n",
      "Hello, World!\n",
      "After the function call\n"
     ]
    }
   ],
   "source": [
    "def simple_decorator(function):\n",
    "    def wrapper():\n",
    "        print(\"Before the function call\")\n",
    "        function()\n",
    "        print(\"After the function call\")\n",
    "    return wrapper\n",
    "\n",
    "def hello():\n",
    "    print(\"Hello, World!\")\n",
    "\n",
    "simple_decorator(hello)()\n",
    "# simple_decorator(hello) => wrapper\n",
    "# simple_decorator(hello)() => wrapper()"
   ]
  },
  {
   "cell_type": "code",
   "execution_count": 26,
   "metadata": {},
   "outputs": [
    {
     "name": "stdout",
     "output_type": "stream",
     "text": [
      "Before the function call\n",
      "Hello, World!\n",
      "After the function call\n"
     ]
    }
   ],
   "source": [
    "def simple_decorator(function):\n",
    "    def wrapper():\n",
    "        print(\"Before the function call\")\n",
    "        function()\n",
    "        print(\"After the function call\")\n",
    "    return wrapper\n",
    "\n",
    "@simple_decorator\n",
    "def hello():\n",
    "    print(\"Hello, World!\")\n",
    "\n",
    "hello() # 이렇게만 하면 simple_decorator에 hello를 아규먼트로 넣어주고 실행하겠다!"
   ]
  },
  {
   "cell_type": "code",
   "execution_count": 27,
   "metadata": {},
   "outputs": [
    {
     "ename": "TypeError",
     "evalue": "data_Preprocessing.<locals>.wrapper() takes 0 positional arguments but 1 was given",
     "output_type": "error",
     "traceback": [
      "\u001b[0;31m---------------------------------------------------------------------------\u001b[0m",
      "\u001b[0;31mTypeError\u001b[0m                                 Traceback (most recent call last)",
      "\u001b[1;32m/Users/pyeonhaesun/Desktop/ESTsoft_ormi3/ormi3_code/Python/오르미_3기_python6.ipynb 셀 22\u001b[0m line \u001b[0;36m1\n\u001b[1;32m      <a href='vscode-notebook-cell:/Users/pyeonhaesun/Desktop/ESTsoft_ormi3/ormi3_code/Python/%EC%98%A4%EB%A5%B4%EB%AF%B8_3%EA%B8%B0_python6.ipynb#X35sZmlsZQ%3D%3D?line=6'>7</a>\u001b[0m \u001b[39m@data_Preprocessing\u001b[39m\n\u001b[1;32m      <a href='vscode-notebook-cell:/Users/pyeonhaesun/Desktop/ESTsoft_ormi3/ormi3_code/Python/%EC%98%A4%EB%A5%B4%EB%AF%B8_3%EA%B8%B0_python6.ipynb#X35sZmlsZQ%3D%3D?line=7'>8</a>\u001b[0m \u001b[39mdef\u001b[39;00m \u001b[39mmean\u001b[39m(data):\n\u001b[1;32m      <a href='vscode-notebook-cell:/Users/pyeonhaesun/Desktop/ESTsoft_ormi3/ormi3_code/Python/%EC%98%A4%EB%A5%B4%EB%AF%B8_3%EA%B8%B0_python6.ipynb#X35sZmlsZQ%3D%3D?line=8'>9</a>\u001b[0m     \u001b[39mreturn\u001b[39;00m \u001b[39msum\u001b[39m(data)\u001b[39m/\u001b[39m\u001b[39mlen\u001b[39m(data)\n\u001b[0;32m---> <a href='vscode-notebook-cell:/Users/pyeonhaesun/Desktop/ESTsoft_ormi3/ormi3_code/Python/%EC%98%A4%EB%A5%B4%EB%AF%B8_3%EA%B8%B0_python6.ipynb#X35sZmlsZQ%3D%3D?line=10'>11</a>\u001b[0m mean([\u001b[39m1\u001b[39;49m, \u001b[39m2\u001b[39;49m, \u001b[39m'\u001b[39;49m\u001b[39m3\u001b[39;49m\u001b[39m'\u001b[39;49m, \u001b[39m4\u001b[39;49m, \u001b[39m'\u001b[39;49m\u001b[39m5\u001b[39;49m\u001b[39m'\u001b[39;49m]) \u001b[39m# TypeError 발생\u001b[39;00m\n",
      "\u001b[0;31mTypeError\u001b[0m: data_Preprocessing.<locals>.wrapper() takes 0 positional arguments but 1 was given"
     ]
    }
   ],
   "source": [
    "# step 1\n",
    "def data_Preprocessing(function):\n",
    "    def wrapper():\n",
    "        pass\n",
    "    return wrapper\n",
    "\n",
    "@data_Preprocessing\n",
    "def mean(data):\n",
    "    return sum(data)/len(data)\n",
    "\n",
    "mean([1, 2, '3', 4, '5']) # TypeError 발생"
   ]
  },
  {
   "cell_type": "code",
   "execution_count": 28,
   "metadata": {},
   "outputs": [
    {
     "name": "stdout",
     "output_type": "stream",
     "text": [
      "[1, 2, '3', 4, '5']\n"
     ]
    }
   ],
   "source": [
    "# step 2\n",
    "def data_Preprocessing(function):\n",
    "    def wrapper(data):\n",
    "        print(data) #여기서 function실행하는코드가 없어서 mean은 실행이 안됨\n",
    "    return wrapper\n",
    "\n",
    "@data_Preprocessing\n",
    "def mean(data):\n",
    "    return sum(data)/len(data)\n",
    "\n",
    "mean([1, 2, '3', 4, '5']) # 데이터만 출력하고 함수는 None을 반환"
   ]
  },
  {
   "cell_type": "code",
   "execution_count": 29,
   "metadata": {},
   "outputs": [
    {
     "data": {
      "text/plain": [
       "3.0"
      ]
     },
     "execution_count": 29,
     "metadata": {},
     "output_type": "execute_result"
    }
   ],
   "source": [
    "# step 3\n",
    "def data_Preprocessing(function):\n",
    "    def wrapper(data):\n",
    "        return function(list(map(int, data)))\n",
    "    return wrapper\n",
    "\n",
    "@data_Preprocessing\n",
    "def mean(data):\n",
    "    return sum(data)/len(data)\n",
    "\n",
    "mean([1, 2, '3', 4, '5']) # 출력: 3.0 (정상 작동)\n",
    "# 데코레이터가 붙으면 mean을 실행하는 것이 아닙니다.\n",
    "\n",
    "# data_Preprocessing(mean) => wrapper\n",
    "# data_Preprocessing(mean)([1, 2, '3', 4, '5']) => wrapper([1, 2, '3', 4, '5'])"
   ]
  },
  {
   "cell_type": "code",
   "execution_count": 30,
   "metadata": {},
   "outputs": [
    {
     "name": "stdout",
     "output_type": "stream",
     "text": [
      "10 20 30\n",
      "20.0\n"
     ]
    }
   ],
   "source": [
    "# step 3\n",
    "def data_Preprocessing(function):\n",
    "    def wrapper(a, b, c):\n",
    "        print(a, b, c) # print(10, 20, 30)\n",
    "        print(function([a, b, c])) # print(mean([10, 20, 30]))\n",
    "    return wrapper\n",
    "\n",
    "@data_Preprocessing\n",
    "def mean(data):\n",
    "    return sum(data)/len(data)\n",
    "\n",
    "mean(10, 20, 30) # 왜 오류가 없을까요? data인자가 하나고, 10, 20, 30인자가 3개인데요?"
   ]
  },
  {
   "cell_type": "code",
   "execution_count": null,
   "metadata": {},
   "outputs": [],
   "source": [
    "#### 여기까지 이해하시면 됩니다. ####"
   ]
  },
  {
   "cell_type": "code",
   "execution_count": 34,
   "metadata": {},
   "outputs": [
    {
     "name": "stdout",
     "output_type": "stream",
     "text": [
      "hello\n"
     ]
    }
   ],
   "source": [
    "# 강성웅님 Q&A\n",
    "# b를 실행시키고 싶은데 어떻게 해야 할까요?\n",
    "def outer(function):\n",
    "    def wrapper():\n",
    "        return 'hello'\n",
    "    return wrapper\n",
    "\n",
    "@outer\n",
    "def a():\n",
    "    def b():\n",
    "        print('hello b')\n",
    "    return b\n",
    "\n",
    "print(a())"
   ]
  },
  {
   "cell_type": "code",
   "execution_count": 35,
   "metadata": {},
   "outputs": [
    {
     "name": "stdout",
     "output_type": "stream",
     "text": [
      "hello\n"
     ]
    }
   ],
   "source": [
    "# 강성웅님 Q&A\n",
    "# b를 실행시키고 싶은데 어떻게 해야 할까요?\n",
    "def outer(function):\n",
    "    def wrapper():\n",
    "        function() #삽입\n",
    "        return 'hello'\n",
    "    return wrapper\n",
    "\n",
    "@outer\n",
    "def a():\n",
    "    def b():\n",
    "        print('hello b')\n",
    "    return b\n",
    "\n",
    "print(a())"
   ]
  },
  {
   "cell_type": "code",
   "execution_count": 37,
   "metadata": {},
   "outputs": [
    {
     "name": "stdout",
     "output_type": "stream",
     "text": [
      "hello b\n",
      "hello\n"
     ]
    }
   ],
   "source": [
    "# 강성웅님 Q&A\n",
    "# b를 실행시키고 싶은데 어떻게 해야 할까요?\n",
    "def outer(function):\n",
    "    def wrapper():\n",
    "        function()()\n",
    "        return 'hello'\n",
    "    return wrapper\n",
    "\n",
    "@outer\n",
    "def a():\n",
    "    def b():\n",
    "        print('hello b')\n",
    "    return b\n",
    "\n",
    "print(a())"
   ]
  },
  {
   "cell_type": "code",
   "execution_count": 105,
   "metadata": {},
   "outputs": [
    {
     "name": "stdout",
     "output_type": "stream",
     "text": [
      "add_exclamation 데코레이터 시작\n",
      "add_question_mark 데코레이터 시작\n",
      "add_dot 데코레이터 시작\n",
      "함수실행!\n",
      "add_dot 데코레이터 종료\n",
      "add_question_mark 데코레이터 종료\n",
      "add_exclamation 데코레이터 종료\n",
      "반환값: Hello.?!\n"
     ]
    }
   ],
   "source": [
    "# 여기서부터는 실무에서 보실일이 없을겁니다.\n",
    "def add_exclamation(function):\n",
    "    def wrapper(text):\n",
    "        print(f'add_exclamation 데코레이터 시작')\n",
    "        result = function(text) + \"!\"\n",
    "        print(f'add_exclamation 데코레이터 종료')\n",
    "        return result\n",
    "    return wrapper\n",
    "\n",
    "def add_question_mark(function):\n",
    "    def wrapper(text):\n",
    "        print(f'add_question_mark 데코레이터 시작')\n",
    "        result = function(text) + \"?\"\n",
    "        print(f'add_question_mark 데코레이터 종료')\n",
    "        return result\n",
    "    return wrapper\n",
    "\n",
    "def add_dot(function):\n",
    "    def wrapper(text):\n",
    "        print(f'add_dot 데코레이터 시작')\n",
    "        result = function(text) + \".\"\n",
    "        print(f'add_dot 데코레이터 종료')\n",
    "        return result\n",
    "    return wrapper\n",
    "\n",
    "@add_exclamation\n",
    "@add_question_mark\n",
    "@add_dot\n",
    "def greet(message):\n",
    "    print('함수실행!')\n",
    "    return message\n",
    "\n",
    "result = greet(\"Hello\")\n",
    "print(f'반환값: {result}')  # 출력: \"Hello.!?\""
   ]
  },
  {
   "cell_type": "code",
   "execution_count": 42,
   "metadata": {},
   "outputs": [
    {
     "name": "stdout",
     "output_type": "stream",
     "text": [
      "plus 함수가 1000만큼 증가시키는 데코레이터가 시작됩니다.\n",
      "plus 함수가 호출되었습니다.\n",
      "plus 함수가 1000만큼 증가시키는 데코레이터가 종료됩니다.\n",
      "result : 1030\n"
     ]
    }
   ],
   "source": [
    "def add(n): # 데코레이터를 감싸는 하나의 함수를 더 만들어서 아규먼트를 받는 방법입니다.\n",
    "    def decorator(function):\n",
    "        def new_function(a, b):\n",
    "            print(f'plus 함수가 {n}만큼 증가시키는 데코레이터가 시작됩니다.')\n",
    "            result = function(a, b)\n",
    "            print(f'plus 함수가 {n}만큼 증가시키는 데코레이터가 종료됩니다.')\n",
    "            return result + n\n",
    "        return new_function\n",
    "    return decorator\n",
    "\n",
    "@add(1000)\n",
    "def plus(a, b):\n",
    "    print('plus 함수가 호출되었습니다.')\n",
    "    return a + b\n",
    "\n",
    "result = plus(10, 20)\n",
    "print(f'result : {result}')"
   ]
  },
  {
   "cell_type": "code",
   "execution_count": 43,
   "metadata": {},
   "outputs": [
    {
     "name": "stdout",
     "output_type": "stream",
     "text": [
      "plus 함수가 1000만큼 증가시키는 데코레이터가 시작됩니다.\n",
      "plus 함수가 호출되었습니다.\n",
      "30\n",
      "plus 함수가 1000만큼 증가시키는 데코레이터가 종료됩니다.\n",
      "result : 1030\n"
     ]
    }
   ],
   "source": [
    "def add(n): # 데코레이터를 감싸는 하나의 함수를 더 만들어서 아규먼트를 받는 방법입니다.\n",
    "    def decorator(function): # 여기서부터의 기능은 같습니다.\n",
    "        def wrapper(a, b):\n",
    "            print(f'plus 함수가 {n}만큼 증가시키는 데코레이터가 시작됩니다.')\n",
    "            result = function(a, b)\n",
    "            print(result)\n",
    "            print(f'plus 함수가 {n}만큼 증가시키는 데코레이터가 종료됩니다.')\n",
    "            return result + n\n",
    "        return wrapper\n",
    "    return decorator\n",
    "\n",
    "@add(1000)\n",
    "def plus(a, b):\n",
    "    print('plus 함수가 호출되었습니다.')\n",
    "    return a + b\n",
    "\n",
    "result = plus(10, 20)\n",
    "print(f'result : {result}')"
   ]
  },
  {
   "cell_type": "code",
   "execution_count": 44,
   "metadata": {},
   "outputs": [],
   "source": [
    "# plus(10, 20) == add(n)(plus)(10,20)\n",
    "\n",
    "def plus(a, b):\n",
    "    print('plus 함수가 호출되었습니다.')\n",
    "    return a + b\n",
    "\n",
    "def add(n):\n",
    "    def decorator(f):\n",
    "        def wrapper(a, b):\n",
    "            print(f'plus 함수가 {n}만큼 증가시키는 데코레이터가 시작됩니다.')\n",
    "            result = f(a, b)\n",
    "            print(result)\n",
    "            print(f'plus 함수가 {n}만큼 증가시키는 데코레이터가 종료됩니다.')\n",
    "            return result + n\n",
    "        return wrapper\n",
    "    return decorator\n",
    "\n",
    "# add(n)(plus)(10,20), add(1000) == decorator\n",
    "# decorator(plus)(10,20), decorator(plus) == wrapper\n",
    "# wrapper(10, 20)\n",
    "\n",
    "# decorator(plus(10, 20))() (X)\n",
    "# add(1000)(plus)(10, 20)() (X)\n",
    "# add(1000)(plus)(10, 20)"
   ]
  },
  {
   "cell_type": "code",
   "execution_count": 141,
   "metadata": {},
   "outputs": [
    {
     "name": "stdout",
     "output_type": "stream",
     "text": [
      "plus 함수가 1000만큼 증가시키는 데코레이터가 시작됩니다.\n",
      "plus 함수가 호출되었습니다.\n",
      "30\n",
      "plus 함수가 1000만큼 증가시키는 데코레이터가 종료됩니다.\n"
     ]
    },
    {
     "data": {
      "text/plain": [
       "1030"
      ]
     },
     "execution_count": 141,
     "metadata": {},
     "output_type": "execute_result"
    }
   ],
   "source": [
    "def plus(a, b):\n",
    "    print('plus 함수가 호출되었습니다.')\n",
    "    return a + b\n",
    "\n",
    "def add(n):\n",
    "    def decorator(f):\n",
    "        def wrapper(a, b):\n",
    "            print(f'plus 함수가 {n}만큼 증가시키는 데코레이터가 시작됩니다.')\n",
    "            result = f(a, b)\n",
    "            print(result)\n",
    "            print(f'plus 함수가 {n}만큼 증가시키는 데코레이터가 종료됩니다.')\n",
    "            return result + n\n",
    "        return wrapper\n",
    "    return decorator\n",
    "\n",
    "# d = add(1000)\n",
    "# w = d(plus)\n",
    "# w(10, 20)\n",
    "\n",
    "add(1000)(plus)(10, 20)"
   ]
  },
  {
   "cell_type": "markdown",
   "metadata": {},
   "source": [
    "# 연습문제"
   ]
  },
  {
   "cell_type": "code",
   "execution_count": 13,
   "metadata": {},
   "outputs": [
    {
     "data": {
      "text/plain": [
       "5.0"
      ]
     },
     "execution_count": 13,
     "metadata": {},
     "output_type": "execute_result"
    }
   ],
   "source": [
    "# 피타고라스정리 빗변의 길이를 구하는 함수\n",
    "def length(a,b, square, root):\n",
    "  return root(square(a) + square(b))\n",
    "\n",
    "def s(x):\n",
    "  return x ** 2\n",
    "\n",
    "def r(x):\n",
    "  return x ** 0.5\n",
    "\n",
    "length(3, 4, s, r)"
   ]
  },
  {
   "cell_type": "markdown",
   "metadata": {},
   "source": [
    "# lambda"
   ]
  },
  {
   "cell_type": "code",
   "execution_count": 45,
   "metadata": {},
   "outputs": [
    {
     "name": "stdout",
     "output_type": "stream",
     "text": [
      "25\n"
     ]
    }
   ],
   "source": [
    "square = lambda x: x*x\n",
    "print(square(5))  # 출력: 25"
   ]
  },
  {
   "cell_type": "code",
   "execution_count": 46,
   "metadata": {},
   "outputs": [
    {
     "data": {
      "text/plain": [
       "[1, 4, 9, 16, 25, 36]"
      ]
     },
     "execution_count": 46,
     "metadata": {},
     "output_type": "execute_result"
    }
   ],
   "source": [
    "# 재사용되는 코드\n",
    "def 제곱(x):\n",
    "  return x ** 2\n",
    "\n",
    "list(map(제곱, [1, 2, 3])) + list(map(제곱, [4, 5, 6]))"
   ]
  },
  {
   "cell_type": "code",
   "execution_count": 47,
   "metadata": {},
   "outputs": [
    {
     "data": {
      "text/plain": [
       "[1, 4, 9]"
      ]
     },
     "execution_count": 47,
     "metadata": {},
     "output_type": "execute_result"
    }
   ],
   "source": [
    "# 재사용되지 않는 코드\n",
    "\n",
    "list(map(lambda x:x**2, [1, 2, 3]))"
   ]
  },
  {
   "cell_type": "code",
   "execution_count": 49,
   "metadata": {},
   "outputs": [
    {
     "name": "stdout",
     "output_type": "stream",
     "text": [
      "9\n",
      "9\n"
     ]
    }
   ],
   "source": [
    "# 이런 형태는 오늘 보고 끝입니다.\n",
    "result = lambda x: x ** 2\n",
    "print(result(3))\n",
    "\n",
    "result = (lambda x: x ** 2)(3)\n",
    "print(result) # 9"
   ]
  },
  {
   "cell_type": "markdown",
   "metadata": {},
   "source": [
    "# args, kwargs"
   ]
  },
  {
   "cell_type": "code",
   "execution_count": 50,
   "metadata": {},
   "outputs": [
    {
     "data": {
      "text/plain": [
       "(10, 20, [30, 40, 50])"
      ]
     },
     "execution_count": 50,
     "metadata": {},
     "output_type": "execute_result"
    }
   ],
   "source": [
    "a, b, *c = 10, 20, 30, 40, 50\n",
    "a, b, c"
   ]
  },
  {
   "cell_type": "code",
   "execution_count": 51,
   "metadata": {},
   "outputs": [
    {
     "name": "stdout",
     "output_type": "stream",
     "text": [
      "('Licat', 'hello', 10)\n",
      "Licat\n",
      "hello\n",
      "10\n"
     ]
    }
   ],
   "source": [
    "def print_args(a, b, *args):\n",
    "  print(args)\n",
    "  for x in args:\n",
    "    print(x)\n",
    "\n",
    "print_args(100, True, 'Licat', 'hello', 10)"
   ]
  },
  {
   "cell_type": "code",
   "execution_count": 52,
   "metadata": {},
   "outputs": [
    {
     "ename": "TypeError",
     "evalue": "print_args() missing 1 required keyword-only argument: 'c'",
     "output_type": "error",
     "traceback": [
      "\u001b[0;31m---------------------------------------------------------------------------\u001b[0m",
      "\u001b[0;31mTypeError\u001b[0m                                 Traceback (most recent call last)",
      "\u001b[1;32m/Users/pyeonhaesun/Desktop/ESTsoft_ormi3/ormi3_code/Python/오르미_3기_python6.ipynb 셀 49\u001b[0m line \u001b[0;36m6\n\u001b[1;32m      <a href='vscode-notebook-cell:/Users/pyeonhaesun/Desktop/ESTsoft_ormi3/ormi3_code/Python/%EC%98%A4%EB%A5%B4%EB%AF%B8_3%EA%B8%B0_python6.ipynb#Y106sZmlsZQ%3D%3D?line=2'>3</a>\u001b[0m   \u001b[39mfor\u001b[39;00m x \u001b[39min\u001b[39;00m args:\n\u001b[1;32m      <a href='vscode-notebook-cell:/Users/pyeonhaesun/Desktop/ESTsoft_ormi3/ormi3_code/Python/%EC%98%A4%EB%A5%B4%EB%AF%B8_3%EA%B8%B0_python6.ipynb#Y106sZmlsZQ%3D%3D?line=3'>4</a>\u001b[0m     \u001b[39mprint\u001b[39m(x)\n\u001b[0;32m----> <a href='vscode-notebook-cell:/Users/pyeonhaesun/Desktop/ESTsoft_ormi3/ormi3_code/Python/%EC%98%A4%EB%A5%B4%EB%AF%B8_3%EA%B8%B0_python6.ipynb#Y106sZmlsZQ%3D%3D?line=5'>6</a>\u001b[0m print_args(\u001b[39m100\u001b[39;49m, \u001b[39mTrue\u001b[39;49;00m, \u001b[39m'\u001b[39;49m\u001b[39mLicat\u001b[39;49m\u001b[39m'\u001b[39;49m, \u001b[39m'\u001b[39;49m\u001b[39mhello\u001b[39;49m\u001b[39m'\u001b[39;49m, \u001b[39m10\u001b[39;49m)\n",
      "\u001b[0;31mTypeError\u001b[0m: print_args() missing 1 required keyword-only argument: 'c'"
     ]
    }
   ],
   "source": [
    "def print_args(a, b, *args, c): # *args뒤에 일반 변수를 선언하지 못합니다.\n",
    "  print(args)\n",
    "  for x in args:\n",
    "    print(x)\n",
    "\n",
    "print_args(100, True, 'Licat', 'hello', 10)"
   ]
  },
  {
   "cell_type": "code",
   "execution_count": 53,
   "metadata": {},
   "outputs": [
    {
     "ename": "SyntaxError",
     "evalue": "* argument may appear only once (2101268699.py, line 1)",
     "output_type": "error",
     "traceback": [
      "\u001b[0;36m  Cell \u001b[0;32mIn[53], line 1\u001b[0;36m\u001b[0m\n\u001b[0;31m    def print_args(a, b, *args, *c): # *args뒤에 또다른 가변 아규먼트를 넣지 못합니다.\u001b[0m\n\u001b[0m                                ^\u001b[0m\n\u001b[0;31mSyntaxError\u001b[0m\u001b[0;31m:\u001b[0m * argument may appear only once\n"
     ]
    }
   ],
   "source": [
    "def print_args(a, b, *args, *c): # *args뒤에 또다른 가변 아규먼트를 넣지 못합니다.\n",
    "  print(args)\n",
    "  for x in args:\n",
    "    print(x)\n",
    "\n",
    "print_args(100, True, 'Licat', 'hello', 10)"
   ]
  },
  {
   "cell_type": "code",
   "execution_count": 54,
   "metadata": {},
   "outputs": [
    {
     "name": "stdout",
     "output_type": "stream",
     "text": [
      "100\n",
      "{'name': 'Licat', 'age': '10'}\n",
      "name\n",
      "age\n"
     ]
    }
   ],
   "source": [
    "def print_kwargs(a, **kwargs): #딕셔너리형태\n",
    "  print(a)\n",
    "  # 1000줄\n",
    "  # print(name) 이렇게 헷갈리면 안된다.\n",
    "  print(kwargs)\n",
    "  for i in kwargs:\n",
    "    print(i)\n",
    "\n",
    "print_kwargs(100, name='Licat', age='10')"
   ]
  },
  {
   "cell_type": "code",
   "execution_count": 55,
   "metadata": {},
   "outputs": [
    {
     "name": "stdout",
     "output_type": "stream",
     "text": [
      "('one', 'two')\n",
      "one\n",
      "two\n"
     ]
    }
   ],
   "source": [
    "# 눈속임입니다.\n",
    "# *kwargs 이렇게 사용하시면 관습에 어긋납니다.\n",
    "def print_kwargs(*kwargs):\n",
    "  print(kwargs)\n",
    "  for i in kwargs:\n",
    "    print(i)\n",
    "\n",
    "value = {'one':10, 'two':20}\n",
    "print_kwargs(*value)"
   ]
  },
  {
   "cell_type": "code",
   "execution_count": 56,
   "metadata": {},
   "outputs": [
    {
     "name": "stdout",
     "output_type": "stream",
     "text": [
      "('one', 'two')\n",
      "one\n",
      "two\n"
     ]
    }
   ],
   "source": [
    "def print_kwargs(*args):\n",
    "  print(args)\n",
    "  for i in args:\n",
    "    print(i)\n",
    "\n",
    "value = {'one':10, 'two':20}\n",
    "print_kwargs(*value) # key만 갖고있다."
   ]
  },
  {
   "cell_type": "code",
   "execution_count": 57,
   "metadata": {},
   "outputs": [
    {
     "name": "stdout",
     "output_type": "stream",
     "text": [
      "{'one': 10, 'two': 20}\n",
      "one\n",
      "two\n"
     ]
    }
   ],
   "source": [
    "def print_kwargs(**kwargs):\n",
    "  print(kwargs)\n",
    "  for i in kwargs:\n",
    "    print(i)\n",
    "\n",
    "value = {'one':10, 'two':20}\n",
    "print_kwargs(**value) "
   ]
  },
  {
   "cell_type": "code",
   "execution_count": 58,
   "metadata": {},
   "outputs": [
    {
     "name": "stdout",
     "output_type": "stream",
     "text": [
      "1 2 3 4\n"
     ]
    }
   ],
   "source": [
    "# 거의안쓰긴함. *뒤의 인자들은 파라미터 이름을 정해줘야함\n",
    "def func(a, b, *, c, d):\n",
    "    print(a, b, c, d)\n",
    "\n",
    "func(1, 2, c = 3, d = 4)  # 올바른 예시\n",
    "# func(1, 2, 3, d = 4)  # 잘못된 예시\n",
    "# func(1, 2, 3, 4)    # 잘못된 예시"
   ]
  },
  {
   "cell_type": "code",
   "execution_count": 143,
   "metadata": {},
   "outputs": [
    {
     "name": "stdout",
     "output_type": "stream",
     "text": [
      "1 2 3 func\n",
      "(1, 2, 3) 1 2 3 args\n",
      "1 2 3 func\n"
     ]
    }
   ],
   "source": [
    "def func(a, b, c):\n",
    "  print(a, b, c, 'func')\n",
    "\n",
    "args = (1, 2, 3)\n",
    "func(*args)\n",
    "print(args, *args, 'args')\n",
    "\n",
    "kwargs = {'a': 1, 'b': 2, 'c': 3}\n",
    "func(**kwargs)\n",
    "# print(kwargs, **kwargs, 'kwargs') # error"
   ]
  },
  {
   "cell_type": "code",
   "execution_count": 63,
   "metadata": {},
   "outputs": [
    {
     "name": "stdout",
     "output_type": "stream",
     "text": [
      "{'a': 1, 'b': 2, 'c': 3} a b c\n"
     ]
    }
   ],
   "source": [
    "kwargs = {'a': 1, 'b': 2, 'c': 3}\n",
    "print(kwargs, *kwargs)\n",
    "# print(kwargs, **kwargs) # 왜 에스터리스크가 2개일때 error가 날까요?\n",
    "# print(kwargs, a=1, b=2, c=3) # 이 코드가 바로 위의 코드와 같습니다."
   ]
  },
  {
   "cell_type": "code",
   "execution_count": 65,
   "metadata": {},
   "outputs": [
    {
     "name": "stdout",
     "output_type": "stream",
     "text": [
      "100 3 2 1\n"
     ]
    }
   ],
   "source": [
    "def func(d=100, c=200, b=300, a=400):\n",
    "  print(d, c, b, a)\n",
    "\n",
    "kwargs = {'a': 1, 'b': 2, 'c': 3}\n",
    "func(**kwargs)\n",
    "# func(kwargs, a=1, b=2, c=3)로 입력이 되었다는 것을 확인할 수 있습니다.\n",
    "# {'a': 1, 'b': 2, 'c': 3} => **kwargs => a=1, b=2, c=3"
   ]
  },
  {
   "cell_type": "code",
   "execution_count": 67,
   "metadata": {},
   "outputs": [
    {
     "name": "stdout",
     "output_type": "stream",
     "text": [
      "1000 {'i': 1, 'j': 2, 'k': 3}\n"
     ]
    }
   ],
   "source": [
    "# a=1, b=2, c=3 => **kwargs => {'a': 1, 'b': 2, 'c': 3}\n",
    "def func(a=100, **kwargs):\n",
    "  print(a, kwargs)\n",
    "\n",
    "func(1000, i=1, j=2, k=3)"
   ]
  },
  {
   "cell_type": "code",
   "execution_count": 68,
   "metadata": {},
   "outputs": [
    {
     "name": "stdout",
     "output_type": "stream",
     "text": [
      "(10, 20, 30)\n"
     ]
    }
   ],
   "source": [
    "def func(*args):\n",
    "  print(args)\n",
    "\n",
    "func(10, 20, 30)\n",
    "# 10, 20, 30 => *args => (10, 20, 30)"
   ]
  },
  {
   "cell_type": "code",
   "execution_count": 69,
   "metadata": {},
   "outputs": [
    {
     "name": "stdout",
     "output_type": "stream",
     "text": [
      "10 20 30\n"
     ]
    }
   ],
   "source": [
    "def func(a, b, c):\n",
    "  print(a, b, c)\n",
    "\n",
    "args = (10, 20, 30)\n",
    "func(*args)\n",
    "# (10, 20, 30) => *args => 10, 20, 30"
   ]
  },
  {
   "cell_type": "code",
   "execution_count": 70,
   "metadata": {},
   "outputs": [
    {
     "data": {
      "text/plain": [
       "(0, 1, 2)"
      ]
     },
     "execution_count": 70,
     "metadata": {},
     "output_type": "execute_result"
    }
   ],
   "source": [
    "a, b, c = range(3)\n",
    "a, b, c"
   ]
  },
  {
   "cell_type": "code",
   "execution_count": 71,
   "metadata": {},
   "outputs": [
    {
     "data": {
      "text/plain": [
       "10"
      ]
     },
     "execution_count": 71,
     "metadata": {},
     "output_type": "execute_result"
    }
   ],
   "source": [
    "a, b, c = range(10, 31, 10) # 언패킹이 된다는 얘기는 순회를 돌았다는 얘기입니다.\n",
    "a"
   ]
  },
  {
   "cell_type": "markdown",
   "metadata": {},
   "source": [
    "# 이터레이터"
   ]
  },
  {
   "cell_type": "code",
   "execution_count": 144,
   "metadata": {},
   "outputs": [
    {
     "name": "stdout",
     "output_type": "stream",
     "text": [
      "0\n",
      "1\n",
      "2\n",
      "3\n",
      "4\n"
     ]
    }
   ],
   "source": [
    "class MyIterator:\n",
    "    def __init__(self, stop):\n",
    "        self.current_value = 0  # 현재 값\n",
    "        self.stop = stop  # 순회를 멈출 값\n",
    "\n",
    "    def __iter__(self):\n",
    "        return self\n",
    "\n",
    "    def __next__(self):\n",
    "        if self.current_value >= self.stop:\n",
    "            raise StopIteration\n",
    "        result = self.current_value\n",
    "        self.current_value += 1\n",
    "        return result\n",
    "\n",
    "my_iterator = MyIterator(5)\n",
    "\n",
    "for i in my_iterator:\n",
    "    print(i)\n",
    "\n",
    "# for를 만나면 __iter__가 실행이 되고, 반복이 시작되면 __next__를 호출합니다."
   ]
  },
  {
   "cell_type": "code",
   "execution_count": 145,
   "metadata": {},
   "outputs": [
    {
     "name": "stdout",
     "output_type": "stream",
     "text": [
      "0\n",
      "1\n",
      "2\n",
      "3\n",
      "4\n"
     ]
    }
   ],
   "source": [
    "class MyIterator:\n",
    "    def __init__(self, stop):\n",
    "        self.current_value = 0  # 현재 값\n",
    "        self.stop = stop  # 순회를 멈출 값\n",
    "\n",
    "    def __iter__(self):\n",
    "        return self\n",
    "\n",
    "    def __next__(self):\n",
    "        if self.current_value >= self.stop:\n",
    "            raise StopIteration\n",
    "        result = self.current_value\n",
    "        self.current_value += 1\n",
    "        return result\n",
    "\n",
    "my_iterator = MyIterator(5)\n",
    "\n",
    "for i in my_iterator:\n",
    "    print(i)\n",
    "\n",
    "for i in my_iterator: #한번 돌면 더 안나옴\n",
    "    print(i)"
   ]
  },
  {
   "cell_type": "code",
   "execution_count": 74,
   "metadata": {},
   "outputs": [
    {
     "name": "stdout",
     "output_type": "stream",
     "text": [
      "0\n",
      "1\n",
      "2\n",
      "3\n",
      "4\n",
      "0\n",
      "1\n",
      "2\n",
      "3\n",
      "4\n"
     ]
    }
   ],
   "source": [
    "class MyIterator:\n",
    "    def __init__(self, stop):\n",
    "        self.stop = stop  # 순회를 멈출 값\n",
    "\n",
    "    def __iter__(self):\n",
    "        self.current_value = 0  # 현재 값\n",
    "        return self\n",
    "\n",
    "    def __next__(self):\n",
    "        if self.current_value >= self.stop:\n",
    "            raise StopIteration\n",
    "        result = self.current_value\n",
    "        self.current_value += 1\n",
    "        return result\n",
    "\n",
    "my_iterator = MyIterator(5)\n",
    "\n",
    "for i in my_iterator:\n",
    "    print(i)\n",
    "\n",
    "for i in my_iterator:\n",
    "    print(i)"
   ]
  },
  {
   "cell_type": "code",
   "execution_count": 75,
   "metadata": {},
   "outputs": [
    {
     "name": "stdout",
     "output_type": "stream",
     "text": [
      "0\n",
      "1\n",
      "2\n",
      "3\n",
      "4\n"
     ]
    },
    {
     "ename": "StopIteration",
     "evalue": "",
     "output_type": "error",
     "traceback": [
      "\u001b[0;31m---------------------------------------------------------------------------\u001b[0m",
      "\u001b[0;31mStopIteration\u001b[0m                             Traceback (most recent call last)",
      "\u001b[1;32m/Users/pyeonhaesun/Desktop/ESTsoft_ormi3/ormi3_code/Python/오르미_3기_python6.ipynb 셀 66\u001b[0m line \u001b[0;36m2\n\u001b[1;32m     <a href='vscode-notebook-cell:/Users/pyeonhaesun/Desktop/ESTsoft_ormi3/ormi3_code/Python/%EC%98%A4%EB%A5%B4%EB%AF%B8_3%EA%B8%B0_python6.ipynb#Y132sZmlsZQ%3D%3D?line=20'>21</a>\u001b[0m \u001b[39mprint\u001b[39m(\u001b[39mnext\u001b[39m(i))\n\u001b[1;32m     <a href='vscode-notebook-cell:/Users/pyeonhaesun/Desktop/ESTsoft_ormi3/ormi3_code/Python/%EC%98%A4%EB%A5%B4%EB%AF%B8_3%EA%B8%B0_python6.ipynb#Y132sZmlsZQ%3D%3D?line=21'>22</a>\u001b[0m \u001b[39mprint\u001b[39m(\u001b[39mnext\u001b[39m(i))\n\u001b[0;32m---> <a href='vscode-notebook-cell:/Users/pyeonhaesun/Desktop/ESTsoft_ormi3/ormi3_code/Python/%EC%98%A4%EB%A5%B4%EB%AF%B8_3%EA%B8%B0_python6.ipynb#Y132sZmlsZQ%3D%3D?line=22'>23</a>\u001b[0m \u001b[39mprint\u001b[39m(\u001b[39mnext\u001b[39;49m(i)) \u001b[39m# 여기까지가 for에 작동 원리 입니다.\u001b[39;00m\n",
      "\u001b[1;32m/Users/pyeonhaesun/Desktop/ESTsoft_ormi3/ormi3_code/Python/오르미_3기_python6.ipynb 셀 66\u001b[0m line \u001b[0;36m1\n\u001b[1;32m      <a href='vscode-notebook-cell:/Users/pyeonhaesun/Desktop/ESTsoft_ormi3/ormi3_code/Python/%EC%98%A4%EB%A5%B4%EB%AF%B8_3%EA%B8%B0_python6.ipynb#Y132sZmlsZQ%3D%3D?line=8'>9</a>\u001b[0m \u001b[39mdef\u001b[39;00m \u001b[39m__next__\u001b[39m(\u001b[39mself\u001b[39m):\n\u001b[1;32m     <a href='vscode-notebook-cell:/Users/pyeonhaesun/Desktop/ESTsoft_ormi3/ormi3_code/Python/%EC%98%A4%EB%A5%B4%EB%AF%B8_3%EA%B8%B0_python6.ipynb#Y132sZmlsZQ%3D%3D?line=9'>10</a>\u001b[0m     \u001b[39mif\u001b[39;00m \u001b[39mself\u001b[39m\u001b[39m.\u001b[39mcurrent_value \u001b[39m>\u001b[39m\u001b[39m=\u001b[39m \u001b[39mself\u001b[39m\u001b[39m.\u001b[39mstop:\n\u001b[0;32m---> <a href='vscode-notebook-cell:/Users/pyeonhaesun/Desktop/ESTsoft_ormi3/ormi3_code/Python/%EC%98%A4%EB%A5%B4%EB%AF%B8_3%EA%B8%B0_python6.ipynb#Y132sZmlsZQ%3D%3D?line=10'>11</a>\u001b[0m         \u001b[39mraise\u001b[39;00m \u001b[39mStopIteration\u001b[39;00m\n\u001b[1;32m     <a href='vscode-notebook-cell:/Users/pyeonhaesun/Desktop/ESTsoft_ormi3/ormi3_code/Python/%EC%98%A4%EB%A5%B4%EB%AF%B8_3%EA%B8%B0_python6.ipynb#Y132sZmlsZQ%3D%3D?line=11'>12</a>\u001b[0m     result \u001b[39m=\u001b[39m \u001b[39mself\u001b[39m\u001b[39m.\u001b[39mcurrent_value\n\u001b[1;32m     <a href='vscode-notebook-cell:/Users/pyeonhaesun/Desktop/ESTsoft_ormi3/ormi3_code/Python/%EC%98%A4%EB%A5%B4%EB%AF%B8_3%EA%B8%B0_python6.ipynb#Y132sZmlsZQ%3D%3D?line=12'>13</a>\u001b[0m     \u001b[39mself\u001b[39m\u001b[39m.\u001b[39mcurrent_value \u001b[39m+\u001b[39m\u001b[39m=\u001b[39m \u001b[39m1\u001b[39m\n",
      "\u001b[0;31mStopIteration\u001b[0m: "
     ]
    }
   ],
   "source": [
    "class MyIterator:\n",
    "    def __init__(self, stop):\n",
    "        self.stop = stop  # 순회를 멈출 값\n",
    "\n",
    "    def __iter__(self):\n",
    "        self.current_value = 0  # 현재 값\n",
    "        return self\n",
    "\n",
    "    def __next__(self):\n",
    "        if self.current_value >= self.stop:\n",
    "            raise StopIteration\n",
    "        result = self.current_value\n",
    "        self.current_value += 1\n",
    "        return result\n",
    "\n",
    "my_iterator = MyIterator(5)\n",
    "i = iter(my_iterator) # 여기서부터\n",
    "print(next(i))\n",
    "print(next(i))\n",
    "print(next(i))\n",
    "print(next(i))\n",
    "print(next(i))\n",
    "print(next(i)) # 여기까지가 for의 작동 원리 입니다."
   ]
  },
  {
   "cell_type": "code",
   "execution_count": 146,
   "metadata": {},
   "outputs": [
    {
     "ename": "TypeError",
     "evalue": "iter() returned non-iterator of type 'list'",
     "output_type": "error",
     "traceback": [
      "\u001b[0;31m---------------------------------------------------------------------------\u001b[0m",
      "\u001b[0;31mTypeError\u001b[0m                                 Traceback (most recent call last)",
      "\u001b[1;32m/Users/pyeonhaesun/Desktop/ESTsoft_ormi3/ormi3_code/Python/오르미_3기_python6.ipynb 셀 67\u001b[0m line \u001b[0;36m1\n\u001b[1;32m     <a href='vscode-notebook-cell:/Users/pyeonhaesun/Desktop/ESTsoft_ormi3/ormi3_code/Python/%EC%98%A4%EB%A5%B4%EB%AF%B8_3%EA%B8%B0_python6.ipynb#Y202sZmlsZQ%3D%3D?line=13'>14</a>\u001b[0m         \u001b[39mreturn\u001b[39;00m result\n\u001b[1;32m     <a href='vscode-notebook-cell:/Users/pyeonhaesun/Desktop/ESTsoft_ormi3/ormi3_code/Python/%EC%98%A4%EB%A5%B4%EB%AF%B8_3%EA%B8%B0_python6.ipynb#Y202sZmlsZQ%3D%3D?line=15'>16</a>\u001b[0m my_iterator \u001b[39m=\u001b[39m MyIterator(\u001b[39m5\u001b[39m)\n\u001b[0;32m---> <a href='vscode-notebook-cell:/Users/pyeonhaesun/Desktop/ESTsoft_ormi3/ormi3_code/Python/%EC%98%A4%EB%A5%B4%EB%AF%B8_3%EA%B8%B0_python6.ipynb#Y202sZmlsZQ%3D%3D?line=17'>18</a>\u001b[0m \u001b[39mfor\u001b[39;00m i \u001b[39min\u001b[39;00m my_iterator:\n\u001b[1;32m     <a href='vscode-notebook-cell:/Users/pyeonhaesun/Desktop/ESTsoft_ormi3/ormi3_code/Python/%EC%98%A4%EB%A5%B4%EB%AF%B8_3%EA%B8%B0_python6.ipynb#Y202sZmlsZQ%3D%3D?line=18'>19</a>\u001b[0m     \u001b[39mprint\u001b[39m(i)\n",
      "\u001b[0;31mTypeError\u001b[0m: iter() returned non-iterator of type 'list'"
     ]
    }
   ],
   "source": [
    "class MyIterator:\n",
    "    def __init__(self, stop):\n",
    "        self.stop = stop  # 순회를 멈출 값\n",
    "\n",
    "    def __iter__(self):\n",
    "        self.current_value = 0  # 현재 값\n",
    "        return [10, 20, 30] # error\n",
    "\n",
    "    def __next__(self):\n",
    "        if self.current_value >= self.stop:\n",
    "            raise StopIteration\n",
    "        result = self.current_value\n",
    "        self.current_value += 1\n",
    "        return result\n",
    "\n",
    "my_iterator = MyIterator(5)\n",
    "\n",
    "for i in my_iterator:\n",
    "    print(i)"
   ]
  },
  {
   "cell_type": "markdown",
   "metadata": {},
   "source": [
    "# 제너레이터"
   ]
  },
  {
   "cell_type": "code",
   "execution_count": 76,
   "metadata": {},
   "outputs": [
    {
     "name": "stdout",
     "output_type": "stream",
     "text": [
      "1\n",
      "2\n",
      "3\n",
      "4\n",
      "5\n"
     ]
    }
   ],
   "source": [
    "def my_generator(data):\n",
    "    for i in data:\n",
    "        yield i\n",
    "\n",
    "my_list = [1, 2, 3, 4, 5]\n",
    "my_iterator = my_generator(my_list)\n",
    "\n",
    "for i in my_iterator: #my_iterator는 함수의 return값이어야 하는데?\n",
    "    print(i)"
   ]
  },
  {
   "cell_type": "code",
   "execution_count": 77,
   "metadata": {},
   "outputs": [
    {
     "name": "stdout",
     "output_type": "stream",
     "text": [
      "10\n",
      "20\n",
      "30\n"
     ]
    }
   ],
   "source": [
    "# 이것이 좀 더 이해하기 좋으실겁니다.\n",
    "def my_generator(data):\n",
    "    for i in data:\n",
    "        yield i * 10\n",
    "\n",
    "for i in my_generator([1, 2, 3]):\n",
    "    print(i)"
   ]
  },
  {
   "cell_type": "code",
   "execution_count": 147,
   "metadata": {},
   "outputs": [
    {
     "name": "stdout",
     "output_type": "stream",
     "text": [
      "10\n",
      "20\n",
      "30\n"
     ]
    }
   ],
   "source": [
    "# 이것이 좀 더 이해하기 좋으실겁니다.\n",
    "\n",
    "def my_generator():\n",
    "    x = 10\n",
    "    yield x\n",
    "    x = 20\n",
    "    yield x\n",
    "    x = 30\n",
    "    yield x\n",
    "    return\n",
    "    x = 40\n",
    "    yield x\n",
    "\n",
    "for i in my_generator():\n",
    "    print(i)"
   ]
  },
  {
   "cell_type": "code",
   "execution_count": 148,
   "metadata": {},
   "outputs": [
    {
     "data": {
      "text/plain": [
       "[(0, '짝'), (1, '홀'), (2, '짝'), (3, '홀'), (4, '짝'), (5, '홀'), (6, '짝')]"
      ]
     },
     "execution_count": 148,
     "metadata": {},
     "output_type": "execute_result"
    }
   ],
   "source": [
    "# 이럴때 많이 사용합니다.\n",
    "def my_generator():\n",
    "    l = ['짝', '홀']\n",
    "    while True:\n",
    "        yield l[False]\n",
    "        yield l[True]\n",
    "\n",
    "list(zip([0, 1, 2, 3, 4, 5, 6], my_generator()))"
   ]
  },
  {
   "cell_type": "code",
   "execution_count": 83,
   "metadata": {},
   "outputs": [
    {
     "data": {
      "text/plain": [
       "[('A', 1), ('B', 2), ('C', 3)]"
      ]
     },
     "execution_count": 83,
     "metadata": {},
     "output_type": "execute_result"
    }
   ],
   "source": [
    "def my_generator():\n",
    "    count = 1\n",
    "    while True:\n",
    "        yield count\n",
    "        count += 1\n",
    "\n",
    "list(zip(['A', 'B', 'C'], my_generator())) # 마치 enumerate처럼"
   ]
  },
  {
   "cell_type": "code",
   "execution_count": 84,
   "metadata": {},
   "outputs": [
    {
     "data": {
      "text/plain": [
       "[('A', 0), ('B', 2), ('C', 4)]"
      ]
     },
     "execution_count": 84,
     "metadata": {},
     "output_type": "execute_result"
    }
   ],
   "source": [
    "def my_generator():\n",
    "    count = 0\n",
    "    while True:\n",
    "        yield count\n",
    "        count += 2\n",
    "\n",
    "list(zip(['A', 'B', 'C'], my_generator())) # enumerate보다 커스텀이 가능하다는 장점이 있다."
   ]
  },
  {
   "cell_type": "code",
   "execution_count": 85,
   "metadata": {},
   "outputs": [
    {
     "data": {
      "text/plain": [
       "[(1, 'h', 0),\n",
       " (2, 'e', 2),\n",
       " (3, 'l', 4),\n",
       " (4, 'l', 6),\n",
       " (5, 'o', 8),\n",
       " (6, ' ', 10),\n",
       " (7, 'w', 12),\n",
       " (8, 'o', 14),\n",
       " (9, 'r', 16)]"
      ]
     },
     "execution_count": 85,
     "metadata": {},
     "output_type": "execute_result"
    }
   ],
   "source": [
    "def my_generator():\n",
    "    count = 0\n",
    "    while True:\n",
    "        yield count\n",
    "        count += 2\n",
    "\n",
    "list(zip([1, 2, 3, 4, 5, 6, 7, 8, 9],'hello world', my_generator())) # 코딩테스트에서 유용하게 쓰임"
   ]
  },
  {
   "cell_type": "code",
   "execution_count": 86,
   "metadata": {},
   "outputs": [
    {
     "name": "stdout",
     "output_type": "stream",
     "text": [
      "[('A', 0), ('B', 2), ('C', 4)]\n",
      "[('A', 0), ('B', 2), ('C', 4)]\n"
     ]
    }
   ],
   "source": [
    "def my_generator():\n",
    "    count = 0\n",
    "    while True:\n",
    "        yield count\n",
    "        count += 2\n",
    "print(list(zip(['A', 'B', 'C'], my_generator())))\n",
    "print(list(zip(['A', 'B', 'C'], my_generator())))\n",
    "# 여기서는 6을 호출해야 하지 않을까요? 왜 다시 초기화가 되었죠?"
   ]
  },
  {
   "cell_type": "code",
   "execution_count": 150,
   "metadata": {},
   "outputs": [
    {
     "name": "stdout",
     "output_type": "stream",
     "text": [
      "2\n",
      "4\n",
      "6\n",
      "8\n",
      "10\n"
     ]
    }
   ],
   "source": [
    "gen = (i for i in range(2, 11, 2))\n",
    "for i in gen:\n",
    "    print(i)"
   ]
  },
  {
   "cell_type": "markdown",
   "metadata": {},
   "source": [
    "# 연습문제"
   ]
  },
  {
   "cell_type": "code",
   "execution_count": 94,
   "metadata": {},
   "outputs": [
    {
     "data": {
      "text/plain": [
       "12000"
      ]
     },
     "execution_count": 94,
     "metadata": {},
     "output_type": "execute_result"
    }
   ],
   "source": [
    "# 회전초밥집에 들어갔습니다. 초밥은 아래와 같은 양식으로 나옵니다.\n",
    "# [['광어초밥', 1000], ['연어초밥', 2000], ['계란초밥', 3000]]\n",
    "# * 각 초밥은 몇 개 나올지 알 수 없습니다.\n",
    "# * 각 초밥은 1000원씩 비싸집니다.\n",
    "# * 초밥에 '어'가 나오는 초밥만 먹습니다.\n",
    "# * 선택사항: 제너레이터를 사용해주세요!\n",
    "# 내가 먹은 초밥의 비용을 계산하는 코드를 작성해 주세요.\n",
    "def susi_generator(data):\n",
    "    for susi in data:\n",
    "        if '어' in susi[0]:\n",
    "            yield susi[1]\n",
    "\n",
    "def solution(data):\n",
    "    cost = 0\n",
    "    for susi in susi_generator(data):\n",
    "        cost += susi\n",
    "    return cost\n",
    "\n",
    "solution([['광어초밥', 1000], ['연어초밥', 2000], ['계란초밥', 3000], ['문어초밥', 4000], ['장어초밥', 5000]])"
   ]
  },
  {
   "cell_type": "code",
   "execution_count": 95,
   "metadata": {},
   "outputs": [
    {
     "data": {
      "text/plain": [
       "12000"
      ]
     },
     "execution_count": 95,
     "metadata": {},
     "output_type": "execute_result"
    }
   ],
   "source": [
    "# 강사님 풀이\n",
    "def gen(data):\n",
    "    for name, price in data:\n",
    "        if '어' in name:\n",
    "            yield price\n",
    "\n",
    "def solution(data):\n",
    "    return sum(gen(data))\n",
    "\n",
    "solution([['광어초밥', 1000], ['연어초밥', 2000], ['계란초밥', 3000], ['문어초밥', 4000], ['장어초밥', 5000]])"
   ]
  },
  {
   "cell_type": "markdown",
   "metadata": {},
   "source": [
    "# nonlocal"
   ]
  },
  {
   "cell_type": "code",
   "execution_count": 96,
   "metadata": {},
   "outputs": [
    {
     "name": "stdout",
     "output_type": "stream",
     "text": [
      "2\n",
      "2\n",
      "100\n"
     ]
    }
   ],
   "source": [
    "x = 100\n",
    "def outer():\n",
    "    x = 1\n",
    "    def inner():\n",
    "        nonlocal x # 바로 밖에 있는 변수를 가져온다.\n",
    "        x += 1\n",
    "        print(x) # 2\n",
    "    inner()\n",
    "    print(x) # 2\n",
    "\n",
    "outer()\n",
    "print(x) # 100"
   ]
  },
  {
   "cell_type": "code",
   "execution_count": 97,
   "metadata": {},
   "outputs": [
    {
     "name": "stdout",
     "output_type": "stream",
     "text": [
      "101\n",
      "1\n",
      "101\n"
     ]
    }
   ],
   "source": [
    "x = 100\n",
    "def outer():\n",
    "    x = 1\n",
    "    def inner():\n",
    "        global x\n",
    "        x += 1\n",
    "        print(x) # 101\n",
    "    inner()\n",
    "    print(x) # 1\n",
    "\n",
    "outer()\n",
    "print(x) # 101"
   ]
  },
  {
   "cell_type": "code",
   "execution_count": 98,
   "metadata": {},
   "outputs": [
    {
     "ename": "UnboundLocalError",
     "evalue": "cannot access local variable 'x' where it is not associated with a value",
     "output_type": "error",
     "traceback": [
      "\u001b[0;31m---------------------------------------------------------------------------\u001b[0m",
      "\u001b[0;31mUnboundLocalError\u001b[0m                         Traceback (most recent call last)",
      "\u001b[1;32m/Users/pyeonhaesun/Desktop/ESTsoft_ormi3/ormi3_code/Python/오르미_3기_python6.ipynb 셀 83\u001b[0m line \u001b[0;36m1\n\u001b[1;32m      <a href='vscode-notebook-cell:/Users/pyeonhaesun/Desktop/ESTsoft_ormi3/ormi3_code/Python/%EC%98%A4%EB%A5%B4%EB%AF%B8_3%EA%B8%B0_python6.ipynb#Y155sZmlsZQ%3D%3D?line=6'>7</a>\u001b[0m     inner()\n\u001b[1;32m      <a href='vscode-notebook-cell:/Users/pyeonhaesun/Desktop/ESTsoft_ormi3/ormi3_code/Python/%EC%98%A4%EB%A5%B4%EB%AF%B8_3%EA%B8%B0_python6.ipynb#Y155sZmlsZQ%3D%3D?line=7'>8</a>\u001b[0m     \u001b[39mprint\u001b[39m(x)\n\u001b[0;32m---> <a href='vscode-notebook-cell:/Users/pyeonhaesun/Desktop/ESTsoft_ormi3/ormi3_code/Python/%EC%98%A4%EB%A5%B4%EB%AF%B8_3%EA%B8%B0_python6.ipynb#Y155sZmlsZQ%3D%3D?line=9'>10</a>\u001b[0m outer()\n\u001b[1;32m     <a href='vscode-notebook-cell:/Users/pyeonhaesun/Desktop/ESTsoft_ormi3/ormi3_code/Python/%EC%98%A4%EB%A5%B4%EB%AF%B8_3%EA%B8%B0_python6.ipynb#Y155sZmlsZQ%3D%3D?line=10'>11</a>\u001b[0m \u001b[39mprint\u001b[39m(x)\n",
      "\u001b[1;32m/Users/pyeonhaesun/Desktop/ESTsoft_ormi3/ormi3_code/Python/오르미_3기_python6.ipynb 셀 83\u001b[0m line \u001b[0;36m7\n\u001b[1;32m      <a href='vscode-notebook-cell:/Users/pyeonhaesun/Desktop/ESTsoft_ormi3/ormi3_code/Python/%EC%98%A4%EB%A5%B4%EB%AF%B8_3%EA%B8%B0_python6.ipynb#Y155sZmlsZQ%3D%3D?line=4'>5</a>\u001b[0m     x \u001b[39m+\u001b[39m\u001b[39m=\u001b[39m \u001b[39m1\u001b[39m \u001b[39m# error x값이 없기때문에\u001b[39;00m\n\u001b[1;32m      <a href='vscode-notebook-cell:/Users/pyeonhaesun/Desktop/ESTsoft_ormi3/ormi3_code/Python/%EC%98%A4%EB%A5%B4%EB%AF%B8_3%EA%B8%B0_python6.ipynb#Y155sZmlsZQ%3D%3D?line=5'>6</a>\u001b[0m     \u001b[39mprint\u001b[39m(x)\n\u001b[0;32m----> <a href='vscode-notebook-cell:/Users/pyeonhaesun/Desktop/ESTsoft_ormi3/ormi3_code/Python/%EC%98%A4%EB%A5%B4%EB%AF%B8_3%EA%B8%B0_python6.ipynb#Y155sZmlsZQ%3D%3D?line=6'>7</a>\u001b[0m inner()\n\u001b[1;32m      <a href='vscode-notebook-cell:/Users/pyeonhaesun/Desktop/ESTsoft_ormi3/ormi3_code/Python/%EC%98%A4%EB%A5%B4%EB%AF%B8_3%EA%B8%B0_python6.ipynb#Y155sZmlsZQ%3D%3D?line=7'>8</a>\u001b[0m \u001b[39mprint\u001b[39m(x)\n",
      "\u001b[1;32m/Users/pyeonhaesun/Desktop/ESTsoft_ormi3/ormi3_code/Python/오르미_3기_python6.ipynb 셀 83\u001b[0m line \u001b[0;36m5\n\u001b[1;32m      <a href='vscode-notebook-cell:/Users/pyeonhaesun/Desktop/ESTsoft_ormi3/ormi3_code/Python/%EC%98%A4%EB%A5%B4%EB%AF%B8_3%EA%B8%B0_python6.ipynb#Y155sZmlsZQ%3D%3D?line=3'>4</a>\u001b[0m \u001b[39mdef\u001b[39;00m \u001b[39minner\u001b[39m():\n\u001b[0;32m----> <a href='vscode-notebook-cell:/Users/pyeonhaesun/Desktop/ESTsoft_ormi3/ormi3_code/Python/%EC%98%A4%EB%A5%B4%EB%AF%B8_3%EA%B8%B0_python6.ipynb#Y155sZmlsZQ%3D%3D?line=4'>5</a>\u001b[0m     x \u001b[39m+\u001b[39m\u001b[39m=\u001b[39m \u001b[39m1\u001b[39m \u001b[39m# error x값이 없기때문에\u001b[39;00m\n\u001b[1;32m      <a href='vscode-notebook-cell:/Users/pyeonhaesun/Desktop/ESTsoft_ormi3/ormi3_code/Python/%EC%98%A4%EB%A5%B4%EB%AF%B8_3%EA%B8%B0_python6.ipynb#Y155sZmlsZQ%3D%3D?line=5'>6</a>\u001b[0m     \u001b[39mprint\u001b[39m(x)\n",
      "\u001b[0;31mUnboundLocalError\u001b[0m: cannot access local variable 'x' where it is not associated with a value"
     ]
    }
   ],
   "source": [
    "x = 100\n",
    "def outer():\n",
    "    x = 1\n",
    "    def inner():\n",
    "        x += 1 # error x값이 없기때문에\n",
    "        print(x)\n",
    "    inner()\n",
    "    print(x)\n",
    "\n",
    "outer()\n",
    "print(x)"
   ]
  },
  {
   "cell_type": "markdown",
   "metadata": {},
   "source": [
    "# zip이 사라지는 이유"
   ]
  },
  {
   "cell_type": "code",
   "execution_count": 99,
   "metadata": {},
   "outputs": [
    {
     "name": "stdout",
     "output_type": "stream",
     "text": [
      "[(1, 'a'), (2, 'b'), (3, 'c')]\n",
      "[]\n"
     ]
    }
   ],
   "source": [
    "a = [1, 2, 3]\n",
    "b = ['a', 'b', 'c']\n",
    "\n",
    "z = zip(a, b)\n",
    "print(list(z)) # [(1, 'a'), (2, 'b'), (3, 'c')]\n",
    "\n",
    "# zip 객체는 한 번 사용되었으므로 빈 리스트가 반환됩니다.\n",
    "print(list(z)) # []"
   ]
  },
  {
   "cell_type": "code",
   "execution_count": 100,
   "metadata": {},
   "outputs": [
    {
     "name": "stdout",
     "output_type": "stream",
     "text": [
      "1\n",
      "2\n",
      "3\n",
      "1\n",
      "2\n",
      "3\n"
     ]
    },
    {
     "data": {
      "text/plain": [
       "[1, 2, 3]"
      ]
     },
     "execution_count": 100,
     "metadata": {},
     "output_type": "execute_result"
    }
   ],
   "source": [
    "x = [1, 2, 3]\n",
    "y = sorted(x)\n",
    "\n",
    "for i in y:\n",
    "    print(i)\n",
    "\n",
    "for i in y:\n",
    "    print(i)\n",
    "\n",
    "y # 심지어 리스트로 나옵니다? zip, map너무 차별하는거 아닐까요?"
   ]
  },
  {
   "cell_type": "code",
   "execution_count": 101,
   "metadata": {},
   "outputs": [
    {
     "name": "stdout",
     "output_type": "stream",
     "text": [
      "3\n",
      "2\n",
      "1\n"
     ]
    },
    {
     "data": {
      "text/plain": [
       "<list_reverseiterator at 0x107d8d480>"
      ]
     },
     "execution_count": 101,
     "metadata": {},
     "output_type": "execute_result"
    }
   ],
   "source": [
    "x = [1, 2, 3]\n",
    "y = reversed(x)\n",
    "\n",
    "for i in y:\n",
    "    print(i)\n",
    "\n",
    "for i in y:\n",
    "    print(i)\n",
    "\n",
    "y\n",
    "# sorted와 다르게 reversed는 한 번만 실행이 되었고, 반환되는 값도 리스트로 주어지지 않았습니다."
   ]
  },
  {
   "cell_type": "code",
   "execution_count": 102,
   "metadata": {},
   "outputs": [
    {
     "data": {
      "text/plain": [
       "[0, 1, 2, 3, 4, 5, 6, 7, 8, 9, 10, 11, 12, 13, 14, 15, 16, 17, 18, 19]"
      ]
     },
     "execution_count": 102,
     "metadata": {},
     "output_type": "execute_result"
    }
   ],
   "source": [
    "sorted(range(20)) # 메모리 부하가 큰 작업입니다. (sorted는 안없어짐)"
   ]
  },
  {
   "cell_type": "markdown",
   "metadata": {},
   "source": [
    "# 연습문제"
   ]
  },
  {
   "cell_type": "code",
   "execution_count": 135,
   "metadata": {},
   "outputs": [
    {
     "name": "stdout",
     "output_type": "stream",
     "text": [
      "1\n",
      "1\n",
      "2\n",
      "3\n",
      "5\n",
      "[1, 1, 2, 3, 5, 8]\n"
     ]
    }
   ],
   "source": [
    "# 문제1\n",
    "# 다음과 같이 동작하는 제너레이터 함수 fibonacci(n)를 완성하세요. \n",
    "# 주어진 숫자 n까지의 피보나치 수열을 반환합니다.\n",
    "# 인터넷에서 피보나치 순열 Python 코드를 검색해보셔도 좋습니다.\n",
    "\n",
    "def fib(n):\n",
    "    n1 = 1\n",
    "    n2 = 1\n",
    "    for i in range(1, n+1):\n",
    "        if i == 1 or i == 2:\n",
    "            yield n2\n",
    "        else:\n",
    "            n1, n2 = n2, n1 + n2\n",
    "            yield n2\n",
    "\n",
    "for i in fib(5):\n",
    "    print(i)\n"
   ]
  },
  {
   "cell_type": "code",
   "execution_count": 153,
   "metadata": {},
   "outputs": [
    {
     "name": "stdout",
     "output_type": "stream",
     "text": [
      "1\n",
      "1\n",
      "2\n",
      "3\n",
      "5\n",
      "8\n",
      "13\n",
      "21\n",
      "34\n",
      "55\n",
      "89\n",
      "144\n",
      "233\n",
      "377\n",
      "610\n",
      "987\n",
      "1597\n",
      "2584\n",
      "4181\n",
      "6765\n",
      "실행시간: 0.0003991127014160156초\n"
     ]
    }
   ],
   "source": [
    "# 문제2\n",
    "# 함수의 실행 시간을 측정하여 출력하는 데코레이터 time_it를 작성하세요. \n",
    "# (힌트: time 모듈의 time() 함수를 사용하세요.)\n",
    "\n",
    "import time\n",
    "def time_it(function):\n",
    "    def wrapper(x):\n",
    "        a = time.time()\n",
    "        function(x)\n",
    "        b = time.time()\n",
    "        print(f'실행시간: {b - a}초')\n",
    "    return wrapper\n",
    "\n",
    "@time_it\n",
    "def print_fib(x):\n",
    "    for i in fib(x):\n",
    "        print(i)\n",
    "\n",
    "print_fib(20)"
   ]
  },
  {
   "cell_type": "code",
   "execution_count": null,
   "metadata": {},
   "outputs": [],
   "source": [
    "# value swap\n",
    "# 다른언어\n",
    "temp = a\n",
    "a = b\n",
    "b = temp\n",
    "# 파이썬\n",
    "a, b = b, a"
   ]
  },
  {
   "cell_type": "code",
   "execution_count": 151,
   "metadata": {},
   "outputs": [
    {
     "name": "stdout",
     "output_type": "stream",
     "text": [
      "1\n",
      "1\n",
      "2\n",
      "3\n",
      "5\n"
     ]
    }
   ],
   "source": [
    "def fib(n):\n",
    "    pre = 1\n",
    "    next = 1\n",
    "    count = 0\n",
    "    while True:\n",
    "        temp = pre + next\n",
    "        yield pre\n",
    "        pre, next = next, temp\n",
    "        count += 1\n",
    "        if count == n:\n",
    "            break\n",
    "\n",
    "for i in fib(5):\n",
    "    print(i)"
   ]
  },
  {
   "cell_type": "code",
   "execution_count": 152,
   "metadata": {},
   "outputs": [
    {
     "name": "stdout",
     "output_type": "stream",
     "text": [
      "1\n",
      "1\n",
      "2\n",
      "3\n",
      "5\n",
      "8\n",
      "13\n",
      "21\n",
      "34\n",
      "55\n",
      "89\n",
      "144\n",
      "233\n",
      "377\n",
      "610\n",
      "987\n",
      "1597\n",
      "2584\n",
      "4181\n",
      "6765\n",
      "0.0008s\n"
     ]
    }
   ],
   "source": [
    "import time\n",
    "\n",
    "def time_it(func):\n",
    "    def wrapper():\n",
    "        start_time = time.time()\n",
    "        func()\n",
    "        end_time = time.time()\n",
    "        print(f\"{end_time - start_time:.4f}s\")\n",
    "    return wrapper\n",
    "\n",
    "@time_it\n",
    "def main():\n",
    "    def fib(n):\n",
    "        pre = 1\n",
    "        next = 1\n",
    "        count = 0\n",
    "        while True:\n",
    "            temp = pre + next\n",
    "            yield pre\n",
    "            pre, next = next, temp\n",
    "            count += 1\n",
    "            if count == n:\n",
    "                break\n",
    "\n",
    "    for i in fib(20):\n",
    "        print(i)\n",
    "\n",
    "main()"
   ]
  },
  {
   "cell_type": "code",
   "execution_count": null,
   "metadata": {},
   "outputs": [],
   "source": []
  }
 ],
 "metadata": {
  "kernelspec": {
   "display_name": "Python 3",
   "language": "python",
   "name": "python3"
  },
  "language_info": {
   "codemirror_mode": {
    "name": "ipython",
    "version": 3
   },
   "file_extension": ".py",
   "mimetype": "text/x-python",
   "name": "python",
   "nbconvert_exporter": "python",
   "pygments_lexer": "ipython3",
   "version": "3.11.4"
  },
  "orig_nbformat": 4
 },
 "nbformat": 4,
 "nbformat_minor": 2
}

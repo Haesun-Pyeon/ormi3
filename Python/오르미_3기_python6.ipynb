{
 "cells": [
  {
   "cell_type": "markdown",
   "metadata": {},
   "source": [
    "# 일급함수와 고차함수"
   ]
  },
  {
   "cell_type": "code",
   "execution_count": 1,
   "metadata": {},
   "outputs": [
    {
     "name": "stdout",
     "output_type": "stream",
     "text": [
      "hello world\n"
     ]
    }
   ],
   "source": [
    "licat = print\n",
    "licat('hello world')"
   ]
  },
  {
   "cell_type": "code",
   "execution_count": 3,
   "metadata": {},
   "outputs": [
    {
     "name": "stdout",
     "output_type": "stream",
     "text": [
      "냐옹\n"
     ]
    }
   ],
   "source": [
    "class Cat:\n",
    "  def sound(self):\n",
    "    print('냐옹')\n",
    "\n",
    "licat = Cat()\n",
    "licat_sound = licat.sound\n",
    "licat_sound() # licat.sound()"
   ]
  },
  {
   "cell_type": "code",
   "execution_count": 4,
   "metadata": {},
   "outputs": [
    {
     "data": {
      "text/plain": [
       "[10, 20, 30, 40]"
      ]
     },
     "execution_count": 4,
     "metadata": {},
     "output_type": "execute_result"
    }
   ],
   "source": [
    "l = [10, 20, 30]\n",
    "la = l.append\n",
    "la(40)\n",
    "l\n",
    "#일급함수 - 외부 모듈중 이름이 긴 것들을 여러번 쓸 때 간단하게 쓸 수 있게함"
   ]
  },
  {
   "cell_type": "code",
   "execution_count": 103,
   "metadata": {},
   "outputs": [
    {
     "name": "stdout",
     "output_type": "stream",
     "text": [
      "5\n"
     ]
    }
   ],
   "source": [
    "def add(x, y):\n",
    "  return x + y\n",
    "\n",
    "def subtract(x, y):\n",
    "  return x - y\n",
    "\n",
    "funcs = [add, subtract]\n",
    "print(funcs[0](2, 3))  # 출력: 5"
   ]
  },
  {
   "cell_type": "code",
   "execution_count": 9,
   "metadata": {},
   "outputs": [
    {
     "name": "stdout",
     "output_type": "stream",
     "text": [
      "5\n",
      "5\n",
      "5\n",
      "-1\n",
      "6\n",
      "0.6666666666666666\n"
     ]
    }
   ],
   "source": [
    "class Operator:\n",
    "  def add(self, x, y):\n",
    "    return x + y\n",
    "\n",
    "  def sub(self, x, y):\n",
    "    return x - y\n",
    "  \n",
    "  def mul(self, x, y):\n",
    "    return x * y\n",
    "  \n",
    "  def div(self, x, y):\n",
    "    return x / y\n",
    "\n",
    "  def _and(self, x, y):\n",
    "    return x and y\n",
    "\n",
    "  def _or(self, x, y):\n",
    "    return x or y\n",
    "\n",
    "op = Operator()\n",
    "arithmetic_op = {\n",
    "  'add': op.add,\n",
    "  'sub': op.sub,\n",
    "  'mul': op.mul,\n",
    "  'div': op.div\n",
    "}\n",
    "logical_op = {\n",
    "  '_and': op._and,\n",
    "  '_or': op._or\n",
    "}\n",
    "\n",
    "print(arithmetic_op['add'](2, 3))  # 출력: 5\n",
    "print(op.add(2, 3)) # 출력: 5\n",
    "\n",
    "for _, f in arithmetic_op.items():\n",
    "  print(f(2,3)) # 사칙연산 모두 계산\n"
   ]
  },
  {
   "cell_type": "code",
   "execution_count": null,
   "metadata": {},
   "outputs": [],
   "source": [
    "# JavaScript 콜백함수\n",
    "# l = [10, 20, 30]\n",
    "# l.map((v)=>v**2) //[100, 400, 900]"
   ]
  },
  {
   "cell_type": "code",
   "execution_count": 10,
   "metadata": {},
   "outputs": [
    {
     "name": "stdout",
     "output_type": "stream",
     "text": [
      "냐옹\n"
     ]
    }
   ],
   "source": [
    "# 함수를 인자로 받음\n",
    "def licat_sound(p):\n",
    "  # 함수의 기능 10줄이 들어간다 생각하겠습니다.\n",
    "  x = 10\n",
    "  y = 10\n",
    "  z = 10\n",
    "  p('냐옹') # 콜백함수\n",
    "\n",
    "licat_sound(print) # licat_sound안에 built-in function인 print를 넣었습니다."
   ]
  },
  {
   "cell_type": "code",
   "execution_count": 11,
   "metadata": {},
   "outputs": [
    {
     "data": {
      "text/plain": [
       "314.0"
      ]
     },
     "execution_count": 11,
     "metadata": {},
     "output_type": "execute_result"
    }
   ],
   "source": [
    "def square(x):\n",
    "  return x ** 2\n",
    "\n",
    "def width_circle(r, s):\n",
    "  return s(r) * 3.14\n",
    "\n",
    "width_circle(10, square)"
   ]
  },
  {
   "cell_type": "code",
   "execution_count": 14,
   "metadata": {},
   "outputs": [
    {
     "name": "stdout",
     "output_type": "stream",
     "text": [
      "15\n"
     ]
    }
   ],
   "source": [
    "# 함수를 결과로 반환!\n",
    "def create_adder(x):\n",
    "  def adder(y):\n",
    "    return x + y\n",
    "  return adder\n",
    "\n",
    "add_5 = create_adder(5)\n",
    "print(add_5(10))  # 출력: 15"
   ]
  },
  {
   "cell_type": "code",
   "execution_count": 18,
   "metadata": {},
   "outputs": [
    {
     "name": "stdout",
     "output_type": "stream",
     "text": [
      "100\n",
      "1000\n"
     ]
    }
   ],
   "source": [
    "def create_exponent(x):\n",
    "  def exponent(y):\n",
    "    return y ** x\n",
    "  return exponent\n",
    "\n",
    "exponent_2 = create_exponent(2)\n",
    "exponent_3 = create_exponent(3)\n",
    "print(exponent_2(10)) # 100\n",
    "# print(exponent(10)) => return y ** 2(이 숫자는 상수취급되어 변경시킬 수 없게 됩니다.)\n",
    "print(exponent_3(10)) # 1000\n",
    "# print(exponent(10)) => return y ** 3(이 숫자는 상수취급되어 변경시킬 수 없게 됩니다.)"
   ]
  },
  {
   "cell_type": "code",
   "execution_count": 19,
   "metadata": {},
   "outputs": [
    {
     "name": "stdout",
     "output_type": "stream",
     "text": [
      "4426845184\n"
     ]
    },
    {
     "data": {
      "text/plain": [
       "4426845184"
      ]
     },
     "execution_count": 19,
     "metadata": {},
     "output_type": "execute_result"
    }
   ],
   "source": [
    "def f():\n",
    "  l = [10, 20, 30]\n",
    "  print(id(l))\n",
    "  return l\n",
    "\n",
    "sample = f()\n",
    "id(sample) # 주소가 같네요??\n",
    "# 함수가 끝나면 안에 변수들이 다 휘발되는 것 아니었나요??"
   ]
  },
  {
   "cell_type": "code",
   "execution_count": 31,
   "metadata": {},
   "outputs": [
    {
     "data": {
      "text/plain": [
       "2"
      ]
     },
     "execution_count": 31,
     "metadata": {},
     "output_type": "execute_result"
    }
   ],
   "source": [
    "import sys\n",
    "\n",
    "def ff():\n",
    "  l = [10, 20, 30]\n",
    "  return l\n",
    "\n",
    "sample_ = ff()\n",
    "sys.getrefcount(sample_) #window, mac, linux의 출력값이 달라요. \n",
    "# 중요한 포인트는 getrefcount의 작동 원리가 아니라\n",
    "# 함수가 종료되어도 참조하는 변수가 있다면 값이 사라지지 않는다는 것이 포인트입니다!"
   ]
  },
  {
   "cell_type": "code",
   "execution_count": 32,
   "metadata": {},
   "outputs": [],
   "source": [
    "import sys\n",
    "\n",
    "def ff():\n",
    "  l = [10, 20, 30]\n",
    "  return l\n",
    "\n",
    "sample_ = ff()"
   ]
  },
  {
   "cell_type": "code",
   "execution_count": 33,
   "metadata": {},
   "outputs": [
    {
     "data": {
      "text/plain": [
       "2"
      ]
     },
     "execution_count": 33,
     "metadata": {},
     "output_type": "execute_result"
    }
   ],
   "source": [
    "sys.getrefcount(sample_) #강사님은 3나옴"
   ]
  },
  {
   "cell_type": "code",
   "execution_count": null,
   "metadata": {},
   "outputs": [],
   "source": [
    "# 일급 함수: 함수를 일급객체(값, 주소)로 취급\n",
    "# 고차 함수: 함수를 아규먼트로 받거나 return값으로 반환할 수 있는 함수"
   ]
  },
  {
   "cell_type": "markdown",
   "metadata": {},
   "source": [
    "# 클로저"
   ]
  },
  {
   "cell_type": "code",
   "execution_count": 104,
   "metadata": {},
   "outputs": [
    {
     "data": {
      "text/plain": [
       "300"
      ]
     },
     "execution_count": 104,
     "metadata": {},
     "output_type": "execute_result"
    }
   ],
   "source": [
    "# 클로저: 휘발되었어야 하는 메모리 영역에 접근하여 함수나 데이터를 활용하는 일\n",
    "\n",
    "# 고차함수이며, 일반적인 클로저의 형태는 아닙니다.\n",
    "# 보통 클로저는 outer_function에 매개변수로 값을 넘겨줍니다.\n",
    "def outer_function():\n",
    "  def inner_function():\n",
    "    return 100 + 100\n",
    "  return inner_function\n",
    "\n",
    "# 클로저인 경우\n",
    "def outer_function(x):\n",
    "  def inner_function(y):\n",
    "    return x + y\n",
    "  return inner_function\n",
    "\n",
    "inner = outer_function(100)\n",
    "''' 이거랑 똑같은거다.\n",
    "def inner(y):\n",
    "    return 100 + y\n",
    "inner(200)\n",
    "'''\n",
    "inner(200) # inner 입장에서 100을 변경할 수 있는 방법이 없습니다."
   ]
  },
  {
   "cell_type": "markdown",
   "metadata": {},
   "source": [
    "# 데코레이터"
   ]
  },
  {
   "cell_type": "code",
   "execution_count": null,
   "metadata": {},
   "outputs": [],
   "source": [
    "# 이런 식으로 우린 사용합니다.\n",
    "# login한 사용자만 게시판 읽도록\n",
    "# Django와 같은 프레임워크는 필요한 데코레이터는 미리 구현되어 있습니다.\n",
    "# 걱정하지 않으셔도 됩니다.\n",
    "def login(arg):\n",
    "  pass\n",
    "\n",
    "@login\n",
    "def 게시판읽기():\n",
    "  pass"
   ]
  },
  {
   "cell_type": "code",
   "execution_count": 24,
   "metadata": {},
   "outputs": [
    {
     "name": "stdout",
     "output_type": "stream",
     "text": [
      "Before the function call\n",
      "Hello, World!\n",
      "After the function call\n"
     ]
    }
   ],
   "source": [
    "def simple_decorator(function):\n",
    "  def wrapper():\n",
    "    print(\"Before the function call\")\n",
    "    function()\n",
    "    print(\"After the function call\")\n",
    "  return wrapper\n",
    "\n",
    "@simple_decorator\n",
    "def hello():\n",
    "    print(\"Hello, World!\")\n",
    "\n",
    "hello() # 데코레이터가 없는 상태에서는 simple_decorator(hello)() 와 같습니다."
   ]
  },
  {
   "cell_type": "code",
   "execution_count": 25,
   "metadata": {},
   "outputs": [
    {
     "name": "stdout",
     "output_type": "stream",
     "text": [
      "Before the function call\n",
      "Hello, World!\n",
      "After the function call\n"
     ]
    }
   ],
   "source": [
    "def simple_decorator(function):\n",
    "    def wrapper():\n",
    "        print(\"Before the function call\")\n",
    "        function()\n",
    "        print(\"After the function call\")\n",
    "    return wrapper\n",
    "\n",
    "def hello():\n",
    "    print(\"Hello, World!\")\n",
    "\n",
    "simple_decorator(hello)()\n",
    "# simple_decorator(hello) => wrapper\n",
    "# simple_decorator(hello)() => wrapper()"
   ]
  },
  {
   "cell_type": "code",
   "execution_count": 26,
   "metadata": {},
   "outputs": [
    {
     "name": "stdout",
     "output_type": "stream",
     "text": [
      "Before the function call\n",
      "Hello, World!\n",
      "After the function call\n"
     ]
    }
   ],
   "source": [
    "def simple_decorator(function):\n",
    "    def wrapper():\n",
    "        print(\"Before the function call\")\n",
    "        function()\n",
    "        print(\"After the function call\")\n",
    "    return wrapper\n",
    "\n",
    "@simple_decorator\n",
    "def hello():\n",
    "    print(\"Hello, World!\")\n",
    "\n",
    "hello() # 이렇게만 하면 simple_decorator에 hello를 아규먼트로 넣어주고 실행하겠다!"
   ]
  },
  {
   "cell_type": "code",
   "execution_count": 27,
   "metadata": {},
   "outputs": [
    {
     "ename": "TypeError",
     "evalue": "data_Preprocessing.<locals>.wrapper() takes 0 positional arguments but 1 was given",
     "output_type": "error",
     "traceback": [
      "\u001b[0;31m---------------------------------------------------------------------------\u001b[0m",
      "\u001b[0;31mTypeError\u001b[0m                                 Traceback (most recent call last)",
      "\u001b[1;32m/Users/pyeonhaesun/Desktop/ESTsoft_ormi3/ormi3_code/Python/오르미_3기_python6.ipynb 셀 22\u001b[0m line \u001b[0;36m1\n\u001b[1;32m      <a href='vscode-notebook-cell:/Users/pyeonhaesun/Desktop/ESTsoft_ormi3/ormi3_code/Python/%EC%98%A4%EB%A5%B4%EB%AF%B8_3%EA%B8%B0_python6.ipynb#X35sZmlsZQ%3D%3D?line=6'>7</a>\u001b[0m \u001b[39m@data_Preprocessing\u001b[39m\n\u001b[1;32m      <a href='vscode-notebook-cell:/Users/pyeonhaesun/Desktop/ESTsoft_ormi3/ormi3_code/Python/%EC%98%A4%EB%A5%B4%EB%AF%B8_3%EA%B8%B0_python6.ipynb#X35sZmlsZQ%3D%3D?line=7'>8</a>\u001b[0m \u001b[39mdef\u001b[39;00m \u001b[39mmean\u001b[39m(data):\n\u001b[1;32m      <a href='vscode-notebook-cell:/Users/pyeonhaesun/Desktop/ESTsoft_ormi3/ormi3_code/Python/%EC%98%A4%EB%A5%B4%EB%AF%B8_3%EA%B8%B0_python6.ipynb#X35sZmlsZQ%3D%3D?line=8'>9</a>\u001b[0m     \u001b[39mreturn\u001b[39;00m \u001b[39msum\u001b[39m(data)\u001b[39m/\u001b[39m\u001b[39mlen\u001b[39m(data)\n\u001b[0;32m---> <a href='vscode-notebook-cell:/Users/pyeonhaesun/Desktop/ESTsoft_ormi3/ormi3_code/Python/%EC%98%A4%EB%A5%B4%EB%AF%B8_3%EA%B8%B0_python6.ipynb#X35sZmlsZQ%3D%3D?line=10'>11</a>\u001b[0m mean([\u001b[39m1\u001b[39;49m, \u001b[39m2\u001b[39;49m, \u001b[39m'\u001b[39;49m\u001b[39m3\u001b[39;49m\u001b[39m'\u001b[39;49m, \u001b[39m4\u001b[39;49m, \u001b[39m'\u001b[39;49m\u001b[39m5\u001b[39;49m\u001b[39m'\u001b[39;49m]) \u001b[39m# TypeError 발생\u001b[39;00m\n",
      "\u001b[0;31mTypeError\u001b[0m: data_Preprocessing.<locals>.wrapper() takes 0 positional arguments but 1 was given"
     ]
    }
   ],
   "source": [
    "# step 1\n",
    "def data_Preprocessing(function):\n",
    "    def wrapper():\n",
    "        pass\n",
    "    return wrapper\n",
    "\n",
    "@data_Preprocessing\n",
    "def mean(data):\n",
    "    return sum(data)/len(data)\n",
    "\n",
    "mean([1, 2, '3', 4, '5']) # TypeError 발생"
   ]
  },
  {
   "cell_type": "code",
   "execution_count": 28,
   "metadata": {},
   "outputs": [
    {
     "name": "stdout",
     "output_type": "stream",
     "text": [
      "[1, 2, '3', 4, '5']\n"
     ]
    }
   ],
   "source": [
    "# step 2\n",
    "def data_Preprocessing(function):\n",
    "    def wrapper(data):\n",
    "        print(data) #여기서 function실행하는코드가 없어서 mean은 실행이 안됨\n",
    "    return wrapper\n",
    "\n",
    "@data_Preprocessing\n",
    "def mean(data):\n",
    "    return sum(data)/len(data)\n",
    "\n",
    "mean([1, 2, '3', 4, '5']) # 데이터만 출력하고 함수는 None을 반환"
   ]
  },
  {
   "cell_type": "code",
   "execution_count": 29,
   "metadata": {},
   "outputs": [
    {
     "data": {
      "text/plain": [
       "3.0"
      ]
     },
     "execution_count": 29,
     "metadata": {},
     "output_type": "execute_result"
    }
   ],
   "source": [
    "# step 3\n",
    "def data_Preprocessing(function):\n",
    "    def wrapper(data):\n",
    "        return function(list(map(int, data)))\n",
    "    return wrapper\n",
    "\n",
    "@data_Preprocessing\n",
    "def mean(data):\n",
    "    return sum(data)/len(data)\n",
    "\n",
    "mean([1, 2, '3', 4, '5']) # 출력: 3.0 (정상 작동)\n",
    "# 데코레이터가 붙으면 mean을 실행하는 것이 아닙니다.\n",
    "\n",
    "# data_Preprocessing(mean) => wrapper\n",
    "# data_Preprocessing(mean)([1, 2, '3', 4, '5']) => wrapper([1, 2, '3', 4, '5'])"
   ]
  },
  {
   "cell_type": "code",
   "execution_count": 30,
   "metadata": {},
   "outputs": [
    {
     "name": "stdout",
     "output_type": "stream",
     "text": [
      "10 20 30\n",
      "20.0\n"
     ]
    }
   ],
   "source": [
    "# step 3\n",
    "def data_Preprocessing(function):\n",
    "    def wrapper(a, b, c):\n",
    "        print(a, b, c) # print(10, 20, 30)\n",
    "        print(function([a, b, c])) # print(mean([10, 20, 30]))\n",
    "    return wrapper\n",
    "\n",
    "@data_Preprocessing\n",
    "def mean(data):\n",
    "    return sum(data)/len(data)\n",
    "\n",
    "mean(10, 20, 30) # 왜 오류가 없을까요? data인자가 하나고, 10, 20, 30인자가 3개인데요?"
   ]
  },
  {
   "cell_type": "code",
   "execution_count": null,
   "metadata": {},
   "outputs": [],
   "source": [
    "#### 여기까지 이해하시면 됩니다. ####"
   ]
  },
  {
   "cell_type": "code",
   "execution_count": 34,
   "metadata": {},
   "outputs": [
    {
     "name": "stdout",
     "output_type": "stream",
     "text": [
      "hello\n"
     ]
    }
   ],
   "source": [
    "# 강성웅님 Q&A\n",
    "# b를 실행시키고 싶은데 어떻게 해야 할까요?\n",
    "def outer(function):\n",
    "    def wrapper():\n",
    "        return 'hello'\n",
    "    return wrapper\n",
    "\n",
    "@outer\n",
    "def a():\n",
    "    def b():\n",
    "        print('hello b')\n",
    "    return b\n",
    "\n",
    "print(a())"
   ]
  },
  {
   "cell_type": "code",
   "execution_count": 35,
   "metadata": {},
   "outputs": [
    {
     "name": "stdout",
     "output_type": "stream",
     "text": [
      "hello\n"
     ]
    }
   ],
   "source": [
    "# 강성웅님 Q&A\n",
    "# b를 실행시키고 싶은데 어떻게 해야 할까요?\n",
    "def outer(function):\n",
    "    def wrapper():\n",
    "        function() #삽입\n",
    "        return 'hello'\n",
    "    return wrapper\n",
    "\n",
    "@outer\n",
    "def a():\n",
    "    def b():\n",
    "        print('hello b')\n",
    "    return b\n",
    "\n",
    "print(a())"
   ]
  },
  {
   "cell_type": "code",
   "execution_count": 37,
   "metadata": {},
   "outputs": [
    {
     "name": "stdout",
     "output_type": "stream",
     "text": [
      "hello b\n",
      "hello\n"
     ]
    }
   ],
   "source": [
    "# 강성웅님 Q&A\n",
    "# b를 실행시키고 싶은데 어떻게 해야 할까요?\n",
    "def outer(function):\n",
    "    def wrapper():\n",
    "        function()()\n",
    "        return 'hello'\n",
    "    return wrapper\n",
    "\n",
    "@outer\n",
    "def a():\n",
    "    def b():\n",
    "        print('hello b')\n",
    "    return b\n",
    "\n",
    "print(a())"
   ]
  },
  {
   "cell_type": "code",
   "execution_count": 105,
   "metadata": {},
   "outputs": [
    {
     "name": "stdout",
     "output_type": "stream",
     "text": [
      "add_exclamation 데코레이터 시작\n",
      "add_question_mark 데코레이터 시작\n",
      "add_dot 데코레이터 시작\n",
      "함수실행!\n",
      "add_dot 데코레이터 종료\n",
      "add_question_mark 데코레이터 종료\n",
      "add_exclamation 데코레이터 종료\n",
      "반환값: Hello.?!\n"
     ]
    }
   ],
   "source": [
    "# 여기서부터는 실무에서 보실일이 없을겁니다.\n",
    "def add_exclamation(function):\n",
    "    def wrapper(text):\n",
    "        print(f'add_exclamation 데코레이터 시작')\n",
    "        result = function(text) + \"!\"\n",
    "        print(f'add_exclamation 데코레이터 종료')\n",
    "        return result\n",
    "    return wrapper\n",
    "\n",
    "def add_question_mark(function):\n",
    "    def wrapper(text):\n",
    "        print(f'add_question_mark 데코레이터 시작')\n",
    "        result = function(text) + \"?\"\n",
    "        print(f'add_question_mark 데코레이터 종료')\n",
    "        return result\n",
    "    return wrapper\n",
    "\n",
    "def add_dot(function):\n",
    "    def wrapper(text):\n",
    "        print(f'add_dot 데코레이터 시작')\n",
    "        result = function(text) + \".\"\n",
    "        print(f'add_dot 데코레이터 종료')\n",
    "        return result\n",
    "    return wrapper\n",
    "\n",
    "@add_exclamation\n",
    "@add_question_mark\n",
    "@add_dot\n",
    "def greet(message):\n",
    "    print('함수실행!')\n",
    "    return message\n",
    "\n",
    "result = greet(\"Hello\")\n",
    "print(f'반환값: {result}')  # 출력: \"Hello.!?\""
   ]
  },
  {
   "cell_type": "code",
   "execution_count": 42,
   "metadata": {},
   "outputs": [
    {
     "name": "stdout",
     "output_type": "stream",
     "text": [
      "plus 함수가 1000만큼 증가시키는 데코레이터가 시작됩니다.\n",
      "plus 함수가 호출되었습니다.\n",
      "plus 함수가 1000만큼 증가시키는 데코레이터가 종료됩니다.\n",
      "result : 1030\n"
     ]
    }
   ],
   "source": [
    "def add(n): # 데코레이터를 감싸는 하나의 함수를 더 만들어서 아규먼트를 받는 방법입니다.\n",
    "    def decorator(function):\n",
    "        def new_function(a, b):\n",
    "            print(f'plus 함수가 {n}만큼 증가시키는 데코레이터가 시작됩니다.')\n",
    "            result = function(a, b)\n",
    "            print(f'plus 함수가 {n}만큼 증가시키는 데코레이터가 종료됩니다.')\n",
    "            return result + n\n",
    "        return new_function\n",
    "    return decorator\n",
    "\n",
    "@add(1000)\n",
    "def plus(a, b):\n",
    "    print('plus 함수가 호출되었습니다.')\n",
    "    return a + b\n",
    "\n",
    "result = plus(10, 20)\n",
    "print(f'result : {result}')"
   ]
  },
  {
   "cell_type": "code",
   "execution_count": 43,
   "metadata": {},
   "outputs": [
    {
     "name": "stdout",
     "output_type": "stream",
     "text": [
      "plus 함수가 1000만큼 증가시키는 데코레이터가 시작됩니다.\n",
      "plus 함수가 호출되었습니다.\n",
      "30\n",
      "plus 함수가 1000만큼 증가시키는 데코레이터가 종료됩니다.\n",
      "result : 1030\n"
     ]
    }
   ],
   "source": [
    "def add(n): # 데코레이터를 감싸는 하나의 함수를 더 만들어서 아규먼트를 받는 방법입니다.\n",
    "    def decorator(function): # 여기서부터의 기능은 같습니다.\n",
    "        def wrapper(a, b):\n",
    "            print(f'plus 함수가 {n}만큼 증가시키는 데코레이터가 시작됩니다.')\n",
    "            result = function(a, b)\n",
    "            print(result)\n",
    "            print(f'plus 함수가 {n}만큼 증가시키는 데코레이터가 종료됩니다.')\n",
    "            return result + n\n",
    "        return wrapper\n",
    "    return decorator\n",
    "\n",
    "@add(1000)\n",
    "def plus(a, b):\n",
    "    print('plus 함수가 호출되었습니다.')\n",
    "    return a + b\n",
    "\n",
    "result = plus(10, 20)\n",
    "print(f'result : {result}')"
   ]
  },
  {
   "cell_type": "code",
   "execution_count": 44,
   "metadata": {},
   "outputs": [],
   "source": [
    "# plus(10, 20) == add(n)(plus)(10,20)\n",
    "\n",
    "def plus(a, b):\n",
    "    print('plus 함수가 호출되었습니다.')\n",
    "    return a + b\n",
    "\n",
    "def add(n):\n",
    "    def decorator(f):\n",
    "        def wrapper(a, b):\n",
    "            print(f'plus 함수가 {n}만큼 증가시키는 데코레이터가 시작됩니다.')\n",
    "            result = f(a, b)\n",
    "            print(result)\n",
    "            print(f'plus 함수가 {n}만큼 증가시키는 데코레이터가 종료됩니다.')\n",
    "            return result + n\n",
    "        return wrapper\n",
    "    return decorator\n",
    "\n",
    "# add(n)(plus)(10,20), add(1000) == decorator\n",
    "# decorator(plus)(10,20), decorator(plus) == wrapper\n",
    "# wrapper(10, 20)\n",
    "\n",
    "# decorator(plus(10, 20))() (X)\n",
    "# add(1000)(plus)(10, 20)() (X)\n",
    "# add(1000)(plus)(10, 20)"
   ]
  },
  {
   "cell_type": "code",
   "execution_count": 141,
   "metadata": {},
   "outputs": [
    {
     "name": "stdout",
     "output_type": "stream",
     "text": [
      "plus 함수가 1000만큼 증가시키는 데코레이터가 시작됩니다.\n",
      "plus 함수가 호출되었습니다.\n",
      "30\n",
      "plus 함수가 1000만큼 증가시키는 데코레이터가 종료됩니다.\n"
     ]
    },
    {
     "data": {
      "text/plain": [
       "1030"
      ]
     },
     "execution_count": 141,
     "metadata": {},
     "output_type": "execute_result"
    }
   ],
   "source": [
    "def plus(a, b):\n",
    "    print('plus 함수가 호출되었습니다.')\n",
    "    return a + b\n",
    "\n",
    "def add(n):\n",
    "    def decorator(f):\n",
    "        def wrapper(a, b):\n",
    "            print(f'plus 함수가 {n}만큼 증가시키는 데코레이터가 시작됩니다.')\n",
    "            result = f(a, b)\n",
    "            print(result)\n",
    "            print(f'plus 함수가 {n}만큼 증가시키는 데코레이터가 종료됩니다.')\n",
    "            return result + n\n",
    "        return wrapper\n",
    "    return decorator\n",
    "\n",
    "# d = add(1000)\n",
    "# w = d(plus)\n",
    "# w(10, 20)\n",
    "\n",
    "add(1000)(plus)(10, 20)"
   ]
  },
  {
   "cell_type": "markdown",
   "metadata": {},
   "source": [
    "# 연습문제"
   ]
  },
  {
   "cell_type": "code",
   "execution_count": 13,
   "metadata": {},
   "outputs": [
    {
     "data": {
      "text/plain": [
       "5.0"
      ]
     },
     "execution_count": 13,
     "metadata": {},
     "output_type": "execute_result"
    }
   ],
   "source": [
    "# 피타고라스정리 빗변의 길이를 구하는 함수\n",
    "def length(a,b, square, root):\n",
    "  return root(square(a) + square(b))\n",
    "\n",
    "def s(x):\n",
    "  return x ** 2\n",
    "\n",
    "def r(x):\n",
    "  return x ** 0.5\n",
    "\n",
    "length(3, 4, s, r)"
   ]
  },
  {
   "cell_type": "markdown",
   "metadata": {},
   "source": [
    "# lambda"
   ]
  },
  {
   "cell_type": "code",
   "execution_count": 45,
   "metadata": {},
   "outputs": [
    {
     "name": "stdout",
     "output_type": "stream",
     "text": [
      "25\n"
     ]
    }
   ],
   "source": [
    "square = lambda x: x*x\n",
    "print(square(5))  # 출력: 25"
   ]
  },
  {
   "cell_type": "code",
   "execution_count": 46,
   "metadata": {},
   "outputs": [
    {
     "data": {
      "text/plain": [
       "[1, 4, 9, 16, 25, 36]"
      ]
     },
     "execution_count": 46,
     "metadata": {},
     "output_type": "execute_result"
    }
   ],
   "source": [
    "# 재사용되는 코드\n",
    "def 제곱(x):\n",
    "  return x ** 2\n",
    "\n",
    "list(map(제곱, [1, 2, 3])) + list(map(제곱, [4, 5, 6]))"
   ]
  },
  {
   "cell_type": "code",
   "execution_count": 47,
   "metadata": {},
   "outputs": [
    {
     "data": {
      "text/plain": [
       "[1, 4, 9]"
      ]
     },
     "execution_count": 47,
     "metadata": {},
     "output_type": "execute_result"
    }
   ],
   "source": [
    "# 재사용되지 않는 코드\n",
    "\n",
    "list(map(lambda x:x**2, [1, 2, 3]))"
   ]
  },
  {
   "cell_type": "code",
   "execution_count": 49,
   "metadata": {},
   "outputs": [
    {
     "name": "stdout",
     "output_type": "stream",
     "text": [
      "9\n",
      "9\n"
     ]
    }
   ],
   "source": [
    "# 이런 형태는 오늘 보고 끝입니다.\n",
    "result = lambda x: x ** 2\n",
    "print(result(3))\n",
    "\n",
    "result = (lambda x: x ** 2)(3)\n",
    "print(result) # 9"
   ]
  },
  {
   "cell_type": "markdown",
   "metadata": {},
   "source": [
    "# args, kwargs"
   ]
  },
  {
   "cell_type": "code",
   "execution_count": 50,
   "metadata": {},
   "outputs": [
    {
     "data": {
      "text/plain": [
       "(10, 20, [30, 40, 50])"
      ]
     },
     "execution_count": 50,
     "metadata": {},
     "output_type": "execute_result"
    }
   ],
   "source": [
    "a, b, *c = 10, 20, 30, 40, 50\n",
    "a, b, c"
   ]
  },
  {
   "cell_type": "code",
   "execution_count": 51,
   "metadata": {},
   "outputs": [
    {
     "name": "stdout",
     "output_type": "stream",
     "text": [
      "('Licat', 'hello', 10)\n",
      "Licat\n",
      "hello\n",
      "10\n"
     ]
    }
   ],
   "source": [
    "def print_args(a, b, *args):\n",
    "  print(args)\n",
    "  for x in args:\n",
    "    print(x)\n",
    "\n",
    "print_args(100, True, 'Licat', 'hello', 10)"
   ]
  },
  {
   "cell_type": "code",
   "execution_count": 52,
   "metadata": {},
   "outputs": [
    {
     "ename": "TypeError",
     "evalue": "print_args() missing 1 required keyword-only argument: 'c'",
     "output_type": "error",
     "traceback": [
      "\u001b[0;31m---------------------------------------------------------------------------\u001b[0m",
      "\u001b[0;31mTypeError\u001b[0m                                 Traceback (most recent call last)",
      "\u001b[1;32m/Users/pyeonhaesun/Desktop/ESTsoft_ormi3/ormi3_code/Python/오르미_3기_python6.ipynb 셀 49\u001b[0m line \u001b[0;36m6\n\u001b[1;32m      <a href='vscode-notebook-cell:/Users/pyeonhaesun/Desktop/ESTsoft_ormi3/ormi3_code/Python/%EC%98%A4%EB%A5%B4%EB%AF%B8_3%EA%B8%B0_python6.ipynb#Y106sZmlsZQ%3D%3D?line=2'>3</a>\u001b[0m   \u001b[39mfor\u001b[39;00m x \u001b[39min\u001b[39;00m args:\n\u001b[1;32m      <a href='vscode-notebook-cell:/Users/pyeonhaesun/Desktop/ESTsoft_ormi3/ormi3_code/Python/%EC%98%A4%EB%A5%B4%EB%AF%B8_3%EA%B8%B0_python6.ipynb#Y106sZmlsZQ%3D%3D?line=3'>4</a>\u001b[0m     \u001b[39mprint\u001b[39m(x)\n\u001b[0;32m----> <a href='vscode-notebook-cell:/Users/pyeonhaesun/Desktop/ESTsoft_ormi3/ormi3_code/Python/%EC%98%A4%EB%A5%B4%EB%AF%B8_3%EA%B8%B0_python6.ipynb#Y106sZmlsZQ%3D%3D?line=5'>6</a>\u001b[0m print_args(\u001b[39m100\u001b[39;49m, \u001b[39mTrue\u001b[39;49;00m, \u001b[39m'\u001b[39;49m\u001b[39mLicat\u001b[39;49m\u001b[39m'\u001b[39;49m, \u001b[39m'\u001b[39;49m\u001b[39mhello\u001b[39;49m\u001b[39m'\u001b[39;49m, \u001b[39m10\u001b[39;49m)\n",
      "\u001b[0;31mTypeError\u001b[0m: print_args() missing 1 required keyword-only argument: 'c'"
     ]
    }
   ],
   "source": [
    "def print_args(a, b, *args, c): # *args뒤에 일반 변수를 선언하지 못합니다.\n",
    "  print(args)\n",
    "  for x in args:\n",
    "    print(x)\n",
    "\n",
    "print_args(100, True, 'Licat', 'hello', 10)"
   ]
  },
  {
   "cell_type": "code",
   "execution_count": 53,
   "metadata": {},
   "outputs": [
    {
     "ename": "SyntaxError",
     "evalue": "* argument may appear only once (2101268699.py, line 1)",
     "output_type": "error",
     "traceback": [
      "\u001b[0;36m  Cell \u001b[0;32mIn[53], line 1\u001b[0;36m\u001b[0m\n\u001b[0;31m    def print_args(a, b, *args, *c): # *args뒤에 또다른 가변 아규먼트를 넣지 못합니다.\u001b[0m\n\u001b[0m                                ^\u001b[0m\n\u001b[0;31mSyntaxError\u001b[0m\u001b[0;31m:\u001b[0m * argument may appear only once\n"
     ]
    }
   ],
   "source": [
    "def print_args(a, b, *args, *c): # *args뒤에 또다른 가변 아규먼트를 넣지 못합니다.\n",
    "  print(args)\n",
    "  for x in args:\n",
    "    print(x)\n",
    "\n",
    "print_args(100, True, 'Licat', 'hello', 10)"
   ]
  },
  {
   "cell_type": "code",
   "execution_count": 54,
   "metadata": {},
   "outputs": [
    {
     "name": "stdout",
     "output_type": "stream",
     "text": [
      "100\n",
      "{'name': 'Licat', 'age': '10'}\n",
      "name\n",
      "age\n"
     ]
    }
   ],
   "source": [
    "def print_kwargs(a, **kwargs): #딕셔너리형태\n",
    "  print(a)\n",
    "  # 1000줄\n",
    "  # print(name) 이렇게 헷갈리면 안된다.\n",
    "  print(kwargs)\n",
    "  for i in kwargs:\n",
    "    print(i)\n",
    "\n",
    "print_kwargs(100, name='Licat', age='10')"
   ]
  },
  {
   "cell_type": "code",
   "execution_count": 55,
   "metadata": {},
   "outputs": [
    {
     "name": "stdout",
     "output_type": "stream",
     "text": [
      "('one', 'two')\n",
      "one\n",
      "two\n"
     ]
    }
   ],
   "source": [
    "# 눈속임입니다.\n",
    "# *kwargs 이렇게 사용하시면 관습에 어긋납니다.\n",
    "def print_kwargs(*kwargs):\n",
    "  print(kwargs)\n",
    "  for i in kwargs:\n",
    "    print(i)\n",
    "\n",
    "value = {'one':10, 'two':20}\n",
    "print_kwargs(*value)"
   ]
  },
  {
   "cell_type": "code",
   "execution_count": 56,
   "metadata": {},
   "outputs": [
    {
     "name": "stdout",
     "output_type": "stream",
     "text": [
      "('one', 'two')\n",
      "one\n",
      "two\n"
     ]
    }
   ],
   "source": [
    "def print_kwargs(*args):\n",
    "  print(args)\n",
    "  for i in args:\n",
    "    print(i)\n",
    "\n",
    "value = {'one':10, 'two':20}\n",
    "print_kwargs(*value) # key만 갖고있다."
   ]
  },
  {
   "cell_type": "code",
   "execution_count": 57,
   "metadata": {},
   "outputs": [
    {
     "name": "stdout",
     "output_type": "stream",
     "text": [
      "{'one': 10, 'two': 20}\n",
      "one\n",
      "two\n"
     ]
    }
   ],
   "source": [
    "def print_kwargs(**kwargs):\n",
    "  print(kwargs)\n",
    "  for i in kwargs:\n",
    "    print(i)\n",
    "\n",
    "value = {'one':10, 'two':20}\n",
    "print_kwargs(**value) "
   ]
  },
  {
   "cell_type": "code",
   "execution_count": 58,
   "metadata": {},
   "outputs": [
    {
     "name": "stdout",
     "output_type": "stream",
     "text": [
      "1 2 3 4\n"
     ]
    }
   ],
   "source": [
    "# 거의안쓰긴함. *뒤의 인자들은 파라미터 이름을 정해줘야함\n",
    "def func(a, b, *, c, d):\n",
    "    print(a, b, c, d)\n",
    "\n",
    "func(1, 2, c = 3, d = 4)  # 올바른 예시\n",
    "# func(1, 2, 3, d = 4)  # 잘못된 예시\n",
    "# func(1, 2, 3, 4)    # 잘못된 예시"
   ]
  },
  {
   "cell_type": "code",
   "execution_count": 143,
   "metadata": {},
   "outputs": [
    {
     "name": "stdout",
     "output_type": "stream",
     "text": [
      "1 2 3 func\n",
      "(1, 2, 3) 1 2 3 args\n",
      "1 2 3 func\n"
     ]
    }
   ],
   "source": [
    "def func(a, b, c):\n",
    "  print(a, b, c, 'func')\n",
    "\n",
    "args = (1, 2, 3)\n",
    "func(*args)\n",
    "print(args, *args, 'args')\n",
    "\n",
    "kwargs = {'a': 1, 'b': 2, 'c': 3}\n",
    "func(**kwargs)\n",
    "# print(kwargs, **kwargs, 'kwargs') # error"
   ]
  },
  {
   "cell_type": "code",
   "execution_count": 63,
   "metadata": {},
   "outputs": [
    {
     "name": "stdout",
     "output_type": "stream",
     "text": [
      "{'a': 1, 'b': 2, 'c': 3} a b c\n"
     ]
    }
   ],
   "source": [
    "kwargs = {'a': 1, 'b': 2, 'c': 3}\n",
    "print(kwargs, *kwargs)\n",
    "# print(kwargs, **kwargs) # 왜 에스터리스크가 2개일때 error가 날까요?\n",
    "# print(kwargs, a=1, b=2, c=3) # 이 코드가 바로 위의 코드와 같습니다."
   ]
  },
  {
   "cell_type": "code",
   "execution_count": 65,
   "metadata": {},
   "outputs": [
    {
     "name": "stdout",
     "output_type": "stream",
     "text": [
      "100 3 2 1\n"
     ]
    }
   ],
   "source": [
    "def func(d=100, c=200, b=300, a=400):\n",
    "  print(d, c, b, a)\n",
    "\n",
    "kwargs = {'a': 1, 'b': 2, 'c': 3}\n",
    "func(**kwargs)\n",
    "# func(kwargs, a=1, b=2, c=3)로 입력이 되었다는 것을 확인할 수 있습니다.\n",
    "# {'a': 1, 'b': 2, 'c': 3} => **kwargs => a=1, b=2, c=3"
   ]
  },
  {
   "cell_type": "code",
   "execution_count": 67,
   "metadata": {},
   "outputs": [
    {
     "name": "stdout",
     "output_type": "stream",
     "text": [
      "1000 {'i': 1, 'j': 2, 'k': 3}\n"
     ]
    }
   ],
   "source": [
    "# a=1, b=2, c=3 => **kwargs => {'a': 1, 'b': 2, 'c': 3}\n",
    "def func(a=100, **kwargs):\n",
    "  print(a, kwargs)\n",
    "\n",
    "func(1000, i=1, j=2, k=3)"
   ]
  },
  {
   "cell_type": "code",
   "execution_count": 68,
   "metadata": {},
   "outputs": [
    {
     "name": "stdout",
     "output_type": "stream",
     "text": [
      "(10, 20, 30)\n"
     ]
    }
   ],
   "source": [
    "def func(*args):\n",
    "  print(args)\n",
    "\n",
    "func(10, 20, 30)\n",
    "# 10, 20, 30 => *args => (10, 20, 30)"
   ]
  },
  {
   "cell_type": "code",
   "execution_count": 69,
   "metadata": {},
   "outputs": [
    {
     "name": "stdout",
     "output_type": "stream",
     "text": [
      "10 20 30\n"
     ]
    }
   ],
   "source": [
    "def func(a, b, c):\n",
    "  print(a, b, c)\n",
    "\n",
    "args = (10, 20, 30)\n",
    "func(*args)\n",
    "# (10, 20, 30) => *args => 10, 20, 30"
   ]
  },
  {
   "cell_type": "code",
   "execution_count": 70,
   "metadata": {},
   "outputs": [
    {
     "data": {
      "text/plain": [
       "(0, 1, 2)"
      ]
     },
     "execution_count": 70,
     "metadata": {},
     "output_type": "execute_result"
    }
   ],
   "source": [
    "a, b, c = range(3)\n",
    "a, b, c"
   ]
  },
  {
   "cell_type": "code",
   "execution_count": 71,
   "metadata": {},
   "outputs": [
    {
     "data": {
      "text/plain": [
       "10"
      ]
     },
     "execution_count": 71,
     "metadata": {},
     "output_type": "execute_result"
    }
   ],
   "source": [
    "a, b, c = range(10, 31, 10) # 언패킹이 된다는 얘기는 순회를 돌았다는 얘기입니다.\n",
    "a"
   ]
  },
  {
   "cell_type": "markdown",
   "metadata": {},
   "source": [
    "# 이터레이터"
   ]
  },
  {
   "cell_type": "code",
   "execution_count": 144,
   "metadata": {},
   "outputs": [
    {
     "name": "stdout",
     "output_type": "stream",
     "text": [
      "0\n",
      "1\n",
      "2\n",
      "3\n",
      "4\n"
     ]
    }
   ],
   "source": [
    "class MyIterator:\n",
    "    def __init__(self, stop):\n",
    "        self.current_value = 0  # 현재 값\n",
    "        self.stop = stop  # 순회를 멈출 값\n",
    "\n",
    "    def __iter__(self):\n",
    "        return self\n",
    "\n",
    "    def __next__(self):\n",
    "        if self.current_value >= self.stop:\n",
    "            raise StopIteration\n",
    "        result = self.current_value\n",
    "        self.current_value += 1\n",
    "        return result\n",
    "\n",
    "my_iterator = MyIterator(5)\n",
    "\n",
    "for i in my_iterator:\n",
    "    print(i)\n",
    "\n",
    "# for를 만나면 __iter__가 실행이 되고, 반복이 시작되면 __next__를 호출합니다."
   ]
  },
  {
   "cell_type": "code",
   "execution_count": 145,
   "metadata": {},
   "outputs": [
    {
     "name": "stdout",
     "output_type": "stream",
     "text": [
      "0\n",
      "1\n",
      "2\n",
      "3\n",
      "4\n"
     ]
    }
   ],
   "source": [
    "class MyIterator:\n",
    "    def __init__(self, stop):\n",
    "        self.current_value = 0  # 현재 값\n",
    "        self.stop = stop  # 순회를 멈출 값\n",
    "\n",
    "    def __iter__(self):\n",
    "        return self\n",
    "\n",
    "    def __next__(self):\n",
    "        if self.current_value >= self.stop:\n",
    "            raise StopIteration\n",
    "        result = self.current_value\n",
    "        self.current_value += 1\n",
    "        return result\n",
    "\n",
    "my_iterator = MyIterator(5)\n",
    "\n",
    "for i in my_iterator:\n",
    "    print(i)\n",
    "\n",
    "for i in my_iterator: #한번 돌면 더 안나옴\n",
    "    print(i)"
   ]
  },
  {
   "cell_type": "code",
   "execution_count": 74,
   "metadata": {},
   "outputs": [
    {
     "name": "stdout",
     "output_type": "stream",
     "text": [
      "0\n",
      "1\n",
      "2\n",
      "3\n",
      "4\n",
      "0\n",
      "1\n",
      "2\n",
      "3\n",
      "4\n"
     ]
    }
   ],
   "source": [
    "class MyIterator:\n",
    "    def __init__(self, stop):\n",
    "        self.stop = stop  # 순회를 멈출 값\n",
    "\n",
    "    def __iter__(self):\n",
    "        self.current_value = 0  # 현재 값\n",
    "        return self\n",
    "\n",
    "    def __next__(self):\n",
    "        if self.current_value >= self.stop:\n",
    "            raise StopIteration\n",
    "        result = self.current_value\n",
    "        self.current_value += 1\n",
    "        return result\n",
    "\n",
    "my_iterator = MyIterator(5)\n",
    "\n",
    "for i in my_iterator:\n",
    "    print(i)\n",
    "\n",
    "for i in my_iterator:\n",
    "    print(i)"
   ]
  },
  {
   "cell_type": "code",
   "execution_count": 75,
   "metadata": {},
   "outputs": [
    {
     "name": "stdout",
     "output_type": "stream",
     "text": [
      "0\n",
      "1\n",
      "2\n",
      "3\n",
      "4\n"
     ]
    },
    {
     "ename": "StopIteration",
     "evalue": "",
     "output_type": "error",
     "traceback": [
      "\u001b[0;31m---------------------------------------------------------------------------\u001b[0m",
      "\u001b[0;31mStopIteration\u001b[0m                             Traceback (most recent call last)",
      "\u001b[1;32m/Users/pyeonhaesun/Desktop/ESTsoft_ormi3/ormi3_code/Python/오르미_3기_python6.ipynb 셀 66\u001b[0m line \u001b[0;36m2\n\u001b[1;32m     <a href='vscode-notebook-cell:/Users/pyeonhaesun/Desktop/ESTsoft_ormi3/ormi3_code/Python/%EC%98%A4%EB%A5%B4%EB%AF%B8_3%EA%B8%B0_python6.ipynb#Y132sZmlsZQ%3D%3D?line=20'>21</a>\u001b[0m \u001b[39mprint\u001b[39m(\u001b[39mnext\u001b[39m(i))\n\u001b[1;32m     <a href='vscode-notebook-cell:/Users/pyeonhaesun/Desktop/ESTsoft_ormi3/ormi3_code/Python/%EC%98%A4%EB%A5%B4%EB%AF%B8_3%EA%B8%B0_python6.ipynb#Y132sZmlsZQ%3D%3D?line=21'>22</a>\u001b[0m \u001b[39mprint\u001b[39m(\u001b[39mnext\u001b[39m(i))\n\u001b[0;32m---> <a href='vscode-notebook-cell:/Users/pyeonhaesun/Desktop/ESTsoft_ormi3/ormi3_code/Python/%EC%98%A4%EB%A5%B4%EB%AF%B8_3%EA%B8%B0_python6.ipynb#Y132sZmlsZQ%3D%3D?line=22'>23</a>\u001b[0m \u001b[39mprint\u001b[39m(\u001b[39mnext\u001b[39;49m(i)) \u001b[39m# 여기까지가 for에 작동 원리 입니다.\u001b[39;00m\n",
      "\u001b[1;32m/Users/pyeonhaesun/Desktop/ESTsoft_ormi3/ormi3_code/Python/오르미_3기_python6.ipynb 셀 66\u001b[0m line \u001b[0;36m1\n\u001b[1;32m      <a href='vscode-notebook-cell:/Users/pyeonhaesun/Desktop/ESTsoft_ormi3/ormi3_code/Python/%EC%98%A4%EB%A5%B4%EB%AF%B8_3%EA%B8%B0_python6.ipynb#Y132sZmlsZQ%3D%3D?line=8'>9</a>\u001b[0m \u001b[39mdef\u001b[39;00m \u001b[39m__next__\u001b[39m(\u001b[39mself\u001b[39m):\n\u001b[1;32m     <a href='vscode-notebook-cell:/Users/pyeonhaesun/Desktop/ESTsoft_ormi3/ormi3_code/Python/%EC%98%A4%EB%A5%B4%EB%AF%B8_3%EA%B8%B0_python6.ipynb#Y132sZmlsZQ%3D%3D?line=9'>10</a>\u001b[0m     \u001b[39mif\u001b[39;00m \u001b[39mself\u001b[39m\u001b[39m.\u001b[39mcurrent_value \u001b[39m>\u001b[39m\u001b[39m=\u001b[39m \u001b[39mself\u001b[39m\u001b[39m.\u001b[39mstop:\n\u001b[0;32m---> <a href='vscode-notebook-cell:/Users/pyeonhaesun/Desktop/ESTsoft_ormi3/ormi3_code/Python/%EC%98%A4%EB%A5%B4%EB%AF%B8_3%EA%B8%B0_python6.ipynb#Y132sZmlsZQ%3D%3D?line=10'>11</a>\u001b[0m         \u001b[39mraise\u001b[39;00m \u001b[39mStopIteration\u001b[39;00m\n\u001b[1;32m     <a href='vscode-notebook-cell:/Users/pyeonhaesun/Desktop/ESTsoft_ormi3/ormi3_code/Python/%EC%98%A4%EB%A5%B4%EB%AF%B8_3%EA%B8%B0_python6.ipynb#Y132sZmlsZQ%3D%3D?line=11'>12</a>\u001b[0m     result \u001b[39m=\u001b[39m \u001b[39mself\u001b[39m\u001b[39m.\u001b[39mcurrent_value\n\u001b[1;32m     <a href='vscode-notebook-cell:/Users/pyeonhaesun/Desktop/ESTsoft_ormi3/ormi3_code/Python/%EC%98%A4%EB%A5%B4%EB%AF%B8_3%EA%B8%B0_python6.ipynb#Y132sZmlsZQ%3D%3D?line=12'>13</a>\u001b[0m     \u001b[39mself\u001b[39m\u001b[39m.\u001b[39mcurrent_value \u001b[39m+\u001b[39m\u001b[39m=\u001b[39m \u001b[39m1\u001b[39m\n",
      "\u001b[0;31mStopIteration\u001b[0m: "
     ]
    }
   ],
   "source": [
    "class MyIterator:\n",
    "    def __init__(self, stop):\n",
    "        self.stop = stop  # 순회를 멈출 값\n",
    "\n",
    "    def __iter__(self):\n",
    "        self.current_value = 0  # 현재 값\n",
    "        return self\n",
    "\n",
    "    def __next__(self):\n",
    "        if self.current_value >= self.stop:\n",
    "            raise StopIteration\n",
    "        result = self.current_value\n",
    "        self.current_value += 1\n",
    "        return result\n",
    "\n",
    "my_iterator = MyIterator(5)\n",
    "i = iter(my_iterator) # 여기서부터\n",
    "print(next(i))\n",
    "print(next(i))\n",
    "print(next(i))\n",
    "print(next(i))\n",
    "print(next(i))\n",
    "print(next(i)) # 여기까지가 for의 작동 원리 입니다."
   ]
  },
  {
   "cell_type": "code",
   "execution_count": 146,
   "metadata": {},
   "outputs": [
    {
     "ename": "TypeError",
     "evalue": "iter() returned non-iterator of type 'list'",
     "output_type": "error",
     "traceback": [
      "\u001b[0;31m---------------------------------------------------------------------------\u001b[0m",
      "\u001b[0;31mTypeError\u001b[0m                                 Traceback (most recent call last)",
      "\u001b[1;32m/Users/pyeonhaesun/Desktop/ESTsoft_ormi3/ormi3_code/Python/오르미_3기_python6.ipynb 셀 67\u001b[0m line \u001b[0;36m1\n\u001b[1;32m     <a href='vscode-notebook-cell:/Users/pyeonhaesun/Desktop/ESTsoft_ormi3/ormi3_code/Python/%EC%98%A4%EB%A5%B4%EB%AF%B8_3%EA%B8%B0_python6.ipynb#Y202sZmlsZQ%3D%3D?line=13'>14</a>\u001b[0m         \u001b[39mreturn\u001b[39;00m result\n\u001b[1;32m     <a href='vscode-notebook-cell:/Users/pyeonhaesun/Desktop/ESTsoft_ormi3/ormi3_code/Python/%EC%98%A4%EB%A5%B4%EB%AF%B8_3%EA%B8%B0_python6.ipynb#Y202sZmlsZQ%3D%3D?line=15'>16</a>\u001b[0m my_iterator \u001b[39m=\u001b[39m MyIterator(\u001b[39m5\u001b[39m)\n\u001b[0;32m---> <a href='vscode-notebook-cell:/Users/pyeonhaesun/Desktop/ESTsoft_ormi3/ormi3_code/Python/%EC%98%A4%EB%A5%B4%EB%AF%B8_3%EA%B8%B0_python6.ipynb#Y202sZmlsZQ%3D%3D?line=17'>18</a>\u001b[0m \u001b[39mfor\u001b[39;00m i \u001b[39min\u001b[39;00m my_iterator:\n\u001b[1;32m     <a href='vscode-notebook-cell:/Users/pyeonhaesun/Desktop/ESTsoft_ormi3/ormi3_code/Python/%EC%98%A4%EB%A5%B4%EB%AF%B8_3%EA%B8%B0_python6.ipynb#Y202sZmlsZQ%3D%3D?line=18'>19</a>\u001b[0m     \u001b[39mprint\u001b[39m(i)\n",
      "\u001b[0;31mTypeError\u001b[0m: iter() returned non-iterator of type 'list'"
     ]
    }
   ],
   "source": [
    "class MyIterator:\n",
    "    def __init__(self, stop):\n",
    "        self.stop = stop  # 순회를 멈출 값\n",
    "\n",
    "    def __iter__(self):\n",
    "        self.current_value = 0  # 현재 값\n",
    "        return [10, 20, 30] # error\n",
    "\n",
    "    def __next__(self):\n",
    "        if self.current_value >= self.stop:\n",
    "            raise StopIteration\n",
    "        result = self.current_value\n",
    "        self.current_value += 1\n",
    "        return result\n",
    "\n",
    "my_iterator = MyIterator(5)\n",
    "\n",
    "for i in my_iterator:\n",
    "    print(i)"
   ]
  },
  {
   "cell_type": "markdown",
   "metadata": {},
   "source": [
    "# 제너레이터"
   ]
  },
  {
   "cell_type": "code",
   "execution_count": 76,
   "metadata": {},
   "outputs": [
    {
     "name": "stdout",
     "output_type": "stream",
     "text": [
      "1\n",
      "2\n",
      "3\n",
      "4\n",
      "5\n"
     ]
    }
   ],
   "source": [
    "def my_generator(data):\n",
    "    for i in data:\n",
    "        yield i\n",
    "\n",
    "my_list = [1, 2, 3, 4, 5]\n",
    "my_iterator = my_generator(my_list)\n",
    "\n",
    "for i in my_iterator: #my_iterator는 함수의 return값이어야 하는데?\n",
    "    print(i)"
   ]
  },
  {
   "cell_type": "code",
   "execution_count": 77,
   "metadata": {},
   "outputs": [
    {
     "name": "stdout",
     "output_type": "stream",
     "text": [
      "10\n",
      "20\n",
      "30\n"
     ]
    }
   ],
   "source": [
    "# 이것이 좀 더 이해하기 좋으실겁니다.\n",
    "def my_generator(data):\n",
    "    for i in data:\n",
    "        yield i * 10\n",
    "\n",
    "for i in my_generator([1, 2, 3]):\n",
    "    print(i)"
   ]
  },
  {
   "cell_type": "code",
   "execution_count": 147,
   "metadata": {},
   "outputs": [
    {
     "name": "stdout",
     "output_type": "stream",
     "text": [
      "10\n",
      "20\n",
      "30\n"
     ]
    }
   ],
   "source": [
    "# 이것이 좀 더 이해하기 좋으실겁니다.\n",
    "\n",
    "def my_generator():\n",
    "    x = 10\n",
    "    yield x\n",
    "    x = 20\n",
    "    yield x\n",
    "    x = 30\n",
    "    yield x\n",
    "    return\n",
    "    x = 40\n",
    "    yield x\n",
    "\n",
    "for i in my_generator():\n",
    "    print(i)"
   ]
  },
  {
   "cell_type": "code",
   "execution_count": 148,
   "metadata": {},
   "outputs": [
    {
     "data": {
      "text/plain": [
       "[(0, '짝'), (1, '홀'), (2, '짝'), (3, '홀'), (4, '짝'), (5, '홀'), (6, '짝')]"
      ]
     },
     "execution_count": 148,
     "metadata": {},
     "output_type": "execute_result"
    }
   ],
   "source": [
    "# 이럴때 많이 사용합니다.\n",
    "def my_generator():\n",
    "    l = ['짝', '홀']\n",
    "    while True:\n",
    "        yield l[False]\n",
    "        yield l[True]\n",
    "\n",
    "list(zip([0, 1, 2, 3, 4, 5, 6], my_generator()))"
   ]
  },
  {
   "cell_type": "code",
   "execution_count": 83,
   "metadata": {},
   "outputs": [
    {
     "data": {
      "text/plain": [
       "[('A', 1), ('B', 2), ('C', 3)]"
      ]
     },
     "execution_count": 83,
     "metadata": {},
     "output_type": "execute_result"
    }
   ],
   "source": [
    "def my_generator():\n",
    "    count = 1\n",
    "    while True:\n",
    "        yield count\n",
    "        count += 1\n",
    "\n",
    "list(zip(['A', 'B', 'C'], my_generator())) # 마치 enumerate처럼"
   ]
  },
  {
   "cell_type": "code",
   "execution_count": 84,
   "metadata": {},
   "outputs": [
    {
     "data": {
      "text/plain": [
       "[('A', 0), ('B', 2), ('C', 4)]"
      ]
     },
     "execution_count": 84,
     "metadata": {},
     "output_type": "execute_result"
    }
   ],
   "source": [
    "def my_generator():\n",
    "    count = 0\n",
    "    while True:\n",
    "        yield count\n",
    "        count += 2\n",
    "\n",
    "list(zip(['A', 'B', 'C'], my_generator())) # enumerate보다 커스텀이 가능하다는 장점이 있다."
   ]
  },
  {
   "cell_type": "code",
   "execution_count": 85,
   "metadata": {},
   "outputs": [
    {
     "data": {
      "text/plain": [
       "[(1, 'h', 0),\n",
       " (2, 'e', 2),\n",
       " (3, 'l', 4),\n",
       " (4, 'l', 6),\n",
       " (5, 'o', 8),\n",
       " (6, ' ', 10),\n",
       " (7, 'w', 12),\n",
       " (8, 'o', 14),\n",
       " (9, 'r', 16)]"
      ]
     },
     "execution_count": 85,
     "metadata": {},
     "output_type": "execute_result"
    }
   ],
   "source": [
    "def my_generator():\n",
    "    count = 0\n",
    "    while True:\n",
    "        yield count\n",
    "        count += 2\n",
    "\n",
    "list(zip([1, 2, 3, 4, 5, 6, 7, 8, 9],'hello world', my_generator())) # 코딩테스트에서 유용하게 쓰임"
   ]
  },
  {
   "cell_type": "code",
   "execution_count": 86,
   "metadata": {},
   "outputs": [
    {
     "name": "stdout",
     "output_type": "stream",
     "text": [
      "[('A', 0), ('B', 2), ('C', 4)]\n",
      "[('A', 0), ('B', 2), ('C', 4)]\n"
     ]
    }
   ],
   "source": [
    "def my_generator():\n",
    "    count = 0\n",
    "    while True:\n",
    "        yield count\n",
    "        count += 2\n",
    "print(list(zip(['A', 'B', 'C'], my_generator())))\n",
    "print(list(zip(['A', 'B', 'C'], my_generator())))\n",
    "# 여기서는 6을 호출해야 하지 않을까요? 왜 다시 초기화가 되었죠?"
   ]
  },
  {
   "cell_type": "code",
   "execution_count": 150,
   "metadata": {},
   "outputs": [
    {
     "name": "stdout",
     "output_type": "stream",
     "text": [
      "2\n",
      "4\n",
      "6\n",
      "8\n",
      "10\n"
     ]
    }
   ],
   "source": [
    "gen = (i for i in range(2, 11, 2))\n",
    "for i in gen:\n",
    "    print(i)"
   ]
  },
  {
   "cell_type": "markdown",
   "metadata": {},
   "source": [
    "# 연습문제"
   ]
  },
  {
   "cell_type": "code",
   "execution_count": 94,
   "metadata": {},
   "outputs": [
    {
     "data": {
      "text/plain": [
       "12000"
      ]
     },
     "execution_count": 94,
     "metadata": {},
     "output_type": "execute_result"
    }
   ],
   "source": [
    "# 회전초밥집에 들어갔습니다. 초밥은 아래와 같은 양식으로 나옵니다.\n",
    "# [['광어초밥', 1000], ['연어초밥', 2000], ['계란초밥', 3000]]\n",
    "# * 각 초밥은 몇 개 나올지 알 수 없습니다.\n",
    "# * 각 초밥은 1000원씩 비싸집니다.\n",
    "# * 초밥에 '어'가 나오는 초밥만 먹습니다.\n",
    "# * 선택사항: 제너레이터를 사용해주세요!\n",
    "# 내가 먹은 초밥의 비용을 계산하는 코드를 작성해 주세요.\n",
    "def susi_generator(data):\n",
    "    for susi in data:\n",
    "        if '어' in susi[0]:\n",
    "            yield susi[1]\n",
    "\n",
    "def solution(data):\n",
    "    cost = 0\n",
    "    for susi in susi_generator(data):\n",
    "        cost += susi\n",
    "    return cost\n",
    "\n",
    "solution([['광어초밥', 1000], ['연어초밥', 2000], ['계란초밥', 3000], ['문어초밥', 4000], ['장어초밥', 5000]])"
   ]
  },
  {
   "cell_type": "code",
   "execution_count": 95,
   "metadata": {},
   "outputs": [
    {
     "data": {
      "text/plain": [
       "12000"
      ]
     },
     "execution_count": 95,
     "metadata": {},
     "output_type": "execute_result"
    }
   ],
   "source": [
    "# 강사님 풀이\n",
    "def gen(data):\n",
    "    for name, price in data:\n",
    "        if '어' in name:\n",
    "            yield price\n",
    "\n",
    "def solution(data):\n",
    "    return sum(gen(data))\n",
    "\n",
    "solution([['광어초밥', 1000], ['연어초밥', 2000], ['계란초밥', 3000], ['문어초밥', 4000], ['장어초밥', 5000]])"
   ]
  },
  {
   "cell_type": "markdown",
   "metadata": {},
   "source": [
    "# nonlocal"
   ]
  },
  {
   "cell_type": "code",
   "execution_count": 96,
   "metadata": {},
   "outputs": [
    {
     "name": "stdout",
     "output_type": "stream",
     "text": [
      "2\n",
      "2\n",
      "100\n"
     ]
    }
   ],
   "source": [
    "x = 100\n",
    "def outer():\n",
    "    x = 1\n",
    "    def inner():\n",
    "        nonlocal x # 바로 밖에 있는 변수를 가져온다.\n",
    "        x += 1\n",
    "        print(x) # 2\n",
    "    inner()\n",
    "    print(x) # 2\n",
    "\n",
    "outer()\n",
    "print(x) # 100"
   ]
  },
  {
   "cell_type": "code",
   "execution_count": 97,
   "metadata": {},
   "outputs": [
    {
     "name": "stdout",
     "output_type": "stream",
     "text": [
      "101\n",
      "1\n",
      "101\n"
     ]
    }
   ],
   "source": [
    "x = 100\n",
    "def outer():\n",
    "    x = 1\n",
    "    def inner():\n",
    "        global x\n",
    "        x += 1\n",
    "        print(x) # 101\n",
    "    inner()\n",
    "    print(x) # 1\n",
    "\n",
    "outer()\n",
    "print(x) # 101"
   ]
  },
  {
   "cell_type": "code",
   "execution_count": 98,
   "metadata": {},
   "outputs": [
    {
     "ename": "UnboundLocalError",
     "evalue": "cannot access local variable 'x' where it is not associated with a value",
     "output_type": "error",
     "traceback": [
      "\u001b[0;31m---------------------------------------------------------------------------\u001b[0m",
      "\u001b[0;31mUnboundLocalError\u001b[0m                         Traceback (most recent call last)",
      "\u001b[1;32m/Users/pyeonhaesun/Desktop/ESTsoft_ormi3/ormi3_code/Python/오르미_3기_python6.ipynb 셀 83\u001b[0m line \u001b[0;36m1\n\u001b[1;32m      <a href='vscode-notebook-cell:/Users/pyeonhaesun/Desktop/ESTsoft_ormi3/ormi3_code/Python/%EC%98%A4%EB%A5%B4%EB%AF%B8_3%EA%B8%B0_python6.ipynb#Y155sZmlsZQ%3D%3D?line=6'>7</a>\u001b[0m     inner()\n\u001b[1;32m      <a href='vscode-notebook-cell:/Users/pyeonhaesun/Desktop/ESTsoft_ormi3/ormi3_code/Python/%EC%98%A4%EB%A5%B4%EB%AF%B8_3%EA%B8%B0_python6.ipynb#Y155sZmlsZQ%3D%3D?line=7'>8</a>\u001b[0m     \u001b[39mprint\u001b[39m(x)\n\u001b[0;32m---> <a href='vscode-notebook-cell:/Users/pyeonhaesun/Desktop/ESTsoft_ormi3/ormi3_code/Python/%EC%98%A4%EB%A5%B4%EB%AF%B8_3%EA%B8%B0_python6.ipynb#Y155sZmlsZQ%3D%3D?line=9'>10</a>\u001b[0m outer()\n\u001b[1;32m     <a href='vscode-notebook-cell:/Users/pyeonhaesun/Desktop/ESTsoft_ormi3/ormi3_code/Python/%EC%98%A4%EB%A5%B4%EB%AF%B8_3%EA%B8%B0_python6.ipynb#Y155sZmlsZQ%3D%3D?line=10'>11</a>\u001b[0m \u001b[39mprint\u001b[39m(x)\n",
      "\u001b[1;32m/Users/pyeonhaesun/Desktop/ESTsoft_ormi3/ormi3_code/Python/오르미_3기_python6.ipynb 셀 83\u001b[0m line \u001b[0;36m7\n\u001b[1;32m      <a href='vscode-notebook-cell:/Users/pyeonhaesun/Desktop/ESTsoft_ormi3/ormi3_code/Python/%EC%98%A4%EB%A5%B4%EB%AF%B8_3%EA%B8%B0_python6.ipynb#Y155sZmlsZQ%3D%3D?line=4'>5</a>\u001b[0m     x \u001b[39m+\u001b[39m\u001b[39m=\u001b[39m \u001b[39m1\u001b[39m \u001b[39m# error x값이 없기때문에\u001b[39;00m\n\u001b[1;32m      <a href='vscode-notebook-cell:/Users/pyeonhaesun/Desktop/ESTsoft_ormi3/ormi3_code/Python/%EC%98%A4%EB%A5%B4%EB%AF%B8_3%EA%B8%B0_python6.ipynb#Y155sZmlsZQ%3D%3D?line=5'>6</a>\u001b[0m     \u001b[39mprint\u001b[39m(x)\n\u001b[0;32m----> <a href='vscode-notebook-cell:/Users/pyeonhaesun/Desktop/ESTsoft_ormi3/ormi3_code/Python/%EC%98%A4%EB%A5%B4%EB%AF%B8_3%EA%B8%B0_python6.ipynb#Y155sZmlsZQ%3D%3D?line=6'>7</a>\u001b[0m inner()\n\u001b[1;32m      <a href='vscode-notebook-cell:/Users/pyeonhaesun/Desktop/ESTsoft_ormi3/ormi3_code/Python/%EC%98%A4%EB%A5%B4%EB%AF%B8_3%EA%B8%B0_python6.ipynb#Y155sZmlsZQ%3D%3D?line=7'>8</a>\u001b[0m \u001b[39mprint\u001b[39m(x)\n",
      "\u001b[1;32m/Users/pyeonhaesun/Desktop/ESTsoft_ormi3/ormi3_code/Python/오르미_3기_python6.ipynb 셀 83\u001b[0m line \u001b[0;36m5\n\u001b[1;32m      <a href='vscode-notebook-cell:/Users/pyeonhaesun/Desktop/ESTsoft_ormi3/ormi3_code/Python/%EC%98%A4%EB%A5%B4%EB%AF%B8_3%EA%B8%B0_python6.ipynb#Y155sZmlsZQ%3D%3D?line=3'>4</a>\u001b[0m \u001b[39mdef\u001b[39;00m \u001b[39minner\u001b[39m():\n\u001b[0;32m----> <a href='vscode-notebook-cell:/Users/pyeonhaesun/Desktop/ESTsoft_ormi3/ormi3_code/Python/%EC%98%A4%EB%A5%B4%EB%AF%B8_3%EA%B8%B0_python6.ipynb#Y155sZmlsZQ%3D%3D?line=4'>5</a>\u001b[0m     x \u001b[39m+\u001b[39m\u001b[39m=\u001b[39m \u001b[39m1\u001b[39m \u001b[39m# error x값이 없기때문에\u001b[39;00m\n\u001b[1;32m      <a href='vscode-notebook-cell:/Users/pyeonhaesun/Desktop/ESTsoft_ormi3/ormi3_code/Python/%EC%98%A4%EB%A5%B4%EB%AF%B8_3%EA%B8%B0_python6.ipynb#Y155sZmlsZQ%3D%3D?line=5'>6</a>\u001b[0m     \u001b[39mprint\u001b[39m(x)\n",
      "\u001b[0;31mUnboundLocalError\u001b[0m: cannot access local variable 'x' where it is not associated with a value"
     ]
    }
   ],
   "source": [
    "x = 100\n",
    "def outer():\n",
    "    x = 1\n",
    "    def inner():\n",
    "        x += 1 # error x값이 없기때문에\n",
    "        print(x)\n",
    "    inner()\n",
    "    print(x)\n",
    "\n",
    "outer()\n",
    "print(x)"
   ]
  },
  {
   "cell_type": "markdown",
   "metadata": {},
   "source": [
    "# zip이 사라지는 이유"
   ]
  },
  {
   "cell_type": "code",
   "execution_count": 99,
   "metadata": {},
   "outputs": [
    {
     "name": "stdout",
     "output_type": "stream",
     "text": [
      "[(1, 'a'), (2, 'b'), (3, 'c')]\n",
      "[]\n"
     ]
    }
   ],
   "source": [
    "a = [1, 2, 3]\n",
    "b = ['a', 'b', 'c']\n",
    "\n",
    "z = zip(a, b)\n",
    "print(list(z)) # [(1, 'a'), (2, 'b'), (3, 'c')]\n",
    "\n",
    "# zip 객체는 한 번 사용되었으므로 빈 리스트가 반환됩니다.\n",
    "print(list(z)) # []"
   ]
  },
  {
   "cell_type": "code",
   "execution_count": 100,
   "metadata": {},
   "outputs": [
    {
     "name": "stdout",
     "output_type": "stream",
     "text": [
      "1\n",
      "2\n",
      "3\n",
      "1\n",
      "2\n",
      "3\n"
     ]
    },
    {
     "data": {
      "text/plain": [
       "[1, 2, 3]"
      ]
     },
     "execution_count": 100,
     "metadata": {},
     "output_type": "execute_result"
    }
   ],
   "source": [
    "x = [1, 2, 3]\n",
    "y = sorted(x)\n",
    "\n",
    "for i in y:\n",
    "    print(i)\n",
    "\n",
    "for i in y:\n",
    "    print(i)\n",
    "\n",
    "y # 심지어 리스트로 나옵니다? zip, map너무 차별하는거 아닐까요?"
   ]
  },
  {
   "cell_type": "code",
   "execution_count": 101,
   "metadata": {},
   "outputs": [
    {
     "name": "stdout",
     "output_type": "stream",
     "text": [
      "3\n",
      "2\n",
      "1\n"
     ]
    },
    {
     "data": {
      "text/plain": [
       "<list_reverseiterator at 0x107d8d480>"
      ]
     },
     "execution_count": 101,
     "metadata": {},
     "output_type": "execute_result"
    }
   ],
   "source": [
    "x = [1, 2, 3]\n",
    "y = reversed(x)\n",
    "\n",
    "for i in y:\n",
    "    print(i)\n",
    "\n",
    "for i in y:\n",
    "    print(i)\n",
    "\n",
    "y\n",
    "# sorted와 다르게 reversed는 한 번만 실행이 되었고, 반환되는 값도 리스트로 주어지지 않았습니다."
   ]
  },
  {
   "cell_type": "code",
   "execution_count": 102,
   "metadata": {},
   "outputs": [
    {
     "data": {
      "text/plain": [
       "[0, 1, 2, 3, 4, 5, 6, 7, 8, 9, 10, 11, 12, 13, 14, 15, 16, 17, 18, 19]"
      ]
     },
     "execution_count": 102,
     "metadata": {},
     "output_type": "execute_result"
    }
   ],
   "source": [
    "sorted(range(20)) # 메모리 부하가 큰 작업입니다. (sorted는 안없어짐)"
   ]
  },
  {
   "cell_type": "markdown",
   "metadata": {},
   "source": [
    "# 연습문제"
   ]
  },
  {
   "cell_type": "code",
   "execution_count": 135,
   "metadata": {},
   "outputs": [
    {
     "name": "stdout",
     "output_type": "stream",
     "text": [
      "1\n",
      "1\n",
      "2\n",
      "3\n",
      "5\n",
      "[1, 1, 2, 3, 5, 8]\n"
     ]
    }
   ],
   "source": [
    "# 문제1\n",
    "# 다음과 같이 동작하는 제너레이터 함수 fibonacci(n)를 완성하세요. \n",
    "# 주어진 숫자 n까지의 피보나치 수열을 반환합니다.\n",
    "# 인터넷에서 피보나치 순열 Python 코드를 검색해보셔도 좋습니다.\n",
    "\n",
    "def fib(n):\n",
    "    n1 = 1\n",
    "    n2 = 1\n",
    "    for i in range(1, n+1):\n",
    "        if i == 1 or i == 2:\n",
    "            yield n2\n",
    "        else:\n",
    "            n1, n2 = n2, n1 + n2\n",
    "            yield n2\n",
    "\n",
    "for i in fib(5):\n",
    "    print(i)\n"
   ]
  },
  {
   "cell_type": "code",
   "execution_count": 153,
   "metadata": {},
   "outputs": [
    {
     "name": "stdout",
     "output_type": "stream",
     "text": [
      "1\n",
      "1\n",
      "2\n",
      "3\n",
      "5\n",
      "8\n",
      "13\n",
      "21\n",
      "34\n",
      "55\n",
      "89\n",
      "144\n",
      "233\n",
      "377\n",
      "610\n",
      "987\n",
      "1597\n",
      "2584\n",
      "4181\n",
      "6765\n",
      "실행시간: 0.0003991127014160156초\n"
     ]
    }
   ],
   "source": [
    "# 문제2\n",
    "# 함수의 실행 시간을 측정하여 출력하는 데코레이터 time_it를 작성하세요. \n",
    "# (힌트: time 모듈의 time() 함수를 사용하세요.)\n",
    "\n",
    "import time\n",
    "def time_it(function):\n",
    "    def wrapper(x):\n",
    "        a = time.time()\n",
    "        function(x)\n",
    "        b = time.time()\n",
    "        print(f'실행시간: {b - a}초')\n",
    "    return wrapper\n",
    "\n",
    "@time_it\n",
    "def print_fib(x):\n",
    "    for i in fib(x):\n",
    "        print(i)\n",
    "\n",
    "print_fib(20)"
   ]
  },
  {
   "cell_type": "code",
   "execution_count": null,
   "metadata": {},
   "outputs": [],
   "source": [
    "# value swap\n",
    "# 다른언어\n",
    "temp = a\n",
    "a = b\n",
    "b = temp\n",
    "# 파이썬\n",
    "a, b = b, a"
   ]
  },
  {
   "cell_type": "code",
   "execution_count": 151,
   "metadata": {},
   "outputs": [
    {
     "name": "stdout",
     "output_type": "stream",
     "text": [
      "1\n",
      "1\n",
      "2\n",
      "3\n",
      "5\n"
     ]
    }
   ],
   "source": [
    "def fib(n):\n",
    "    pre = 1\n",
    "    next = 1\n",
    "    count = 0\n",
    "    while True:\n",
    "        temp = pre + next\n",
    "        yield pre\n",
    "        pre, next = next, temp\n",
    "        count += 1\n",
    "        if count == n:\n",
    "            break\n",
    "\n",
    "for i in fib(5):\n",
    "    print(i)"
   ]
  },
  {
   "cell_type": "code",
   "execution_count": 152,
   "metadata": {},
   "outputs": [
    {
     "name": "stdout",
     "output_type": "stream",
     "text": [
      "1\n",
      "1\n",
      "2\n",
      "3\n",
      "5\n",
      "8\n",
      "13\n",
      "21\n",
      "34\n",
      "55\n",
      "89\n",
      "144\n",
      "233\n",
      "377\n",
      "610\n",
      "987\n",
      "1597\n",
      "2584\n",
      "4181\n",
      "6765\n",
      "0.0008s\n"
     ]
    }
   ],
   "source": [
    "import time\n",
    "\n",
    "def time_it(func):\n",
    "    def wrapper():\n",
    "        start_time = time.time()\n",
    "        func()\n",
    "        end_time = time.time()\n",
    "        print(f\"{end_time - start_time:.4f}s\")\n",
    "    return wrapper\n",
    "\n",
    "@time_it\n",
    "def main():\n",
    "    def fib(n):\n",
    "        pre = 1\n",
    "        next = 1\n",
    "        count = 0\n",
    "        while True:\n",
    "            temp = pre + next\n",
    "            yield pre\n",
    "            pre, next = next, temp\n",
    "            count += 1\n",
    "            if count == n:\n",
    "                break\n",
    "\n",
    "    for i in fib(20):\n",
    "        print(i)\n",
    "\n",
    "main()"
   ]
  },
  {
   "cell_type": "markdown",
   "metadata": {},
   "source": [
    "# 파이썬 버전별 문법"
   ]
  },
  {
   "cell_type": "code",
   "execution_count": 2,
   "metadata": {},
   "outputs": [
    {
     "data": {
      "text/plain": [
       "'Hello, Alice'"
      ]
     },
     "execution_count": 2,
     "metadata": {},
     "output_type": "execute_result"
    }
   ],
   "source": [
    "# 3.6\n",
    "def greet(name: str) -> str:\n",
    "    return f'Hello, {name}'\n",
    "\n",
    "greet('Alice')"
   ]
  },
  {
   "cell_type": "code",
   "execution_count": 1,
   "metadata": {},
   "outputs": [
    {
     "data": {
      "text/plain": [
       "'Hello, 10'"
      ]
     },
     "execution_count": 1,
     "metadata": {},
     "output_type": "execute_result"
    }
   ],
   "source": [
    "# 3.6\n",
    "def greet(name: str) -> str:\n",
    "    return f'Hello, {name}'\n",
    "\n",
    "greet(10) # 강제는 아니고 힌트임"
   ]
  },
  {
   "cell_type": "code",
   "execution_count": 5,
   "metadata": {},
   "outputs": [
    {
     "name": "stdout",
     "output_type": "stream",
     "text": [
      "Hello, 10\n"
     ]
    },
    {
     "data": {
      "text/plain": [
       "'\\n    인사를 하는 함수입니다.\\n\\n    이 함수는 name 인자로 받아 name과 함께 인사를 하는 함수입니다~~\\n\\n    Args:\\n        a(str): 블라블라\\n        b(int): 블라블라\\n\\n    Returns:\\n        리턴은 이런식입니다.\\n        example: [1, 2, 3]\\n\\n    Raises:\\n        IOError: 애러 블라블라\\n    '"
      ]
     },
     "execution_count": 5,
     "metadata": {},
     "output_type": "execute_result"
    }
   ],
   "source": [
    "# 함수 밑에 주석 -> 독스트링\n",
    "def greet(name):\n",
    "    '''\n",
    "    인사를 하는 함수입니다.\n",
    "\n",
    "    이 함수는 name 인자로 받아 name과 함께 인사를 하는 함수입니다~~\n",
    "\n",
    "    Args:\n",
    "        a(str): 블라블라\n",
    "        b(int): 블라블라\n",
    "\n",
    "    Returns:\n",
    "        리턴은 이런식입니다.\n",
    "        example: [1, 2, 3]\n",
    "\n",
    "    Raises:\n",
    "        IOError: 애러 블라블라\n",
    "    '''\n",
    "    return f'Hello, {name}'\n",
    "\n",
    "print(greet(10))\n",
    "greet.__doc__"
   ]
  },
  {
   "cell_type": "code",
   "execution_count": 7,
   "metadata": {},
   "outputs": [
    {
     "data": {
      "text/plain": [
       "User(id=123, name='hojun', email='hojun@gmail')"
      ]
     },
     "execution_count": 7,
     "metadata": {},
     "output_type": "execute_result"
    }
   ],
   "source": [
    "# 3.7\n",
    "from dataclasses import dataclass\n",
    "\n",
    "@dataclass\n",
    "class User:\n",
    "    id: int\n",
    "    name: str\n",
    "    email : str\n",
    "\n",
    "user = User(123, 'hojun', 'hojun@gmail')\n",
    "user"
   ]
  },
  {
   "cell_type": "code",
   "execution_count": 10,
   "metadata": {},
   "outputs": [
    {
     "name": "stdout",
     "output_type": "stream",
     "text": [
      "30\n",
      "10\n"
     ]
    }
   ],
   "source": [
    "# 3.8\n",
    "print((x := 10) *3)\n",
    "print(x)"
   ]
  },
  {
   "cell_type": "code",
   "execution_count": 11,
   "metadata": {},
   "outputs": [
    {
     "data": {
      "text/plain": [
       "{'key1': 'value1', 'key2': 'value2'}"
      ]
     },
     "execution_count": 11,
     "metadata": {},
     "output_type": "execute_result"
    }
   ],
   "source": [
    "# 3.9\n",
    "# 딕셔너리 결합 연산자\n",
    "x = {\"key1\": \"value1\"}\n",
    "y = {\"key2\": \"value2\"}\n",
    "z = x | y\n",
    "z"
   ]
  },
  {
   "cell_type": "code",
   "execution_count": 12,
   "metadata": {},
   "outputs": [
    {
     "data": {
      "text/plain": [
       "{'key1': 'value1', 'key2': 'value2'}"
      ]
     },
     "execution_count": 12,
     "metadata": {},
     "output_type": "execute_result"
    }
   ],
   "source": [
    "# {\"key1\": \"value1\"} + {\"key2\": \"value2\"} (X)\n",
    "# {\"key1\": \"value1\"}.append({\"key2\": \"value2\"}) (X)\n",
    "x = {\"key1\": \"value1\"}\n",
    "x.update({\"key2\": \"value2\"}) #결합연산자랑 같은 기능\n",
    "x"
   ]
  },
  {
   "cell_type": "code",
   "execution_count": 13,
   "metadata": {},
   "outputs": [
    {
     "data": {
      "text/plain": [
       "{'key1': 'value1', 'key2': 'value2'}"
      ]
     },
     "execution_count": 13,
     "metadata": {},
     "output_type": "execute_result"
    }
   ],
   "source": [
    "# 3.5\n",
    "# 딕셔너리 언패킹\n",
    "x = {\"key1\": \"value1\"}\n",
    "y = {\"key2\": \"value2\"}\n",
    "z = {**x, **y}\n",
    "z"
   ]
  },
  {
   "cell_type": "code",
   "execution_count": 15,
   "metadata": {},
   "outputs": [
    {
     "name": "stdout",
     "output_type": "stream",
     "text": [
      "good\n"
     ]
    }
   ],
   "source": [
    "# 3.10\n",
    "str_test = 'good'\n",
    "\n",
    "match str_test:\n",
    "    case 'happy':\n",
    "        print('happy')\n",
    "\n",
    "    case 'good':\n",
    "        print('good')"
   ]
  },
  {
   "cell_type": "markdown",
   "metadata": {},
   "source": [
    "# 파일 입출력"
   ]
  },
  {
   "cell_type": "code",
   "execution_count": 17,
   "metadata": {},
   "outputs": [],
   "source": [
    "# open(파일이름, 파일모드)\n",
    "f = open('python.txt', 'w')\n",
    "# 파일모드 : \n",
    "# r(읽기모드)\n",
    "# w(쓰기모드, 파일이 없으면 생성합니다, 내용이 있어도 w모드면 덮어씁니다.)\n",
    "# a(추가모드)\n",
    "f.close()"
   ]
  },
  {
   "cell_type": "code",
   "execution_count": 120,
   "metadata": {},
   "outputs": [],
   "source": [
    "f = open('python.txt', 'w')\n",
    "s = ''\n",
    "for i in range(1, 6):\n",
    "    s += f'{i}명 참여 중입니다.\\n'\n",
    "f.write(s)\n",
    "f.close()"
   ]
  },
  {
   "cell_type": "code",
   "execution_count": 121,
   "metadata": {},
   "outputs": [
    {
     "name": "stdout",
     "output_type": "stream",
     "text": [
      "1명 참여 중입니다.\n",
      "\n",
      "2명 참여 중입니다.\n",
      "\n",
      "3명 참여 중입니다.\n",
      "\n",
      "4명 참여 중입니다.\n",
      "\n",
      "5명 참여 중입니다.\n",
      "\n"
     ]
    }
   ],
   "source": [
    "f = open('python.txt', 'r')\n",
    "while True:\n",
    "    line = f.readline()\n",
    "    if not line:\n",
    "        break\n",
    "    print(line)\n",
    "f.close()"
   ]
  },
  {
   "cell_type": "code",
   "execution_count": 122,
   "metadata": {},
   "outputs": [
    {
     "name": "stdout",
     "output_type": "stream",
     "text": [
      "1명 참여 중입니다.\n",
      "\n",
      "2명 참여 중입니다.\n",
      "\n",
      "3명 참여 중입니다.\n",
      "\n",
      "4명 참여 중입니다.\n",
      "\n",
      "5명 참여 중입니다.\n",
      "\n",
      "['1명 참여 중입니다.\\n', '2명 참여 중입니다.\\n', '3명 참여 중입니다.\\n', '4명 참여 중입니다.\\n', '5명 참여 중입니다.\\n']\n"
     ]
    }
   ],
   "source": [
    "f = open('python.txt', 'r')\n",
    "lines = f.readlines()\n",
    "for line in lines:\n",
    "    print(line)\n",
    "print(lines) #한줄씩 읽어서 리스트로\n",
    "f.close()"
   ]
  },
  {
   "cell_type": "code",
   "execution_count": 123,
   "metadata": {},
   "outputs": [
    {
     "name": "stdout",
     "output_type": "stream",
     "text": [
      "1명 참여 중입니다.\n",
      "2명 참여 중입니다.\n",
      "3명 참여 중입니다.\n",
      "4명 참여 중입니다.\n",
      "5명 참여 중입니다.\n",
      "\n"
     ]
    }
   ],
   "source": [
    "f = open('python.txt', 'r')\n",
    "data = f.read() #통으로 다 읽음\n",
    "print(data)\n",
    "f.close()"
   ]
  },
  {
   "cell_type": "code",
   "execution_count": 3,
   "metadata": {},
   "outputs": [
    {
     "data": {
      "text/plain": [
       "'1명 참여 중입니다.\\n2명 참여 중입니다.\\n3명 참여 중입니다.\\n4명 참여 중입니다.\\n5명 참여 중입니다.'"
      ]
     },
     "execution_count": 3,
     "metadata": {},
     "output_type": "execute_result"
    }
   ],
   "source": [
    "data"
   ]
  },
  {
   "cell_type": "code",
   "execution_count": 124,
   "metadata": {},
   "outputs": [
    {
     "name": "stdout",
     "output_type": "stream",
     "text": [
      "1명 참여 중입니다.\n",
      "2명 참여 중입니다.\n",
      "3명 참여 중입니다.\n",
      "4명 참여 중입니다.\n",
      "5명 참여 중입니다.\n"
     ]
    }
   ],
   "source": [
    "f = open('python.txt', 'r')\n",
    "lines = f.readlines()\n",
    "for line in lines:\n",
    "\tprint(line, end='')\n",
    "f.close()"
   ]
  },
  {
   "cell_type": "code",
   "execution_count": 5,
   "metadata": {},
   "outputs": [],
   "source": [
    "# 쉬운예제\n",
    "f = open('python.html', 'w')\n",
    "s = '''<html>\n",
    "<head>\n",
    "</head>\n",
    "<body>\n",
    "<h1>hello world</h1>\n",
    "</body>\n",
    "</html>\n",
    "'''\n",
    "f.write(s)\n",
    "f.close()"
   ]
  },
  {
   "cell_type": "code",
   "execution_count": 6,
   "metadata": {},
   "outputs": [],
   "source": [
    "# 쉬운예제\n",
    "f = open('python.csv', 'w')\n",
    "s = '''제목,평점,이미지,줄거리\n",
    "무빙,5.0,img,줄거리\n",
    "무빙,5.0,img,줄거리\n",
    "무빙,5.0,img,줄거리\n",
    "'''\n",
    "f.write(s)\n",
    "f.close()"
   ]
  },
  {
   "cell_type": "code",
   "execution_count": null,
   "metadata": {},
   "outputs": [],
   "source": [
    "# 쉬운예제\n",
    "# colab에선 잘 열리지만, 대신 window엑셀에서 깨집니다.\n",
    "f = open('python.csv', 'w', encoding='utf-8')\n",
    "s = '''제목,평점,이미지,줄거리\n",
    "무빙,5.0,img,줄거리\n",
    "무빙,5.0,img,줄거리\n",
    "무빙,5.0,img,줄거리\n",
    "'''\n",
    "f.write(s)\n",
    "f.close()"
   ]
  },
  {
   "cell_type": "code",
   "execution_count": null,
   "metadata": {},
   "outputs": [],
   "source": [
    "# 쉬운예제\n",
    "# window엑셀에선 잘 열리지만, colab에선 깨집니다.\n",
    "f = open('python.csv', 'w', encoding='cp949') #window인코딩입니다.\n",
    "s = '''제목,평점,이미지,줄거리\n",
    "무빙,5.0,img,줄거리\n",
    "무빙,5.0,img,줄거리\n",
    "무빙,5.0,img,줄거리\n",
    "'''\n",
    "f.write(s)\n",
    "f.close()"
   ]
  },
  {
   "cell_type": "code",
   "execution_count": 125,
   "metadata": {},
   "outputs": [],
   "source": [
    "f = open('student.txt', 'w')\n",
    "l = ['licat', 'mura', 'binky']\n",
    "s = ''\n",
    "for i, j in enumerate(l, 1):\n",
    "    s += f'{i}번 {j}입니다.\\n'\n",
    "f.write(s)\n",
    "f.close()"
   ]
  },
  {
   "cell_type": "code",
   "execution_count": 126,
   "metadata": {},
   "outputs": [
    {
     "name": "stdout",
     "output_type": "stream",
     "text": [
      "1번 licat입니다.\n",
      "\n",
      "2번 mura입니다.\n",
      "\n",
      "3번 binky입니다.\n",
      "\n"
     ]
    }
   ],
   "source": [
    "f = open('student.txt', 'r')\n",
    "while True:\n",
    "    line = f.readline()\n",
    "    if not line:\n",
    "        break\n",
    "    print(line)\n",
    "f.close()"
   ]
  },
  {
   "cell_type": "code",
   "execution_count": 127,
   "metadata": {},
   "outputs": [
    {
     "name": "stdout",
     "output_type": "stream",
     "text": [
      "1번 licat입니다.\n",
      "\n",
      "2번 mura입니다.\n",
      "\n",
      "3번 binky입니다.\n",
      "\n"
     ]
    }
   ],
   "source": [
    "f = open('student.txt', 'r')\n",
    "lines = f.readlines()\n",
    "for line in lines:\n",
    "    print(line)\n",
    "f.close()"
   ]
  },
  {
   "cell_type": "code",
   "execution_count": 128,
   "metadata": {},
   "outputs": [],
   "source": [
    "f = open('student.txt', 'a')\n",
    "s = 'hello world!'\n",
    "f.write(s)\n",
    "f.close()"
   ]
  },
  {
   "cell_type": "code",
   "execution_count": 129,
   "metadata": {},
   "outputs": [
    {
     "name": "stdout",
     "output_type": "stream",
     "text": [
      "1번 licat입니다.\n",
      "2번 mura입니다.\n",
      "3번 binky입니다.\n",
      "hello world!"
     ]
    }
   ],
   "source": [
    "f = open('student.txt', 'r')\n",
    "lines = f.readlines()\n",
    "for line in lines:\n",
    "    print(line, end='')\n",
    "f.close()"
   ]
  },
  {
   "cell_type": "code",
   "execution_count": 12,
   "metadata": {},
   "outputs": [],
   "source": [
    "# 어려운 예제\n",
    "# django의 동작원리와도 관련이 있습니다.\n",
    "import requests\n",
    "from bs4 import BeautifulSoup\n",
    "\n",
    "paullab_url = 'http://paullab.co.kr/bookservice/'\n",
    "response = requests.get(paullab_url)\n",
    "response.encoding = 'utf-8'\n",
    "html = response.text\n",
    "\n",
    "soup = BeautifulSoup(html, 'html.parser')\n",
    "\n",
    "bookservices = soup.select('.col-lg-6 > h2')     # col-lg-6 클래스 안의 h2 태그 탐색\n",
    "contents = ''\n",
    "\n",
    "for no, (book, img) in enumerate(zip(bookservices, soup.select('img')[2:]), 1):\n",
    "    contents += f'''\n",
    "        <section>\n",
    "        <h2>{no}. {book.text}</h2>\n",
    "        <img src='https://paullab.co.kr/bookservice/{img[\"src\"]}'>\n",
    "        </section>\n",
    "        '''\n",
    "\n",
    "# 이미지 양식: https://paullab.co.kr/bookservice/img/notion.jpg\n",
    "f = open('python.html', 'w')\n",
    "s = f'''<html>\n",
    "<head>\n",
    "</head>\n",
    "<body>\n",
    "{contents}\n",
    "</body>\n",
    "</html>\n",
    "'''\n",
    "f.write(s)\n",
    "f.close()"
   ]
  },
  {
   "cell_type": "code",
   "execution_count": 7,
   "metadata": {},
   "outputs": [
    {
     "name": "stdout",
     "output_type": "stream",
     "text": [
      "img/notion.jpg\n",
      "img/cofe.jpg\n",
      "img/HTMLCSS.jpg\n",
      "img/python1.jpg\n",
      "img/python2.jpg\n",
      "img/python3.jpg\n",
      "img/tanos.jpg\n",
      "img/xlsx.jpg\n",
      "img/ruple.jpg\n",
      "img/auto.jpg\n",
      "img/django.jpg\n"
     ]
    }
   ],
   "source": [
    "for i in soup.select('img')[2:]:\n",
    "    print(i['src'])"
   ]
  },
  {
   "cell_type": "code",
   "execution_count": 130,
   "metadata": {},
   "outputs": [],
   "source": [
    "f = open('python.txt', 'a')\n",
    "s = ''\n",
    "for i in range(6, 11):\n",
    "    s += f'{i}명 참여 중입니다. \\n'\n",
    "f.write(s)\n",
    "f.close()"
   ]
  },
  {
   "cell_type": "code",
   "execution_count": 133,
   "metadata": {},
   "outputs": [
    {
     "name": "stdout",
     "output_type": "stream",
     "text": [
      "1명 참여 중입니다.\n",
      "2명 참여 중입니다.\n",
      "3명 참여 중입니다.\n",
      "4명 참여 중입니다.\n",
      "5명 참여 중입니다.\n",
      "6명 참여 중입니다. \n",
      "7명 참여 중입니다. \n",
      "8명 참여 중입니다. \n",
      "9명 참여 중입니다. \n",
      "10명 참여 중입니다. \n"
     ]
    }
   ],
   "source": [
    "f = open('python.txt', 'r')\n",
    "lines = f.readlines()\n",
    "for line in lines:\n",
    "    print(line, end='')\n",
    "f.close()"
   ]
  },
  {
   "cell_type": "code",
   "execution_count": 134,
   "metadata": {},
   "outputs": [],
   "source": [
    "with open('python.txt', 'w') as f:\n",
    "    f.write('Life is too short, you need python')"
   ]
  },
  {
   "cell_type": "code",
   "execution_count": 76,
   "metadata": {},
   "outputs": [],
   "source": [
    "## 파일 입출력은 이 위까지만 공부하시면 됩니다. ##"
   ]
  },
  {
   "cell_type": "code",
   "execution_count": 135,
   "metadata": {},
   "outputs": [
    {
     "name": "stdout",
     "output_type": "stream",
     "text": [
      "Life is too short, you need python\n",
      "---------\n",
      "Life is too short, you need python\n",
      "r+모드입니다!\n",
      "\n"
     ]
    }
   ],
   "source": [
    "f = open('python.txt', 'r+') # 읽기 쓰기(기존에 있던 내용을 읽을 수 있고, 최종적으로는 덮어씀)\n",
    "# f.seek(0)  # 파일의 시작 위치로 이동, r모드는 이렇게 하지 않아도 포인터가 맨 앞으로 가 있습니다.\n",
    "print(f.read())\n",
    "f.write('\\nr+모드입니다!\\n')\n",
    "f.seek(0)  # 파일의 시작 위치로 이동, 주석처리 하면 밑의 read는 더 안읽음.\n",
    "print('---------')\n",
    "print(f.read())\n",
    "f.close()"
   ]
  },
  {
   "cell_type": "code",
   "execution_count": 136,
   "metadata": {},
   "outputs": [
    {
     "name": "stdout",
     "output_type": "stream",
     "text": [
      "\n",
      "\n",
      "w+모드입니다!\n"
     ]
    }
   ],
   "source": [
    "f = open('python.txt', 'w+') # 읽기 쓰기(기존에 있던 내용은 덮어쓰기)\n",
    "f.seek(0) # 커서를 앞으로 보냈음에도 기존에 텍스트를 읽지 못합니다.\n",
    "print(f.read())\n",
    "f.write('\\nw+모드입니다!') # 그냥 덮어 써버림\n",
    "f.seek(0) # 쓴 내용을 읽을 수는 있음!\n",
    "print(f.read())\n",
    "f.close()\n",
    "# 차이: \n",
    "# r+ 모드는 파일을 열 때 기존의 내용을 보존\n",
    "# w+ 모드는 파일을 열 때 기존의 내용을 삭제"
   ]
  },
  {
   "cell_type": "code",
   "execution_count": 137,
   "metadata": {},
   "outputs": [
    {
     "name": "stdout",
     "output_type": "stream",
     "text": [
      "\n",
      "w+모드입니다!\n",
      "\n",
      "w+모드입니다!\n",
      "a+모드입니다!\n",
      "\n"
     ]
    }
   ],
   "source": [
    "f = open('python.txt', 'a+') # 읽기, 없으면 파일추가\n",
    "f.seek(0) # 커서를 이렇게 이동해주지 않으면 기존 내용을 못읽습니다.\n",
    "print(f.read())\n",
    "f.write('\\na+모드입니다!\\n') # 그냥 덮어 써버림\n",
    "f.seek(0)\n",
    "print(f.read())\n",
    "f.close()\n",
    "# r+모드와 차이: 파일 포인터가 r+는 파일의 시작 부분, a+는 끝 부분"
   ]
  },
  {
   "cell_type": "code",
   "execution_count": 162,
   "metadata": {},
   "outputs": [
    {
     "name": "stdout",
     "output_type": "stream",
     "text": [
      "\n",
      "w+모드입니다!\n",
      "a+모드입니다!\n",
      "\n"
     ]
    }
   ],
   "source": [
    "f = open('python.txt', 'r+') # 포인터가 처음\n",
    "print(f.read())\n",
    "f.close()"
   ]
  },
  {
   "cell_type": "code",
   "execution_count": 186,
   "metadata": {},
   "outputs": [
    {
     "name": "stdout",
     "output_type": "stream",
     "text": [
      "\n"
     ]
    }
   ],
   "source": [
    "f = open('python.txt', 'a+') # 포인터가 끝\n",
    "print(f.read())\n",
    "f.close()"
   ]
  },
  {
   "cell_type": "markdown",
   "metadata": {},
   "source": [
    "# 비트연산"
   ]
  },
  {
   "cell_type": "code",
   "execution_count": 187,
   "metadata": {},
   "outputs": [
    {
     "data": {
      "text/plain": [
       "4"
      ]
     },
     "execution_count": 187,
     "metadata": {},
     "output_type": "execute_result"
    }
   ],
   "source": [
    "5 & 12 # bit and연산\n",
    "\n",
    "# 00000101 == 5\n",
    "# 00001100 == 12\n",
    "# ---------\n",
    "# 00000100 == 4"
   ]
  },
  {
   "cell_type": "code",
   "execution_count": 188,
   "metadata": {},
   "outputs": [
    {
     "data": {
      "text/plain": [
       "13"
      ]
     },
     "execution_count": 188,
     "metadata": {},
     "output_type": "execute_result"
    }
   ],
   "source": [
    "5 | 12 # bit or연산\n",
    "\n",
    "# 00000101 == 5\n",
    "# 00001100 == 12\n",
    "# ---------\n",
    "# 00001101 == 13"
   ]
  },
  {
   "cell_type": "code",
   "execution_count": 189,
   "metadata": {},
   "outputs": [
    {
     "data": {
      "text/plain": [
       "28"
      ]
     },
     "execution_count": 189,
     "metadata": {},
     "output_type": "execute_result"
    }
   ],
   "source": [
    "7 << 2\n",
    "\n",
    "# 00000111\n",
    "# 00011100"
   ]
  },
  {
   "cell_type": "code",
   "execution_count": 190,
   "metadata": {},
   "outputs": [
    {
     "data": {
      "text/plain": [
       "4"
      ]
     },
     "execution_count": 190,
     "metadata": {},
     "output_type": "execute_result"
    }
   ],
   "source": [
    "16 >> 2\n",
    "# 00010000\n",
    "# 00000100"
   ]
  },
  {
   "cell_type": "code",
   "execution_count": 191,
   "metadata": {},
   "outputs": [
    {
     "data": {
      "text/plain": [
       "-1"
      ]
     },
     "execution_count": 191,
     "metadata": {},
     "output_type": "execute_result"
    }
   ],
   "source": [
    "~0 # 2의 보수(보수를 취하려는 숫자에서 +1하고 음수를 취한다.)"
   ]
  },
  {
   "cell_type": "code",
   "execution_count": 192,
   "metadata": {},
   "outputs": [
    {
     "data": {
      "text/plain": [
       "5"
      ]
     },
     "execution_count": 192,
     "metadata": {},
     "output_type": "execute_result"
    }
   ],
   "source": [
    "~~5 # ~(-6) => -(-6 + 1) => 5\n",
    "\n",
    "# JavaScript에서 소수점 자르는 용도로 종종 쓰인다. 파이썬은 안됨\n",
    "# ex) ~~3.14 => 3"
   ]
  },
  {
   "cell_type": "markdown",
   "metadata": {},
   "source": [
    "# f-string"
   ]
  },
  {
   "cell_type": "code",
   "execution_count": 193,
   "metadata": {},
   "outputs": [
    {
     "name": "stdout",
     "output_type": "stream",
     "text": [
      "hello\n",
      "{value}\n",
      "{hello}\n",
      "{{value}}\n",
      "{{hello}}\n",
      "{{{value}}}\n"
     ]
    }
   ],
   "source": [
    "# 중괄호가 2개씩 증가할 때마다 출력은 1개씩 증가\n",
    "value = 'hello'\n",
    "print(f'{value}') # 중괄호 X\n",
    "print(f'{{value}}') # 중괄호 1\n",
    "print(f'{{{value}}}') # 중괄호 1\n",
    "print(f'{{{{value}}}}') # 중괄호 2\n",
    "print(f'{{{{{value}}}}}') # 중괄호 2\n",
    "print(f'{{{{{{value}}}}}}') # 중괄호 3"
   ]
  },
  {
   "cell_type": "code",
   "execution_count": 204,
   "metadata": {},
   "outputs": [
    {
     "name": "stdout",
     "output_type": "stream",
     "text": [
      "20\n",
      "helloworld\n",
      "helloworld\n"
     ]
    }
   ],
   "source": [
    "value = 'hello'\n",
    "print(f'{10 + 10}') # 중괄호 안에서 연산을 하는 것을 권하지는 않습니다.\n",
    "# print(f'{value + 'world'}') # error\n",
    "# print(f'{value + \\'world\\'}') # 이스케이프 문자를 허용하지 않습니다.\n",
    "print(f'{value + \"world\"}')\n",
    "print(f\"{value + 'world'}\")"
   ]
  },
  {
   "cell_type": "code",
   "execution_count": 195,
   "metadata": {},
   "outputs": [
    {
     "name": "stdout",
     "output_type": "stream",
     "text": [
      "200\n",
      "200\n"
     ]
    }
   ],
   "source": [
    "a = 10\n",
    "b = 20\n",
    "\n",
    "# case 1\n",
    "two_numbers_mul = a * b # 굳이 변수 1개를 더 생성할 필요가 있을까?\n",
    "print(f'{two_numbers_mul}')\n",
    "\n",
    "# case 2\n",
    "print(f'{a * b}') # 간단할땐 문제가 없어도\n",
    "# 코드가 복잡해지면 가독성에서 차이가 납니다."
   ]
  },
  {
   "cell_type": "code",
   "execution_count": 196,
   "metadata": {},
   "outputs": [
    {
     "name": "stdout",
     "output_type": "stream",
     "text": [
      "6000\n",
      "6000\n"
     ]
    }
   ],
   "source": [
    "a = 10\n",
    "b = 20\n",
    "\n",
    "# case 1\n",
    "two_numbers_mul = a * b\n",
    "two_numbers_add = a + b\n",
    "two_numbers_mul_add = two_numbers_mul * two_numbers_add\n",
    "print(f'{two_numbers_mul_add}') # 이 변수명을 보고 의도를 파악할 수 있습니다.\n",
    "\n",
    "# case 2\n",
    "print(f'{(a * b) * (a + b)}') # 이 값이 무엇을 의미하는지 모릅니다.\n",
    "# 코드가 복잡해지면 가독성에서 차이가 납니다."
   ]
  },
  {
   "cell_type": "code",
   "execution_count": 197,
   "metadata": {},
   "outputs": [
    {
     "name": "stdout",
     "output_type": "stream",
     "text": [
      "3.14\n",
      "     Alice\n"
     ]
    }
   ],
   "source": [
    "# 포맷팅 지정자 {변수이름:포맷팅양식}, format 용법과 동일\n",
    "num = 3.14159\n",
    "print(f\"{num:.2f}\")  # 출력: 3.14\n",
    "\n",
    "name = \"Alice\"\n",
    "print(f\"{name:>10}\")  # 출력:      Alice"
   ]
  },
  {
   "cell_type": "code",
   "execution_count": 198,
   "metadata": {},
   "outputs": [
    {
     "name": "stdout",
     "output_type": "stream",
     "text": [
      "나의 이름은 한사람입니다\n",
      "나의 이름은 한사람입니다. 나이는 33세이고 성별은 남성입니다.\n",
      "나이는 33세이고 성별은 남성입니다. 나의 이름은 한사람입니다. \n",
      "나이는 33세이고 성별은 남성입니다. 나의 이름은 한사람입니다. \n",
      "만세삼창 :  만세!!! 만세!!! 만세!!! \n",
      "삼삼칠 박수 :  짝짝짝!!! 짝짝짝!!! 짝짝짝짝짝짝짝!!! \n",
      "----------------------------------------\n",
      "원주율은 3.1416입니다.\n",
      "원주율은             3.141592입니다.\n"
     ]
    }
   ],
   "source": [
    "# 파이썬(Python) 3 포맷팅 방식\n",
    "print('나의 이름은 {}입니다'.format('한사람'))\n",
    "print('나의 이름은 {0}입니다. 나이는 {1}세이고 성별은 {2}입니다.'.format('한사람',33,'남성'))\n",
    "print('나이는 {1}세이고 성별은 {2}입니다. 나의 이름은 {0}입니다. '.format('한사람',33,'남성'))\n",
    "print('나이는 {age}세이고 성별은 {gender}입니다. 나의 이름은 {name}입니다. '.format(name='한사람',age=33,gender='남성'))\n",
    "print('만세삼창 :  {0}!!! {0}!!! {0}!!! '.format('만세'))\n",
    "print('삼삼칠 박수 :  {0}!!! {0}!!! {1}!!! '.format('짝'*3,'짝'*7))\n",
    "print('-' * 40)\n",
    "\n",
    "print('원주율은 {0:.4f}입니다.'.format(3.141592))\n",
    "print('원주율은 {0:>20}입니다.'.format(3.141592))\n"
   ]
  },
  {
   "cell_type": "code",
   "execution_count": 199,
   "metadata": {},
   "outputs": [
    {
     "name": "stdout",
     "output_type": "stream",
     "text": [
      "볼펜 2개의 길이는 10.686cm 입니다.\n",
      "볼펜 2개의 길이는 10.7cm 입니다.\n"
     ]
    }
   ],
   "source": [
    "# 파이썬(Python) 3.6 f-string 방식\n",
    "something = '볼펜'\n",
    "EA = 2\n",
    "one_length = 5.343\n",
    "scale = 'cm'\n",
    "\n",
    "print(f'{something} {EA}개의 길이는 {one_length*EA}{scale} 입니다.')\n",
    "print(f'{something} {EA}개의 길이는 {one_length*EA:.1f}{scale} 입니다.')"
   ]
  },
  {
   "cell_type": "code",
   "execution_count": 200,
   "metadata": {},
   "outputs": [
    {
     "name": "stdout",
     "output_type": "stream",
     "text": [
      "Python is [good           ]\n",
      "Python is [good           ]\n",
      "Python is [           good]\n",
      "Python is [     good      ]\n",
      "Python is [-----good------]\n",
      "당신의 나이는 [             22]세\n",
      "당신의 나이는 [22             ]세\n",
      "당신의 나이는 [             22]세\n",
      "당신의 나이는 [      22       ]세\n",
      "----------------------------------------\n"
     ]
    }
   ],
   "source": [
    "print('Python is [{:15}]'.format('good')) # 양식 같음, 자료형만 다름 (문자 왼쪽정렬)\n",
    "print('Python is [{:<15}]'.format('good'))\n",
    "print('Python is [{:>15}]'.format('good'))\n",
    "print('Python is [{:^15}]'.format('good'))\n",
    "print('Python is [{:-^15}]'.format('good'))\n",
    "\n",
    "print('당신의 나이는 [{:15}]세'.format(22)) # 양식 같음, 자료형만 다름 (숫자 오른쪽정렬)\n",
    "print('당신의 나이는 [{:<15}]세'.format(22))\n",
    "print('당신의 나이는 [{:>15}]세'.format(22))\n",
    "print('당신의 나이는 [{:^15}]세'.format(22))\n",
    "print('-' * 40)"
   ]
  },
  {
   "cell_type": "code",
   "execution_count": 201,
   "metadata": {},
   "outputs": [
    {
     "name": "stdout",
     "output_type": "stream",
     "text": [
      "[10             ]\n",
      "[             10]\n"
     ]
    }
   ],
   "source": [
    "print('[{:15}]'.format('10')) # 양식 같음, 자료형만 다름\n",
    "print('[{:15}]'.format(10)) # 양식 같음, 자료형만 다름"
   ]
  },
  {
   "cell_type": "code",
   "execution_count": 202,
   "metadata": {},
   "outputs": [
    {
     "name": "stdout",
     "output_type": "stream",
     "text": [
      "1234567890\n",
      "1234567890|\n",
      "    5|\n",
      "5    |\n",
      "  5  |\n",
      "50000|\n",
      "   5.00   |\n"
     ]
    }
   ],
   "source": [
    "char_a = '5'\n",
    "int_a = 5\n",
    "sample = 1234567890\n",
    "\n",
    "print(1234567890)\n",
    "print(f'{sample:>5}|') # >는 오른쪽정렬 (안짤린다)\n",
    "print(f'{char_a:>5}|') # >는 오른쪽정렬\n",
    "print(f'{char_a:<5}|') # <는 왼쪽정렬\n",
    "print(f'{char_a:^5}|') # ^는 가운데정렬\n",
    "print(f'{int_a:0<5}|')# <는 왼쪽정렬, 빈자리를 0으로 채울수도 있음\n",
    "print(f'{int_a:^10.2f}|') # ^ 가운데 정렬하면서 float 타입지정"
   ]
  },
  {
   "cell_type": "code",
   "execution_count": 203,
   "metadata": {},
   "outputs": [
    {
     "name": "stdout",
     "output_type": "stream",
     "text": [
      "50000\n",
      "00005\n",
      "0000012345\n"
     ]
    }
   ],
   "source": [
    "int_a = 5\n",
    "print(f'{int_a:0<5}')\n",
    "print(f'{int_a:0>5}')\n",
    "print('12345'.zfill(10))"
   ]
  },
  {
   "cell_type": "code",
   "execution_count": 181,
   "metadata": {},
   "outputs": [
    {
     "name": "stdout",
     "output_type": "stream",
     "text": [
      "1~9까지의 합은 45입니다.\n",
      "1~9까지 홀수의 합은 25입니다.\n",
      "1000미만의 자연수에서 3의 배수와 5의 배수의 총합은 233168입니다.\n"
     ]
    }
   ],
   "source": [
    "# 문제1: 1 ~ 9 까지 더하는 프로그램\n",
    "result = sum(range(1, 10))\n",
    "print(f'1~9까지의 합은 {result}입니다.')\n",
    "\n",
    "# 문제2: 1 ~ 9 까지 홀수의 합\n",
    "result = sum(range(1, 10, 2))\n",
    "print(f'1~9까지 홀수의 합은 {result}입니다.')\n",
    "\n",
    "# 문제3: 1000 미만의 자연수에서 3의 배수와 5의 배수의 총합을 구하는 프로그램을 작성\n",
    "result = sum(range(3,1000,3)) + sum(range(5, 1000, 5)) - sum(range(15, 1000, 15))\n",
    "print(f'1000미만의 자연수에서 3의 배수와 5의 배수의 총합은 {result}입니다.')\n"
   ]
  },
  {
   "cell_type": "code",
   "execution_count": 182,
   "metadata": {},
   "outputs": [],
   "source": [
    "# 강사님 풀이시간 (여러가지 방법)\n",
    "# 문제1: 1 ~ 9 까지 더하는 프로그램\n",
    "sum(list(range(10))) # 리스트로 형변환 하는 것은 데이터가 클수록 부하가 큽니다.\n",
    "sum([i for i in range(1, 10)]) # 일반 list로 형변환 하는 것보다는 빠르지만 이것도 역시나 부하가 있습니다.\n",
    "sum(range(1, 10))\n",
    "(9 * (1 + 9)) / 2\n",
    "\n",
    "# 문제2: 1 ~ 9 까지 홀수의 합\n",
    "sum([i for i in range(1, 10, 2)])\n",
    "sum([i for i in range(10) if i % 2 == 1])\n",
    "sum(filter(lambda x:x%2==1, range(10)))\n",
    "sum(range(1, 10, 2))\n",
    "s = 0\n",
    "for i in range(10):\n",
    "    if i % 2 == 1:\n",
    "        s += i\n",
    "\n",
    "# 문제3: 1000 미만의 자연수에서 3의 배수와 5의 배수의 총합을 구하는 프로그램을 작성\n",
    "sum(range(0, 1000, 3)) + sum(range(0, 1000, 5)) - sum(range(0, 1000, 15))\n",
    "s = 0\n",
    "for i in range(1000):\n",
    "    if i % 3 == 0 or i % 5 == 0:\n",
    "        s += i"
   ]
  },
  {
   "cell_type": "code",
   "execution_count": 183,
   "metadata": {},
   "outputs": [
    {
     "data": {
      "text/plain": [
       "45"
      ]
     },
     "execution_count": 183,
     "metadata": {},
     "output_type": "execute_result"
    }
   ],
   "source": [
    "# 문제4: 아래 메트릭스를 모두 더해주세요.\n",
    "m = [[1, 2, 3], [4, 5, 6], [7, 8, 9]]\n",
    "# sum(m)\n",
    "sum(sum(m, []))"
   ]
  },
  {
   "cell_type": "code",
   "execution_count": 184,
   "metadata": {},
   "outputs": [
    {
     "data": {
      "text/plain": [
       "[1, 2, 3, 4, 5, 6, 7, 8, 9]"
      ]
     },
     "execution_count": 184,
     "metadata": {},
     "output_type": "execute_result"
    }
   ],
   "source": [
    "sum([1, 2, 3], 100)\n",
    "\n",
    "sum([[1, 2, 3], [4, 5, 6], [7, 8, 9]], [])\n",
    "# [1, 2, 3] + [] == [1, 2, 3]\n",
    "# [4, 5, 6] + [1, 2, 3] == [4, 5, 6, 1, 2, 3]\n",
    "# [7, 8, 9] + [4, 5, 6, 1, 2, 3] == [7, 8, 9, 4, 5, 6, 1, 2, 3]"
   ]
  },
  {
   "cell_type": "code",
   "execution_count": 1,
   "metadata": {},
   "outputs": [
    {
     "data": {
      "text/plain": [
       "45"
      ]
     },
     "execution_count": 1,
     "metadata": {},
     "output_type": "execute_result"
    }
   ],
   "source": [
    "import numpy as np \n",
    "# 수학 수식에 막강한 성능을 자랑합니다. \n",
    "# 수학 수식 관련해서 파이썬보다 속도도 훨~~~~씬 빠르고 기능도 많아요.\n",
    "\n",
    "np.sum([[1, 2, 3], [4, 5, 6], [7, 8, 9]])"
   ]
  },
  {
   "cell_type": "code",
   "execution_count": 2,
   "metadata": {},
   "outputs": [
    {
     "data": {
      "text/plain": [
       "[('s', 7),\n",
       " ('e', 4),\n",
       " ('l', 4),\n",
       " ('o', 4),\n",
       " ('r', 4),\n",
       " ('i', 4),\n",
       " ('p', 3),\n",
       " ('t', 3),\n",
       " ('a', 2),\n",
       " ('n', 2),\n",
       " ('g', 2),\n",
       " ('H', 1),\n",
       " ('W', 1),\n",
       " ('d', 1),\n",
       " ('T', 1),\n",
       " ('h', 1),\n",
       " ('m', 1),\n",
       " ('f', 1),\n",
       " ('u', 1)]"
      ]
     },
     "execution_count": 2,
     "metadata": {},
     "output_type": "execute_result"
    }
   ],
   "source": [
    "# 문제5: 자주 나오는 알파벳과 알파벳 갯수를 많이 나오는 순서대로 출력하세요.\n",
    "import collections\n",
    "\n",
    "s = \"Hello, World! This is a sample string for testing purposes.\"\n",
    "# 방법1\n",
    "# s = s.replace(',', '').replace('!', '').replace('.', '').replace(' ', '')\n",
    "\n",
    "# 방법2\n",
    "# table = str.maketrans(',!.', '   ')\n",
    "# s = s.translate(table).replace(' ', '')\n",
    "\n",
    "# 방법3\n",
    "table = str.maketrans('', '', ',!. ')\n",
    "s = s.translate(table)\n",
    "\n",
    "c = collections.Counter(s)\n",
    "c.most_common()"
   ]
  },
  {
   "cell_type": "code",
   "execution_count": 1,
   "metadata": {},
   "outputs": [
    {
     "name": "stdout",
     "output_type": "stream",
     "text": [
      "{'H': 1, 'e': 4, 'l': 4, 'o': 4, 'W': 1, 'r': 4, 'd': 1, 'T': 1, 'h': 1, 'i': 4, 's': 7, 'a': 2, 'm': 1, 'p': 3, 't': 3, 'n': 2, 'g': 2, 'f': 1, 'u': 1}\n",
      "{'H': 1, 'e': 4, 'l': 4, 'o': 4, 'W': 1, 'r': 4, 'd': 1, 'T': 1, 'h': 1, 'i': 4, 's': 7, 'a': 2, 'm': 1, 'p': 3, 't': 3, 'n': 2, 'g': 2, 'f': 1, 'u': 1, ',': 1, '!': 1, '.': 1, ' ': 9}\n"
     ]
    }
   ],
   "source": [
    "d = {}\n",
    "s = \"Hello, World! This is a sample string for testing purposes.\"\n",
    "s = s.replace(',', '').replace('!', '').replace('.', '').replace(' ', '')\n",
    "\n",
    "# 풀이1, 순회를 돌면서 dict에 있으면 += 1, 없으면 =1 대입하면서 푼다\n",
    "for i in s:\n",
    "    if i in d:\n",
    "        d[i] += 1\n",
    "    else:\n",
    "        d[i] = 1\n",
    "print(d)\n",
    "\n",
    "# 풀이2, set으로 만들어서 count를 한다.\n",
    "s = \"Hello, World! This is a sample string for testing purposes.\"\n",
    "for i in set(s):\n",
    "    d[i] = s.count(i)\n",
    "print(d)"
   ]
  },
  {
   "cell_type": "code",
   "execution_count": 4,
   "metadata": {},
   "outputs": [
    {
     "name": "stdout",
     "output_type": "stream",
     "text": [
      "        *\n",
      "       ***\n",
      "      *****\n",
      "     *******\n",
      "    *********\n",
      "   ***********\n",
      "  *************\n",
      " ***************\n",
      "*****************\n"
     ]
    }
   ],
   "source": [
    "# 문제6 트리만들기\n",
    "for i in range(1, 10):\n",
    "    print((' ' * (10 - i - 1)) + ('*' * (2 * i - 1)))"
   ]
  },
  {
   "cell_type": "code",
   "execution_count": 5,
   "metadata": {},
   "outputs": [
    {
     "name": "stdout",
     "output_type": "stream",
     "text": [
      "        *         \n",
      "       ***        \n",
      "      *****       \n",
      "     *******      \n",
      "    *********     \n",
      "   ***********    \n",
      "  *************   \n",
      " ***************  \n",
      "***************** \n"
     ]
    }
   ],
   "source": [
    "for i in range(1, 10):\n",
    "    print(f\"{'*' * ((2 * i) - 1):^18}\")"
   ]
  },
  {
   "cell_type": "code",
   "execution_count": 6,
   "metadata": {},
   "outputs": [
    {
     "name": "stdout",
     "output_type": "stream",
     "text": [
      "        *\n",
      "       ***\n",
      "      *****\n",
      "     *******\n",
      "    *********\n",
      "   ***********\n",
      "  *************\n",
      " ***************\n",
      "*****************\n"
     ]
    }
   ],
   "source": [
    "for i in range(1, 10):\n",
    "    print(f\"{' ' * (10 - i - 1)}{'*' * ((2 * i) - 1)}\")"
   ]
  },
  {
   "cell_type": "code",
   "execution_count": 7,
   "metadata": {},
   "outputs": [
    {
     "name": "stdout",
     "output_type": "stream",
     "text": [
      "        *         \n",
      "       ***        \n",
      "      *****       \n",
      "     *******      \n",
      "    *********     \n",
      "   ***********    \n",
      "  *************   \n",
      " ***************  \n",
      "***************** \n"
     ]
    }
   ],
   "source": [
    "data = 18\n",
    "for i in range(1, 10):\n",
    "    print(f\"{'*' * ((2 * i) - 1):^{data}}\")"
   ]
  },
  {
   "cell_type": "code",
   "execution_count": 8,
   "metadata": {},
   "outputs": [
    {
     "name": "stdout",
     "output_type": "stream",
     "text": [
      "<1, 2, 3, 4, 5>\n",
      "<2, 4, 6, 8, 10>\n",
      "<0, 0, 0, 0, 0>\n",
      "<3, 6, 9, 12, 15>\n"
     ]
    }
   ],
   "source": [
    "# 다음 자료구조 클래스를 만들어주세요.\n",
    "# list를 상속받지는 마세요.\n",
    "# 데이터는 <1, 2, 3, 4>형식으로 숫자만 저장합니다.\n",
    "# print()를 하면 <1, 2, 3, 4>와 같이 출력이 되어야 합니다.\n",
    "# 메서드는 append, remove가 있습니다.\n",
    "# 아래 연산은 길이가 다르면 error가 납니다.\n",
    "# 나누기 연산은 지원하지 않습니다.\n",
    "# <1, 2, 3, 4> + <1, 2, 3, 4> == <2, 4, 6, 8>과 같이 같은 순서의 요소를 더합니다.\n",
    "# <1, 2, 3, 4> - <1, 2, 1, 2> == <0, 0, 2, 2>과 같이 같은 순서의 요소를 뺍니다.\n",
    "# <1, 2, 3, 4> * 3 == <3, 6, 9, 12>가 됩니다.\n",
    "\n",
    "class OperList:\n",
    "    def __init__(self, *args):\n",
    "        for a in args:\n",
    "            if not (isinstance(a, int) or isinstance(a, float)):\n",
    "                raise TypeError('숫자만 가능합니다.')\n",
    "        self.storage = list(args)\n",
    "    \n",
    "    def __repr__(self):\n",
    "        str_storage = str(self.storage)\n",
    "        return f'<{str_storage[1:-1]}>'\n",
    "    \n",
    "    def append(self, x):\n",
    "        self.storage.append(x)\n",
    "\n",
    "    def remove(self, x):\n",
    "        self.storage.remove(x)\n",
    "\n",
    "    def __add__(self, other):\n",
    "        if len(self.storage) == len(other.storage):\n",
    "            result = []\n",
    "            for i in range(len(self.storage)):\n",
    "                result.append(self.storage[i] + other.storage[i])\n",
    "            return f'<{str(result)[1:-1]}>'\n",
    "        else:\n",
    "            raise IndexError('길이가 같아야 연산이 가능합니다.')\n",
    "        \n",
    "    def __sub__(self, other):\n",
    "        if len(self.storage) == len(other.storage):\n",
    "            result = []\n",
    "            for i in range(len(self.storage)):\n",
    "                result.append(self.storage[i] - other.storage[i])\n",
    "            return f'<{str(result)[1:-1]}>'\n",
    "        else:\n",
    "            raise IndexError('길이가 같아야 연산이 가능합니다.')\n",
    "        \n",
    "    def __mul__(self, other):\n",
    "        if isinstance(other, int) or isinstance(other, float):\n",
    "            result = []\n",
    "            for i in range(len(self.storage)):\n",
    "                result.append(self.storage[i] * other)\n",
    "            return f'<{str(result)[1:-1]}>'\n",
    "        else:\n",
    "            raise TypeError('곱할 수는 숫자로 입력해주세요.')\n",
    "\n",
    "l = OperList(1, 2, 3, 4)\n",
    "l.append(5)\n",
    "print(l)\n",
    "print(l + l) #출력: <2, 4, 6, 8, 10>\n",
    "print(l - l)\n",
    "print(l * 3)"
   ]
  },
  {
   "cell_type": "code",
   "execution_count": 9,
   "metadata": {},
   "outputs": [
    {
     "data": {
      "text/latex": [
       "$\\displaystyle \\left[ 2, \\  4, \\  6, \\  8\\right]$"
      ],
      "text/plain": [
       "[2, 4, 6, 8]"
      ]
     },
     "execution_count": 9,
     "metadata": {},
     "output_type": "execute_result"
    }
   ],
   "source": [
    "# 강사님 풀이\n",
    "class OperList:\n",
    "    def __init__(self, *args):\n",
    "        self.__operlist = list(args)\n",
    "\n",
    "    def __str__(self):\n",
    "        return f'<{str(self.__operlist)[1:-1]}>'\n",
    "\n",
    "    def __repr__(self):\n",
    "        return f'<{str(self.__operlist)[1:-1]}>'\n",
    "\n",
    "    def __len__(self):\n",
    "        return self.__operlist.__len__()\n",
    "\n",
    "    def __add__(self, other):\n",
    "        if len(self.__operlist) != len(other.__operlist):\n",
    "            raise\n",
    "        for i in range(len(self.__operlist)):\n",
    "            self.__operlist[i] += other.__operlist[i]\n",
    "        return self.__operlist\n",
    "\n",
    "    def __sub__(self, other):\n",
    "        if len(self.__operlist) != len(other.__operlist):\n",
    "            raise\n",
    "        for i in range(len(self.__operlist)):\n",
    "            self.__operlist[i] -= other.__operlist[i]\n",
    "        return self.__operlist\n",
    "\n",
    "    def __mul__(self, other):\n",
    "        if not isinstance(other, int):\n",
    "            raise\n",
    "        for i in range(len(self.__operlist)):\n",
    "            self.__operlist[i] *= other\n",
    "        return self.__operlist\n",
    "\n",
    "    def append(self, data):\n",
    "        self.__operlist.append(data)\n",
    "\n",
    "    def remove(self, data):\n",
    "        self.__operlist.remove(data)\n",
    "\n",
    "\n",
    "l = OperList(1, 2, 3, 4)\n",
    "ll = OperList(3, 4, 6, 7)\n",
    "# l + ll\n",
    "l * 2"
   ]
  },
  {
   "cell_type": "code",
   "execution_count": 10,
   "metadata": {},
   "outputs": [
    {
     "name": "stdout",
     "output_type": "stream",
     "text": [
      "<2, 2, 3, 3, 0>\n",
      "<4, 6, 9, 11, 10>\n",
      "<5, 10, 15, 20, 25>\n"
     ]
    }
   ],
   "source": [
    "# 강사님거 변형(보완)\n",
    "class OperList:\n",
    "    def __init__(self, *args):\n",
    "        for a in args:\n",
    "            if not (isinstance(a, int) or isinstance(a, float)):\n",
    "                raise TypeError('숫자만 가능합니다.')\n",
    "        self.__operlist = list(args)\n",
    "\n",
    "    def __str__(self):\n",
    "        return f'<{str(self.__operlist)[1:-1]}>'\n",
    "\n",
    "    def __repr__(self):\n",
    "        return f'<{str(self.__operlist)[1:-1]}>'\n",
    "\n",
    "    def __len__(self):\n",
    "        return self.__operlist.__len__()\n",
    "\n",
    "    def __add__(self, other):\n",
    "        if len(self.__operlist) != len(other.__operlist):\n",
    "            raise IndexError('길이가 같아야 연산이 가능합니다.')\n",
    "        result = OperList()\n",
    "        for i in range(len(self.__operlist)):\n",
    "            result.append(self.__operlist[i] + other.__operlist[i])\n",
    "        return result\n",
    "\n",
    "    def __sub__(self, other):\n",
    "        if len(self.__operlist) != len(other.__operlist):\n",
    "            raise IndexError('길이가 같아야 연산이 가능합니다.')\n",
    "        result = OperList()\n",
    "        for i in range(len(self.__operlist)):\n",
    "            result.append(self.__operlist[i] - other.__operlist[i])\n",
    "        return result\n",
    "\n",
    "    def __mul__(self, other):\n",
    "        if not (isinstance(other, int) or isinstance(other, float)):\n",
    "            raise TypeError('숫자만 곱할 수 있습니다.')\n",
    "        result = OperList()\n",
    "        for i in range(len(self.__operlist)):\n",
    "            result.append(self.__operlist[i] * other)\n",
    "        return result\n",
    "\n",
    "    def append(self, data):\n",
    "        self.__operlist.append(data)\n",
    "\n",
    "    def remove(self, data):\n",
    "        self.__operlist.remove(data)\n",
    "\n",
    "\n",
    "l = OperList(1, 2, 3, 4)\n",
    "ll = OperList(3, 4, 6, 7, 5)\n",
    "l.append(5)\n",
    "print(ll - l)\n",
    "print(l + ll)\n",
    "print(l * 5)"
   ]
  },
  {
   "cell_type": "markdown",
   "metadata": {},
   "source": [
    "과제2:\n",
    "student.csv에는 아래와 같은 텍스트가 담겨있습니다.\n",
    "```csv\n",
    "학년,반,번,이름,국어,영어,수학,사회\n",
    "3,3,1,licat,90,80,30,40\n",
    "3,3,2,mura,80,70,60,30\n",
    "3,3,3,binky,30,80,70,30\n",
    "```\n",
    "학생들의 평균을 구해 아래와 같이 student.csv출력되게 해주세요.(xx이라 표기된 곳에 평균 값이 들어가야 합니다.)\n",
    "```csv\n",
    "학년,반,번,이름,국어,영어,수학,사회,평균\n",
    "3,3,1,licat,90,80,30,40,xx\n",
    "3,3,2,mura,80,70,60,30,xx\n",
    "3,3,3,binky,30,80,70,30,xx\n",
    "```"
   ]
  },
  {
   "cell_type": "code",
   "execution_count": 2,
   "metadata": {},
   "outputs": [],
   "source": [
    "with open('student.csv', 'r') as f:\n",
    "    students = []\n",
    "    lines = f.readlines()\n",
    "    for line in lines:\n",
    "        if line[-1] == '\\n':\n",
    "            line = line[:-1]\n",
    "        student = line.split(',')\n",
    "        students.append(student)\n",
    "\n",
    "students[0].append('평균')\n",
    "for student in students[1:]:\n",
    "    score = list(map(int, student[4:]))\n",
    "    avg = sum(score)/len(score)\n",
    "    student.append(avg)\n",
    "\n",
    "import csv\n",
    "with open('student.csv', 'w', newline='') as f:\n",
    "    writer = csv.writer(f)\n",
    "    writer.writerows(students)\n"
   ]
  },
  {
   "cell_type": "code",
   "execution_count": 3,
   "metadata": {},
   "outputs": [
    {
     "name": "stdout",
     "output_type": "stream",
     "text": [
      "학년,반,번,이름,국어,영어,수학,사회,평균\n",
      "3,3,1,licat,90,80,30,40,60.0\n",
      "3,3,2,mura,80,70,60,30,60.0\n",
      "3,3,3,binky,30,80,70,30,52.5\n"
     ]
    }
   ],
   "source": [
    "# 강사님풀이\n",
    "s = ''\n",
    "with open('student.csv', 'r') as f:\n",
    "    lines = f.readlines()\n",
    "    s += lines[0][:-1] + ',평균'\n",
    "    for i in lines[1:]:\n",
    "        data = i.split(',')\n",
    "        s += f'\\n{i.strip()},{sum(map(int, data[4:])) / 4}'\n",
    "\n",
    "print(s)\n",
    "with open('student.csv', 'w') as f:\n",
    "    f.write(s)"
   ]
  },
  {
   "cell_type": "code",
   "execution_count": null,
   "metadata": {},
   "outputs": [],
   "source": []
  }
 ],
 "metadata": {
  "kernelspec": {
   "display_name": "Python 3",
   "language": "python",
   "name": "python3"
  },
  "language_info": {
   "codemirror_mode": {
    "name": "ipython",
    "version": 3
   },
   "file_extension": ".py",
   "mimetype": "text/x-python",
   "name": "python",
   "nbconvert_exporter": "python",
   "pygments_lexer": "ipython3",
   "version": "3.11.4"
  },
  "orig_nbformat": 4
 },
 "nbformat": 4,
 "nbformat_minor": 2
}

{
  "cells": [
    {
      "cell_type": "markdown",
      "metadata": {},
      "source": [
        "# 리스트"
      ]
    },
    {
      "cell_type": "code",
      "execution_count": 218,
      "metadata": {},
      "outputs": [
        {
          "data": {
            "text/plain": [
              "'hello'"
            ]
          },
          "execution_count": 218,
          "metadata": {},
          "output_type": "execute_result"
        }
      ],
      "source": [
        "# 시퀀스형 자료형\n",
        "a = 'hello world'\n",
        "a[0]\n",
        "a[:5]"
      ]
    },
    {
      "cell_type": "code",
      "execution_count": 219,
      "metadata": {},
      "outputs": [
        {
          "data": {
            "text/plain": [
              "3"
            ]
          },
          "execution_count": 219,
          "metadata": {},
          "output_type": "execute_result"
        }
      ],
      "source": [
        "range(10)[3]"
      ]
    },
    {
      "cell_type": "code",
      "execution_count": 220,
      "metadata": {},
      "outputs": [
        {
          "data": {
            "text/plain": [
              "130"
            ]
          },
          "execution_count": 220,
          "metadata": {},
          "output_type": "execute_result"
        }
      ],
      "source": [
        "range(100, 1000, 10)[3]"
      ]
    },
    {
      "cell_type": "code",
      "execution_count": 221,
      "metadata": {},
      "outputs": [
        {
          "data": {
            "text/plain": [
              "(1, 2, 3, 4, 5)"
            ]
          },
          "execution_count": 221,
          "metadata": {},
          "output_type": "execute_result"
        }
      ],
      "source": [
        "1, 2, 3, 4, 5"
      ]
    },
    {
      "cell_type": "code",
      "execution_count": 222,
      "metadata": {},
      "outputs": [
        {
          "data": {
            "text/plain": [
              "(1, 2, 3, 4, 5)"
            ]
          },
          "execution_count": 222,
          "metadata": {},
          "output_type": "execute_result"
        }
      ],
      "source": [
        "c = 1, 2, 3, 4, 5\n",
        "c"
      ]
    },
    {
      "cell_type": "code",
      "execution_count": 223,
      "metadata": {},
      "outputs": [
        {
          "data": {
            "text/plain": [
              "[10, 12, 14, 16, 18]"
            ]
          },
          "execution_count": 223,
          "metadata": {},
          "output_type": "execute_result"
        }
      ],
      "source": [
        "list(range(10, 20, 2))"
      ]
    },
    {
      "cell_type": "code",
      "execution_count": 224,
      "metadata": {},
      "outputs": [
        {
          "data": {
            "text/plain": [
              "14"
            ]
          },
          "execution_count": 224,
          "metadata": {},
          "output_type": "execute_result"
        }
      ],
      "source": [
        "a, b, c, d, e = range(10, 20, 2)\n",
        "c"
      ]
    },
    {
      "cell_type": "code",
      "execution_count": 225,
      "metadata": {},
      "outputs": [
        {
          "ename": "ValueError",
          "evalue": "not enough values to unpack (expected 6, got 5)",
          "output_type": "error",
          "traceback": [
            "\u001b[0;31m---------------------------------------------------------------------------\u001b[0m",
            "\u001b[0;31mValueError\u001b[0m                                Traceback (most recent call last)",
            "\u001b[1;32m/Users/pyeonhaesun/Desktop/ESTsoft_ormi3/ormi3_code/Python/오르미_3기_python3.ipynb 셀 9\u001b[0m line \u001b[0;36m1\n\u001b[0;32m----> <a href='vscode-notebook-cell:/Users/pyeonhaesun/Desktop/ESTsoft_ormi3/ormi3_code/Python/%EC%98%A4%EB%A5%B4%EB%AF%B8_3%EA%B8%B0_python3.ipynb#X44sZmlsZQ%3D%3D?line=0'>1</a>\u001b[0m a, b, c, d, e, f \u001b[39m=\u001b[39m \u001b[39m'\u001b[39m\u001b[39mhello\u001b[39m\u001b[39m'\u001b[39m\n\u001b[1;32m      <a href='vscode-notebook-cell:/Users/pyeonhaesun/Desktop/ESTsoft_ormi3/ormi3_code/Python/%EC%98%A4%EB%A5%B4%EB%AF%B8_3%EA%B8%B0_python3.ipynb#X44sZmlsZQ%3D%3D?line=1'>2</a>\u001b[0m d\n",
            "\u001b[0;31mValueError\u001b[0m: not enough values to unpack (expected 6, got 5)"
          ]
        }
      ],
      "source": [
        "a, b, c, d, e, f = 'hello'\n",
        "d"
      ]
    },
    {
      "cell_type": "code",
      "execution_count": null,
      "metadata": {},
      "outputs": [
        {
          "data": {
            "text/plain": [
              "'l'"
            ]
          },
          "execution_count": 47,
          "metadata": {},
          "output_type": "execute_result"
        }
      ],
      "source": [
        "a, b, c, d, e = 'hello'\n",
        "d"
      ]
    },
    {
      "cell_type": "code",
      "execution_count": null,
      "metadata": {},
      "outputs": [
        {
          "name": "stdout",
          "output_type": "stream",
          "text": [
            "10 20\n",
            "30 40\n"
          ]
        }
      ],
      "source": [
        "for i, j in [[10, 20], [30, 40]]:\n",
        "  print(i, j)"
      ]
    },
    {
      "cell_type": "code",
      "execution_count": null,
      "metadata": {},
      "outputs": [
        {
          "data": {
            "text/plain": [
              "range(0, 100, 5)"
            ]
          },
          "execution_count": 4,
          "metadata": {},
          "output_type": "execute_result"
        }
      ],
      "source": [
        "range(100)[::5]"
      ]
    },
    {
      "cell_type": "code",
      "execution_count": null,
      "metadata": {},
      "outputs": [
        {
          "data": {
            "text/plain": [
              "range(3, 10)"
            ]
          },
          "execution_count": 3,
          "metadata": {},
          "output_type": "execute_result"
        }
      ],
      "source": [
        "range(10)[3:]"
      ]
    },
    {
      "cell_type": "code",
      "execution_count": null,
      "metadata": {},
      "outputs": [
        {
          "data": {
            "text/plain": [
              "<enumerate at 0x10ed93330>"
            ]
          },
          "execution_count": 9,
          "metadata": {},
          "output_type": "execute_result"
        }
      ],
      "source": [
        "enumerate([0, 1, 2, 3, 4, 5, 6, 7, 8, 9], 100)\n",
        "# enumerate([0, 1, 2, 3, 4, 5, 6, 7, 8, 9], 100)[2] 안됨\n",
        "# enumerate([0, 1, 2, 3, 4, 5, 6, 7, 8, 9], 100)[2:] 안됨"
      ]
    },
    {
      "cell_type": "code",
      "execution_count": null,
      "metadata": {},
      "outputs": [
        {
          "data": {
            "text/plain": [
              "b'world'"
            ]
          },
          "execution_count": 50,
          "metadata": {},
          "output_type": "execute_result"
        }
      ],
      "source": [
        "b'world'"
      ]
    },
    {
      "cell_type": "code",
      "execution_count": null,
      "metadata": {},
      "outputs": [
        {
          "data": {
            "text/plain": [
              "119"
            ]
          },
          "execution_count": 51,
          "metadata": {},
          "output_type": "execute_result"
        }
      ],
      "source": [
        "b = b'world' # 유니코드표 X, 아스키코드표에서 찾습니다!\n",
        "b[0]"
      ]
    },
    {
      "cell_type": "code",
      "execution_count": null,
      "metadata": {},
      "outputs": [],
      "source": [
        "# b'' # 바이트\n",
        "# f'' # f-string 용법\n",
        "# r'' # raw값 출력"
      ]
    },
    {
      "cell_type": "code",
      "execution_count": null,
      "metadata": {},
      "outputs": [
        {
          "name": "stdout",
          "output_type": "stream",
          "text": [
            "[1, 2, 3, 4, 5, 6, 7, 8]\n"
          ]
        }
      ],
      "source": [
        "# 덧셈과 곱셈\n",
        "a = [1, 2, 3, 4, 5]\n",
        "b = [6, 7, 8]\n",
        "\n",
        "print(a + b) #[1, 2, 3, 4, 5, 6, 7, 8]"
      ]
    },
    {
      "cell_type": "code",
      "execution_count": null,
      "metadata": {},
      "outputs": [
        {
          "name": "stdout",
          "output_type": "stream",
          "text": [
            "[1, 2, 3, 4, 5, 1, 2, 3, 4, 5, 1, 2, 3, 4, 5]\n"
          ]
        }
      ],
      "source": [
        "a = [1, 2, 3, 4, 5]\n",
        "\n",
        "print(a * 3) #[1, 2, 3, 4, 5, 1, 2, 3, 4, 5, 1, 2, 3, 4, 5]"
      ]
    },
    {
      "cell_type": "code",
      "execution_count": null,
      "metadata": {},
      "outputs": [
        {
          "name": "stdout",
          "output_type": "stream",
          "text": [
            "[1, 2, 3, 4, 5, 1, 2, 3, 4, 5, 1, 2, 3, 4, 5, 1, 2, 3, 4, 5, 1, 2, 3, 4, 5, 1, 2, 3, 4, 5, 1, 2, 3, 4, 5, 1, 2, 3, 4, 5, 1, 2, 3, 4, 5]\n"
          ]
        },
        {
          "data": {
            "text/plain": [
              "(4422577768, 4422577768)"
            ]
          },
          "execution_count": 12,
          "metadata": {},
          "output_type": "execute_result"
        }
      ],
      "source": [
        "a = [1, 2, 3, 4, 5]\n",
        "a = a * 3\n",
        "\n",
        "print(a * 3)\n",
        "id(a[2]), id(a[7]) #같음. 같은 3을 바라보고 있다."
      ]
    },
    {
      "cell_type": "code",
      "execution_count": null,
      "metadata": {},
      "outputs": [
        {
          "name": "stdout",
          "output_type": "stream",
          "text": [
            "[[1, 2, 3, 1, 2, 3, 1, 2, 3], [1, 2, 3, 1, 2, 3, 1, 2, 3]]\n"
          ]
        },
        {
          "data": {
            "text/plain": [
              "[[10000, 2, 3, 1, 2, 3, 1, 2, 3], [10000, 2, 3, 1, 2, 3, 1, 2, 3]]"
            ]
          },
          "execution_count": 15,
          "metadata": {},
          "output_type": "execute_result"
        }
      ],
      "source": [
        "a = [1, 2, 3]\n",
        "a = [a * 3] * 2 # 리스트 컴프리헨션 사용하셔서 만드시는 것을 권합니다.\n",
        "\n",
        "print(a)\n",
        "id(a[0]), id(a[1]) #같음\n",
        "a[0][0] = 10000\n",
        "a"
      ]
    },
    {
      "cell_type": "code",
      "execution_count": null,
      "metadata": {},
      "outputs": [
        {
          "name": "stdout",
          "output_type": "stream",
          "text": [
            "1\n",
            "4\n",
            "5\n",
            "3\n"
          ]
        }
      ],
      "source": [
        "l = [1, 2, 3, 4, 5]\n",
        "print(l[0]) # 출력: 1\n",
        "print(l[3]) # 출력: 4\n",
        "print(l[-1]) # 출력: 5\n",
        "print(l[-3]) # 출력: 3"
      ]
    },
    {
      "cell_type": "code",
      "execution_count": null,
      "metadata": {},
      "outputs": [
        {
          "name": "stdout",
          "output_type": "stream",
          "text": [
            "[1, 2, 3, 4, 5]\n",
            "[5, 4, 3, 2, 1]\n",
            "[1, 3, 5]\n"
          ]
        }
      ],
      "source": [
        "l = [1, 2, 3, 4, 5]\n",
        "print(l[:])     # 출력: [1, 2, 3, 4, 5]\n",
        "print(l[::-1])  # 출력: [5, 4, 3, 2, 1]\n",
        "print(l[::2])   # 출력: [1, 3, 5]"
      ]
    },
    {
      "cell_type": "code",
      "execution_count": null,
      "metadata": {},
      "outputs": [
        {
          "name": "stdout",
          "output_type": "stream",
          "text": [
            "<class 'list'>\n",
            "['__add__', '__class__', '__class_getitem__', '__contains__', '__delattr__', '__delitem__', '__dir__', '__doc__', '__eq__', '__format__', '__ge__', '__getattribute__', '__getitem__', '__getstate__', '__gt__', '__hash__', '__iadd__', '__imul__', '__init__', '__init_subclass__', '__iter__', '__le__', '__len__', '__lt__', '__mul__', '__ne__', '__new__', '__reduce__', '__reduce_ex__', '__repr__', '__reversed__', '__rmul__', '__setattr__', '__setitem__', '__sizeof__', '__str__', '__subclasshook__', 'append', 'clear', 'copy', 'count', 'extend', 'index', 'insert', 'pop', 'remove', 'reverse', 'sort']\n"
          ]
        }
      ],
      "source": [
        "l = [1, 2, 3, 4, 5]\n",
        "print(type(l))\n",
        "print(dir(l))"
      ]
    },
    {
      "cell_type": "code",
      "execution_count": null,
      "metadata": {},
      "outputs": [
        {
          "data": {
            "text/plain": [
              "[1, 2, 3, 1, 2, 3]"
            ]
          },
          "execution_count": 21,
          "metadata": {},
          "output_type": "execute_result"
        }
      ],
      "source": [
        "[1, 2, 3] + [1, 2, 3]  #[1, 2, 3, 1, 2, 3]\n",
        "# [2, 4, 6] 요소마다 더해지는 것은 아닙니다. 그런데 이러한 코드는 __add__에 구현이 되어 있는 것입니다.\n",
        "# __add__에 요소마다 더하는 것으로 구현이 되어 있었다면 [2, 4, 6]을 출력했을 것입니다."
      ]
    },
    {
      "cell_type": "code",
      "execution_count": null,
      "metadata": {},
      "outputs": [],
      "source": [
        "import numpy as np\n",
        "\n",
        "l = [1, 2, 3]\n",
        "l = np.array(l)\n",
        "l * 3\n",
        "l + l\n",
        "# 너무 당연하게 요소를 붙이는 것이다라고 생각하지는 않으셨으면 좋겠습니다."
      ]
    },
    {
      "cell_type": "code",
      "execution_count": null,
      "metadata": {},
      "outputs": [
        {
          "name": "stdout",
          "output_type": "stream",
          "text": [
            "licat\n",
            "licat\n",
            "licat\n"
          ]
        }
      ],
      "source": [
        "# 문제: 이 데이터에서 licat을 출력해주세요. 단, 직접 접근은 안됩니다. data[1]로 접근하는 것은 안됩니다.\n",
        "data = [['weniv CTO bingky', 2], ['weniv CEO licat', 1], ['weniv COO mura', 2]]\n",
        "\n",
        "target='licat'\n",
        "for d in data:\n",
        "  if target in d[0]:\n",
        "    i = d[0].index(target)\n",
        "    print(d[0][i:i+len(target)])\n",
        "\n",
        "s = sorted(data, key=lambda x:x[1])[0][0]\n",
        "print(s[s.find('licat'):])\n",
        "\n",
        "s = str(list(data))\n",
        "print(s[s.find('licat'):s.find('licat')+5])"
      ]
    },
    {
      "cell_type": "code",
      "execution_count": null,
      "metadata": {},
      "outputs": [
        {
          "name": "stdout",
          "output_type": "stream",
          "text": [
            "True\n",
            "False\n"
          ]
        }
      ],
      "source": [
        "# 문제1: 다음 함수 is_palindrome를 완성하시오. 이 함수는 하나의 문자열을 인자로 받아, 해당 문자열이 팰린드롬(앞으로 읽으나 뒤로 읽으나 같은 단어나 구)이면 True를, 아니면 False를 반환해야 합니다.\n",
        "def is_palindrome(s):\n",
        "    return s == s[::-1]\n",
        "\n",
        "# 재귀함수이용방법\n",
        "def is_palindrome2(word):\n",
        "    if len(word) < 2:\n",
        "        return True\n",
        "    if word[0] != word[-1]:\n",
        "        return False\n",
        "    return is_palindrome2(word[1:-1])\n",
        "    \n",
        "print(is_palindrome(\"level\"))  # 결과: True\n",
        "print(is_palindrome(\"python\")) # 결과: False"
      ]
    },
    {
      "cell_type": "code",
      "execution_count": null,
      "metadata": {},
      "outputs": [
        {
          "name": "stdout",
          "output_type": "stream",
          "text": [
            "[3, 5, 7, 9]\n"
          ]
        }
      ],
      "source": [
        "# 문제2: 리스트 numbers가 주어졌을 때, 이 리스트 내의 모든 짝수를 제거하는 코드를 작성하시오.\n",
        "numbers = [2, 3, 4, 5, 6, 7, 8, 9, 10]\n",
        "numbers = list(filter(lambda x:x%2==1, numbers))\n",
        "\n",
        "print(numbers)  # 결과: [3, 5, 7, 9]"
      ]
    },
    {
      "cell_type": "markdown",
      "metadata": {},
      "source": [
        "# 리스트(이어서)"
      ]
    },
    {
      "cell_type": "code",
      "execution_count": null,
      "metadata": {},
      "outputs": [
        {
          "name": "stdout",
          "output_type": "stream",
          "text": [
            "10\n"
          ]
        }
      ],
      "source": [
        "z = [\n",
        "    10,\n",
        "    20,\n",
        "    30,\n",
        "    40,\n",
        "]\n",
        "print(z[0])"
      ]
    },
    {
      "cell_type": "code",
      "execution_count": null,
      "metadata": {},
      "outputs": [
        {
          "name": "stdout",
          "output_type": "stream",
          "text": [
            "[10000, 2, 3, 4, 5]\n"
          ]
        }
      ],
      "source": [
        "a = [1, 2, 3, 4, 5]\n",
        "a[0] = 10000\n",
        "print(a)"
      ]
    },
    {
      "cell_type": "code",
      "execution_count": null,
      "metadata": {},
      "outputs": [
        {
          "name": "stdout",
          "output_type": "stream",
          "text": [
            "[1, 2, 3, 4, 5, 6, 7, 8]\n"
          ]
        }
      ],
      "source": [
        "a = [1, 2, 3, 4, 5]\n",
        "b = [6, 7, 8]\n",
        "\n",
        "print(a + b) # 출력: [1, 2, 3, 4, 5, 6, 7, 8]"
      ]
    },
    {
      "cell_type": "code",
      "execution_count": null,
      "metadata": {},
      "outputs": [
        {
          "name": "stdout",
          "output_type": "stream",
          "text": [
            "1\n",
            "4\n",
            "5\n",
            "3\n"
          ]
        }
      ],
      "source": [
        "l = [1, 2, 3, 4, 5]\n",
        "print(l[0]) # 출력: 1\n",
        "print(l[3]) # 출력: 4\n",
        "print(l[-1]) # 출력: 5\n",
        "print(l[-3]) # 출력: 3"
      ]
    },
    {
      "cell_type": "code",
      "execution_count": null,
      "metadata": {},
      "outputs": [
        {
          "name": "stdout",
          "output_type": "stream",
          "text": [
            "[3, 4, 5]\n"
          ]
        }
      ],
      "source": [
        "print(l[-3:])"
      ]
    },
    {
      "cell_type": "code",
      "execution_count": null,
      "metadata": {},
      "outputs": [
        {
          "data": {
            "text/plain": [
              "10"
            ]
          },
          "execution_count": 58,
          "metadata": {},
          "output_type": "execute_result"
        }
      ],
      "source": [
        "sum([1, 2, 3, 4])"
      ]
    },
    {
      "cell_type": "code",
      "execution_count": null,
      "metadata": {},
      "outputs": [
        {
          "name": "stdout",
          "output_type": "stream",
          "text": [
            "2550\n",
            "2418\n",
            "2070\n"
          ]
        }
      ],
      "source": [
        "# list(range(101))와 슬라이싱을 사용해 아래 문제를 풀어주세요.\n",
        "\n",
        "# 문제 1: 짝수를 모두 더해주세요\n",
        "# 문제 2: 3의 배수와 5의 배수를 모두 더해주세요.\n",
        "# 보너스문제 : 1부터 90까지의 짝수를 모두 다 더해주세요 (슬라이싱2개사용)\n",
        "\n",
        "print(sum(list(range(101))[::2]))\n",
        "print(sum(list(range(101))[::3]) + sum(list(range(101))[::5]) - sum(list(range(101))[::15]))\n",
        "print(sum(list(range(101)[:91][::2])))"
      ]
    },
    {
      "cell_type": "code",
      "execution_count": null,
      "metadata": {},
      "outputs": [
        {
          "data": {
            "text/plain": [
              "[10, 9, 8, 7, 6, 5, 4, 3, 2, 1, 0]"
            ]
          },
          "execution_count": 59,
          "metadata": {},
          "output_type": "execute_result"
        }
      ],
      "source": [
        "# 실무에서도 이렇게 2개를 자주 사용합니다.\n",
        "list(range(11))[0:91][::-1]"
      ]
    },
    {
      "cell_type": "code",
      "execution_count": null,
      "metadata": {},
      "outputs": [
        {
          "data": {
            "text/plain": [
              "['__add__',\n",
              " '__class__',\n",
              " '__class_getitem__',\n",
              " '__contains__',\n",
              " '__delattr__',\n",
              " '__delitem__',\n",
              " '__dir__',\n",
              " '__doc__',\n",
              " '__eq__',\n",
              " '__format__',\n",
              " '__ge__',\n",
              " '__getattribute__',\n",
              " '__getitem__',\n",
              " '__getstate__',\n",
              " '__gt__',\n",
              " '__hash__',\n",
              " '__iadd__',\n",
              " '__imul__',\n",
              " '__init__',\n",
              " '__init_subclass__',\n",
              " '__iter__',\n",
              " '__le__',\n",
              " '__len__',\n",
              " '__lt__',\n",
              " '__mul__',\n",
              " '__ne__',\n",
              " '__new__',\n",
              " '__reduce__',\n",
              " '__reduce_ex__',\n",
              " '__repr__',\n",
              " '__reversed__',\n",
              " '__rmul__',\n",
              " '__setattr__',\n",
              " '__setitem__',\n",
              " '__sizeof__',\n",
              " '__str__',\n",
              " '__subclasshook__',\n",
              " 'append',\n",
              " 'clear',\n",
              " 'copy',\n",
              " 'count',\n",
              " 'extend',\n",
              " 'index',\n",
              " 'insert',\n",
              " 'pop',\n",
              " 'remove',\n",
              " 'reverse',\n",
              " 'sort']"
            ]
          },
          "execution_count": 60,
          "metadata": {},
          "output_type": "execute_result"
        }
      ],
      "source": [
        "l = [1, 2, 3]\n",
        "dir(l)"
      ]
    },
    {
      "cell_type": "code",
      "execution_count": null,
      "metadata": {},
      "outputs": [
        {
          "data": {
            "text/plain": [
              "[1, 2, 3, 100]"
            ]
          },
          "execution_count": 22,
          "metadata": {},
          "output_type": "execute_result"
        }
      ],
      "source": [
        "#  'append',\n",
        "#  'clear',\n",
        "#  'copy',\n",
        "#  'count',\n",
        "#  'extend',\n",
        "#  'index',\n",
        "#  'insert',\n",
        "#  'pop',\n",
        "#  'remove',\n",
        "#  'reverse',\n",
        "#  'sort'\n",
        "\n",
        "# append\n",
        "l = [1, 2, 3]\n",
        "l.append(100)\n",
        "l"
      ]
    },
    {
      "cell_type": "code",
      "execution_count": null,
      "metadata": {},
      "outputs": [
        {
          "data": {
            "text/plain": [
              "[]"
            ]
          },
          "execution_count": 23,
          "metadata": {},
          "output_type": "execute_result"
        }
      ],
      "source": [
        "# clear\n",
        "l = [1, 2, 3]\n",
        "l.clear()\n",
        "l"
      ]
    },
    {
      "cell_type": "code",
      "execution_count": null,
      "metadata": {},
      "outputs": [
        {
          "name": "stdout",
          "output_type": "stream",
          "text": [
            "4677409472 4677409472\n"
          ]
        },
        {
          "data": {
            "text/plain": [
              "([1000, 20, 30], [1000, 20, 30])"
            ]
          },
          "execution_count": 61,
          "metadata": {},
          "output_type": "execute_result"
        }
      ],
      "source": [
        "# copy\n",
        "l = [10, 20, 30]\n",
        "ll = l\n",
        "print(id(l), id(ll)) #같음\n",
        "l[0] = 1000\n",
        "l, ll"
      ]
    },
    {
      "cell_type": "code",
      "execution_count": null,
      "metadata": {},
      "outputs": [
        {
          "name": "stdout",
          "output_type": "stream",
          "text": [
            "4677454784 4677605568\n"
          ]
        },
        {
          "data": {
            "text/plain": [
              "([1000, 20, 30], [10, 20, 30])"
            ]
          },
          "execution_count": 62,
          "metadata": {},
          "output_type": "execute_result"
        }
      ],
      "source": [
        "l = [10, 20, 30]\n",
        "ll = l.copy()\n",
        "print(id(l), id(ll)) #다름\n",
        "l[0] = 1000\n",
        "l, ll"
      ]
    },
    {
      "cell_type": "code",
      "execution_count": null,
      "metadata": {},
      "outputs": [
        {
          "name": "stdout",
          "output_type": "stream",
          "text": [
            "4677307968 4677403072\n"
          ]
        },
        {
          "data": {
            "text/plain": [
              "([1000, 20, 30], [10, 20, 30])"
            ]
          },
          "execution_count": 63,
          "metadata": {},
          "output_type": "execute_result"
        }
      ],
      "source": [
        "l = [10, 20, 30]\n",
        "ll = l[:] # copy랑 같음\n",
        "print(id(l), id(ll)) #다름\n",
        "l[0] = 1000\n",
        "l, ll"
      ]
    },
    {
      "cell_type": "code",
      "execution_count": null,
      "metadata": {},
      "outputs": [
        {
          "name": "stdout",
          "output_type": "stream",
          "text": [
            "4675090432 4677174208\n",
            "[[100000, 20], [100, 200]] [[100000, 20], [100, 200]]\n"
          ]
        }
      ],
      "source": [
        "# 이정도는 알아야 우리에게 충분합니다.\n",
        "a = [10, 20]\n",
        "b = [100, 200]\n",
        "\n",
        "l = [a, b]\n",
        "ll = l.copy()\n",
        "print(id(l), id(ll))\n",
        "l[0][0] = 100000\n",
        "print(l, ll)\n"
      ]
    },
    {
      "cell_type": "code",
      "execution_count": null,
      "metadata": {},
      "outputs": [
        {
          "data": {
            "text/plain": [
              "10"
            ]
          },
          "execution_count": 68,
          "metadata": {},
          "output_type": "execute_result"
        }
      ],
      "source": [
        "a = 10\n",
        "b = a\n",
        "c = b\n",
        "b = 20\n",
        "c"
      ]
    },
    {
      "cell_type": "code",
      "execution_count": null,
      "metadata": {},
      "outputs": [
        {
          "name": "stdout",
          "output_type": "stream",
          "text": [
            "4677417344 4674997504\n",
            "4677410560 4600884928\n",
            "[[100000, 20], [100, 200]] [[10, 20], [100, 200]]\n"
          ]
        }
      ],
      "source": [
        "import copy\n",
        "# 많이 사용되니 내장되어 있는 것이지만\n",
        "# 많이 사용되지는 않습니다.\n",
        "\n",
        "a = [10, 20]\n",
        "b = [100, 200]\n",
        "\n",
        "l = [a, b]\n",
        "ll = copy.deepcopy(l)\n",
        "\n",
        "print(id(l), id(ll)) # 다름\n",
        "print(id(l[0]), id(ll[0])) # 다름\n",
        "l[0][0] = 100000\n",
        "print(l, ll)"
      ]
    },
    {
      "cell_type": "code",
      "execution_count": null,
      "metadata": {},
      "outputs": [
        {
          "name": "stdout",
          "output_type": "stream",
          "text": [
            "4677463872 4677418432\n",
            "4677412864 4677405312\n",
            "4677410688 4677308864\n",
            "l=[[100000, [200000, 99]], [100, [200000, 99]]]\n",
            "ll=[[10, [999, 99]], [100, [999, 99]]]\n"
          ]
        }
      ],
      "source": [
        "import copy\n",
        "#3중??\n",
        "\n",
        "k = [999, 99]\n",
        "\n",
        "a = [10, k]\n",
        "b = [100, k]\n",
        "\n",
        "l = [a, b]\n",
        "ll = copy.deepcopy(l)\n",
        "\n",
        "print(id(l), id(ll)) #다름\n",
        "print(id(l[0]), id(ll[0])) #다름\n",
        "print(id(l[0][1]), id(ll[0][1])) #다름\n",
        "l[0][0] = 100000\n",
        "l[0][1][0] = 200000\n",
        "print(f'l={l}\\nll={ll}')"
      ]
    },
    {
      "cell_type": "code",
      "execution_count": null,
      "metadata": {},
      "outputs": [
        {
          "name": "stdout",
          "output_type": "stream",
          "text": [
            "3\n",
            "3\n"
          ]
        }
      ],
      "source": [
        "# count\n",
        "print([1, 1, 1, 3, 3, 5, 6].count(1))\n",
        "print(list('1113356').count('1'))"
      ]
    },
    {
      "cell_type": "code",
      "execution_count": null,
      "metadata": {},
      "outputs": [
        {
          "data": {
            "text/plain": [
              "[10, 20, 30, [10, 20]]"
            ]
          },
          "execution_count": 75,
          "metadata": {},
          "output_type": "execute_result"
        }
      ],
      "source": [
        "# extend\n",
        "l = [10, 20, 30]\n",
        "l.append([10, 20])\n",
        "l"
      ]
    },
    {
      "cell_type": "code",
      "execution_count": null,
      "metadata": {},
      "outputs": [
        {
          "data": {
            "text/plain": [
              "[10, 20, 30, 10, 20]"
            ]
          },
          "execution_count": 76,
          "metadata": {},
          "output_type": "execute_result"
        }
      ],
      "source": [
        "l = [10, 20, 30]\n",
        "l.extend([10, 20]) #리스트 합연산\n",
        "l"
      ]
    },
    {
      "cell_type": "code",
      "execution_count": null,
      "metadata": {},
      "outputs": [
        {
          "data": {
            "text/plain": [
              "[10, 20, 30, 'h', 'e', 'l', 'l', 'o']"
            ]
          },
          "execution_count": 77,
          "metadata": {},
          "output_type": "execute_result"
        }
      ],
      "source": [
        "l = [10, 20, 30]\n",
        "l.extend('hello') #extend(순환객체)\n",
        "l"
      ]
    },
    {
      "cell_type": "code",
      "execution_count": null,
      "metadata": {},
      "outputs": [
        {
          "data": {
            "text/plain": [
              "[10, 20, 30, 1, 2, 3]"
            ]
          },
          "execution_count": 79,
          "metadata": {},
          "output_type": "execute_result"
        }
      ],
      "source": [
        "# 한 자리씩 잘라서 넣는다라고 생각해볼게요.\n",
        "userinput = input('숫자를 입력하세요: ')\n",
        "l = [10, 20, 30]\n",
        "l.extend(map(int, userinput)) # '123'입력\n",
        "l"
      ]
    },
    {
      "cell_type": "code",
      "execution_count": null,
      "metadata": {},
      "outputs": [
        {
          "data": {
            "text/plain": [
              "[10, 20, 30, 1, 2, 3, 4]"
            ]
          },
          "execution_count": 81,
          "metadata": {},
          "output_type": "execute_result"
        }
      ],
      "source": [
        "# 한 자리씩 잘라서 넣는다라고 생각해볼게요.\n",
        "l = [10, 20, 30]\n",
        "l.extend(map(int, input('숫자를 입력하세요: ')))\n",
        "l\n"
      ]
    },
    {
      "cell_type": "code",
      "execution_count": null,
      "metadata": {},
      "outputs": [
        {
          "data": {
            "text/plain": [
              "2"
            ]
          },
          "execution_count": 86,
          "metadata": {},
          "output_type": "execute_result"
        }
      ],
      "source": [
        "l = [10, 20, 30, 40, 50]\n",
        "l.index(30)\n",
        "# l.index(60) #없음"
      ]
    },
    {
      "cell_type": "code",
      "execution_count": null,
      "metadata": {},
      "outputs": [],
      "source": [
        "l = [10, 20, 30, 40, 50]\n",
        "# l.find(60) #리스트는 find 메서드가 없습니다. 실수주의"
      ]
    },
    {
      "cell_type": "code",
      "execution_count": null,
      "metadata": {},
      "outputs": [
        {
          "name": "stdout",
          "output_type": "stream",
          "text": [
            "[10, 20, 25, 30, 40, 50]\n"
          ]
        }
      ],
      "source": [
        "l = [10, 20, 30, 40, 50]\n",
        "l.insert(2, 25)\n",
        "print(l) #[10, 20, 25, 30, 40, 50]"
      ]
    },
    {
      "cell_type": "markdown",
      "metadata": {},
      "source": [
        "# 연습문제"
      ]
    },
    {
      "cell_type": "code",
      "execution_count": null,
      "metadata": {},
      "outputs": [
        {
          "name": "stdout",
          "output_type": "stream",
          "text": [
            "[10, 20, 25, 30, 40, 50]\n"
          ]
        },
        {
          "data": {
            "text/plain": [
              "[10, 20, 25, 30, 40, 50]"
            ]
          },
          "execution_count": 95,
          "metadata": {},
          "output_type": "execute_result"
        }
      ],
      "source": [
        "# [10, 20, 40, 50, 30]와 같은 리스트에서 20과 30 중간에 25라는 값을 삽입하고 싶습니다.\n",
        "# 현재 리스트는 정렬되어 있지 않은데 이 리스트를 정렬하고 20과 30에 값을 index 메서드로 찾아\n",
        "# insert로 중간에 값을 삽입해주세요.\n",
        "# * 다른 정답을 허용합니다.\n",
        "\n",
        "l = [10, 20, 40, 50, 30]\n",
        "\n",
        "l = sorted(l)\n",
        "l.insert(l.index(30), 25)\n",
        "print(l)\n",
        "\n",
        "#또다른방법\n",
        "s = [10, 20, 40, 50, 30]\n",
        "s.append(25)\n",
        "sorted(s)\n",
        "\n",
        "# sorted([10, 20, 40, 50, 30].append(25)) # error\n",
        "# print(s.append(100))의 값이 None이기 때문에 그렇습니다."
      ]
    },
    {
      "cell_type": "code",
      "execution_count": null,
      "metadata": {},
      "outputs": [
        {
          "name": "stdout",
          "output_type": "stream",
          "text": [
            "30\n",
            "[10, 20]\n"
          ]
        }
      ],
      "source": [
        "# 마지막에서 빼는 것\n",
        "l = [10, 20, 30]\n",
        "print(l.pop())\n",
        "print(l)"
      ]
    },
    {
      "cell_type": "code",
      "execution_count": null,
      "metadata": {},
      "outputs": [
        {
          "name": "stdout",
          "output_type": "stream",
          "text": [
            "10\n",
            "[20, 30]\n"
          ]
        }
      ],
      "source": [
        "# 첫번째에서 빼는 것\n",
        "l = [10, 20, 30]\n",
        "print(l.pop(0))\n",
        "print(l)"
      ]
    },
    {
      "cell_type": "code",
      "execution_count": null,
      "metadata": {},
      "outputs": [
        {
          "name": "stdout",
          "output_type": "stream",
          "text": [
            "5\n",
            "4\n",
            "3\n",
            "2\n",
            "1\n"
          ]
        }
      ],
      "source": [
        "l = [1, 2, 3, 4, 5]\n",
        "\n",
        "while l:\n",
        "  print(l.pop())"
      ]
    },
    {
      "cell_type": "code",
      "execution_count": null,
      "metadata": {},
      "outputs": [
        {
          "name": "stdout",
          "output_type": "stream",
          "text": [
            "1\n",
            "2\n",
            "3\n",
            "4\n",
            "5\n"
          ]
        }
      ],
      "source": [
        "l = [1, 2, 3, 4, 5]\n",
        "\n",
        "while l:\n",
        "  print(l.pop(0))"
      ]
    },
    {
      "cell_type": "code",
      "execution_count": null,
      "metadata": {},
      "outputs": [
        {
          "name": "stdout",
          "output_type": "stream",
          "text": [
            "[1, 3, 1, 2, 2, 2, 1, 1]\n"
          ]
        }
      ],
      "source": [
        "l = [1, 2, 3, 1, 2, 2, 2, 1, 1]\n",
        "l.remove(2) #처음 발견되는 2만 삭제\n",
        "print(l)"
      ]
    },
    {
      "cell_type": "code",
      "execution_count": null,
      "metadata": {},
      "outputs": [
        {
          "data": {
            "text/plain": [
              "[1, 3, 1, 1, 1]"
            ]
          },
          "execution_count": 103,
          "metadata": {},
          "output_type": "execute_result"
        }
      ],
      "source": [
        "l = [1, 2, 3, 1, 2, 2, 2, 1, 1]\n",
        "while l.count(2): #이렇게도 가능하지만 filter 권장\n",
        "  l.remove(2)\n",
        "l"
      ]
    },
    {
      "cell_type": "code",
      "execution_count": null,
      "metadata": {},
      "outputs": [
        {
          "data": {
            "text/plain": [
              "[1, 3, 1, 1, 1]"
            ]
          },
          "execution_count": 102,
          "metadata": {},
          "output_type": "execute_result"
        }
      ],
      "source": [
        "l = [1, 2, 3, 1, 2, 2, 2, 1, 1]\n",
        "list(filter(lambda x: x != 2, l)) # 2를 전부다 삭제"
      ]
    },
    {
      "cell_type": "code",
      "execution_count": null,
      "metadata": {},
      "outputs": [
        {
          "name": "stdout",
          "output_type": "stream",
          "text": [
            "[4, 3, 10, 2, 1]\n",
            "[1, 2, 10, 3, 4]\n"
          ]
        }
      ],
      "source": [
        "# reversed와 reverse 차이, sorted와 sort 차이\n",
        "# 원본 수정이 아니냐, 원본수정이냐? 입니다.\n",
        "\n",
        "l = [1, 2, 10, 3, 4]\n",
        "print(list(reversed(l))) # 출력: [4, 3, 10, 2, 1]\n",
        "print(l)  # 출력: [1, 2, 10, 3, 4] # 원본은 그대로입니다."
      ]
    },
    {
      "cell_type": "code",
      "execution_count": null,
      "metadata": {},
      "outputs": [
        {
          "name": "stdout",
          "output_type": "stream",
          "text": [
            "None\n",
            "[4, 3, 10, 2, 1]\n"
          ]
        }
      ],
      "source": [
        "# reversed와 reverse 차이, sorted와 sort 차이\n",
        "# 원본 수정이 아니냐, 원본수정이냐? 입니다.\n",
        "\n",
        "l = [1, 2, 10, 3, 4]\n",
        "print(l.reverse()) # 출력: None\n",
        "print(l) # 출력: [4, 3, 10, 2, 1]"
      ]
    },
    {
      "cell_type": "code",
      "execution_count": null,
      "metadata": {},
      "outputs": [
        {
          "name": "stdout",
          "output_type": "stream",
          "text": [
            "[1, 2, 3, 4, 10]\n",
            "[1, 2, 10, 3, 4]\n"
          ]
        }
      ],
      "source": [
        "# reversed와 reverse 차이, sorted와 sort 차이\n",
        "# 원본 수정이 아니냐, 원본수정이냐? 입니다.\n",
        "\n",
        "l = [1, 2, 10, 3, 4]\n",
        "print(list(sorted(l))) # 출력: [1, 2, 3, 4, 10]\n",
        "print(l)               # 출력: [1, 2, 10, 3, 4] # 원본은 그대로입니다."
      ]
    },
    {
      "cell_type": "code",
      "execution_count": null,
      "metadata": {},
      "outputs": [
        {
          "name": "stdout",
          "output_type": "stream",
          "text": [
            "None\n",
            "[1, 2, 3, 4, 10]\n"
          ]
        }
      ],
      "source": [
        "# reversed와 reverse 차이, sorted와 sort 차이\n",
        "# 원본 수정이 아니냐, 원본수정이냐? 입니다.\n",
        "\n",
        "l = [1, 2, 10, 3, 4]\n",
        "print(l.sort()) # 출력: None\n",
        "print(l)        # 출력: [1, 2, 3, 4, 10]"
      ]
    },
    {
      "cell_type": "code",
      "execution_count": null,
      "metadata": {},
      "outputs": [],
      "source": [
        "# 게시판 = [게시물1, 게시물2, 게시물3, 게시물4]\n",
        "# 게시물1: 오래된 게시물이 저장이 되어 있을겁니다. (append로 게시물 추가했다고 생각해볼게요.)\n",
        "# 그러면 그냥 게시판을 출력했을 때 최상단에 노출되는 게시물은 가장 오래된 게시물일겁니다.\n",
        "# 컴퓨터 입장에서는요.\n",
        "# 그래서 게시판.reverse()해서 출력합니다. 최신게시물이 상단에 오게요.\n",
        "# 그러면 게시물5는 어디에 추가 될까요? 원본을 수정했기 때문에 게시물1 다음에 게시물5가 추가돼요.\n",
        "# 게시판[::-1], reversed(게시판)을 사용해서 역순으로 만들었어야 했습니다. \n",
        "# 보이는화면 = 게시판[::-1]\n",
        "# 보이는화면 = reversed(게시판)"
      ]
    },
    {
      "cell_type": "markdown",
      "metadata": {},
      "source": [
        "# 튜플"
      ]
    },
    {
      "cell_type": "code",
      "execution_count": null,
      "metadata": {},
      "outputs": [],
      "source": [
        "# 튜플은 안에 있는 값이 변경 불가능한 자료형입니다.\n",
        "# 튜플은 참조 불변입니다.\n",
        "# 리스트에 비해 처리 속도가 조금 더 빠릅니다.\n",
        "\n",
        "x = (1, 2, 3)\n",
        "# x[0] = 1000 (안됨)"
      ]
    },
    {
      "cell_type": "code",
      "execution_count": null,
      "metadata": {},
      "outputs": [
        {
          "data": {
            "text/plain": [
              "(1, 2, [1000, 20, 30])"
            ]
          },
          "execution_count": 111,
          "metadata": {},
          "output_type": "execute_result"
        }
      ],
      "source": [
        "#y안의 x가 불변이지 x는 리스트라 값변경 가능 (권장X)\n",
        "x = [10, 20, 30]\n",
        "y = (1, 2, x)\n",
        "x[0] = 1000\n",
        "y # 출력: (1, 2, [1000, 20, 30])"
      ]
    },
    {
      "cell_type": "code",
      "execution_count": null,
      "metadata": {},
      "outputs": [
        {
          "data": {
            "text/plain": [
              "dict_items([('one', 1), ('two', 2)])"
            ]
          },
          "execution_count": 114,
          "metadata": {},
          "output_type": "execute_result"
        }
      ],
      "source": [
        "# 데이터의 변경이 민감한 곳 (은행)\n",
        "# 참조의 갯수가 변하면 안되는 곳 (딕셔너리)\n",
        "s = {'one':1, 'two':2}\n",
        "s.items()"
      ]
    },
    {
      "cell_type": "code",
      "execution_count": null,
      "metadata": {},
      "outputs": [
        {
          "name": "stdout",
          "output_type": "stream",
          "text": [
            "1\n",
            "(2, 3, 4)\n"
          ]
        }
      ],
      "source": [
        "t = (1, 2, 3, 4, 5)\n",
        "print(t[0])    # 출력: 1\n",
        "print(t[1:4])  # 출력: (2, 3, 4) - 새로운 튜플 생성"
      ]
    },
    {
      "cell_type": "code",
      "execution_count": null,
      "metadata": {},
      "outputs": [
        {
          "data": {
            "text/plain": [
              "3"
            ]
          },
          "execution_count": 116,
          "metadata": {},
          "output_type": "execute_result"
        }
      ],
      "source": [
        "t = (1, 1, 1, 2, 3, 4)\n",
        "t.count(1)"
      ]
    },
    {
      "cell_type": "code",
      "execution_count": null,
      "metadata": {},
      "outputs": [
        {
          "data": {
            "text/plain": [
              "4"
            ]
          },
          "execution_count": 117,
          "metadata": {},
          "output_type": "execute_result"
        }
      ],
      "source": [
        "t.index(3)\n",
        "# 튜플 메소드는 이렇게 두개만 있다."
      ]
    },
    {
      "cell_type": "markdown",
      "metadata": {},
      "source": [
        "# 딕셔너리"
      ]
    },
    {
      "cell_type": "code",
      "execution_count": null,
      "metadata": {},
      "outputs": [],
      "source": [
        "# 시퀀스 자료형은 아님 - 인덱싱, 슬라이싱은 불가\n",
        "# 파이썬 3.6 버전부터 삽입 순서가 보장\n",
        "# colab, colab에서 불과 1 ~ 2년 전만 하더라도 print로 출력한 것은 정렬 출력,\n",
        "# 맨 마지막 출력은 정렬하지 않고 출력했습니다."
      ]
    },
    {
      "cell_type": "code",
      "execution_count": null,
      "metadata": {},
      "outputs": [
        {
          "name": "stdout",
          "output_type": "stream",
          "text": [
            "{'bb': 100, 'hello': 10, 'world': 20, 'aa': 30}\n"
          ]
        },
        {
          "data": {
            "text/plain": [
              "{'bb': 100, 'hello': 10, 'world': 20, 'aa': 30}"
            ]
          },
          "execution_count": 120,
          "metadata": {},
          "output_type": "execute_result"
        }
      ],
      "source": [
        "d = {'bb':100, 'hello':10, 'world':20, 'aa':30}\n",
        "print(d)\n",
        "d"
      ]
    },
    {
      "cell_type": "code",
      "execution_count": null,
      "metadata": {},
      "outputs": [
        {
          "name": "stdout",
          "output_type": "stream",
          "text": [
            "{'one': '하나', 'two': '둘'}\n"
          ]
        }
      ],
      "source": [
        "d = dict([('one' , '하나'), ('two', '둘')])\n",
        "print(d)  # 출력: {'one' : '하나', 'two' : '둘'}"
      ]
    },
    {
      "cell_type": "code",
      "execution_count": null,
      "metadata": {},
      "outputs": [
        {
          "name": "stdout",
          "output_type": "stream",
          "text": [
            "{'one': '하나', 'two': '둘'}\n"
          ]
        }
      ],
      "source": [
        "d = dict([['one' , '하나'], ['two', '둘']])\n",
        "print(d)  # 출력: {'one' : '하나', 'two' : '둘'}"
      ]
    },
    {
      "cell_type": "code",
      "execution_count": null,
      "metadata": {},
      "outputs": [
        {
          "ename": "ValueError",
          "evalue": "dictionary update sequence element #0 has length 1; 2 is required",
          "output_type": "error",
          "traceback": [
            "\u001b[0;31m---------------------------------------------------------------------------\u001b[0m",
            "\u001b[0;31mValueError\u001b[0m                                Traceback (most recent call last)",
            "\u001b[1;32m/Users/pyeonhaesun/Desktop/ESTsoft_ormi3/ormi3_code/Python/오르미_3기_python3.ipynb 셀 84\u001b[0m line \u001b[0;36m1\n\u001b[0;32m----> <a href='vscode-notebook-cell:/Users/pyeonhaesun/Desktop/ESTsoft_ormi3/ormi3_code/Python/%EC%98%A4%EB%A5%B4%EB%AF%B8_3%EA%B8%B0_python3.ipynb#Y215sZmlsZQ%3D%3D?line=0'>1</a>\u001b[0m d \u001b[39m=\u001b[39m \u001b[39mdict\u001b[39;49m([[\u001b[39m'\u001b[39;49m\u001b[39maa\u001b[39;49m\u001b[39m'\u001b[39;49m], [\u001b[39m'\u001b[39;49m\u001b[39mbb\u001b[39;49m\u001b[39m'\u001b[39;49m]])\n\u001b[1;32m      <a href='vscode-notebook-cell:/Users/pyeonhaesun/Desktop/ESTsoft_ormi3/ormi3_code/Python/%EC%98%A4%EB%A5%B4%EB%AF%B8_3%EA%B8%B0_python3.ipynb#Y215sZmlsZQ%3D%3D?line=1'>2</a>\u001b[0m \u001b[39mprint\u001b[39m(d)  \u001b[39m# 출력: {'one' : '하나', 'two' : '둘'}\u001b[39;00m\n",
            "\u001b[0;31mValueError\u001b[0m: dictionary update sequence element #0 has length 1; 2 is required"
          ]
        }
      ],
      "source": [
        "d = dict([['aa'], ['bb']])\n",
        "print(d)  # error"
      ]
    },
    {
      "cell_type": "code",
      "execution_count": null,
      "metadata": {},
      "outputs": [
        {
          "name": "stdout",
          "output_type": "stream",
          "text": [
            "{'name': 'licat', 'age': 10}\n"
          ]
        }
      ],
      "source": [
        "d = dict(name='licat', age=10)\n",
        "print(d)  # 출력: {'name': 'licat', 'age': 10}"
      ]
    },
    {
      "cell_type": "code",
      "execution_count": null,
      "metadata": {},
      "outputs": [
        {
          "name": "stdout",
          "output_type": "stream",
          "text": [
            "[1, 2, 3]\n",
            "answer\n",
            "[10, 20]\n",
            "[100, 200]\n"
          ]
        }
      ],
      "source": [
        "complex_dict = {\n",
        "    \"numbers\": [1, 2, 3],\n",
        "    42: \"answer\",\n",
        "    (\"x\", \"y\"): [10, 20],\n",
        "    True: [100, 200]\n",
        "}\n",
        "print(complex_dict[\"numbers\"])  # 출력: [1, 2, 3]\n",
        "print(complex_dict[42])         # 출력: answer\n",
        "print(complex_dict[(\"x\", \"y\")]) # 출력: [10, 20]\n",
        "print(complex_dict[True])       # 출력: [100, 200]"
      ]
    },
    {
      "cell_type": "code",
      "execution_count": null,
      "metadata": {},
      "outputs": [
        {
          "name": "stdout",
          "output_type": "stream",
          "text": [
            "{'name': 'mura', 'city': 'Seoul'}\n"
          ]
        }
      ],
      "source": [
        "person = {'name': 'licat', 'city': 'Jeju'}\n",
        "person['name'] = 'mura'\n",
        "person['city'] = 'Seoul'\n",
        "\n",
        "print(person)"
      ]
    },
    {
      "cell_type": "code",
      "execution_count": null,
      "metadata": {},
      "outputs": [
        {
          "name": "stdout",
          "output_type": "stream",
          "text": [
            "{'name': 'licat', 'city': 'Jeju', 'job': 'Developer'}\n"
          ]
        }
      ],
      "source": [
        "keys = [\"name\", \"city\", \"job\"]\n",
        "values = [\"licat\", \"Jeju\", \"Developer\"]\n",
        "\n",
        "new_dict = dict(zip(keys, values))\n",
        "print(new_dict)"
      ]
    },
    {
      "cell_type": "code",
      "execution_count": null,
      "metadata": {},
      "outputs": [
        {
          "data": {
            "text/plain": [
              "['__class__',\n",
              " '__class_getitem__',\n",
              " '__contains__',\n",
              " '__delattr__',\n",
              " '__delitem__',\n",
              " '__dir__',\n",
              " '__doc__',\n",
              " '__eq__',\n",
              " '__format__',\n",
              " '__ge__',\n",
              " '__getattribute__',\n",
              " '__getitem__',\n",
              " '__getstate__',\n",
              " '__gt__',\n",
              " '__hash__',\n",
              " '__init__',\n",
              " '__init_subclass__',\n",
              " '__ior__',\n",
              " '__iter__',\n",
              " '__le__',\n",
              " '__len__',\n",
              " '__lt__',\n",
              " '__ne__',\n",
              " '__new__',\n",
              " '__or__',\n",
              " '__reduce__',\n",
              " '__reduce_ex__',\n",
              " '__repr__',\n",
              " '__reversed__',\n",
              " '__ror__',\n",
              " '__setattr__',\n",
              " '__setitem__',\n",
              " '__sizeof__',\n",
              " '__str__',\n",
              " '__subclasshook__',\n",
              " 'clear',\n",
              " 'copy',\n",
              " 'fromkeys',\n",
              " 'get',\n",
              " 'items',\n",
              " 'keys',\n",
              " 'pop',\n",
              " 'popitem',\n",
              " 'setdefault',\n",
              " 'update',\n",
              " 'values']"
            ]
          },
          "execution_count": 132,
          "metadata": {},
          "output_type": "execute_result"
        }
      ],
      "source": [
        "hero = {'name': 'licat', 'age': 10}\n",
        "dir(hero)"
      ]
    },
    {
      "cell_type": "code",
      "execution_count": null,
      "metadata": {},
      "outputs": [
        {
          "name": "stdout",
          "output_type": "stream",
          "text": [
            "{'name': 'licat', 'age': 10} {'name': 'mura', 'age': 10}\n"
          ]
        }
      ],
      "source": [
        "# 'clear',\n",
        "# 'copy',\n",
        "# 'items',\n",
        "# 'keys',\n",
        "# 'values'\n",
        "# 'fromkeys',\n",
        "# 'get',\n",
        "# 'pop',\n",
        "# 'popitem',\n",
        "# 'setdefault',\n",
        "# 'update',\n",
        "\n",
        "# copy\n",
        "\n",
        "hero = {'name': 'licat', 'age': 10}\n",
        "hero2 = hero.copy()\n",
        "\n",
        "hero2['name'] = 'mura'\n",
        "print(hero, hero2)"
      ]
    },
    {
      "cell_type": "code",
      "execution_count": null,
      "metadata": {},
      "outputs": [
        {
          "name": "stdout",
          "output_type": "stream",
          "text": [
            "dict_items([('name', 'licat'), ('age', 10)])\n"
          ]
        },
        {
          "data": {
            "text/plain": [
              "('name', 'licat')"
            ]
          },
          "execution_count": 143,
          "metadata": {},
          "output_type": "execute_result"
        }
      ],
      "source": [
        "# items\n",
        "\n",
        "hero = {'name': 'licat', 'age': 10}\n",
        "print(hero.items())\n",
        "# hero.items()[0] #error - dict_items타입이므로\n",
        "list(hero.items())[0] #변환후 접근"
      ]
    },
    {
      "cell_type": "code",
      "execution_count": null,
      "metadata": {},
      "outputs": [
        {
          "name": "stdout",
          "output_type": "stream",
          "text": [
            "dict_keys(['name', 'age'])\n",
            "<class 'dict_keys'>\n",
            "name\n",
            "age\n"
          ]
        }
      ],
      "source": [
        "# keys\n",
        "\n",
        "hero = {'name': 'licat', 'age': 10}\n",
        "print(hero.keys())\n",
        "print(type(hero.keys()))\n",
        "\n",
        "# 이렇게 많이 사용합니다.\n",
        "for i in hero.keys():\n",
        "  print(i)"
      ]
    },
    {
      "cell_type": "code",
      "execution_count": null,
      "metadata": {},
      "outputs": [
        {
          "name": "stdout",
          "output_type": "stream",
          "text": [
            "dict_values(['licat', 10])\n",
            "<class 'dict_values'>\n"
          ]
        }
      ],
      "source": [
        "# values\n",
        "\n",
        "hero = {'name': 'licat', 'age': 10}\n",
        "print(hero.values())\n",
        "print(type(hero.values()))"
      ]
    },
    {
      "cell_type": "code",
      "execution_count": null,
      "metadata": {},
      "outputs": [
        {
          "data": {
            "text/plain": [
              "True"
            ]
          },
          "execution_count": 149,
          "metadata": {},
          "output_type": "execute_result"
        }
      ],
      "source": [
        "hero = {'name': 'licat', 'age': 10}\n",
        "'licat' in hero # False\n",
        "'name' in hero # True, 키 값을 찾는 것만 됩니다."
      ]
    },
    {
      "cell_type": "code",
      "execution_count": null,
      "metadata": {},
      "outputs": [
        {
          "data": {
            "text/plain": [
              "False"
            ]
          },
          "execution_count": 151,
          "metadata": {},
          "output_type": "execute_result"
        }
      ],
      "source": [
        "'licat' in hero.values() # True\n",
        "'mura' in hero.values() # False"
      ]
    },
    {
      "cell_type": "code",
      "execution_count": null,
      "metadata": {},
      "outputs": [
        {
          "name": "stdout",
          "output_type": "stream",
          "text": [
            "{'name': ['licat', 'Jeju', 'Developer'], 'city': ['licat', 'Jeju', 'Developer'], 'job': ['licat', 'Jeju', 'Developer']}\n"
          ]
        }
      ],
      "source": [
        "# fromkeys\n",
        "\n",
        "keys = ['name', 'city', 'job']\n",
        "value = ['licat', 'Jeju', 'Developer']\n",
        "print(dict.fromkeys(keys, values))"
      ]
    },
    {
      "cell_type": "code",
      "execution_count": null,
      "metadata": {},
      "outputs": [
        {
          "name": "stdout",
          "output_type": "stream",
          "text": [
            "{'name': ['licat', 'Jeju', 'Developer'], 'city': ['licat', 'Jeju', 'Developer'], 'job': ['licat', 'Jeju', 'Developer']}\n"
          ]
        }
      ],
      "source": [
        "keys = ['name', 'city', 'job']\n",
        "value = None\n",
        "print(dict.fromkeys(keys, values))"
      ]
    },
    {
      "cell_type": "code",
      "execution_count": null,
      "metadata": {},
      "outputs": [
        {
          "data": {
            "text/plain": [
              "'licat'"
            ]
          },
          "execution_count": 166,
          "metadata": {},
          "output_type": "execute_result"
        }
      ],
      "source": [
        "# get\n",
        "\n",
        "d = {'name': 'licat', 'city': 'Jeju'}\n",
        "d['name']\n",
        "d.get('name') # 기억하고 있어야 합니다."
      ]
    },
    {
      "cell_type": "code",
      "execution_count": null,
      "metadata": {},
      "outputs": [
        {
          "data": {
            "text/plain": [
              "'값 없음!'"
            ]
          },
          "execution_count": 167,
          "metadata": {},
          "output_type": "execute_result"
        }
      ],
      "source": [
        "d = {'name': 'licat', 'city': 'Jeju'}\n",
        "# d['age'] #error 이거 가볍게 생각하시면 안됩니다! 서비스 멈춤\n",
        "d.get('age', '값 없음!')"
      ]
    },
    {
      "cell_type": "code",
      "execution_count": null,
      "metadata": {},
      "outputs": [
        {
          "data": {
            "text/plain": [
              "'수요일'"
            ]
          },
          "execution_count": 173,
          "metadata": {},
          "output_type": "execute_result"
        }
      ],
      "source": [
        "# 위험한 코드입니다!\n",
        "def 요일변경(n):\n",
        "  return {\n",
        "    1: '월요일',\n",
        "    2: '화요일',\n",
        "    3: '수요일',\n",
        "    4: '목요일',\n",
        "    5: '금요일',\n",
        "    6: '토요일',\n",
        "    7: '일요일',\n",
        "  }[n]\n",
        "\n",
        "요일변경(3)\n",
        "# 요일변경(8) # error, 서비스 멈춥니다!"
      ]
    },
    {
      "cell_type": "code",
      "execution_count": null,
      "metadata": {},
      "outputs": [
        {
          "name": "stdout",
          "output_type": "stream",
          "text": [
            "수요일\n",
            "\n"
          ]
        }
      ],
      "source": [
        "# 아래와 같이 변경을 해주세요.\n",
        "def 요일변경(n):\n",
        "  return {\n",
        "    1: '월요일',\n",
        "    2: '화요일',\n",
        "    3: '수요일',\n",
        "    4: '목요일',\n",
        "    5: '금요일',\n",
        "    6: '토요일',\n",
        "    7: '일요일',\n",
        "  }.get(n, '') #기본이 빈문자열\n",
        "# get(n)으로하면 기본이 None입니다.\n",
        "\n",
        "print(요일변경(3))\n",
        "print(요일변경(8))"
      ]
    },
    {
      "cell_type": "code",
      "execution_count": null,
      "metadata": {},
      "outputs": [
        {
          "data": {
            "text/plain": [
              "'금금금요일'"
            ]
          },
          "execution_count": 176,
          "metadata": {},
          "output_type": "execute_result"
        }
      ],
      "source": [
        "# 아래와 같이 변경을 해주세요.\n",
        "def f():\n",
        "    return '금금금요일'\n",
        "\n",
        "def 요일변경(w):\n",
        "    return {\n",
        "        '월': '월요일',\n",
        "        '화': '화요일',\n",
        "        '수': '수요일',\n",
        "        '목': '목요일',\n",
        "        '금': '금요일',\n",
        "        '토': '토요일',\n",
        "        '일': '일요일',\n",
        "    }.get(w, f())\n",
        "\n",
        "요일변경('하하')"
      ]
    },
    {
      "cell_type": "code",
      "execution_count": null,
      "metadata": {},
      "outputs": [
        {
          "data": {
            "text/plain": [
              "{'two': '둘', 'three': '셋'}"
            ]
          },
          "execution_count": 177,
          "metadata": {},
          "output_type": "execute_result"
        }
      ],
      "source": [
        "# pop\n",
        "\n",
        "numbers = {'one': '하나', 'two': '둘', 'three': '셋'}\n",
        "numbers.pop('one')\n",
        "numbers"
      ]
    },
    {
      "cell_type": "code",
      "execution_count": null,
      "metadata": {},
      "outputs": [
        {
          "ename": "TypeError",
          "evalue": "pop expected at least 1 argument, got 0",
          "output_type": "error",
          "traceback": [
            "\u001b[0;31m---------------------------------------------------------------------------\u001b[0m",
            "\u001b[0;31mTypeError\u001b[0m                                 Traceback (most recent call last)",
            "\u001b[1;32m/Users/pyeonhaesun/Desktop/ESTsoft_ormi3/ormi3_code/Python/오르미_3기_python3.ipynb 셀 104\u001b[0m line \u001b[0;36m2\n\u001b[1;32m      <a href='vscode-notebook-cell:/Users/pyeonhaesun/Desktop/ESTsoft_ormi3/ormi3_code/Python/%EC%98%A4%EB%A5%B4%EB%AF%B8_3%EA%B8%B0_python3.ipynb#Y312sZmlsZQ%3D%3D?line=0'>1</a>\u001b[0m numbers \u001b[39m=\u001b[39m {\u001b[39m'\u001b[39m\u001b[39mone\u001b[39m\u001b[39m'\u001b[39m: \u001b[39m'\u001b[39m\u001b[39m하나\u001b[39m\u001b[39m'\u001b[39m, \u001b[39m'\u001b[39m\u001b[39mtwo\u001b[39m\u001b[39m'\u001b[39m: \u001b[39m'\u001b[39m\u001b[39m둘\u001b[39m\u001b[39m'\u001b[39m, \u001b[39m'\u001b[39m\u001b[39mthree\u001b[39m\u001b[39m'\u001b[39m: \u001b[39m'\u001b[39m\u001b[39m셋\u001b[39m\u001b[39m'\u001b[39m}\n\u001b[0;32m----> <a href='vscode-notebook-cell:/Users/pyeonhaesun/Desktop/ESTsoft_ormi3/ormi3_code/Python/%EC%98%A4%EB%A5%B4%EB%AF%B8_3%EA%B8%B0_python3.ipynb#Y312sZmlsZQ%3D%3D?line=1'>2</a>\u001b[0m numbers\u001b[39m.\u001b[39;49mpop() \u001b[39m# error\u001b[39;00m\n\u001b[1;32m      <a href='vscode-notebook-cell:/Users/pyeonhaesun/Desktop/ESTsoft_ormi3/ormi3_code/Python/%EC%98%A4%EB%A5%B4%EB%AF%B8_3%EA%B8%B0_python3.ipynb#Y312sZmlsZQ%3D%3D?line=2'>3</a>\u001b[0m numbers\n",
            "\u001b[0;31mTypeError\u001b[0m: pop expected at least 1 argument, got 0"
          ]
        }
      ],
      "source": [
        "numbers = {'one': '하나', 'two': '둘', 'three': '셋'}\n",
        "numbers.pop() # error\n",
        "numbers"
      ]
    },
    {
      "cell_type": "code",
      "execution_count": null,
      "metadata": {},
      "outputs": [
        {
          "name": "stdout",
          "output_type": "stream",
          "text": [
            "('three', '셋')\n",
            "{'one': '하나', 'two': '둘'}\n"
          ]
        }
      ],
      "source": [
        "# popitem\n",
        "\n",
        "numbers = {'one': '하나', 'two': '둘', 'three': '셋'}\n",
        "item = numbers.popitem()\n",
        "print(item)\n",
        "print(numbers)"
      ]
    },
    {
      "cell_type": "code",
      "execution_count": null,
      "metadata": {},
      "outputs": [
        {
          "name": "stdout",
          "output_type": "stream",
          "text": [
            "넷\n",
            "{'one': '하나', 'two': '둘', 'three': '셋', 'four': '넷'}\n"
          ]
        }
      ],
      "source": [
        "# setdefault\n",
        "# 값이 없는경우에만 반영 (있으면 기존값 반환)\n",
        "numbers = {'one': '하나', 'two': '둘', 'three': '셋'}\n",
        "four_value = numbers.setdefault(\"four\", \"넷\")\n",
        "print(four_value)\n",
        "print(numbers)"
      ]
    },
    {
      "cell_type": "code",
      "execution_count": null,
      "metadata": {},
      "outputs": [
        {
          "name": "stdout",
          "output_type": "stream",
          "text": [
            "셋\n",
            "{'one': '하나', 'two': '둘', 'three': '셋'}\n"
          ]
        }
      ],
      "source": [
        "numbers = {'one': '하나', 'two': '둘', 'three': '셋'}\n",
        "four_value = numbers.setdefault(\"three\", 3)\n",
        "print(four_value)\n",
        "print(numbers)"
      ]
    },
    {
      "cell_type": "code",
      "execution_count": null,
      "metadata": {},
      "outputs": [
        {
          "name": "stdout",
          "output_type": "stream",
          "text": [
            "{'one': '하나', 'two': '둘', 'three': '셋', 'four': '넷', 'five': '다섯'}\n"
          ]
        }
      ],
      "source": [
        "# update\n",
        "# 값이 있던 없던 반영\n",
        "numbers = {'one': '하나', 'two': '둘', 'three': '셋'}\n",
        "numbers.update({'four': '넷', 'five': '다섯'})\n",
        "print(numbers)"
      ]
    },
    {
      "cell_type": "code",
      "execution_count": null,
      "metadata": {},
      "outputs": [
        {
          "name": "stdout",
          "output_type": "stream",
          "text": [
            "{'one': '하나', 'two': '둘', 'three': 3, 'four': 4}\n"
          ]
        }
      ],
      "source": [
        "numbers = {'one': '하나', 'two': '둘', 'three': '셋'}\n",
        "numbers.update({'three': 3, 'four': 4})\n",
        "print(numbers)"
      ]
    },
    {
      "cell_type": "markdown",
      "metadata": {},
      "source": [
        "# 연습문제"
      ]
    },
    {
      "cell_type": "code",
      "execution_count": null,
      "metadata": {},
      "outputs": [
        {
          "name": "stdout",
          "output_type": "stream",
          "text": [
            "수학\n"
          ]
        },
        {
          "data": {
            "text/plain": [
              "['수학']"
            ]
          },
          "execution_count": 204,
          "metadata": {},
          "output_type": "execute_result"
        }
      ],
      "source": [
        "국영수 = {'국어': 97, '영어': 38, '수학': 90}\n",
        "# 문제1: 다음 국영수 dict에 점수에 평균을 구하는 코드를 작성하시오.\n",
        "sum(국영수.values())/len(국영수)\n",
        "\n",
        "# 문제2: {'사회':70, '과학':85}가 추가되었습니다. dict에 평균을 구하는 코드를 작성하시오.\n",
        "국영수.update({'사회':70, '과학':85})\n",
        "sum(국영수.values())/len(국영수)\n",
        "\n",
        "# 문제3: 영어와 수학점수가 각각 10점씩 올랐습니다. 점수를 10점 추가하는 코드를 작성하시오.\n",
        "# 국영수['영어'] += 10\n",
        "# 국영수['수학'] += 10\n",
        "국영수.update({'영어': 국영수.get('영어', 0) + 10})\n",
        "국영수.update({'수학': 국영수.get('수학', 0) + 10})\n",
        "국영수 # 영어와 수학이 없었어도 반환해줍니다!\n",
        "\n",
        "# 문제4: 최종 점수에서 가장 높은 점수를 출력하는 코드를 작성하시오.\n",
        "max(국영수.values())\n",
        "\n",
        "# 문제5: 가장 높은 점수에 과목을 출력해주세요.\n",
        "#(https://school.programmers.co.kr/learn/courses/30/lessons/120835 이런문제와 유사합니다.)\n",
        "max(국영수.items(), key=lambda x: x[1])[0] # 강토님 코드\n",
        "max(국영수, key=국영수.get) # 형섭님 코드\n",
        "\n",
        "values = list(국영수.values())\n",
        "list(국영수.keys())[values.index(max(values))] # 병헌님 코드(공을 많이 들인 코드)\n",
        "\n",
        "list(sorted(국영수.items(), key=lambda x:x[1], reverse=True))[0][0] # 찬양님 코드 변경\n",
        "\n",
        "for key in 국영수: # 종훈님 코드\n",
        "  if(국영수.get(key) == max(국영수.values())):\n",
        "    print(key)\n",
        "\n",
        "[i for i, j in 국영수.items() if j == max(국영수.values())] #진경님 코드"
      ]
    },
    {
      "cell_type": "code",
      "execution_count": 226,
      "metadata": {},
      "outputs": [
        {
          "name": "stdout",
          "output_type": "stream",
          "text": [
            "75.0\n",
            "76.0\n",
            "{'국어': 97, '영어': 48, '수학': 100, '사회': 70, '과학': 85}\n",
            "100\n"
          ]
        }
      ],
      "source": [
        "# 내가푼거\n",
        "국영수 = {'국어': 97, '영어': 38, '수학': 90}\n",
        "# 문제1\n",
        "print(sum(국영수.values()) / len(국영수.values()))\n",
        "\n",
        "# 문제2\n",
        "국영수.update({'사회':70, '과학':85})\n",
        "print(sum(국영수.values()) / len(국영수.values()))\n",
        "\n",
        "# 문제3\n",
        "국영수.update({'영어':국영수.get('영어') + 10})\n",
        "국영수.update({'수학':국영수.get('수학') + 10})\n",
        "print(국영수)\n",
        "\n",
        "# 문제4\n",
        "print(sorted(list(국영수.values()), reverse=True)[0])"
      ]
    },
    {
      "cell_type": "code",
      "execution_count": null,
      "metadata": {},
      "outputs": [
        {
          "data": {
            "text/plain": [
              "'서울'"
            ]
          },
          "execution_count": 209,
          "metadata": {},
          "output_type": "execute_result"
        }
      ],
      "source": [
        "# 여러 개의 딕셔너리를 왔다갔다 하면서 Key값으로 value값을 비교할 때에도 사용합니다.\n",
        "local = {'제주':100, '서울':977, '부산':500}\n",
        "강우량 = {'제주':100, '서울':97, '부산':50}\n",
        "max(강우량, key=local.get)"
      ]
    },
    {
      "cell_type": "code",
      "execution_count": 227,
      "metadata": {},
      "outputs": [
        {
          "data": {
            "text/plain": [
              "'d'"
            ]
          },
          "execution_count": 227,
          "metadata": {},
          "output_type": "execute_result"
        }
      ],
      "source": [
        "ddd = {'a':10, 'bb':9, 'c':5, 'd':6}\n",
        "max(ddd) #유니코드가 가장 큰 key값을 출력"
      ]
    },
    {
      "cell_type": "code",
      "execution_count": 229,
      "metadata": {},
      "outputs": [
        {
          "data": {
            "text/plain": [
              "'bb'"
            ]
          },
          "execution_count": 229,
          "metadata": {},
          "output_type": "execute_result"
        }
      ],
      "source": [
        "ddd = {'a':10, 'bb':9, 'c':5, 'd':6}\n",
        "max(ddd, key=len) #길이가 가장 긴 key값을 출력"
      ]
    },
    {
      "cell_type": "code",
      "execution_count": 231,
      "metadata": {},
      "outputs": [
        {
          "data": {
            "text/plain": [
              "'a'"
            ]
          },
          "execution_count": 231,
          "metadata": {},
          "output_type": "execute_result"
        }
      ],
      "source": [
        "ddd = {'a':10, 'bb':9, 'c':5, 'd':6}\n",
        "max(ddd, key=ddd.get) #ddd.get에서 반환된 가장 큰 값의 key값을 출력 "
      ]
    },
    {
      "cell_type": "markdown",
      "metadata": {},
      "source": [
        "# 얕은 복사와 깊은 복사"
      ]
    },
    {
      "cell_type": "code",
      "execution_count": 152,
      "metadata": {},
      "outputs": [
        {
          "data": {
            "text/plain": [
              "[1, 2, 3]"
            ]
          },
          "execution_count": 152,
          "metadata": {},
          "output_type": "execute_result"
        }
      ],
      "source": [
        "l = [1, 2, 3]\n",
        "ll = l.copy()\n",
        "l"
      ]
    },
    {
      "cell_type": "code",
      "execution_count": 153,
      "metadata": {},
      "outputs": [
        {
          "name": "stdout",
          "output_type": "stream",
          "text": [
            "[[100, 200, [10, 20, [99, 2]]], [300, 400, [30, 40, [3, 4]]]]\n",
            "[[100, 200, [10, 20, [1, 2]]], [300, 400, [30, 40, [3, 4]]]]\n"
          ]
        }
      ],
      "source": [
        "import copy\n",
        "\n",
        "a = [1, 2]\n",
        "b = [3, 4]\n",
        "\n",
        "aa = [10, 20, a]\n",
        "bb = [30, 40, b]\n",
        "\n",
        "aaa = [100, 200, aa]\n",
        "bbb = [300, 400, bb]\n",
        "\n",
        "l = [aaa, bbb]\n",
        "ll = copy.deepcopy(l) # 깊은 복사\n",
        "\n",
        "a[0] = 99\n",
        "\n",
        "print(l)\n",
        "print(ll)"
      ]
    },
    {
      "cell_type": "code",
      "execution_count": 156,
      "metadata": {},
      "outputs": [
        {
          "name": "stdout",
          "output_type": "stream",
          "text": [
            "[[1000, 2, 3], [4, 5, 6]]\n",
            "[[1000, 2, 3], [4, 5, 6]]\n"
          ]
        }
      ],
      "source": [
        "l = [[1, 2, 3], [4, 5, 6]]\n",
        "ll = [i for i in l]\n",
        "ll[0][0] = 1000\n",
        "print(l)\n",
        "print(ll)"
      ]
    },
    {
      "cell_type": "code",
      "execution_count": 154,
      "metadata": {},
      "outputs": [
        {
          "name": "stdout",
          "output_type": "stream",
          "text": [
            "[[1000, 2, 3], [4, 5, 6]]\n",
            "[[1000, 2, 3], [4, 5, 6]]\n"
          ]
        }
      ],
      "source": [
        "# 리스트 컴프리헨션으로 깊은 복사 구현(완전하진 않습니다.)\n",
        "l = [[1, 2, 3], [4, 5, 6]]\n",
        "ll = [i[:] for i in l]\n",
        "ll[0][0] = 1000\n",
        "print(l)\n",
        "print(ll)"
      ]
    },
    {
      "cell_type": "code",
      "execution_count": 155,
      "metadata": {},
      "outputs": [
        {
          "name": "stdout",
          "output_type": "stream",
          "text": [
            "[[1, 2, 3], [4, 5, 6]]\n",
            "[[1000, 2, 3], [4, 5, 6]]\n"
          ]
        }
      ],
      "source": [
        "# 위와 같은 방식으로 했을 때 완전하지 않은 코드\n",
        "a = [9, 99]\n",
        "\n",
        "l = [[1, 2, a], [4, 5, 6]]\n",
        "ll = [i[:] for i in l]\n",
        "a[0] = 10000\n",
        "print(l)\n",
        "print(ll)"
      ]
    },
    {
      "cell_type": "code",
      "execution_count": 162,
      "metadata": {},
      "outputs": [
        {
          "name": "stdout",
          "output_type": "stream",
          "text": [
            "4678211968 4678213376\n",
            "4677410560 4677410560\n",
            "4677410560 4677700992\n"
          ]
        }
      ],
      "source": [
        "# 종훈님 Q&A\n",
        "\n",
        "a = [1, 2, 3]\n",
        "b = [4, 5, 6]\n",
        "\n",
        "l = [a, b]\n",
        "ll = [a, b]\n",
        "lll = [[1, 2, 3], [4, 5, 6]]\n",
        "\n",
        "print(id(l), id(ll))\n",
        "print(id(l[0]), id(ll[0]))\n",
        "print(id(l[0]), id(lll[0]))"
      ]
    },
    {
      "cell_type": "code",
      "execution_count": 157,
      "metadata": {},
      "outputs": [
        {
          "name": "stdout",
          "output_type": "stream",
          "text": [
            "[9999, 9999, 9999] [9999, 9999, 9999] [9999, 9999, 9999]\n",
            "4677632080 4677632080 4677632080\n"
          ]
        }
      ],
      "source": [
        "a = [9999, 9999, 9999]\n",
        "b = copy.deepcopy(a)\n",
        "c = copy.deepcopy(b)\n",
        "print(a, b, c)\n",
        "\n",
        "print(id(a[0]), id(b[0]), id(c[0]))"
      ]
    },
    {
      "cell_type": "code",
      "execution_count": 158,
      "metadata": {},
      "outputs": [
        {
          "data": {
            "text/plain": [
              "True"
            ]
          },
          "execution_count": 158,
          "metadata": {},
          "output_type": "execute_result"
        }
      ],
      "source": [
        "c = [9999, 9999, 9999]\n",
        "id(c[0]), id(c[1]), id(c[2])\n",
        "c[0] is c[1]"
      ]
    },
    {
      "cell_type": "code",
      "execution_count": 159,
      "metadata": {},
      "outputs": [
        {
          "data": {
            "text/plain": [
              "(4677634736, 4677635184, 4677634736)"
            ]
          },
          "execution_count": 159,
          "metadata": {},
          "output_type": "execute_result"
        }
      ],
      "source": [
        "test = [9999, 9998, 9999]\n",
        "id(test[0]), id(test[1]), id(test[2])\n",
        "#같은 컨벤션 내에 지정된 숫자는 동일한 메모리에 저장"
      ]
    },
    {
      "cell_type": "code",
      "execution_count": 160,
      "metadata": {},
      "outputs": [
        {
          "data": {
            "text/plain": [
              "(4677633488, 4677634160, 4677633488)"
            ]
          },
          "execution_count": 160,
          "metadata": {},
          "output_type": "execute_result"
        }
      ],
      "source": [
        "test = (9999, 9998, 9999)\n",
        "id(test[0]), id(test[1]), id(test[2])\n",
        "#같은 컨벤션 내에 지정된 숫자는 동일한 메모리에 저장"
      ]
    },
    {
      "cell_type": "code",
      "execution_count": 161,
      "metadata": {},
      "outputs": [
        {
          "data": {
            "text/plain": [
              "(4677635184, 4677632944, 4677635184)"
            ]
          },
          "execution_count": 161,
          "metadata": {},
          "output_type": "execute_result"
        }
      ],
      "source": [
        "test = {'one':9999, 'two':9998, 'three':9999}\n",
        "id(test['one']), id(test['two']), id(test['three'])\n",
        "# 같은 컨벤션 내에 지정된 숫자는 동일한 메모리에 저장"
      ]
    },
    {
      "cell_type": "markdown",
      "metadata": {},
      "source": [
        "# Set(집합)"
      ]
    },
    {
      "cell_type": "code",
      "execution_count": null,
      "metadata": {},
      "outputs": [],
      "source": [
        "# 1. 중복이 되지 않습니다.\n",
        "# 2. 순서가 없습니다.\n",
        "# 3. 교집합, 차집합, 합집합 등이 가능합니다."
      ]
    },
    {
      "cell_type": "code",
      "execution_count": 235,
      "metadata": {},
      "outputs": [
        {
          "data": {
            "text/plain": [
              "3"
            ]
          },
          "execution_count": 235,
          "metadata": {},
          "output_type": "execute_result"
        }
      ],
      "source": [
        "set('hello')\n",
        "s = {'licat', 'licat', 'licat', 'mura', 'binky'}\n",
        "#게시물에 글 쓴사람은 몇 사람이죠?\n",
        "len(s)"
      ]
    },
    {
      "cell_type": "code",
      "execution_count": 239,
      "metadata": {},
      "outputs": [
        {
          "data": {
            "text/plain": [
              "set"
            ]
          },
          "execution_count": 239,
          "metadata": {},
          "output_type": "execute_result"
        }
      ],
      "source": [
        "# 주의\n",
        "t = {} # dict\n",
        "t = () # tuple\n",
        "t = (0) # int\n",
        "t = (0,) # tuple\n",
        "t = {0} # set\n",
        "t = set() # set\n",
        "t = tuple() # tuple\n",
        "type(t)"
      ]
    },
    {
      "cell_type": "code",
      "execution_count": 244,
      "metadata": {},
      "outputs": [
        {
          "data": {
            "text/plain": [
              "{1, 2, 3, 4, 5, 6}"
            ]
          },
          "execution_count": 244,
          "metadata": {},
          "output_type": "execute_result"
        }
      ],
      "source": [
        "# 합집합\n",
        "s = {1, 1, 1, 2, 3, 4, 4, 4}\n",
        "ss = {4, 5, 6}\n",
        "\n",
        "s | ss"
      ]
    },
    {
      "cell_type": "code",
      "execution_count": 246,
      "metadata": {},
      "outputs": [
        {
          "data": {
            "text/plain": [
              "{4}"
            ]
          },
          "execution_count": 246,
          "metadata": {},
          "output_type": "execute_result"
        }
      ],
      "source": [
        "# 교집합\n",
        "s = {1, 1, 1, 2, 3, 4, 4, 4}\n",
        "ss = {4, 5, 6}\n",
        "\n",
        "s & ss"
      ]
    },
    {
      "cell_type": "code",
      "execution_count": 247,
      "metadata": {},
      "outputs": [
        {
          "data": {
            "text/plain": [
              "{1, 2, 3}"
            ]
          },
          "execution_count": 247,
          "metadata": {},
          "output_type": "execute_result"
        }
      ],
      "source": [
        "# 차집합\n",
        "s = {1, 1, 1, 2, 3, 4, 4, 4}\n",
        "ss = {4, 5, 6}\n",
        "\n",
        "s - ss"
      ]
    },
    {
      "cell_type": "code",
      "execution_count": 248,
      "metadata": {},
      "outputs": [
        {
          "data": {
            "text/plain": [
              "{1, 2, 3, 4, 5, 6}"
            ]
          },
          "execution_count": 248,
          "metadata": {},
          "output_type": "execute_result"
        }
      ],
      "source": [
        "s.union(ss)\n",
        "s | ss"
      ]
    },
    {
      "cell_type": "code",
      "execution_count": 249,
      "metadata": {},
      "outputs": [
        {
          "data": {
            "text/plain": [
              "{1, 2, 3, 4, 100}"
            ]
          },
          "execution_count": 249,
          "metadata": {},
          "output_type": "execute_result"
        }
      ],
      "source": [
        "s.add(100)\n",
        "s"
      ]
    },
    {
      "cell_type": "code",
      "execution_count": 250,
      "metadata": {},
      "outputs": [
        {
          "data": {
            "text/plain": [
              "{1, 2, 3, 4, 100}"
            ]
          },
          "execution_count": 250,
          "metadata": {},
          "output_type": "execute_result"
        }
      ],
      "source": [
        "# s.remove(1000) # error 있는 값만 해야 합니다.\n",
        "s.discard(1000) #error가 나진 않습니다.\n",
        "s"
      ]
    },
    {
      "cell_type": "code",
      "execution_count": 251,
      "metadata": {},
      "outputs": [
        {
          "data": {
            "text/plain": [
              "5"
            ]
          },
          "execution_count": 251,
          "metadata": {},
          "output_type": "execute_result"
        }
      ],
      "source": [
        "자유게시판 = {'licat', 'licat', 'licat', 'mura', 'binky'} # 게시물에 글 쓴사람은 몇 사람이죠?\n",
        "공지사항 = {'licat', 'licat'} # 게시물에 글 쓴사람은 몇 사람이죠?\n",
        "len(s)"
      ]
    },
    {
      "cell_type": "markdown",
      "metadata": {},
      "source": [
        "# 리스트 컴프리헨션"
      ]
    },
    {
      "cell_type": "code",
      "execution_count": 252,
      "metadata": {},
      "outputs": [
        {
          "data": {
            "text/plain": [
              "[0, 1, 2, 3, 4, 5, 6, 7, 8, 9]"
            ]
          },
          "execution_count": 252,
          "metadata": {},
          "output_type": "execute_result"
        }
      ],
      "source": [
        "l = []\n",
        "for i in range(10):\n",
        "  l.append(i)\n",
        "l"
      ]
    },
    {
      "cell_type": "code",
      "execution_count": 253,
      "metadata": {},
      "outputs": [
        {
          "data": {
            "text/plain": [
              "[0, 1, 2, 3, 4, 5, 6, 7, 8, 9]"
            ]
          },
          "execution_count": 253,
          "metadata": {},
          "output_type": "execute_result"
        }
      ],
      "source": [
        "l = [i for i in range(10)] #[넣을값 for문그대로]\n",
        "l"
      ]
    },
    {
      "cell_type": "code",
      "execution_count": 254,
      "metadata": {},
      "outputs": [
        {
          "data": {
            "text/plain": [
              "['0입니다!',\n",
              " '1입니다!',\n",
              " '2입니다!',\n",
              " '3입니다!',\n",
              " '4입니다!',\n",
              " '5입니다!',\n",
              " '6입니다!',\n",
              " '7입니다!',\n",
              " '8입니다!',\n",
              " '9입니다!']"
            ]
          },
          "execution_count": 254,
          "metadata": {},
          "output_type": "execute_result"
        }
      ],
      "source": [
        "l = []\n",
        "for i in range(10):\n",
        "  l.append(f'{i}입니다!')\n",
        "l"
      ]
    },
    {
      "cell_type": "code",
      "execution_count": 256,
      "metadata": {},
      "outputs": [
        {
          "data": {
            "text/plain": [
              "['0입니다',\n",
              " '1입니다',\n",
              " '2입니다',\n",
              " '3입니다',\n",
              " '4입니다',\n",
              " '5입니다',\n",
              " '6입니다',\n",
              " '7입니다',\n",
              " '8입니다',\n",
              " '9입니다']"
            ]
          },
          "execution_count": 256,
          "metadata": {},
          "output_type": "execute_result"
        }
      ],
      "source": [
        "l = [f'{i}입니다' for i in range(10)]\n",
        "l"
      ]
    },
    {
      "cell_type": "code",
      "execution_count": 258,
      "metadata": {},
      "outputs": [
        {
          "data": {
            "text/plain": [
              "['2 X 1 = 2',\n",
              " '2 X 2 = 4',\n",
              " '2 X 3 = 6',\n",
              " '2 X 4 = 8',\n",
              " '2 X 5 = 10',\n",
              " '2 X 6 = 12',\n",
              " '2 X 7 = 14',\n",
              " '2 X 8 = 16',\n",
              " '2 X 9 = 18',\n",
              " '3 X 1 = 3',\n",
              " '3 X 2 = 6',\n",
              " '3 X 3 = 9',\n",
              " '3 X 4 = 12',\n",
              " '3 X 5 = 15',\n",
              " '3 X 6 = 18',\n",
              " '3 X 7 = 21',\n",
              " '3 X 8 = 24',\n",
              " '3 X 9 = 27',\n",
              " '4 X 1 = 4',\n",
              " '4 X 2 = 8',\n",
              " '4 X 3 = 12',\n",
              " '4 X 4 = 16',\n",
              " '4 X 5 = 20',\n",
              " '4 X 6 = 24',\n",
              " '4 X 7 = 28',\n",
              " '4 X 8 = 32',\n",
              " '4 X 9 = 36',\n",
              " '5 X 1 = 5',\n",
              " '5 X 2 = 10',\n",
              " '5 X 3 = 15',\n",
              " '5 X 4 = 20',\n",
              " '5 X 5 = 25',\n",
              " '5 X 6 = 30',\n",
              " '5 X 7 = 35',\n",
              " '5 X 8 = 40',\n",
              " '5 X 9 = 45',\n",
              " '6 X 1 = 6',\n",
              " '6 X 2 = 12',\n",
              " '6 X 3 = 18',\n",
              " '6 X 4 = 24',\n",
              " '6 X 5 = 30',\n",
              " '6 X 6 = 36',\n",
              " '6 X 7 = 42',\n",
              " '6 X 8 = 48',\n",
              " '6 X 9 = 54',\n",
              " '7 X 1 = 7',\n",
              " '7 X 2 = 14',\n",
              " '7 X 3 = 21',\n",
              " '7 X 4 = 28',\n",
              " '7 X 5 = 35',\n",
              " '7 X 6 = 42',\n",
              " '7 X 7 = 49',\n",
              " '7 X 8 = 56',\n",
              " '7 X 9 = 63',\n",
              " '8 X 1 = 8',\n",
              " '8 X 2 = 16',\n",
              " '8 X 3 = 24',\n",
              " '8 X 4 = 32',\n",
              " '8 X 5 = 40',\n",
              " '8 X 6 = 48',\n",
              " '8 X 7 = 56',\n",
              " '8 X 8 = 64',\n",
              " '8 X 9 = 72',\n",
              " '9 X 1 = 9',\n",
              " '9 X 2 = 18',\n",
              " '9 X 3 = 27',\n",
              " '9 X 4 = 36',\n",
              " '9 X 5 = 45',\n",
              " '9 X 6 = 54',\n",
              " '9 X 7 = 63',\n",
              " '9 X 8 = 72',\n",
              " '9 X 9 = 81']"
            ]
          },
          "execution_count": 258,
          "metadata": {},
          "output_type": "execute_result"
        }
      ],
      "source": [
        "l = []\n",
        "for i in range(2, 10):\n",
        "  for j in range(1, 10):\n",
        "    l.append(f'{i} X {j} = {i*j}')\n",
        "l"
      ]
    },
    {
      "cell_type": "code",
      "execution_count": 259,
      "metadata": {},
      "outputs": [
        {
          "data": {
            "text/plain": [
              "['2 X 1 = 2',\n",
              " '2 X 2 = 4',\n",
              " '2 X 3 = 6',\n",
              " '2 X 4 = 8',\n",
              " '2 X 5 = 10',\n",
              " '2 X 6 = 12',\n",
              " '2 X 7 = 14',\n",
              " '2 X 8 = 16',\n",
              " '2 X 9 = 18',\n",
              " '3 X 1 = 3',\n",
              " '3 X 2 = 6',\n",
              " '3 X 3 = 9',\n",
              " '3 X 4 = 12',\n",
              " '3 X 5 = 15',\n",
              " '3 X 6 = 18',\n",
              " '3 X 7 = 21',\n",
              " '3 X 8 = 24',\n",
              " '3 X 9 = 27',\n",
              " '4 X 1 = 4',\n",
              " '4 X 2 = 8',\n",
              " '4 X 3 = 12',\n",
              " '4 X 4 = 16',\n",
              " '4 X 5 = 20',\n",
              " '4 X 6 = 24',\n",
              " '4 X 7 = 28',\n",
              " '4 X 8 = 32',\n",
              " '4 X 9 = 36',\n",
              " '5 X 1 = 5',\n",
              " '5 X 2 = 10',\n",
              " '5 X 3 = 15',\n",
              " '5 X 4 = 20',\n",
              " '5 X 5 = 25',\n",
              " '5 X 6 = 30',\n",
              " '5 X 7 = 35',\n",
              " '5 X 8 = 40',\n",
              " '5 X 9 = 45',\n",
              " '6 X 1 = 6',\n",
              " '6 X 2 = 12',\n",
              " '6 X 3 = 18',\n",
              " '6 X 4 = 24',\n",
              " '6 X 5 = 30',\n",
              " '6 X 6 = 36',\n",
              " '6 X 7 = 42',\n",
              " '6 X 8 = 48',\n",
              " '6 X 9 = 54',\n",
              " '7 X 1 = 7',\n",
              " '7 X 2 = 14',\n",
              " '7 X 3 = 21',\n",
              " '7 X 4 = 28',\n",
              " '7 X 5 = 35',\n",
              " '7 X 6 = 42',\n",
              " '7 X 7 = 49',\n",
              " '7 X 8 = 56',\n",
              " '7 X 9 = 63',\n",
              " '8 X 1 = 8',\n",
              " '8 X 2 = 16',\n",
              " '8 X 3 = 24',\n",
              " '8 X 4 = 32',\n",
              " '8 X 5 = 40',\n",
              " '8 X 6 = 48',\n",
              " '8 X 7 = 56',\n",
              " '8 X 8 = 64',\n",
              " '8 X 9 = 72',\n",
              " '9 X 1 = 9',\n",
              " '9 X 2 = 18',\n",
              " '9 X 3 = 27',\n",
              " '9 X 4 = 36',\n",
              " '9 X 5 = 45',\n",
              " '9 X 6 = 54',\n",
              " '9 X 7 = 63',\n",
              " '9 X 8 = 72',\n",
              " '9 X 9 = 81']"
            ]
          },
          "execution_count": 259,
          "metadata": {},
          "output_type": "execute_result"
        }
      ],
      "source": [
        "l = [f'{i} X {j} = {i*j}' for i in range(2, 10) for j in range(1, 10)]\n",
        "l"
      ]
    },
    {
      "cell_type": "code",
      "execution_count": 260,
      "metadata": {},
      "outputs": [
        {
          "data": {
            "text/plain": [
              "[0, 2, 4, 6, 8]"
            ]
          },
          "execution_count": 260,
          "metadata": {},
          "output_type": "execute_result"
        }
      ],
      "source": [
        "l = []\n",
        "for i in range(10):\n",
        "  if i % 2 == 0:\n",
        "    l.append(i)\n",
        "l"
      ]
    },
    {
      "cell_type": "code",
      "execution_count": 261,
      "metadata": {},
      "outputs": [
        {
          "data": {
            "text/plain": [
              "[0, 2, 4, 6, 8]"
            ]
          },
          "execution_count": 261,
          "metadata": {},
          "output_type": "execute_result"
        }
      ],
      "source": [
        "l = [i for i in range(10) if i % 2 == 0]\n",
        "l"
      ]
    },
    {
      "cell_type": "code",
      "execution_count": 262,
      "metadata": {},
      "outputs": [
        {
          "data": {
            "text/plain": [
              "[0, None, 2, None, 4, None, 6, None, 8, None]"
            ]
          },
          "execution_count": 262,
          "metadata": {},
          "output_type": "execute_result"
        }
      ],
      "source": [
        "l = []\n",
        "for i in range(10):\n",
        "  if i % 2 == 0:\n",
        "    l.append(i)\n",
        "  else:\n",
        "    l.append(None)\n",
        "l"
      ]
    },
    {
      "cell_type": "code",
      "execution_count": 264,
      "metadata": {},
      "outputs": [
        {
          "data": {
            "text/plain": [
              "[0, None, 2, None, 4, None, 6, None, 8, None]"
            ]
          },
          "execution_count": 264,
          "metadata": {},
          "output_type": "execute_result"
        }
      ],
      "source": [
        "# else문이 들어가면 if문을 앞으로 뺀다.\n",
        "l = [i if i % 2 == 0 else None for i in range(10)]\n",
        "l"
      ]
    },
    {
      "cell_type": "code",
      "execution_count": 266,
      "metadata": {},
      "outputs": [],
      "source": [
        "# error - else가 없으면 if가 앞으로 못온다.\n",
        "# l = [i if i % 2 == 0 for i in range(10)]\n",
        "# l"
      ]
    }
  ],
  "metadata": {
    "colab": {
      "authorship_tag": "ABX9TyNtTIDrTEE9TQ+Cw7/UPziD",
      "include_colab_link": true,
      "provenance": []
    },
    "kernelspec": {
      "display_name": "Python 3",
      "name": "python3"
    },
    "language_info": {
      "codemirror_mode": {
        "name": "ipython",
        "version": 3
      },
      "file_extension": ".py",
      "mimetype": "text/x-python",
      "name": "python",
      "nbconvert_exporter": "python",
      "pygments_lexer": "ipython3",
      "version": "3.11.4"
    }
  },
  "nbformat": 4,
  "nbformat_minor": 0
}
